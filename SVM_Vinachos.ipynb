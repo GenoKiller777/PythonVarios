{
  "nbformat": 4,
  "nbformat_minor": 0,
  "metadata": {
    "colab": {
      "name": "SVM_Vinachos.ipynb",
      "provenance": [],
      "collapsed_sections": []
    },
    "kernelspec": {
      "name": "python3",
      "display_name": "Python 3"
    },
    "language_info": {
      "name": "python"
    }
  },
  "cells": [
    {
      "cell_type": "code",
      "source": [
        "from google.colab import files\n",
        "\n",
        "uploaded = files.upload()\n",
        "\n",
        "for fn in uploaded.keys():\n",
        "  print('User uploaded file \"{name}\" with length {length} bytes'.format(\n",
        "      name=fn, length=len(uploaded[fn])))"
      ],
      "metadata": {
        "colab": {
          "resources": {
            "http://localhost:8080/nbextensions/google.colab/files.js": {
              "data": "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",
              "ok": true,
              "headers": [
                [
                  "content-type",
                  "application/javascript"
                ]
              ],
              "status": 200,
              "status_text": ""
            }
          },
          "base_uri": "https://localhost:8080/",
          "height": 90
        },
        "id": "EzsL_wtwuuje",
        "outputId": "6fb310b6-d974-46da-c055-4b7f9ec0607f"
      },
      "execution_count": 28,
      "outputs": [
        {
          "output_type": "display_data",
          "data": {
            "text/html": [
              "\n",
              "     <input type=\"file\" id=\"files-b2282368-abf6-4110-9802-ad31abd73b83\" name=\"files[]\" multiple disabled\n",
              "        style=\"border:none\" />\n",
              "     <output id=\"result-b2282368-abf6-4110-9802-ad31abd73b83\">\n",
              "      Upload widget is only available when the cell has been executed in the\n",
              "      current browser session. Please rerun this cell to enable.\n",
              "      </output>\n",
              "      <script src=\"/nbextensions/google.colab/files.js\"></script> "
            ],
            "text/plain": [
              "<IPython.core.display.HTML object>"
            ]
          },
          "metadata": {}
        },
        {
          "output_type": "stream",
          "name": "stdout",
          "text": [
            "Saving wineq_prueba.csv to wineq_prueba.csv\n",
            "User uploaded file \"wineq_prueba.csv\" with length 1407 bytes\n"
          ]
        }
      ]
    },
    {
      "cell_type": "code",
      "source": [
        "import pandas as pd\n",
        "from sklearn.model_selection import train_test_split"
      ],
      "metadata": {
        "id": "iXBkl2wAu0qh"
      },
      "execution_count": 2,
      "outputs": []
    },
    {
      "cell_type": "code",
      "source": [
        "data = pd.read_csv('/content/wineq.csv')"
      ],
      "metadata": {
        "id": "wRtw2rZfvD2i"
      },
      "execution_count": 3,
      "outputs": []
    },
    {
      "cell_type": "code",
      "source": [
        "data = data.astype(float).fillna(0.0)"
      ],
      "metadata": {
        "id": "GkCuHhfTvOf7"
      },
      "execution_count": 5,
      "outputs": []
    },
    {
      "cell_type": "code",
      "source": [
        "y = data.quality\n",
        "X = data.drop('quality', axis = 1)"
      ],
      "metadata": {
        "id": "iLGgvUd_vluE"
      },
      "execution_count": 8,
      "outputs": []
    },
    {
      "cell_type": "code",
      "source": [
        "data['quality'].value_counts()"
      ],
      "metadata": {
        "colab": {
          "base_uri": "https://localhost:8080/"
        },
        "id": "Kge8IIYxwvrH",
        "outputId": "96f8d765-b78c-4b6d-845b-c072e343c842"
      },
      "execution_count": 9,
      "outputs": [
        {
          "output_type": "execute_result",
          "data": {
            "text/plain": [
              "5.0    681\n",
              "6.0    638\n",
              "7.0    199\n",
              "4.0     53\n",
              "8.0     18\n",
              "3.0     10\n",
              "Name: quality, dtype: int64"
            ]
          },
          "metadata": {},
          "execution_count": 9
        }
      ]
    },
    {
      "cell_type": "code",
      "source": [
        "X_train, X_test, y_train, y_test = train_test_split(X,\n",
        "                                                    y,\n",
        "                                                    test_size = 0.2,\n",
        "                                                    random_state = 42,\n",
        "                                                    stratify = y)"
      ],
      "metadata": {
        "id": "Wx3dpiNXv1Xl"
      },
      "execution_count": 10,
      "outputs": []
    },
    {
      "cell_type": "code",
      "source": [
        "from sklearn.preprocessing import StandardScaler\n",
        "sc = StandardScaler()\n",
        "X_train_array = sc.fit_transform(X_train.values)\n",
        "X_train = pd.DataFrame(X_train_array, index=X_train.index, columns=X_train.columns)\n",
        "X_test_array = sc.transform(X_test.values)\n",
        "X_test = pd.DataFrame(X_test_array, index=X_test.index, columns=X_test.columns)"
      ],
      "metadata": {
        "id": "hswwtzOnxKKP"
      },
      "execution_count": 11,
      "outputs": []
    },
    {
      "cell_type": "code",
      "source": [
        "from sklearn.svm import SVC\n",
        "clf = SVC(kernel = 'poly').fit(X_train, y_train)"
      ],
      "metadata": {
        "id": "3eQVQiLZxgPY"
      },
      "execution_count": 12,
      "outputs": []
    },
    {
      "cell_type": "code",
      "source": [
        "clf.score(X_test, y_test)"
      ],
      "metadata": {
        "colab": {
          "base_uri": "https://localhost:8080/"
        },
        "id": "YZXCwCd5x2BF",
        "outputId": "09d8ec78-121c-438f-85f2-32f485915615"
      },
      "execution_count": 13,
      "outputs": [
        {
          "output_type": "execute_result",
          "data": {
            "text/plain": [
              "0.60625"
            ]
          },
          "metadata": {},
          "execution_count": 13
        }
      ]
    },
    {
      "cell_type": "code",
      "source": [
        "y_pred = clf.predict(X_test)"
      ],
      "metadata": {
        "id": "l-UfII1FyT0O"
      },
      "execution_count": 14,
      "outputs": []
    },
    {
      "cell_type": "code",
      "source": [
        "from sklearn import metrics\n",
        "\n",
        "# Model Accuracy: how often is the classifier correct?\n",
        "print(\"Accuracy:\",metrics.accuracy_score(y_test, y_pred))"
      ],
      "metadata": {
        "colab": {
          "base_uri": "https://localhost:8080/"
        },
        "id": "FYuVqcpxyurN",
        "outputId": "eac0bfda-1369-4442-ca62-9f4e1fab2288"
      },
      "execution_count": 20,
      "outputs": [
        {
          "output_type": "stream",
          "name": "stdout",
          "text": [
            "Accuracy: 0.60625\n"
          ]
        }
      ]
    },
    {
      "cell_type": "code",
      "source": [
        "y_pred[:10]"
      ],
      "metadata": {
        "colab": {
          "base_uri": "https://localhost:8080/"
        },
        "id": "25rIEUpDyZFA",
        "outputId": "71083abc-e599-4db8-ae76-be856fe6d87b"
      },
      "execution_count": 25,
      "outputs": [
        {
          "output_type": "execute_result",
          "data": {
            "text/plain": [
              "array([6., 5., 5., 6., 5., 6., 5., 5., 5., 6.])"
            ]
          },
          "metadata": {},
          "execution_count": 25
        }
      ]
    },
    {
      "cell_type": "code",
      "source": [
        "y_test.head(10)"
      ],
      "metadata": {
        "colab": {
          "base_uri": "https://localhost:8080/"
        },
        "id": "Go_Y5HVxybMh",
        "outputId": "17d59842-c236-4021-d563-f98744a86422"
      },
      "execution_count": 17,
      "outputs": [
        {
          "output_type": "execute_result",
          "data": {
            "text/plain": [
              "963     6.0\n",
              "475     5.0\n",
              "1       5.0\n",
              "329     5.0\n",
              "149     6.0\n",
              "1508    6.0\n",
              "1243    5.0\n",
              "38      4.0\n",
              "108     6.0\n",
              "495     8.0\n",
              "Name: quality, dtype: float64"
            ]
          },
          "metadata": {},
          "execution_count": 17
        }
      ]
    },
    {
      "cell_type": "code",
      "source": [
        "X_test.head(10)"
      ],
      "metadata": {
        "colab": {
          "base_uri": "https://localhost:8080/",
          "height": 363
        },
        "id": "TDeOkQtHzXuC",
        "outputId": "418faf38-718c-4709-e130-6802a26619d3"
      },
      "execution_count": 26,
      "outputs": [
        {
          "output_type": "execute_result",
          "data": {
            "text/html": [
              "\n",
              "  <div id=\"df-18f4c471-6aff-493f-b46d-60705b928726\">\n",
              "    <div class=\"colab-df-container\">\n",
              "      <div>\n",
              "<style scoped>\n",
              "    .dataframe tbody tr th:only-of-type {\n",
              "        vertical-align: middle;\n",
              "    }\n",
              "\n",
              "    .dataframe tbody tr th {\n",
              "        vertical-align: top;\n",
              "    }\n",
              "\n",
              "    .dataframe thead th {\n",
              "        text-align: right;\n",
              "    }\n",
              "</style>\n",
              "<table border=\"1\" class=\"dataframe\">\n",
              "  <thead>\n",
              "    <tr style=\"text-align: right;\">\n",
              "      <th></th>\n",
              "      <th>fixed acidity</th>\n",
              "      <th>volatile acidity</th>\n",
              "      <th>citric acid</th>\n",
              "      <th>residual sugar</th>\n",
              "      <th>chlorides</th>\n",
              "      <th>free sulfur dioxide</th>\n",
              "      <th>total sulfur dioxide</th>\n",
              "      <th>density</th>\n",
              "      <th>pH</th>\n",
              "      <th>sulphates</th>\n",
              "      <th>alcohol</th>\n",
              "    </tr>\n",
              "  </thead>\n",
              "  <tbody>\n",
              "    <tr>\n",
              "      <th>963</th>\n",
              "      <td>0.291215</td>\n",
              "      <td>-1.452779</td>\n",
              "      <td>0.596029</td>\n",
              "      <td>-0.395292</td>\n",
              "      <td>0.217139</td>\n",
              "      <td>0.369853</td>\n",
              "      <td>-0.608632</td>\n",
              "      <td>-0.688798</td>\n",
              "      <td>-1.046490</td>\n",
              "      <td>0.147654</td>\n",
              "      <td>0.728045</td>\n",
              "    </tr>\n",
              "    <tr>\n",
              "      <th>475</th>\n",
              "      <td>0.763285</td>\n",
              "      <td>0.855250</td>\n",
              "      <td>-0.173889</td>\n",
              "      <td>-0.249854</td>\n",
              "      <td>-0.037957</td>\n",
              "      <td>-1.062885</td>\n",
              "      <td>-0.578622</td>\n",
              "      <td>1.115223</td>\n",
              "      <td>-1.112479</td>\n",
              "      <td>-0.357140</td>\n",
              "      <td>-0.210697</td>\n",
              "    </tr>\n",
              "    <tr>\n",
              "      <th>1</th>\n",
              "      <td>-0.298873</td>\n",
              "      <td>1.981118</td>\n",
              "      <td>-1.405758</td>\n",
              "      <td>0.041022</td>\n",
              "      <td>0.177893</td>\n",
              "      <td>0.847432</td>\n",
              "      <td>0.591785</td>\n",
              "      <td>0.034971</td>\n",
              "      <td>-0.716544</td>\n",
              "      <td>0.091565</td>\n",
              "      <td>-0.586194</td>\n",
              "    </tr>\n",
              "    <tr>\n",
              "      <th>329</th>\n",
              "      <td>1.412382</td>\n",
              "      <td>-0.383204</td>\n",
              "      <td>0.596029</td>\n",
              "      <td>-0.395292</td>\n",
              "      <td>-0.548148</td>\n",
              "      <td>-0.871853</td>\n",
              "      <td>-0.968757</td>\n",
              "      <td>0.737135</td>\n",
              "      <td>-0.848522</td>\n",
              "      <td>-0.244964</td>\n",
              "      <td>-0.867817</td>\n",
              "    </tr>\n",
              "    <tr>\n",
              "      <th>149</th>\n",
              "      <td>-0.062838</td>\n",
              "      <td>-0.720965</td>\n",
              "      <td>0.852669</td>\n",
              "      <td>0.186459</td>\n",
              "      <td>0.001289</td>\n",
              "      <td>-0.489789</td>\n",
              "      <td>-0.128465</td>\n",
              "      <td>0.413059</td>\n",
              "      <td>1.461103</td>\n",
              "      <td>-0.301052</td>\n",
              "      <td>0.070926</td>\n",
              "    </tr>\n",
              "    <tr>\n",
              "      <th>1508</th>\n",
              "      <td>-0.711935</td>\n",
              "      <td>-1.452779</td>\n",
              "      <td>1.673915</td>\n",
              "      <td>-0.322573</td>\n",
              "      <td>-0.293052</td>\n",
              "      <td>0.083306</td>\n",
              "      <td>-0.668653</td>\n",
              "      <td>0.758740</td>\n",
              "      <td>0.471264</td>\n",
              "      <td>0.315918</td>\n",
              "      <td>0.164800</td>\n",
              "    </tr>\n",
              "    <tr>\n",
              "      <th>1243</th>\n",
              "      <td>-0.003829</td>\n",
              "      <td>0.179730</td>\n",
              "      <td>-0.276545</td>\n",
              "      <td>-0.104416</td>\n",
              "      <td>-0.136070</td>\n",
              "      <td>-0.585305</td>\n",
              "      <td>1.161983</td>\n",
              "      <td>0.845160</td>\n",
              "      <td>0.405274</td>\n",
              "      <td>-0.244964</td>\n",
              "      <td>-0.867817</td>\n",
              "    </tr>\n",
              "    <tr>\n",
              "      <th>38</th>\n",
              "      <td>-1.538058</td>\n",
              "      <td>3.388453</td>\n",
              "      <td>-0.943807</td>\n",
              "      <td>-0.758886</td>\n",
              "      <td>1.629975</td>\n",
              "      <td>-0.871853</td>\n",
              "      <td>-0.848716</td>\n",
              "      <td>-1.477382</td>\n",
              "      <td>1.263135</td>\n",
              "      <td>-1.030198</td>\n",
              "      <td>-0.586194</td>\n",
              "    </tr>\n",
              "    <tr>\n",
              "      <th>108</th>\n",
              "      <td>-0.180856</td>\n",
              "      <td>-1.115018</td>\n",
              "      <td>1.314620</td>\n",
              "      <td>-0.031697</td>\n",
              "      <td>0.040534</td>\n",
              "      <td>0.178822</td>\n",
              "      <td>0.981921</td>\n",
              "      <td>0.467072</td>\n",
              "      <td>0.405274</td>\n",
              "      <td>0.764623</td>\n",
              "      <td>-0.773942</td>\n",
              "    </tr>\n",
              "    <tr>\n",
              "      <th>495</th>\n",
              "      <td>1.412382</td>\n",
              "      <td>-1.002432</td>\n",
              "      <td>1.314620</td>\n",
              "      <td>0.041022</td>\n",
              "      <td>-0.371543</td>\n",
              "      <td>-1.062885</td>\n",
              "      <td>-0.938747</td>\n",
              "      <td>0.251021</td>\n",
              "      <td>-1.046490</td>\n",
              "      <td>-0.076699</td>\n",
              "      <td>0.540297</td>\n",
              "    </tr>\n",
              "  </tbody>\n",
              "</table>\n",
              "</div>\n",
              "      <button class=\"colab-df-convert\" onclick=\"convertToInteractive('df-18f4c471-6aff-493f-b46d-60705b928726')\"\n",
              "              title=\"Convert this dataframe to an interactive table.\"\n",
              "              style=\"display:none;\">\n",
              "        \n",
              "  <svg xmlns=\"http://www.w3.org/2000/svg\" height=\"24px\"viewBox=\"0 0 24 24\"\n",
              "       width=\"24px\">\n",
              "    <path d=\"M0 0h24v24H0V0z\" fill=\"none\"/>\n",
              "    <path d=\"M18.56 5.44l.94 2.06.94-2.06 2.06-.94-2.06-.94-.94-2.06-.94 2.06-2.06.94zm-11 1L8.5 8.5l.94-2.06 2.06-.94-2.06-.94L8.5 2.5l-.94 2.06-2.06.94zm10 10l.94 2.06.94-2.06 2.06-.94-2.06-.94-.94-2.06-.94 2.06-2.06.94z\"/><path d=\"M17.41 7.96l-1.37-1.37c-.4-.4-.92-.59-1.43-.59-.52 0-1.04.2-1.43.59L10.3 9.45l-7.72 7.72c-.78.78-.78 2.05 0 2.83L4 21.41c.39.39.9.59 1.41.59.51 0 1.02-.2 1.41-.59l7.78-7.78 2.81-2.81c.8-.78.8-2.07 0-2.86zM5.41 20L4 18.59l7.72-7.72 1.47 1.35L5.41 20z\"/>\n",
              "  </svg>\n",
              "      </button>\n",
              "      \n",
              "  <style>\n",
              "    .colab-df-container {\n",
              "      display:flex;\n",
              "      flex-wrap:wrap;\n",
              "      gap: 12px;\n",
              "    }\n",
              "\n",
              "    .colab-df-convert {\n",
              "      background-color: #E8F0FE;\n",
              "      border: none;\n",
              "      border-radius: 50%;\n",
              "      cursor: pointer;\n",
              "      display: none;\n",
              "      fill: #1967D2;\n",
              "      height: 32px;\n",
              "      padding: 0 0 0 0;\n",
              "      width: 32px;\n",
              "    }\n",
              "\n",
              "    .colab-df-convert:hover {\n",
              "      background-color: #E2EBFA;\n",
              "      box-shadow: 0px 1px 2px rgba(60, 64, 67, 0.3), 0px 1px 3px 1px rgba(60, 64, 67, 0.15);\n",
              "      fill: #174EA6;\n",
              "    }\n",
              "\n",
              "    [theme=dark] .colab-df-convert {\n",
              "      background-color: #3B4455;\n",
              "      fill: #D2E3FC;\n",
              "    }\n",
              "\n",
              "    [theme=dark] .colab-df-convert:hover {\n",
              "      background-color: #434B5C;\n",
              "      box-shadow: 0px 1px 3px 1px rgba(0, 0, 0, 0.15);\n",
              "      filter: drop-shadow(0px 1px 2px rgba(0, 0, 0, 0.3));\n",
              "      fill: #FFFFFF;\n",
              "    }\n",
              "  </style>\n",
              "\n",
              "      <script>\n",
              "        const buttonEl =\n",
              "          document.querySelector('#df-18f4c471-6aff-493f-b46d-60705b928726 button.colab-df-convert');\n",
              "        buttonEl.style.display =\n",
              "          google.colab.kernel.accessAllowed ? 'block' : 'none';\n",
              "\n",
              "        async function convertToInteractive(key) {\n",
              "          const element = document.querySelector('#df-18f4c471-6aff-493f-b46d-60705b928726');\n",
              "          const dataTable =\n",
              "            await google.colab.kernel.invokeFunction('convertToInteractive',\n",
              "                                                     [key], {});\n",
              "          if (!dataTable) return;\n",
              "\n",
              "          const docLinkHtml = 'Like what you see? Visit the ' +\n",
              "            '<a target=\"_blank\" href=https://colab.research.google.com/notebooks/data_table.ipynb>data table notebook</a>'\n",
              "            + ' to learn more about interactive tables.';\n",
              "          element.innerHTML = '';\n",
              "          dataTable['output_type'] = 'display_data';\n",
              "          await google.colab.output.renderOutput(dataTable, element);\n",
              "          const docLink = document.createElement('div');\n",
              "          docLink.innerHTML = docLinkHtml;\n",
              "          element.appendChild(docLink);\n",
              "        }\n",
              "      </script>\n",
              "    </div>\n",
              "  </div>\n",
              "  "
            ],
            "text/plain": [
              "      fixed acidity  volatile acidity  ...  sulphates   alcohol\n",
              "963        0.291215         -1.452779  ...   0.147654  0.728045\n",
              "475        0.763285          0.855250  ...  -0.357140 -0.210697\n",
              "1         -0.298873          1.981118  ...   0.091565 -0.586194\n",
              "329        1.412382         -0.383204  ...  -0.244964 -0.867817\n",
              "149       -0.062838         -0.720965  ...  -0.301052  0.070926\n",
              "1508      -0.711935         -1.452779  ...   0.315918  0.164800\n",
              "1243      -0.003829          0.179730  ...  -0.244964 -0.867817\n",
              "38        -1.538058          3.388453  ...  -1.030198 -0.586194\n",
              "108       -0.180856         -1.115018  ...   0.764623 -0.773942\n",
              "495        1.412382         -1.002432  ...  -0.076699  0.540297\n",
              "\n",
              "[10 rows x 11 columns]"
            ]
          },
          "metadata": {},
          "execution_count": 26
        }
      ]
    },
    {
      "cell_type": "code",
      "source": [
        "data_t = pd.read_csv('/content/wineq_prueba.csv',sep = ';')"
      ],
      "metadata": {
        "id": "C8VRKx620LLs"
      },
      "execution_count": 31,
      "outputs": []
    },
    {
      "cell_type": "code",
      "source": [
        "data_t = data_t.drop('quality', axis = 1)"
      ],
      "metadata": {
        "id": "H7LW5_h_0Sux"
      },
      "execution_count": 36,
      "outputs": []
    },
    {
      "cell_type": "code",
      "source": [
        "data_t"
      ],
      "metadata": {
        "id": "y5asXXO10xVI"
      },
      "execution_count": null,
      "outputs": []
    },
    {
      "cell_type": "code",
      "source": [
        "data_t_sc = sc.fit_transform(data_t.values)\n",
        "data_t_sc = pd.DataFrame(data_t_sc, index=data_t.index, columns=data_t.columns)"
      ],
      "metadata": {
        "id": "7dcmgdzL0fEQ"
      },
      "execution_count": 44,
      "outputs": []
    },
    {
      "cell_type": "code",
      "source": [
        "data_t_sc"
      ],
      "metadata": {
        "colab": {
          "base_uri": "https://localhost:8080/",
          "height": 802
        },
        "id": "JKgcYCm91SQZ",
        "outputId": "0df70c02-ac50-4f34-e04d-f65f35553222"
      },
      "execution_count": 45,
      "outputs": [
        {
          "output_type": "execute_result",
          "data": {
            "text/html": [
              "\n",
              "  <div id=\"df-abb359af-136b-426a-a580-fd526e041248\">\n",
              "    <div class=\"colab-df-container\">\n",
              "      <div>\n",
              "<style scoped>\n",
              "    .dataframe tbody tr th:only-of-type {\n",
              "        vertical-align: middle;\n",
              "    }\n",
              "\n",
              "    .dataframe tbody tr th {\n",
              "        vertical-align: top;\n",
              "    }\n",
              "\n",
              "    .dataframe thead th {\n",
              "        text-align: right;\n",
              "    }\n",
              "</style>\n",
              "<table border=\"1\" class=\"dataframe\">\n",
              "  <thead>\n",
              "    <tr style=\"text-align: right;\">\n",
              "      <th></th>\n",
              "      <th>fixed acidity</th>\n",
              "      <th>volatile acidity</th>\n",
              "      <th>citric acid</th>\n",
              "      <th>residual sugar</th>\n",
              "      <th>chlorides</th>\n",
              "      <th>free sulfur dioxide</th>\n",
              "      <th>total sulfur dioxide</th>\n",
              "      <th>density</th>\n",
              "      <th>pH</th>\n",
              "      <th>sulphates</th>\n",
              "      <th>alcohol</th>\n",
              "    </tr>\n",
              "  </thead>\n",
              "  <tbody>\n",
              "    <tr>\n",
              "      <th>0</th>\n",
              "      <td>-0.215632</td>\n",
              "      <td>0.960966</td>\n",
              "      <td>-0.980720</td>\n",
              "      <td>-0.424291</td>\n",
              "      <td>-0.430368</td>\n",
              "      <td>-0.576945</td>\n",
              "      <td>-0.697805</td>\n",
              "      <td>0.884880</td>\n",
              "      <td>1.573396</td>\n",
              "      <td>-0.524306</td>\n",
              "      <td>-0.472878</td>\n",
              "    </tr>\n",
              "    <tr>\n",
              "      <th>1</th>\n",
              "      <td>0.129379</td>\n",
              "      <td>2.187370</td>\n",
              "      <td>-0.980720</td>\n",
              "      <td>0.119838</td>\n",
              "      <td>0.334731</td>\n",
              "      <td>0.518273</td>\n",
              "      <td>0.119742</td>\n",
              "      <td>0.035395</td>\n",
              "      <td>-0.960384</td>\n",
              "      <td>0.020821</td>\n",
              "      <td>0.435048</td>\n",
              "    </tr>\n",
              "    <tr>\n",
              "      <th>2</th>\n",
              "      <td>0.129379</td>\n",
              "      <td>1.369768</td>\n",
              "      <td>-0.753855</td>\n",
              "      <td>-0.113360</td>\n",
              "      <td>0.126067</td>\n",
              "      <td>-0.264026</td>\n",
              "      <td>-0.202322</td>\n",
              "      <td>0.205292</td>\n",
              "      <td>-0.469975</td>\n",
              "      <td>-0.115461</td>\n",
              "      <td>0.435048</td>\n",
              "    </tr>\n",
              "    <tr>\n",
              "      <th>3</th>\n",
              "      <td>3.061976</td>\n",
              "      <td>-1.900641</td>\n",
              "      <td>2.195396</td>\n",
              "      <td>-0.424291</td>\n",
              "      <td>-0.465146</td>\n",
              "      <td>-0.107566</td>\n",
              "      <td>-0.053677</td>\n",
              "      <td>1.054776</td>\n",
              "      <td>-1.287324</td>\n",
              "      <td>-0.433452</td>\n",
              "      <td>0.435048</td>\n",
              "    </tr>\n",
              "    <tr>\n",
              "      <th>4</th>\n",
              "      <td>-0.215632</td>\n",
              "      <td>0.960966</td>\n",
              "      <td>-0.980720</td>\n",
              "      <td>-0.424291</td>\n",
              "      <td>-0.430368</td>\n",
              "      <td>-0.576945</td>\n",
              "      <td>-0.697805</td>\n",
              "      <td>0.884880</td>\n",
              "      <td>1.573396</td>\n",
              "      <td>-0.524306</td>\n",
              "      <td>-0.472878</td>\n",
              "    </tr>\n",
              "    <tr>\n",
              "      <th>5</th>\n",
              "      <td>-0.215632</td>\n",
              "      <td>0.688432</td>\n",
              "      <td>-0.980720</td>\n",
              "      <td>-0.502023</td>\n",
              "      <td>-0.465146</td>\n",
              "      <td>-0.420486</td>\n",
              "      <td>-0.549160</td>\n",
              "      <td>0.884880</td>\n",
              "      <td>1.573396</td>\n",
              "      <td>-0.524306</td>\n",
              "      <td>-0.472878</td>\n",
              "    </tr>\n",
              "    <tr>\n",
              "      <th>6</th>\n",
              "      <td>0.215632</td>\n",
              "      <td>0.279631</td>\n",
              "      <td>-0.640422</td>\n",
              "      <td>-0.657488</td>\n",
              "      <td>-0.673809</td>\n",
              "      <td>-0.264026</td>\n",
              "      <td>-0.078451</td>\n",
              "      <td>-0.304399</td>\n",
              "      <td>-0.143036</td>\n",
              "      <td>-0.978579</td>\n",
              "      <td>-0.472878</td>\n",
              "    </tr>\n",
              "    <tr>\n",
              "      <th>7</th>\n",
              "      <td>-0.301885</td>\n",
              "      <td>0.620299</td>\n",
              "      <td>-0.980720</td>\n",
              "      <td>-0.968419</td>\n",
              "      <td>-0.812918</td>\n",
              "      <td>-0.264026</td>\n",
              "      <td>-1.019869</td>\n",
              "      <td>-1.833470</td>\n",
              "      <td>0.592578</td>\n",
              "      <td>-0.933152</td>\n",
              "      <td>0.889011</td>\n",
              "    </tr>\n",
              "    <tr>\n",
              "      <th>8</th>\n",
              "      <td>0.129379</td>\n",
              "      <td>0.143364</td>\n",
              "      <td>-0.867288</td>\n",
              "      <td>-0.346558</td>\n",
              "      <td>-0.534700</td>\n",
              "      <td>-0.733405</td>\n",
              "      <td>-1.094192</td>\n",
              "      <td>0.035395</td>\n",
              "      <td>0.347373</td>\n",
              "      <td>-0.478879</td>\n",
              "      <td>-0.245897</td>\n",
              "    </tr>\n",
              "    <tr>\n",
              "      <th>9</th>\n",
              "      <td>-0.129379</td>\n",
              "      <td>-0.401704</td>\n",
              "      <td>1.061068</td>\n",
              "      <td>2.840479</td>\n",
              "      <td>-0.604255</td>\n",
              "      <td>-0.107566</td>\n",
              "      <td>0.986837</td>\n",
              "      <td>0.884880</td>\n",
              "      <td>0.265638</td>\n",
              "      <td>0.565948</td>\n",
              "      <td>2.023918</td>\n",
              "    </tr>\n",
              "    <tr>\n",
              "      <th>10</th>\n",
              "      <td>-0.819402</td>\n",
              "      <td>0.143364</td>\n",
              "      <td>-0.526989</td>\n",
              "      <td>-0.502023</td>\n",
              "      <td>0.299954</td>\n",
              "      <td>-0.264026</td>\n",
              "      <td>0.070193</td>\n",
              "      <td>-0.729141</td>\n",
              "      <td>-0.306506</td>\n",
              "      <td>-0.615161</td>\n",
              "      <td>-0.926841</td>\n",
              "    </tr>\n",
              "    <tr>\n",
              "      <th>11</th>\n",
              "      <td>-0.129379</td>\n",
              "      <td>-0.401704</td>\n",
              "      <td>1.061068</td>\n",
              "      <td>2.840479</td>\n",
              "      <td>-0.604255</td>\n",
              "      <td>-0.107566</td>\n",
              "      <td>0.986837</td>\n",
              "      <td>0.884880</td>\n",
              "      <td>0.265638</td>\n",
              "      <td>0.565948</td>\n",
              "      <td>2.023918</td>\n",
              "    </tr>\n",
              "    <tr>\n",
              "      <th>12</th>\n",
              "      <td>-1.768183</td>\n",
              "      <td>0.381832</td>\n",
              "      <td>-0.980720</td>\n",
              "      <td>-0.657488</td>\n",
              "      <td>0.021736</td>\n",
              "      <td>-0.185796</td>\n",
              "      <td>-0.078451</td>\n",
              "      <td>-2.088316</td>\n",
              "      <td>2.145540</td>\n",
              "      <td>-0.706015</td>\n",
              "      <td>0.662029</td>\n",
              "    </tr>\n",
              "    <tr>\n",
              "      <th>13</th>\n",
              "      <td>0.129379</td>\n",
              "      <td>0.347765</td>\n",
              "      <td>0.664054</td>\n",
              "      <td>-0.657488</td>\n",
              "      <td>0.891167</td>\n",
              "      <td>-0.733405</td>\n",
              "      <td>-0.821676</td>\n",
              "      <td>0.545086</td>\n",
              "      <td>-0.469975</td>\n",
              "      <td>4.018420</td>\n",
              "      <td>-1.153822</td>\n",
              "    </tr>\n",
              "    <tr>\n",
              "      <th>14</th>\n",
              "      <td>1.078161</td>\n",
              "      <td>0.415898</td>\n",
              "      <td>0.040174</td>\n",
              "      <td>1.052629</td>\n",
              "      <td>3.047356</td>\n",
              "      <td>2.630479</td>\n",
              "      <td>2.052125</td>\n",
              "      <td>1.564467</td>\n",
              "      <td>-1.287324</td>\n",
              "      <td>0.929366</td>\n",
              "      <td>-0.926841</td>\n",
              "    </tr>\n",
              "    <tr>\n",
              "      <th>15</th>\n",
              "      <td>1.078161</td>\n",
              "      <td>0.415898</td>\n",
              "      <td>0.096890</td>\n",
              "      <td>1.130362</td>\n",
              "      <td>2.838692</td>\n",
              "      <td>2.552249</td>\n",
              "      <td>2.126448</td>\n",
              "      <td>1.564467</td>\n",
              "      <td>-1.205589</td>\n",
              "      <td>1.156502</td>\n",
              "      <td>-0.926841</td>\n",
              "    </tr>\n",
              "    <tr>\n",
              "      <th>16</th>\n",
              "      <td>0.733149</td>\n",
              "      <td>-1.900641</td>\n",
              "      <td>2.195396</td>\n",
              "      <td>-0.502023</td>\n",
              "      <td>0.126067</td>\n",
              "      <td>1.300572</td>\n",
              "      <td>1.011611</td>\n",
              "      <td>0.120344</td>\n",
              "      <td>-0.143036</td>\n",
              "      <td>0.338812</td>\n",
              "      <td>2.023918</td>\n",
              "    </tr>\n",
              "    <tr>\n",
              "      <th>17</th>\n",
              "      <td>-1.078161</td>\n",
              "      <td>-1.083039</td>\n",
              "      <td>0.323756</td>\n",
              "      <td>-0.657488</td>\n",
              "      <td>-0.778141</td>\n",
              "      <td>-1.046324</td>\n",
              "      <td>-1.242836</td>\n",
              "      <td>-0.814089</td>\n",
              "      <td>0.183903</td>\n",
              "      <td>-0.524306</td>\n",
              "      <td>-0.926841</td>\n",
              "    </tr>\n",
              "    <tr>\n",
              "      <th>18</th>\n",
              "      <td>-1.768183</td>\n",
              "      <td>-1.696241</td>\n",
              "      <td>1.117785</td>\n",
              "      <td>-0.812954</td>\n",
              "      <td>-0.499923</td>\n",
              "      <td>-0.498715</td>\n",
              "      <td>0.838192</td>\n",
              "      <td>-1.153883</td>\n",
              "      <td>0.020434</td>\n",
              "      <td>-0.433452</td>\n",
              "      <td>-0.926841</td>\n",
              "    </tr>\n",
              "    <tr>\n",
              "      <th>19</th>\n",
              "      <td>0.991908</td>\n",
              "      <td>0.688432</td>\n",
              "      <td>0.493905</td>\n",
              "      <td>-0.579756</td>\n",
              "      <td>-0.499923</td>\n",
              "      <td>-1.124554</td>\n",
              "      <td>-0.970321</td>\n",
              "      <td>0.290240</td>\n",
              "      <td>-1.369059</td>\n",
              "      <td>0.293384</td>\n",
              "      <td>-0.926841</td>\n",
              "    </tr>\n",
              "    <tr>\n",
              "      <th>20</th>\n",
              "      <td>-0.905655</td>\n",
              "      <td>-0.265437</td>\n",
              "      <td>-0.753855</td>\n",
              "      <td>-0.191093</td>\n",
              "      <td>-0.673809</td>\n",
              "      <td>-0.811635</td>\n",
              "      <td>-1.168514</td>\n",
              "      <td>-0.983986</td>\n",
              "      <td>0.674312</td>\n",
              "      <td>-0.206315</td>\n",
              "      <td>-0.472878</td>\n",
              "    </tr>\n",
              "    <tr>\n",
              "      <th>21</th>\n",
              "      <td>-0.905655</td>\n",
              "      <td>-0.401704</td>\n",
              "      <td>-0.753855</td>\n",
              "      <td>-0.268825</td>\n",
              "      <td>-0.708586</td>\n",
              "      <td>-0.968095</td>\n",
              "      <td>-1.193288</td>\n",
              "      <td>-1.068934</td>\n",
              "      <td>0.592578</td>\n",
              "      <td>-0.160888</td>\n",
              "      <td>-0.472878</td>\n",
              "    </tr>\n",
              "    <tr>\n",
              "      <th>22</th>\n",
              "      <td>0.819402</td>\n",
              "      <td>-1.219306</td>\n",
              "      <td>1.061068</td>\n",
              "      <td>0.430768</td>\n",
              "      <td>-0.256482</td>\n",
              "      <td>0.909422</td>\n",
              "      <td>1.407997</td>\n",
              "      <td>0.205292</td>\n",
              "      <td>-0.960384</td>\n",
              "      <td>-0.524306</td>\n",
              "      <td>-0.472878</td>\n",
              "    </tr>\n",
              "    <tr>\n",
              "      <th>23</th>\n",
              "      <td>-0.043126</td>\n",
              "      <td>-0.333570</td>\n",
              "      <td>-0.129975</td>\n",
              "      <td>0.275303</td>\n",
              "      <td>0.752058</td>\n",
              "      <td>1.144112</td>\n",
              "      <td>0.268387</td>\n",
              "      <td>-1.068934</td>\n",
              "      <td>-1.205589</td>\n",
              "      <td>-0.206315</td>\n",
              "      <td>1.342973</td>\n",
              "    </tr>\n",
              "  </tbody>\n",
              "</table>\n",
              "</div>\n",
              "      <button class=\"colab-df-convert\" onclick=\"convertToInteractive('df-abb359af-136b-426a-a580-fd526e041248')\"\n",
              "              title=\"Convert this dataframe to an interactive table.\"\n",
              "              style=\"display:none;\">\n",
              "        \n",
              "  <svg xmlns=\"http://www.w3.org/2000/svg\" height=\"24px\"viewBox=\"0 0 24 24\"\n",
              "       width=\"24px\">\n",
              "    <path d=\"M0 0h24v24H0V0z\" fill=\"none\"/>\n",
              "    <path d=\"M18.56 5.44l.94 2.06.94-2.06 2.06-.94-2.06-.94-.94-2.06-.94 2.06-2.06.94zm-11 1L8.5 8.5l.94-2.06 2.06-.94-2.06-.94L8.5 2.5l-.94 2.06-2.06.94zm10 10l.94 2.06.94-2.06 2.06-.94-2.06-.94-.94-2.06-.94 2.06-2.06.94z\"/><path d=\"M17.41 7.96l-1.37-1.37c-.4-.4-.92-.59-1.43-.59-.52 0-1.04.2-1.43.59L10.3 9.45l-7.72 7.72c-.78.78-.78 2.05 0 2.83L4 21.41c.39.39.9.59 1.41.59.51 0 1.02-.2 1.41-.59l7.78-7.78 2.81-2.81c.8-.78.8-2.07 0-2.86zM5.41 20L4 18.59l7.72-7.72 1.47 1.35L5.41 20z\"/>\n",
              "  </svg>\n",
              "      </button>\n",
              "      \n",
              "  <style>\n",
              "    .colab-df-container {\n",
              "      display:flex;\n",
              "      flex-wrap:wrap;\n",
              "      gap: 12px;\n",
              "    }\n",
              "\n",
              "    .colab-df-convert {\n",
              "      background-color: #E8F0FE;\n",
              "      border: none;\n",
              "      border-radius: 50%;\n",
              "      cursor: pointer;\n",
              "      display: none;\n",
              "      fill: #1967D2;\n",
              "      height: 32px;\n",
              "      padding: 0 0 0 0;\n",
              "      width: 32px;\n",
              "    }\n",
              "\n",
              "    .colab-df-convert:hover {\n",
              "      background-color: #E2EBFA;\n",
              "      box-shadow: 0px 1px 2px rgba(60, 64, 67, 0.3), 0px 1px 3px 1px rgba(60, 64, 67, 0.15);\n",
              "      fill: #174EA6;\n",
              "    }\n",
              "\n",
              "    [theme=dark] .colab-df-convert {\n",
              "      background-color: #3B4455;\n",
              "      fill: #D2E3FC;\n",
              "    }\n",
              "\n",
              "    [theme=dark] .colab-df-convert:hover {\n",
              "      background-color: #434B5C;\n",
              "      box-shadow: 0px 1px 3px 1px rgba(0, 0, 0, 0.15);\n",
              "      filter: drop-shadow(0px 1px 2px rgba(0, 0, 0, 0.3));\n",
              "      fill: #FFFFFF;\n",
              "    }\n",
              "  </style>\n",
              "\n",
              "      <script>\n",
              "        const buttonEl =\n",
              "          document.querySelector('#df-abb359af-136b-426a-a580-fd526e041248 button.colab-df-convert');\n",
              "        buttonEl.style.display =\n",
              "          google.colab.kernel.accessAllowed ? 'block' : 'none';\n",
              "\n",
              "        async function convertToInteractive(key) {\n",
              "          const element = document.querySelector('#df-abb359af-136b-426a-a580-fd526e041248');\n",
              "          const dataTable =\n",
              "            await google.colab.kernel.invokeFunction('convertToInteractive',\n",
              "                                                     [key], {});\n",
              "          if (!dataTable) return;\n",
              "\n",
              "          const docLinkHtml = 'Like what you see? Visit the ' +\n",
              "            '<a target=\"_blank\" href=https://colab.research.google.com/notebooks/data_table.ipynb>data table notebook</a>'\n",
              "            + ' to learn more about interactive tables.';\n",
              "          element.innerHTML = '';\n",
              "          dataTable['output_type'] = 'display_data';\n",
              "          await google.colab.output.renderOutput(dataTable, element);\n",
              "          const docLink = document.createElement('div');\n",
              "          docLink.innerHTML = docLinkHtml;\n",
              "          element.appendChild(docLink);\n",
              "        }\n",
              "      </script>\n",
              "    </div>\n",
              "  </div>\n",
              "  "
            ],
            "text/plain": [
              "    fixed acidity  volatile acidity  citric acid  ...        pH  sulphates   alcohol\n",
              "0       -0.215632          0.960966    -0.980720  ...  1.573396  -0.524306 -0.472878\n",
              "1        0.129379          2.187370    -0.980720  ... -0.960384   0.020821  0.435048\n",
              "2        0.129379          1.369768    -0.753855  ... -0.469975  -0.115461  0.435048\n",
              "3        3.061976         -1.900641     2.195396  ... -1.287324  -0.433452  0.435048\n",
              "4       -0.215632          0.960966    -0.980720  ...  1.573396  -0.524306 -0.472878\n",
              "5       -0.215632          0.688432    -0.980720  ...  1.573396  -0.524306 -0.472878\n",
              "6        0.215632          0.279631    -0.640422  ... -0.143036  -0.978579 -0.472878\n",
              "7       -0.301885          0.620299    -0.980720  ...  0.592578  -0.933152  0.889011\n",
              "8        0.129379          0.143364    -0.867288  ...  0.347373  -0.478879 -0.245897\n",
              "9       -0.129379         -0.401704     1.061068  ...  0.265638   0.565948  2.023918\n",
              "10      -0.819402          0.143364    -0.526989  ... -0.306506  -0.615161 -0.926841\n",
              "11      -0.129379         -0.401704     1.061068  ...  0.265638   0.565948  2.023918\n",
              "12      -1.768183          0.381832    -0.980720  ...  2.145540  -0.706015  0.662029\n",
              "13       0.129379          0.347765     0.664054  ... -0.469975   4.018420 -1.153822\n",
              "14       1.078161          0.415898     0.040174  ... -1.287324   0.929366 -0.926841\n",
              "15       1.078161          0.415898     0.096890  ... -1.205589   1.156502 -0.926841\n",
              "16       0.733149         -1.900641     2.195396  ... -0.143036   0.338812  2.023918\n",
              "17      -1.078161         -1.083039     0.323756  ...  0.183903  -0.524306 -0.926841\n",
              "18      -1.768183         -1.696241     1.117785  ...  0.020434  -0.433452 -0.926841\n",
              "19       0.991908          0.688432     0.493905  ... -1.369059   0.293384 -0.926841\n",
              "20      -0.905655         -0.265437    -0.753855  ...  0.674312  -0.206315 -0.472878\n",
              "21      -0.905655         -0.401704    -0.753855  ...  0.592578  -0.160888 -0.472878\n",
              "22       0.819402         -1.219306     1.061068  ... -0.960384  -0.524306 -0.472878\n",
              "23      -0.043126         -0.333570    -0.129975  ... -1.205589  -0.206315  1.342973\n",
              "\n",
              "[24 rows x 11 columns]"
            ]
          },
          "metadata": {},
          "execution_count": 45
        }
      ]
    },
    {
      "cell_type": "code",
      "source": [
        "y_pred_2 = clf.predict(data_t_sc)"
      ],
      "metadata": {
        "id": "OGOKdELU0mRO"
      },
      "execution_count": 46,
      "outputs": []
    },
    {
      "cell_type": "code",
      "source": [
        "y_pred_2"
      ],
      "metadata": {
        "colab": {
          "base_uri": "https://localhost:8080/"
        },
        "id": "BKlw99yI1GVW",
        "outputId": "2ad36c5c-3a97-4c80-fb8c-825c48470ed7"
      },
      "execution_count": 47,
      "outputs": [
        {
          "output_type": "execute_result",
          "data": {
            "text/plain": [
              "array([5., 6., 6., 6., 5., 5., 5., 6., 5., 6., 5., 6., 5., 5., 5., 5., 6.,\n",
              "       5., 5., 5., 5., 5., 5., 6.])"
            ]
          },
          "metadata": {},
          "execution_count": 47
        }
      ]
    },
    {
      "cell_type": "code",
      "source": [
        "y_pred"
      ],
      "metadata": {
        "colab": {
          "base_uri": "https://localhost:8080/"
        },
        "id": "uo2mC3tX1Jtv",
        "outputId": "82cc7a7d-5d66-4fe6-851b-b8d305179083"
      },
      "execution_count": 42,
      "outputs": [
        {
          "output_type": "execute_result",
          "data": {
            "text/plain": [
              "array([6., 5., 5., 6., 5., 6., 5., 5., 5., 6., 5., 5., 5., 6., 5., 6., 5.,\n",
              "       5., 7., 6., 6., 5., 5., 6., 5., 6., 5., 5., 6., 5., 6., 5., 5., 6.,\n",
              "       8., 5., 5., 6., 5., 6., 5., 5., 5., 6., 6., 7., 6., 6., 5., 5., 5.,\n",
              "       6., 5., 5., 6., 5., 5., 5., 5., 6., 5., 6., 5., 6., 6., 5., 6., 5.,\n",
              "       5., 6., 6., 5., 6., 5., 6., 6., 6., 6., 5., 6., 5., 6., 5., 5., 5.,\n",
              "       5., 5., 5., 7., 6., 5., 5., 6., 6., 5., 6., 5., 5., 6., 5., 6., 7.,\n",
              "       6., 6., 6., 6., 6., 6., 7., 6., 5., 5., 5., 5., 6., 6., 5., 5., 6.,\n",
              "       6., 7., 5., 6., 6., 6., 6., 6., 5., 5., 6., 5., 5., 5., 4., 6., 5.,\n",
              "       5., 6., 5., 6., 5., 5., 5., 5., 5., 6., 5., 6., 5., 5., 5., 5., 5.,\n",
              "       5., 5., 5., 5., 5., 6., 6., 6., 5., 6., 7., 5., 6., 5., 6., 5., 6.,\n",
              "       6., 5., 5., 7., 7., 5., 6., 5., 4., 6., 5., 5., 6., 5., 5., 3., 6.,\n",
              "       5., 5., 5., 6., 5., 5., 5., 6., 6., 6., 5., 5., 5., 6., 5., 5., 5.,\n",
              "       6., 5., 5., 5., 7., 6., 5., 6., 5., 6., 7., 5., 6., 6., 5., 6., 6.,\n",
              "       6., 5., 5., 5., 6., 6., 6., 7., 5., 6., 5., 6., 6., 5., 6., 5., 6.,\n",
              "       6., 5., 5., 5., 5., 6., 5., 6., 7., 6., 5., 6., 5., 5., 5., 5., 6.,\n",
              "       5., 5., 5., 5., 6., 5., 6., 6., 5., 6., 6., 5., 6., 5., 6., 5., 5.,\n",
              "       6., 6., 5., 6., 6., 5., 6., 5., 6., 5., 5., 5., 7., 5., 6., 5., 5.,\n",
              "       5., 5., 7., 5., 5., 5., 5., 6., 5., 5., 7., 5., 6., 5., 5., 6., 6.,\n",
              "       6., 5., 6., 7., 6., 5., 5., 6., 5., 5., 6., 6., 6., 5.])"
            ]
          },
          "metadata": {},
          "execution_count": 42
        }
      ]
    }
  ]
}