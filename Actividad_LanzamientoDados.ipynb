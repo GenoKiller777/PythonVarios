{
  "nbformat": 4,
  "nbformat_minor": 0,
  "metadata": {
    "colab": {
      "provenance": [],
      "authorship_tag": "ABX9TyMeYYu5j1nlQjgbalz7Tk7Y",
      "include_colab_link": true
    },
    "kernelspec": {
      "name": "python3",
      "display_name": "Python 3"
    },
    "language_info": {
      "name": "python"
    }
  },
  "cells": [
    {
      "cell_type": "markdown",
      "metadata": {
        "id": "view-in-github",
        "colab_type": "text"
      },
      "source": [
        "<a href=\"https://colab.research.google.com/github/GenoKiller777/PythonVarios/blob/main/Actividad_LanzamientoDados.ipynb\" target=\"_parent\"><img src=\"https://colab.research.google.com/assets/colab-badge.svg\" alt=\"Open In Colab\"/></a>"
      ]
    },
    {
      "cell_type": "markdown",
      "source": [
        "**Problema 1**:\n",
        "\n",
        "Usted va a jugar dados al casino, lanza dos dados y para ganar la lo apostado, necesita que la suma esté en el intervalo [7, 9]. ¿Qué probabilidad tiene de ganar la apuesta? Resuélvalo con Python."
      ],
      "metadata": {
        "id": "m5ncdUCR4zM5"
      }
    },
    {
      "cell_type": "code",
      "source": [
        "cf7,cf8,cf9, cp = [],[],[], [(1, 1), (1, 2), (1, 3), (1, 4), (1, 5), (1, 6),(2, 1), (2, 2), (2, 3), (2, 4), (2, 5), (2, 6),(3, 1), (3, 2), (3, 3), (3, 4), (3, 5), (3, 6),\n",
        "              (4, 1), (4, 2), (4, 3), (4, 4), (4, 5), (4, 6),(5, 1), (5, 2), (5, 3), (5, 4), (5, 5), (5, 6),(6, 1), (6, 2), (6, 3), (6, 4), (6, 5), (6, 6)]\n",
        "\n",
        "for n1 in range(1,7):\n",
        "    for n2 in range(1,7):\n",
        "            # Casos favorables, cf = 7\n",
        "            if n1+n2 == 7 and ((n1,n2)) not in cf7:\n",
        "                cf7.append(((n1,n2)))\n",
        "\n",
        "for n1 in range(1,7):\n",
        "    for n2 in range(1,7):\n",
        "            # Casos favorables, cf = 8\n",
        "            if n1+n2 == 8 and ((n1,n2)) not in cf8:\n",
        "                cf8.append(((n1,n2)))\n",
        "\n",
        "for n1 in range(1,7):\n",
        "    for n2 in range(1,7):\n",
        "            # Casos favorables, cf = 9\n",
        "            if n1+n2 == 9 and ((n1,n2)) not in cf9:\n",
        "                cf9.append(((n1,n2)))\n",
        "\n",
        "cff = cf7 + cf8 + cf9\n",
        "print(\"############################################################\")\n",
        "print(f'P(7) & P(8) & P(9) = La probabilidad de ganar la apuesta es de un: {((len(cff)/len(cp))*100):5f} %, de que la suma esté en el intervalo [7, 9].')\n",
        "print(\"############################################################\")\n",
        "print(f'Casos favorables = {cff} \\nCasos Posibles = {cp}')"
      ],
      "metadata": {
        "colab": {
          "base_uri": "https://localhost:8080/"
        },
        "id": "CYfbxt1GMS-_",
        "outputId": "f6047af2-cdf6-45bc-d9a4-3dfbbf6f95fd"
      },
      "execution_count": 1,
      "outputs": [
        {
          "output_type": "stream",
          "name": "stdout",
          "text": [
            "############################################################\n",
            "P(7) & P(8) & P(9) = La probabilidad de ganar la apuesta es de un: 41.666667 %, de que la suma esté en el intervalo [7, 9].\n",
            "############################################################\n",
            "Casos favorables = [(1, 6), (2, 5), (3, 4), (4, 3), (5, 2), (6, 1), (2, 6), (3, 5), (4, 4), (5, 3), (6, 2), (3, 6), (4, 5), (5, 4), (6, 3)] \n",
            "Casos Posibles = [(1, 1), (1, 2), (1, 3), (1, 4), (1, 5), (1, 6), (2, 1), (2, 2), (2, 3), (2, 4), (2, 5), (2, 6), (3, 1), (3, 2), (3, 3), (3, 4), (3, 5), (3, 6), (4, 1), (4, 2), (4, 3), (4, 4), (4, 5), (4, 6), (5, 1), (5, 2), (5, 3), (5, 4), (5, 5), (5, 6), (6, 1), (6, 2), (6, 3), (6, 4), (6, 5), (6, 6)]\n"
          ]
        }
      ]
    },
    {
      "cell_type": "markdown",
      "source": [
        "**Problema 2**:\n",
        "\n",
        "Una empresa recibe llamadas telefónicas de sus clientes y el tiempo de espera entre cada llamada sigue una distribución exponencial, con una tasa de llegada promedio de 4 llamadas por hora. El jefe (The Big Boss) quiere saber cuál es la probabilidad de que la empresa tenga que esperar más de 10 minutos entre\n",
        "dos llamadas consecutivas. Si no le responde pronto, lo reemplaza. Resuélvalo con Python."
      ],
      "metadata": {
        "id": "VGRi9Wy95mwy"
      }
    },
    {
      "cell_type": "code",
      "source": [
        "from scipy.stats import expon\n",
        "\n",
        "def calcular_probabilidad(lambd, x):\n",
        "    cdf = expon.cdf(x, scale = 1 / lambd)\n",
        "    probabilidad = 1 - cdf\n",
        "    return probabilidad\n",
        "\n",
        "lambd = 4  # Llamadas por hora\n",
        "x = 1/6  # 10 minutos en horas\n",
        "\n",
        "probabilidad = calcular_probabilidad(lambd, x)\n",
        "print(\"La probabilidad de que haya una separación de más de 10 minutos entre dos llamadas consecutivas es:\", round(probabilidad*100,3),\"%.\")"
      ],
      "metadata": {
        "id": "6-ktlU_X5miW",
        "colab": {
          "base_uri": "https://localhost:8080/"
        },
        "outputId": "ed3f7a17-7d2f-4eb0-bb29-b9dd26dcafa6"
      },
      "execution_count": 7,
      "outputs": [
        {
          "output_type": "stream",
          "name": "stdout",
          "text": [
            "La probabilidad de que haya una separación de más de 10 minutos entre dos llamadas consecutivas es: 51.342 %.\n"
          ]
        }
      ]
    }
  ]
}