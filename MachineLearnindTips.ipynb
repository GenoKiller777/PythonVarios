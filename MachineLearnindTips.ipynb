{
  "nbformat": 4,
  "nbformat_minor": 0,
  "metadata": {
    "colab": {
      "name": "MachineLearnindTips.ipynb",
      "provenance": [],
      "collapsed_sections": []
    },
    "kernelspec": {
      "name": "python3",
      "display_name": "Python 3"
    },
    "language_info": {
      "name": "python"
    },
    "accelerator": "GPU"
  },
  "cells": [
    {
      "cell_type": "code",
      "metadata": {
        "colab": {
          "resources": {
            "http://localhost:8080/nbextensions/google.colab/files.js": {
              "data": "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",
              "ok": true,
              "headers": [
                [
                  "content-type",
                  "application/javascript"
                ]
              ],
              "status": 200,
              "status_text": ""
            }
          },
          "base_uri": "https://localhost:8080/",
          "height": 90
        },
        "id": "RH6Cz6vqp8x-",
        "outputId": "b12e8eb2-f38e-4971-b801-b0a4020a39d6"
      },
      "source": [
        "from google.colab import files\n",
        "\n",
        "uploaded = files.upload()\n",
        "\n",
        "for fn in uploaded.keys():\n",
        "  print('User uploaded file \"{name}\" with length {length} bytes'.format(\n",
        "      name=fn, length=len(uploaded[fn])))"
      ],
      "execution_count": 1,
      "outputs": [
        {
          "output_type": "display_data",
          "data": {
            "text/html": [
              "\n",
              "     <input type=\"file\" id=\"files-61c02a10-a95d-4155-ae25-d2b157a97b60\" name=\"files[]\" multiple disabled\n",
              "        style=\"border:none\" />\n",
              "     <output id=\"result-61c02a10-a95d-4155-ae25-d2b157a97b60\">\n",
              "      Upload widget is only available when the cell has been executed in the\n",
              "      current browser session. Please rerun this cell to enable.\n",
              "      </output>\n",
              "      <script src=\"/nbextensions/google.colab/files.js\"></script> "
            ],
            "text/plain": [
              "<IPython.core.display.HTML object>"
            ]
          },
          "metadata": {}
        },
        {
          "output_type": "stream",
          "name": "stdout",
          "text": [
            "Saving allyears2k.csv to allyears2k.csv\n",
            "User uploaded file \"allyears2k.csv\" with length 4624733 bytes\n"
          ]
        }
      ]
    },
    {
      "cell_type": "code",
      "metadata": {
        "id": "yNcucL7Ep-kq"
      },
      "source": [
        "import pandas as pd\n",
        "from sklearn.model_selection import train_test_split\n",
        "from sklearn import linear_model\n",
        "from sklearn.metrics import r2_score"
      ],
      "execution_count": 2,
      "outputs": []
    },
    {
      "cell_type": "code",
      "metadata": {
        "colab": {
          "base_uri": "https://localhost:8080/"
        },
        "id": "EGIN4tYaqdLs",
        "outputId": "2cb3d046-f3e5-40f6-80a4-1188be5760fb"
      },
      "source": [
        "data = pd.read_csv('allyears2k.csv', sep=',', encoding='latin-1')"
      ],
      "execution_count": 3,
      "outputs": [
        {
          "output_type": "stream",
          "name": "stderr",
          "text": [
            "/usr/local/lib/python3.7/dist-packages/IPython/core/interactiveshell.py:2718: DtypeWarning: Columns (22) have mixed types.Specify dtype option on import or set low_memory=False.\n",
            "  interactivity=interactivity, compiler=compiler, result=result)\n"
          ]
        }
      ]
    },
    {
      "cell_type": "code",
      "metadata": {
        "colab": {
          "base_uri": "https://localhost:8080/",
          "height": 802
        },
        "id": "PZx5la4frdkW",
        "outputId": "8944b16c-97e3-4457-d1aa-f93f8b884d9b"
      },
      "source": [
        "data.describe().T"
      ],
      "execution_count": 4,
      "outputs": [
        {
          "output_type": "execute_result",
          "data": {
            "text/html": [
              "<div>\n",
              "<style scoped>\n",
              "    .dataframe tbody tr th:only-of-type {\n",
              "        vertical-align: middle;\n",
              "    }\n",
              "\n",
              "    .dataframe tbody tr th {\n",
              "        vertical-align: top;\n",
              "    }\n",
              "\n",
              "    .dataframe thead th {\n",
              "        text-align: right;\n",
              "    }\n",
              "</style>\n",
              "<table border=\"1\" class=\"dataframe\">\n",
              "  <thead>\n",
              "    <tr style=\"text-align: right;\">\n",
              "      <th></th>\n",
              "      <th>count</th>\n",
              "      <th>mean</th>\n",
              "      <th>std</th>\n",
              "      <th>min</th>\n",
              "      <th>25%</th>\n",
              "      <th>50%</th>\n",
              "      <th>75%</th>\n",
              "      <th>max</th>\n",
              "    </tr>\n",
              "  </thead>\n",
              "  <tbody>\n",
              "    <tr>\n",
              "      <th>Year</th>\n",
              "      <td>43978.0</td>\n",
              "      <td>1997.500000</td>\n",
              "      <td>6.344361</td>\n",
              "      <td>1987.0</td>\n",
              "      <td>1992.0</td>\n",
              "      <td>1997.5</td>\n",
              "      <td>2003.0</td>\n",
              "      <td>2008.0</td>\n",
              "    </tr>\n",
              "    <tr>\n",
              "      <th>Month</th>\n",
              "      <td>43978.0</td>\n",
              "      <td>1.409091</td>\n",
              "      <td>1.874711</td>\n",
              "      <td>1.0</td>\n",
              "      <td>1.0</td>\n",
              "      <td>1.0</td>\n",
              "      <td>1.0</td>\n",
              "      <td>10.0</td>\n",
              "    </tr>\n",
              "    <tr>\n",
              "      <th>DayofMonth</th>\n",
              "      <td>43978.0</td>\n",
              "      <td>14.601073</td>\n",
              "      <td>9.175790</td>\n",
              "      <td>1.0</td>\n",
              "      <td>6.0</td>\n",
              "      <td>14.0</td>\n",
              "      <td>23.0</td>\n",
              "      <td>31.0</td>\n",
              "    </tr>\n",
              "    <tr>\n",
              "      <th>DayOfWeek</th>\n",
              "      <td>43978.0</td>\n",
              "      <td>3.820615</td>\n",
              "      <td>1.905013</td>\n",
              "      <td>1.0</td>\n",
              "      <td>2.0</td>\n",
              "      <td>4.0</td>\n",
              "      <td>5.0</td>\n",
              "      <td>7.0</td>\n",
              "    </tr>\n",
              "    <tr>\n",
              "      <th>DepTime</th>\n",
              "      <td>42892.0</td>\n",
              "      <td>1345.846661</td>\n",
              "      <td>465.340899</td>\n",
              "      <td>1.0</td>\n",
              "      <td>929.0</td>\n",
              "      <td>1330.0</td>\n",
              "      <td>1735.0</td>\n",
              "      <td>2400.0</td>\n",
              "    </tr>\n",
              "    <tr>\n",
              "      <th>CRSDepTime</th>\n",
              "      <td>43978.0</td>\n",
              "      <td>1313.222861</td>\n",
              "      <td>476.251140</td>\n",
              "      <td>0.0</td>\n",
              "      <td>910.0</td>\n",
              "      <td>1320.0</td>\n",
              "      <td>1720.0</td>\n",
              "      <td>2359.0</td>\n",
              "    </tr>\n",
              "    <tr>\n",
              "      <th>ArrTime</th>\n",
              "      <td>42783.0</td>\n",
              "      <td>1504.634130</td>\n",
              "      <td>484.347488</td>\n",
              "      <td>1.0</td>\n",
              "      <td>1118.0</td>\n",
              "      <td>1527.0</td>\n",
              "      <td>1917.0</td>\n",
              "      <td>2400.0</td>\n",
              "    </tr>\n",
              "    <tr>\n",
              "      <th>CRSArrTime</th>\n",
              "      <td>43978.0</td>\n",
              "      <td>1485.289167</td>\n",
              "      <td>492.750434</td>\n",
              "      <td>0.0</td>\n",
              "      <td>1109.0</td>\n",
              "      <td>1516.0</td>\n",
              "      <td>1903.0</td>\n",
              "      <td>2359.0</td>\n",
              "    </tr>\n",
              "    <tr>\n",
              "      <th>FlightNum</th>\n",
              "      <td>43978.0</td>\n",
              "      <td>818.842990</td>\n",
              "      <td>777.404369</td>\n",
              "      <td>1.0</td>\n",
              "      <td>204.0</td>\n",
              "      <td>557.0</td>\n",
              "      <td>1242.0</td>\n",
              "      <td>3949.0</td>\n",
              "    </tr>\n",
              "    <tr>\n",
              "      <th>ActualElapsedTime</th>\n",
              "      <td>42783.0</td>\n",
              "      <td>124.814529</td>\n",
              "      <td>73.974442</td>\n",
              "      <td>16.0</td>\n",
              "      <td>71.0</td>\n",
              "      <td>101.0</td>\n",
              "      <td>151.0</td>\n",
              "      <td>475.0</td>\n",
              "    </tr>\n",
              "    <tr>\n",
              "      <th>CRSElapsedTime</th>\n",
              "      <td>43965.0</td>\n",
              "      <td>125.021563</td>\n",
              "      <td>73.401595</td>\n",
              "      <td>17.0</td>\n",
              "      <td>71.0</td>\n",
              "      <td>102.0</td>\n",
              "      <td>151.0</td>\n",
              "      <td>437.0</td>\n",
              "    </tr>\n",
              "    <tr>\n",
              "      <th>AirTime</th>\n",
              "      <td>27329.0</td>\n",
              "      <td>114.316111</td>\n",
              "      <td>69.636330</td>\n",
              "      <td>14.0</td>\n",
              "      <td>61.0</td>\n",
              "      <td>91.0</td>\n",
              "      <td>140.0</td>\n",
              "      <td>402.0</td>\n",
              "    </tr>\n",
              "    <tr>\n",
              "      <th>ArrDelay</th>\n",
              "      <td>42783.0</td>\n",
              "      <td>9.317112</td>\n",
              "      <td>29.840222</td>\n",
              "      <td>-63.0</td>\n",
              "      <td>-6.0</td>\n",
              "      <td>2.0</td>\n",
              "      <td>14.0</td>\n",
              "      <td>475.0</td>\n",
              "    </tr>\n",
              "    <tr>\n",
              "      <th>DepDelay</th>\n",
              "      <td>42892.0</td>\n",
              "      <td>10.007391</td>\n",
              "      <td>26.438809</td>\n",
              "      <td>-16.0</td>\n",
              "      <td>-2.0</td>\n",
              "      <td>1.0</td>\n",
              "      <td>10.0</td>\n",
              "      <td>473.0</td>\n",
              "    </tr>\n",
              "    <tr>\n",
              "      <th>Distance</th>\n",
              "      <td>43943.0</td>\n",
              "      <td>730.182191</td>\n",
              "      <td>578.438008</td>\n",
              "      <td>11.0</td>\n",
              "      <td>326.0</td>\n",
              "      <td>541.0</td>\n",
              "      <td>920.0</td>\n",
              "      <td>3365.0</td>\n",
              "    </tr>\n",
              "    <tr>\n",
              "      <th>TaxiIn</th>\n",
              "      <td>27952.0</td>\n",
              "      <td>5.381368</td>\n",
              "      <td>4.201980</td>\n",
              "      <td>0.0</td>\n",
              "      <td>3.0</td>\n",
              "      <td>5.0</td>\n",
              "      <td>6.0</td>\n",
              "      <td>128.0</td>\n",
              "    </tr>\n",
              "    <tr>\n",
              "      <th>TaxiOut</th>\n",
              "      <td>27954.0</td>\n",
              "      <td>14.168634</td>\n",
              "      <td>9.905086</td>\n",
              "      <td>0.0</td>\n",
              "      <td>9.0</td>\n",
              "      <td>12.0</td>\n",
              "      <td>16.0</td>\n",
              "      <td>254.0</td>\n",
              "    </tr>\n",
              "    <tr>\n",
              "      <th>Cancelled</th>\n",
              "      <td>43978.0</td>\n",
              "      <td>0.024694</td>\n",
              "      <td>0.155193</td>\n",
              "      <td>0.0</td>\n",
              "      <td>0.0</td>\n",
              "      <td>0.0</td>\n",
              "      <td>0.0</td>\n",
              "      <td>1.0</td>\n",
              "    </tr>\n",
              "    <tr>\n",
              "      <th>Diverted</th>\n",
              "      <td>43978.0</td>\n",
              "      <td>0.002479</td>\n",
              "      <td>0.049723</td>\n",
              "      <td>0.0</td>\n",
              "      <td>0.0</td>\n",
              "      <td>0.0</td>\n",
              "      <td>0.0</td>\n",
              "      <td>1.0</td>\n",
              "    </tr>\n",
              "    <tr>\n",
              "      <th>CarrierDelay</th>\n",
              "      <td>8933.0</td>\n",
              "      <td>4.047800</td>\n",
              "      <td>16.205730</td>\n",
              "      <td>0.0</td>\n",
              "      <td>0.0</td>\n",
              "      <td>0.0</td>\n",
              "      <td>0.0</td>\n",
              "      <td>369.0</td>\n",
              "    </tr>\n",
              "    <tr>\n",
              "      <th>WeatherDelay</th>\n",
              "      <td>8933.0</td>\n",
              "      <td>0.289376</td>\n",
              "      <td>4.416780</td>\n",
              "      <td>0.0</td>\n",
              "      <td>0.0</td>\n",
              "      <td>0.0</td>\n",
              "      <td>0.0</td>\n",
              "      <td>201.0</td>\n",
              "    </tr>\n",
              "    <tr>\n",
              "      <th>NASDelay</th>\n",
              "      <td>8933.0</td>\n",
              "      <td>4.855032</td>\n",
              "      <td>18.619776</td>\n",
              "      <td>0.0</td>\n",
              "      <td>0.0</td>\n",
              "      <td>0.0</td>\n",
              "      <td>0.0</td>\n",
              "      <td>323.0</td>\n",
              "    </tr>\n",
              "    <tr>\n",
              "      <th>SecurityDelay</th>\n",
              "      <td>8933.0</td>\n",
              "      <td>0.017016</td>\n",
              "      <td>0.403940</td>\n",
              "      <td>0.0</td>\n",
              "      <td>0.0</td>\n",
              "      <td>0.0</td>\n",
              "      <td>0.0</td>\n",
              "      <td>14.0</td>\n",
              "    </tr>\n",
              "    <tr>\n",
              "      <th>LateAircraftDelay</th>\n",
              "      <td>8933.0</td>\n",
              "      <td>7.620060</td>\n",
              "      <td>23.487566</td>\n",
              "      <td>0.0</td>\n",
              "      <td>0.0</td>\n",
              "      <td>0.0</td>\n",
              "      <td>0.0</td>\n",
              "      <td>373.0</td>\n",
              "    </tr>\n",
              "  </tbody>\n",
              "</table>\n",
              "</div>"
            ],
            "text/plain": [
              "                     count         mean         std  ...     50%     75%     max\n",
              "Year               43978.0  1997.500000    6.344361  ...  1997.5  2003.0  2008.0\n",
              "Month              43978.0     1.409091    1.874711  ...     1.0     1.0    10.0\n",
              "DayofMonth         43978.0    14.601073    9.175790  ...    14.0    23.0    31.0\n",
              "DayOfWeek          43978.0     3.820615    1.905013  ...     4.0     5.0     7.0\n",
              "DepTime            42892.0  1345.846661  465.340899  ...  1330.0  1735.0  2400.0\n",
              "CRSDepTime         43978.0  1313.222861  476.251140  ...  1320.0  1720.0  2359.0\n",
              "ArrTime            42783.0  1504.634130  484.347488  ...  1527.0  1917.0  2400.0\n",
              "CRSArrTime         43978.0  1485.289167  492.750434  ...  1516.0  1903.0  2359.0\n",
              "FlightNum          43978.0   818.842990  777.404369  ...   557.0  1242.0  3949.0\n",
              "ActualElapsedTime  42783.0   124.814529   73.974442  ...   101.0   151.0   475.0\n",
              "CRSElapsedTime     43965.0   125.021563   73.401595  ...   102.0   151.0   437.0\n",
              "AirTime            27329.0   114.316111   69.636330  ...    91.0   140.0   402.0\n",
              "ArrDelay           42783.0     9.317112   29.840222  ...     2.0    14.0   475.0\n",
              "DepDelay           42892.0    10.007391   26.438809  ...     1.0    10.0   473.0\n",
              "Distance           43943.0   730.182191  578.438008  ...   541.0   920.0  3365.0\n",
              "TaxiIn             27952.0     5.381368    4.201980  ...     5.0     6.0   128.0\n",
              "TaxiOut            27954.0    14.168634    9.905086  ...    12.0    16.0   254.0\n",
              "Cancelled          43978.0     0.024694    0.155193  ...     0.0     0.0     1.0\n",
              "Diverted           43978.0     0.002479    0.049723  ...     0.0     0.0     1.0\n",
              "CarrierDelay        8933.0     4.047800   16.205730  ...     0.0     0.0   369.0\n",
              "WeatherDelay        8933.0     0.289376    4.416780  ...     0.0     0.0   201.0\n",
              "NASDelay            8933.0     4.855032   18.619776  ...     0.0     0.0   323.0\n",
              "SecurityDelay       8933.0     0.017016    0.403940  ...     0.0     0.0    14.0\n",
              "LateAircraftDelay   8933.0     7.620060   23.487566  ...     0.0     0.0   373.0\n",
              "\n",
              "[24 rows x 8 columns]"
            ]
          },
          "metadata": {},
          "execution_count": 4
        }
      ]
    },
    {
      "cell_type": "code",
      "metadata": {
        "id": "Vidwg6ljrkeN"
      },
      "source": [
        "df = data.dropna(subset= ['ArrDelay','AirTime','Distance','DepDelay'])\n",
        "df = df.sample(frac = 1).head(5000)\n",
        "\n",
        "X = df[['AirTime','Distance','DepDelay']]\n",
        "Y = df[['ArrDelay']]"
      ],
      "execution_count": 5,
      "outputs": []
    },
    {
      "cell_type": "markdown",
      "metadata": {
        "id": "0dDL04Ui9DUz"
      },
      "source": [
        "## Validación Interna & Externa\n"
      ]
    },
    {
      "cell_type": "code",
      "metadata": {
        "colab": {
          "base_uri": "https://localhost:8080/"
        },
        "id": "TMi3JyrutAiT",
        "outputId": "ca331320-5130-4cdf-b043-3c7430b12a33"
      },
      "source": [
        "regrINTERNA = linear_model.LinearRegression()\n",
        "regrINTERNA.fit(X, Y)\n",
        "prediccionesINTERNA = regrINTERNA.predict(X)\n",
        "print('R2 Interna: ', r2_score(Y, prediccionesINTERNA))"
      ],
      "execution_count": 53,
      "outputs": [
        {
          "output_type": "stream",
          "name": "stdout",
          "text": [
            "R2:  0.8620351201633536\n"
          ]
        }
      ]
    },
    {
      "cell_type": "markdown",
      "metadata": {
        "id": "o_m7lLOHJ4Xi"
      },
      "source": [
        "##Validacion Externa Simple"
      ]
    },
    {
      "cell_type": "code",
      "metadata": {
        "id": "y2cuYr313KEg"
      },
      "source": [
        "X_train, X_test, y_train, y_test = train_test_split(X,Y, test_size = .2, random_state = 10)"
      ],
      "execution_count": 52,
      "outputs": []
    },
    {
      "cell_type": "code",
      "metadata": {
        "colab": {
          "base_uri": "https://localhost:8080/"
        },
        "id": "Qc4T4ebo4Oji",
        "outputId": "d689bd65-f330-403d-9897-31b18350f462"
      },
      "source": [
        "regrEXTERNA = linear_model.LinearRegression()\n",
        "regrEXTERNA.fit(X_train, y_train)\n",
        "prediccionesEXTERNA = regrEXTERNA.predict(X_test)\n",
        "print('R2 Externa: ', r2_score(y_test, prediccionesEXTERNA))"
      ],
      "execution_count": 55,
      "outputs": [
        {
          "output_type": "stream",
          "name": "stdout",
          "text": [
            "R2 Externa:  0.8671223659812534\n"
          ]
        }
      ]
    },
    {
      "cell_type": "markdown",
      "metadata": {
        "id": "3Elj2B0b8hvw"
      },
      "source": [
        "### K-Folds Validación Cruzada Externa"
      ]
    },
    {
      "cell_type": "code",
      "metadata": {
        "id": "8AvVrZP46Cwx"
      },
      "source": [
        "df_2 = data.dropna(subset= ['ArrDelay','AirTime','Distance','DepDelay'])\n",
        "df_2 = df_2.sample(frac = 1).head(5000)\n",
        "\n",
        "df_2 = df_2.reset_index()\n",
        "\n",
        "X_2 = df_2[['AirTime','Distance','DepDelay']]\n",
        "Y_2 = df_2[['ArrDelay']]"
      ],
      "execution_count": 56,
      "outputs": []
    },
    {
      "cell_type": "code",
      "metadata": {
        "colab": {
          "base_uri": "https://localhost:8080/"
        },
        "id": "yDaCntsI6Cd_",
        "outputId": "e810d33b-348d-4078-865f-e159ebaac57e"
      },
      "source": [
        "from sklearn.model_selection import KFold\n",
        "\n",
        "kf = KFold(n_splits = 10, shuffle = True)\n",
        "kf.get_n_splits(X_2)"
      ],
      "execution_count": 60,
      "outputs": [
        {
          "output_type": "execute_result",
          "data": {
            "text/plain": [
              "10"
            ]
          },
          "metadata": {},
          "execution_count": 60
        }
      ]
    },
    {
      "cell_type": "code",
      "metadata": {
        "colab": {
          "base_uri": "https://localhost:8080/"
        },
        "id": "WWO-iHVptV2z",
        "outputId": "976e8e77-8d2a-4840-a798-d49e213a3df8"
      },
      "source": [
        "regr = linear_model.LinearRegression()\n",
        "\n",
        "resultados = []\n",
        "\n",
        "for train_index, test_index in kf.split(X_2):\n",
        "  X_train, X_test = X_2.loc[train_index,], X_2.loc[test_index,]\n",
        "  y_train, y_test = Y_2.loc[train_index], Y_2.loc[test_index]\n",
        "  regr.fit(X_train, y_train)\n",
        "  predicciones = regr.predict(X_test)\n",
        "  print('R2: ', r2_score(y_test, predicciones))\n",
        "  resultados.append(r2_score(y_test, predicciones))\n",
        "\n",
        "print('R2 medio: ', np.mean(resultados))"
      ],
      "execution_count": 62,
      "outputs": [
        {
          "output_type": "stream",
          "name": "stdout",
          "text": [
            "R2:  0.8908364339177757\n",
            "R2:  0.8816455105465072\n",
            "R2:  0.8563968047009418\n",
            "R2:  0.9045737088507504\n",
            "R2:  0.8816014187349712\n",
            "R2:  0.8298970972301887\n",
            "R2:  0.8995024106642612\n",
            "R2:  0.7686530002286598\n",
            "R2:  0.8910257315450462\n",
            "R2:  0.8816111705256288\n",
            "R2 medio:  0.8685743286944732\n"
          ]
        }
      ]
    },
    {
      "cell_type": "markdown",
      "metadata": {
        "id": "Zb1K7o0cJYxt"
      },
      "source": [
        "###Leave One Out"
      ]
    },
    {
      "cell_type": "code",
      "metadata": {
        "id": "M1lWTeCxJh-y"
      },
      "source": [
        "from sklearn.model_selection import LeaveOneOut\n",
        "import numpy as np"
      ],
      "execution_count": 69,
      "outputs": []
    },
    {
      "cell_type": "code",
      "metadata": {
        "id": "YKLD60_KKukE"
      },
      "source": [
        "df_3 = data.dropna(subset= ['ArrDelay','AirTime','Distance','DepDelay'])\n",
        "df_3 = df_3.sample(frac = 1).head(5000)\n",
        "\n",
        "df_3 = df_3.reset_index()\n",
        "\n",
        "X_3 = df_3[['AirTime','Distance','DepDelay']]\n",
        "Y_3 = df_3[['ArrDelay']]"
      ],
      "execution_count": 81,
      "outputs": []
    },
    {
      "cell_type": "code",
      "metadata": {
        "id": "EDh6QwAhKzqi"
      },
      "source": [
        "loo = LeaveOneOut()"
      ],
      "execution_count": 82,
      "outputs": []
    },
    {
      "cell_type": "code",
      "metadata": {
        "id": "zsLyf1MkK94V"
      },
      "source": [
        "for train_index, test_index in loo.split(X_3):\n",
        "  X_train, X_test = X_3.loc[train_index,], X_3.loc[test_index,]\n",
        "  y_train, y_test = Y_3.loc[train_index], Y_3.loc[test_index]\n",
        "  regr.fit(X_train, y_train)\n",
        "  predicciones = regr.predict(X_test)\n",
        "  print('Error: ', (y_test - predicciones[0])**2)"
      ],
      "execution_count": null,
      "outputs": []
    },
    {
      "cell_type": "markdown",
      "metadata": {
        "id": "jaad3xWjS8mx"
      },
      "source": [
        "##Neuronal Netwoork"
      ]
    },
    {
      "cell_type": "code",
      "metadata": {
        "id": "EYSGeZc2QQux"
      },
      "source": [
        "from sklearn.neural_network import MLPClassifier\n",
        "from sklearn.neural_network import MLPRegressor\n",
        "from sklearn.preprocessing import StandardScaler\n",
        "\n",
        "from sklearn.model_selection import train_test_split\n",
        "from sklearn.metrics import r2_score\n",
        "import pandas as pd"
      ],
      "execution_count": 85,
      "outputs": []
    },
    {
      "cell_type": "code",
      "metadata": {
        "id": "6Us8Dh1rT6YC"
      },
      "source": [
        "df_4 = data.dropna(subset= ['ArrDelay','AirTime','Distance','DepDelay','TaxiIn','TaxiOut'])\n",
        "df_4 = df_4.sample(frac = 1).head(1000)\n",
        "\n",
        "X_4 = df_4[['AirTime','Distance','DepDelay','TaxiIn','TaxiOut']]\n",
        "Y_4 = df_4[['ArrDelay']]"
      ],
      "execution_count": 102,
      "outputs": []
    },
    {
      "cell_type": "code",
      "metadata": {
        "id": "TnmlFAGsUhaP"
      },
      "source": [
        "X_train, X_test, y_train, y_test = train_test_split(X_4, Y_4, test_size = .2, random_state = 1)"
      ],
      "execution_count": 137,
      "outputs": []
    },
    {
      "cell_type": "code",
      "metadata": {
        "id": "4BGx1iAJUteq"
      },
      "source": [
        "scaler = StandardScaler()\n",
        "scaler.fit(X_train)\n",
        "\n",
        "X_train = scaler.transform(X_train)\n",
        "X_test = scaler.transform(X_test)"
      ],
      "execution_count": 143,
      "outputs": []
    },
    {
      "cell_type": "code",
      "metadata": {
        "colab": {
          "base_uri": "https://localhost:8080/"
        },
        "id": "ClbFNIrEU-3Y",
        "outputId": "f76929a6-051a-466a-ae61-0844445c7b96"
      },
      "source": [
        "clf = MLPRegressor(solver = 'lbfgs', alpha = 1e-5, hidden_layer_sizes = (500, ), activation = 'relu', max_iter = 1000000)  #warn = True para guardar el ultimo minimo global\n",
        "\n",
        "model = clf.fit(X_train, y_train)\n",
        "\n",
        "predictions = model.predict(X_test)\n",
        "print('R Cuadrado: ', r2_score(y_test, predictions))"
      ],
      "execution_count": 157,
      "outputs": [
        {
          "output_type": "stream",
          "name": "stderr",
          "text": [
            "/usr/local/lib/python3.7/dist-packages/sklearn/neural_network/_multilayer_perceptron.py:1342: DataConversionWarning: A column-vector y was passed when a 1d array was expected. Please change the shape of y to (n_samples, ), for example using ravel().\n",
            "  y = column_or_1d(y, warn=True)\n"
          ]
        },
        {
          "output_type": "stream",
          "name": "stdout",
          "text": [
            "R Cuadrado:  0.5955966289570438\n"
          ]
        },
        {
          "output_type": "stream",
          "name": "stderr",
          "text": [
            "/usr/local/lib/python3.7/dist-packages/sklearn/neural_network/_multilayer_perceptron.py:470: ConvergenceWarning: lbfgs failed to converge (status=1):\n",
            "STOP: TOTAL NO. of f AND g EVALUATIONS EXCEEDS LIMIT.\n",
            "\n",
            "Increase the number of iterations (max_iter) or scale the data as shown in:\n",
            "    https://scikit-learn.org/stable/modules/preprocessing.html\n",
            "  self.n_iter_ = _check_optimize_result(\"lbfgs\", opt_res, self.max_iter)\n"
          ]
        }
      ]
    },
    {
      "cell_type": "markdown",
      "metadata": {
        "id": "6veU3HBBlhVv"
      },
      "source": [
        "###XGBooster"
      ]
    },
    {
      "cell_type": "code",
      "metadata": {
        "id": "M51w7HzeljpJ"
      },
      "source": [
        "from xgboost import XGBRegressor\n",
        "from sklearn.preprocessing import StandardScaler\n",
        "\n",
        "from sklearn.model_selection import train_test_split\n",
        "from sklearn.metrics import r2_score\n",
        "import pandas as pd"
      ],
      "execution_count": 158,
      "outputs": []
    },
    {
      "cell_type": "code",
      "metadata": {
        "id": "DyZT7J5HmS7x"
      },
      "source": [
        "df_5 = data.dropna(subset= ['ArrDelay','AirTime','Distance','DepDelay','TaxiIn','TaxiOut'])\n",
        "df_5 = df_5.sample(frac = 1).head(10000)\n",
        "\n",
        "X_5 = df_5[['AirTime','Distance','DepDelay','TaxiIn','TaxiOut']]\n",
        "Y_5 = df_5[['ArrDelay']]"
      ],
      "execution_count": 160,
      "outputs": []
    },
    {
      "cell_type": "code",
      "metadata": {
        "id": "pMZkfE7JnW0G"
      },
      "source": [
        "X_train, X_test, y_train, y_test = train_test_split(X_5, Y_5, test_size = .2, random_state = 1)"
      ],
      "execution_count": 161,
      "outputs": []
    },
    {
      "cell_type": "code",
      "metadata": {
        "id": "1Ug3CURine-a"
      },
      "source": [
        "scaler = StandardScaler()\n",
        "scaler.fit(X_train)\n",
        "\n",
        "X_train = scaler.transform(X_train)\n",
        "X_test = scaler.transform(X_test)"
      ],
      "execution_count": 162,
      "outputs": []
    },
    {
      "cell_type": "code",
      "metadata": {
        "id": "cS_4F_J5nhCH"
      },
      "source": [
        "model = XGBRegressor(n_jobs = -1, \n",
        "                     learning_rate = .5,\n",
        "                     max_depth = 2,\n",
        "                     colsample_bytree = 1,\n",
        "                     verbosity = 2,\n",
        "                     subsample = 1,\n",
        "                     n_estimators = 500)\n",
        "\n",
        "model.fit(X_train, y_train)"
      ],
      "execution_count": null,
      "outputs": []
    },
    {
      "cell_type": "code",
      "metadata": {
        "colab": {
          "base_uri": "https://localhost:8080/"
        },
        "id": "5orytQrfoix4",
        "outputId": "917bedf5-87ac-4d98-8bdf-1cbbe84c37a3"
      },
      "source": [
        "predictions = model.predict(X_test)\n",
        "print('R cuadrado: ', r2_score(y_test, predictions))"
      ],
      "execution_count": 165,
      "outputs": [
        {
          "output_type": "stream",
          "name": "stdout",
          "text": [
            "R cuadrado:  0.9427451164181492\n"
          ]
        }
      ]
    },
    {
      "cell_type": "markdown",
      "metadata": {
        "id": "rt5kjqOIxeGe"
      },
      "source": [
        "##Seleccionar variables en machine learning"
      ]
    },
    {
      "cell_type": "code",
      "metadata": {
        "colab": {
          "base_uri": "https://localhost:8080/"
        },
        "id": "RkAQqc2Exdg6",
        "outputId": "c18b7eea-2d1f-4f74-a3af-32b8510b9c3e"
      },
      "source": [
        "from sklearn import linear_model\n",
        "import statsmodels.api as sm\n",
        "import pandas as pd"
      ],
      "execution_count": 166,
      "outputs": [
        {
          "output_type": "stream",
          "name": "stderr",
          "text": [
            "/usr/local/lib/python3.7/dist-packages/statsmodels/tools/_testing.py:19: FutureWarning: pandas.util.testing is deprecated. Use the functions in the public API at pandas.testing instead.\n",
            "  import pandas.util.testing as tm\n"
          ]
        }
      ]
    },
    {
      "cell_type": "code",
      "metadata": {
        "id": "9vL4dzi3yfpz"
      },
      "source": [
        "df_5 = data.dropna(subset= ['AirTime','Distance','DepDelay','TaxiIn','TaxiOut','DayofMonth','Month','DepTime','WeatherDelay','ArrDelay'])\n",
        "df_5 = df_5.sample(frac = 1).head(1000)"
      ],
      "execution_count": 168,
      "outputs": []
    },
    {
      "cell_type": "code",
      "metadata": {
        "id": "FhTWWs0wyplv"
      },
      "source": [
        "X_5 = df_5[['AirTime','Distance','DepDelay','TaxiIn','TaxiOut','DayofMonth','Month','DepTime','WeatherDelay']]\n",
        "Y_5 = df_5[['ArrDelay']]"
      ],
      "execution_count": 169,
      "outputs": []
    },
    {
      "cell_type": "code",
      "metadata": {
        "id": "jMzxDBpJzbs8"
      },
      "source": [
        "regr = linear_model.LinearRegression()\n",
        "regr.fit(X_5, Y_5)\n",
        "predicciones = regr.predict(X_5)"
      ],
      "execution_count": 171,
      "outputs": []
    },
    {
      "cell_type": "code",
      "metadata": {
        "colab": {
          "base_uri": "https://localhost:8080/"
        },
        "id": "N16s-lGuz4Fc",
        "outputId": "9480c7d1-e1ce-4ccd-befb-f97c13ea2e34"
      },
      "source": [
        "X2 = sm.add_constant(X_5)\n",
        "est = sm.OLS(Y_5, X2)\n",
        "est2 = est.fit()\n",
        "print(est2.summary())"
      ],
      "execution_count": 173,
      "outputs": [
        {
          "output_type": "stream",
          "name": "stdout",
          "text": [
            "                            OLS Regression Results                            \n",
            "==============================================================================\n",
            "Dep. Variable:               ArrDelay   R-squared:                       0.945\n",
            "Model:                            OLS   Adj. R-squared:                  0.945\n",
            "Method:                 Least Squares   F-statistic:                     2131.\n",
            "Date:                Thu, 07 Oct 2021   Prob (F-statistic):               0.00\n",
            "Time:                        17:33:44   Log-Likelihood:                -3637.8\n",
            "No. Observations:                1000   AIC:                             7294.\n",
            "Df Residuals:                     991   BIC:                             7338.\n",
            "Df Model:                           8                                         \n",
            "Covariance Type:            nonrobust                                         \n",
            "================================================================================\n",
            "                   coef    std err          t      P>|t|      [0.025      0.975]\n",
            "--------------------------------------------------------------------------------\n",
            "AirTime          0.3721      0.021     17.495      0.000       0.330       0.414\n",
            "Distance        -0.0480      0.003    -18.575      0.000      -0.053      -0.043\n",
            "DepDelay         1.0070      0.009    112.259      0.000       0.989       1.025\n",
            "TaxiIn           0.7307      0.068     10.679      0.000       0.596       0.865\n",
            "TaxiOut          0.9417      0.028     33.223      0.000       0.886       0.997\n",
            "DayofMonth      -0.1255      0.037     -3.351      0.001      -0.199      -0.052\n",
            "Month          -21.6520      1.223    -17.710      0.000     -24.051     -19.253\n",
            "DepTime         -0.0004      0.001     -0.601      0.548      -0.002       0.001\n",
            "WeatherDelay    -0.0321      0.068     -0.474      0.635      -0.165       0.101\n",
            "==============================================================================\n",
            "Omnibus:                       79.122   Durbin-Watson:                   2.046\n",
            "Prob(Omnibus):                  0.000   Jarque-Bera (JB):              401.017\n",
            "Skew:                           0.084   Prob(JB):                     8.32e-88\n",
            "Kurtosis:                       6.098   Cond. No.                     6.92e+03\n",
            "==============================================================================\n",
            "\n",
            "Warnings:\n",
            "[1] Standard Errors assume that the covariance matrix of the errors is correctly specified.\n",
            "[2] The condition number is large, 6.92e+03. This might indicate that there are\n",
            "strong multicollinearity or other numerical problems.\n"
          ]
        }
      ]
    },
    {
      "cell_type": "markdown",
      "metadata": {
        "id": "Mrp_7l8MCFEI"
      },
      "source": [
        "### Seleccionar variables de modo automatico"
      ]
    },
    {
      "cell_type": "code",
      "metadata": {
        "id": "-dCJoyQoCJMQ"
      },
      "source": [
        "from sklearn.feature_selection import RFE\n",
        "from sklearn import linear_model\n",
        "import pandas as pd"
      ],
      "execution_count": 191,
      "outputs": []
    },
    {
      "cell_type": "code",
      "metadata": {
        "id": "eVHqz-MCIwWK"
      },
      "source": [
        "data.describe().T"
      ],
      "execution_count": null,
      "outputs": []
    },
    {
      "cell_type": "code",
      "metadata": {
        "id": "uyg0Hlq3CY-g"
      },
      "source": [
        "df_6 = data.dropna(subset= ['AirTime','Distance','TaxiIn','TaxiOut','DayOfWeek','DayofMonth','Month','DepDelay','WeatherDelay'])\n",
        "df_6 = df_6.sample(frac = 1).head(10000)\n",
        "\n",
        "X_6 = df_6[['AirTime','Distance','TaxiIn','TaxiOut','DayOfWeek','DayofMonth','Month','DepDelay','WeatherDelay']]\n",
        "Y_6 = df_6[['ArrDelay']]\n",
        "\n",
        "regr = linear_model.LinearRegression()"
      ],
      "execution_count": 208,
      "outputs": []
    },
    {
      "cell_type": "code",
      "metadata": {
        "colab": {
          "base_uri": "https://localhost:8080/"
        },
        "id": "pC1XU_XoDuK4",
        "outputId": "6875e9af-30cd-448f-e402-80fc8aaec21d"
      },
      "source": [
        "selector = RFE(estimator = regr, n_features_to_select = 1)\n",
        "selector.fit(X_6, Y_6)"
      ],
      "execution_count": 212,
      "outputs": [
        {
          "output_type": "stream",
          "name": "stderr",
          "text": [
            "/usr/local/lib/python3.7/dist-packages/sklearn/utils/validation.py:760: DataConversionWarning: A column-vector y was passed when a 1d array was expected. Please change the shape of y to (n_samples, ), for example using ravel().\n",
            "  y = column_or_1d(y, warn=True)\n"
          ]
        },
        {
          "output_type": "execute_result",
          "data": {
            "text/plain": [
              "RFE(estimator=LinearRegression(copy_X=True, fit_intercept=True, n_jobs=None,\n",
              "                               normalize=False),\n",
              "    n_features_to_select=1, step=1, verbose=0)"
            ]
          },
          "metadata": {},
          "execution_count": 212
        }
      ]
    },
    {
      "cell_type": "code",
      "metadata": {
        "colab": {
          "base_uri": "https://localhost:8080/"
        },
        "id": "b05Xx_gsGmzX",
        "outputId": "819826d9-1620-4374-b6a2-67b1d73b4ddc"
      },
      "source": [
        "print(selector.ranking_)   #Reducir la dimensionalidad de una base de datos"
      ],
      "execution_count": 213,
      "outputs": [
        {
          "output_type": "stream",
          "name": "stdout",
          "text": [
            "[6 7 3 2 8 4 9 1 5]\n"
          ]
        }
      ]
    },
    {
      "cell_type": "code",
      "metadata": {
        "colab": {
          "base_uri": "https://localhost:8080/"
        },
        "id": "VSeNuxiwJcSY",
        "outputId": "5476d2d5-cd3b-45f7-e4c1-8d019fd64849"
      },
      "source": [
        "X_6.columns[selector.support_]"
      ],
      "execution_count": 214,
      "outputs": [
        {
          "output_type": "execute_result",
          "data": {
            "text/plain": [
              "Index(['DepDelay'], dtype='object')"
            ]
          },
          "metadata": {},
          "execution_count": 214
        }
      ]
    },
    {
      "cell_type": "markdown",
      "metadata": {
        "id": "wmOkT_qrKI2y"
      },
      "source": [
        "###Selección de parametros de Machine Learning"
      ]
    },
    {
      "cell_type": "code",
      "metadata": {
        "id": "avVzfD8DKQDA"
      },
      "source": [
        "from sklearn.preprocessing import StandardScaler\n",
        "from sklearn.neural_network import MLPRegressor\n",
        "from sklearn.model_selection import train_test_split\n",
        "from sklearn.metrics import r2_score\n",
        "import pandas as pd"
      ],
      "execution_count": 215,
      "outputs": []
    },
    {
      "cell_type": "code",
      "metadata": {
        "id": "WbWOxE2qNKI-"
      },
      "source": [
        "df_7 = data.dropna(subset= ['AirTime','Distance','TaxiIn','TaxiOut','DepDelay'])\n",
        "df_7 = df_7.sample(frac = 1).head(10000)\n",
        "X_7= df_7[['AirTime','Distance','TaxiIn','TaxiOut','DepDelay']]\n",
        "Y_7 = df_7[['ArrDelay']]"
      ],
      "execution_count": 216,
      "outputs": []
    },
    {
      "cell_type": "code",
      "metadata": {
        "id": "x0wh6LQnNkts"
      },
      "source": [
        "X_train, X_test, y_train, y_test = train_test_split(X_7, Y_7, test_size = .2, random_state = 1)"
      ],
      "execution_count": 217,
      "outputs": []
    },
    {
      "cell_type": "code",
      "metadata": {
        "colab": {
          "base_uri": "https://localhost:8080/"
        },
        "id": "cL0wkL2TNqnw",
        "outputId": "77b11346-d74d-47b0-a944-73b1688824b6"
      },
      "source": [
        "scaler = StandardScaler()\n",
        "scaler.fit(X_train)"
      ],
      "execution_count": 218,
      "outputs": [
        {
          "output_type": "execute_result",
          "data": {
            "text/plain": [
              "StandardScaler(copy=True, with_mean=True, with_std=True)"
            ]
          },
          "metadata": {},
          "execution_count": 218
        }
      ]
    },
    {
      "cell_type": "code",
      "metadata": {
        "id": "gBZPkUITNwpX"
      },
      "source": [
        "X_train = scaler.transform(X_train)\n",
        "X_test = scaler.transform(X_test)"
      ],
      "execution_count": 219,
      "outputs": []
    },
    {
      "cell_type": "code",
      "metadata": {
        "id": "-ASnAeyoN2xp"
      },
      "source": [
        "alphas = [0.000001, 0.0001, 0.01, 0.1]\n",
        "layers = [5, 10, 50, 100]\n",
        "solvers = ['lbfgs', 'adam']"
      ],
      "execution_count": 221,
      "outputs": []
    },
    {
      "cell_type": "code",
      "metadata": {
        "id": "YSwUEKdDN1P4"
      },
      "source": [
        "print(len(alphas) * len(layers) * len(solvers))"
      ],
      "execution_count": null,
      "outputs": []
    },
    {
      "cell_type": "code",
      "metadata": {
        "id": "5GD2DuY8Ok75"
      },
      "source": [
        "for alpha in alphas:\n",
        "  for layer in layers:\n",
        "    for solver in solvers:\n",
        "      clf = MLPRegressor(solver = solver,\n",
        "                         alpha = alpha,\n",
        "                         hidden_layer_sizes = (layer,),\n",
        "                         warm_start = True,\n",
        "                         max_iter = 10000)\n",
        "      model = clf.fit(X_train,y_train)\n",
        "      predictions = model.predict(X_test)\n",
        "      print('R Cuadrado: ', r2_score(y_test, predictions), '  Solver: ', solver, '  Layers: ', layer, ' Alpha: ', alpha)\n",
        "      #Groupby"
      ],
      "execution_count": null,
      "outputs": []
    },
    {
      "cell_type": "markdown",
      "metadata": {
        "id": "1JK4ZXhohaAv"
      },
      "source": [
        "##Seleccion Automatica de Parametros de Machine Learning"
      ]
    },
    {
      "cell_type": "code",
      "metadata": {
        "id": "uunnV5FshZPL"
      },
      "source": [
        "from sklearn.model_selection import GridSearchCV\n",
        "from sklearn.preprocessing import StandardScaler\n",
        "from sklearn.neural_network import MLPRegressor\n",
        "from sklearn.model_selection import train_test_split\n",
        "from sklearn.metrics import r2_score\n",
        "import pandas as pd"
      ],
      "execution_count": 6,
      "outputs": []
    },
    {
      "cell_type": "code",
      "metadata": {
        "id": "N0anA9qXihKd"
      },
      "source": [
        "df_8 = data.dropna(subset= ['AirTime','Distance','TaxiIn','TaxiOut','DepDelay'])\n",
        "df_8 = df_8.sample(frac = 1).head(10000)\n",
        "X_8= df_8[['AirTime','Distance','TaxiIn','TaxiOut','DepDelay']]\n",
        "Y_8 = df_8[['ArrDelay']]"
      ],
      "execution_count": 7,
      "outputs": []
    },
    {
      "cell_type": "code",
      "metadata": {
        "id": "wpdAveezig3O"
      },
      "source": [
        "X_train, X_test, y_train, y_test = train_test_split(X_8, Y_8, test_size = .2, random_state = 1)"
      ],
      "execution_count": 8,
      "outputs": []
    },
    {
      "cell_type": "code",
      "metadata": {
        "colab": {
          "base_uri": "https://localhost:8080/"
        },
        "id": "ssZFOCEtjmTP",
        "outputId": "652c35a9-daa0-4627-b350-f2bb6cbe92bf"
      },
      "source": [
        "scaler = StandardScaler()\n",
        "scaler.fit(X_train)"
      ],
      "execution_count": 9,
      "outputs": [
        {
          "output_type": "execute_result",
          "data": {
            "text/plain": [
              "StandardScaler(copy=True, with_mean=True, with_std=True)"
            ]
          },
          "metadata": {},
          "execution_count": 9
        }
      ]
    },
    {
      "cell_type": "code",
      "metadata": {
        "id": "_YQc0VO6jm0g"
      },
      "source": [
        "X_train = scaler.transform(X_train)\n",
        "X_test = scaler.transform(X_test)"
      ],
      "execution_count": 10,
      "outputs": []
    },
    {
      "cell_type": "code",
      "metadata": {
        "colab": {
          "base_uri": "https://localhost:8080/"
        },
        "id": "exFsr7bij0xJ",
        "outputId": "89dc75eb-b0ae-413a-8fa5-b3fc95739e5b"
      },
      "source": [
        "parametros = {'alpha' : [0.0001, 0.01, 0.00001],\n",
        "              'solver':('lbfgs','adam'),\n",
        "              'learning_rate':('constant','adaptive')}\n",
        "\n",
        "nn = MLPRegressor(warm_start = True,\n",
        "                  max_iter = 100000)\n",
        "clf = GridSearchCV(nn, parametros, cv = 5, n_jobs = -1)\n",
        "clf.fit(X_8,Y_8)"
      ],
      "execution_count": 256,
      "outputs": [
        {
          "output_type": "stream",
          "name": "stderr",
          "text": [
            "/usr/local/lib/python3.7/dist-packages/sklearn/neural_network/_multilayer_perceptron.py:1342: DataConversionWarning: A column-vector y was passed when a 1d array was expected. Please change the shape of y to (n_samples, ), for example using ravel().\n",
            "  y = column_or_1d(y, warn=True)\n"
          ]
        },
        {
          "output_type": "execute_result",
          "data": {
            "text/plain": [
              "GridSearchCV(cv=5, error_score=nan,\n",
              "             estimator=MLPRegressor(activation='relu', alpha=0.0001,\n",
              "                                    batch_size='auto', beta_1=0.9, beta_2=0.999,\n",
              "                                    early_stopping=False, epsilon=1e-08,\n",
              "                                    hidden_layer_sizes=(100,),\n",
              "                                    learning_rate='constant',\n",
              "                                    learning_rate_init=0.001, max_fun=15000,\n",
              "                                    max_iter=100000, momentum=0.9,\n",
              "                                    n_iter_no_change=10,\n",
              "                                    nesterovs_momentum=True, power_t=0.5,\n",
              "                                    random_state=None, shuffle=True,\n",
              "                                    solver='adam', tol=0.0001,\n",
              "                                    validation_fraction=0.1, verbose=False,\n",
              "                                    warm_start=True),\n",
              "             iid='deprecated', n_jobs=-1,\n",
              "             param_grid={'alpha': [0.0001, 0.01, 1e-05],\n",
              "                         'learning_rate': ('constant', 'adaptive'),\n",
              "                         'solver': ('lbfgs', 'adam')},\n",
              "             pre_dispatch='2*n_jobs', refit=True, return_train_score=False,\n",
              "             scoring=None, verbose=0)"
            ]
          },
          "metadata": {},
          "execution_count": 256
        }
      ]
    },
    {
      "cell_type": "code",
      "metadata": {
        "colab": {
          "base_uri": "https://localhost:8080/"
        },
        "id": "2QfLn0wDzXZv",
        "outputId": "7ddc3d70-6389-4e91-e25d-34543060bf69"
      },
      "source": [
        "print(clf.best_params_)"
      ],
      "execution_count": 15,
      "outputs": [
        {
          "output_type": "stream",
          "name": "stdout",
          "text": [
            "{'alpha': 1e-05, 'learning_rate': 'adaptive', 'solver': 'adam'}\n"
          ]
        }
      ]
    },
    {
      "cell_type": "code",
      "metadata": {
        "colab": {
          "base_uri": "https://localhost:8080/"
        },
        "id": "RnPAIJW88wCa",
        "outputId": "4236b78d-e3cf-432c-fd0e-eddc20dc0bff"
      },
      "source": [
        "parametros = {'alpha' : [0.0001, 0.01, 0.00001],\n",
        "              'solver':('lbfgs','adam'),\n",
        "              'learning_rate':('constant','adaptive')}\n",
        "\n",
        "nn = MLPRegressor(warm_start = True,\n",
        "                  max_iter = 100000,\n",
        "                  hidden_layer_sizes=(50,))\n",
        "clf = GridSearchCV(nn, parametros, cv = 5, n_jobs = -1)\n",
        "clf.fit(X_8,Y_8)"
      ],
      "execution_count": 16,
      "outputs": [
        {
          "output_type": "stream",
          "name": "stderr",
          "text": [
            "/usr/local/lib/python3.7/dist-packages/sklearn/neural_network/_multilayer_perceptron.py:1342: DataConversionWarning: A column-vector y was passed when a 1d array was expected. Please change the shape of y to (n_samples, ), for example using ravel().\n",
            "  y = column_or_1d(y, warn=True)\n"
          ]
        },
        {
          "output_type": "execute_result",
          "data": {
            "text/plain": [
              "GridSearchCV(cv=5, error_score=nan,\n",
              "             estimator=MLPRegressor(activation='relu', alpha=0.0001,\n",
              "                                    batch_size='auto', beta_1=0.9, beta_2=0.999,\n",
              "                                    early_stopping=False, epsilon=1e-08,\n",
              "                                    hidden_layer_sizes=(50,),\n",
              "                                    learning_rate='constant',\n",
              "                                    learning_rate_init=0.001, max_fun=15000,\n",
              "                                    max_iter=100000, momentum=0.9,\n",
              "                                    n_iter_no_change=10,\n",
              "                                    nesterovs_momentum=True, power_t=0.5,\n",
              "                                    random_state=None, shuffle=True,\n",
              "                                    solver='adam', tol=0.0001,\n",
              "                                    validation_fraction=0.1, verbose=False,\n",
              "                                    warm_start=True),\n",
              "             iid='deprecated', n_jobs=-1,\n",
              "             param_grid={'alpha': [0.0001, 0.01, 1e-05],\n",
              "                         'learning_rate': ('constant', 'adaptive'),\n",
              "                         'solver': ('lbfgs', 'adam')},\n",
              "             pre_dispatch='2*n_jobs', refit=True, return_train_score=False,\n",
              "             scoring=None, verbose=0)"
            ]
          },
          "metadata": {},
          "execution_count": 16
        }
      ]
    },
    {
      "cell_type": "code",
      "metadata": {
        "colab": {
          "base_uri": "https://localhost:8080/"
        },
        "id": "BiZQThilZ6WZ",
        "outputId": "3a5e694d-7d8a-450c-8d84-678858fb1b98"
      },
      "source": [
        "print(clf.best_params_)"
      ],
      "execution_count": 17,
      "outputs": [
        {
          "output_type": "stream",
          "name": "stdout",
          "text": [
            "{'alpha': 0.01, 'learning_rate': 'constant', 'solver': 'lbfgs'}\n"
          ]
        }
      ]
    },
    {
      "cell_type": "markdown",
      "metadata": {
        "id": "zY0D75rKSqXF"
      },
      "source": [
        "## Fundamentos del Principal Componets Analysis PCA"
      ]
    },
    {
      "cell_type": "code",
      "metadata": {
        "colab": {
          "base_uri": "https://localhost:8080/"
        },
        "id": "VR2DmbDfaFFh",
        "outputId": "098d758c-c04f-4c8c-d8bb-0b883abf66cc"
      },
      "source": [
        "!pip sklearn.descomposition"
      ],
      "execution_count": 19,
      "outputs": [
        {
          "output_type": "stream",
          "name": "stdout",
          "text": [
            "ERROR: unknown command \"sklearn.descomposition\"\n"
          ]
        }
      ]
    },
    {
      "cell_type": "code",
      "metadata": {
        "id": "dtYQ3gsgSp1c"
      },
      "source": [
        "from sklearn.decomposition import PCA\n",
        "import matplotlib.pyplot as plt\n",
        "import numpy as np\n",
        "import pandas as pd"
      ],
      "execution_count": 21,
      "outputs": []
    },
    {
      "cell_type": "code",
      "metadata": {
        "id": "1fElFeaCTphH"
      },
      "source": [
        "df_9 = data.dropna(subset= ['AirTime','Distance','TaxiIn','TaxiOut','DepDelay','ArrDelay'])\n",
        "df_9 = df_9.sample(frac = 1).head(10000)\n",
        "X_9= df_9[['AirTime','Distance','TaxiIn','TaxiOut','DepDelay','ArrDelay']]\n",
        "\n",
        "\n",
        "scaler = StandardScaler()\n",
        "scaler.fit(X_9)\n",
        "\n",
        "X_9 = scaler.transform(X_9)"
      ],
      "execution_count": 22,
      "outputs": []
    },
    {
      "cell_type": "code",
      "metadata": {
        "colab": {
          "base_uri": "https://localhost:8080/"
        },
        "id": "6wQKrI04UdAu",
        "outputId": "6e7c4596-d7b4-4851-c575-72b230a3c552"
      },
      "source": [
        "pca = PCA(n_components = 2)\n",
        "pca.fit(X_9)"
      ],
      "execution_count": 25,
      "outputs": [
        {
          "output_type": "execute_result",
          "data": {
            "text/plain": [
              "PCA(copy=True, iterated_power='auto', n_components=2, random_state=None,\n",
              "    svd_solver='auto', tol=0.0, whiten=False)"
            ]
          },
          "metadata": {},
          "execution_count": 25
        }
      ]
    },
    {
      "cell_type": "code",
      "metadata": {
        "colab": {
          "base_uri": "https://localhost:8080/"
        },
        "id": "yPgbnT27UsMd",
        "outputId": "4be97856-4a89-4ddf-c371-4fb9b43308e1"
      },
      "source": [
        "# AirTime ,Distance ,TaxiIn, TaxiOut, DepDelay, ArrDelay.\n",
        "\n",
        "print(np.round(pca.components_, 2))"
      ],
      "execution_count": 26,
      "outputs": [
        {
          "output_type": "stream",
          "name": "stdout",
          "text": [
            "[[ 0.48  0.47  0.14  0.29  0.45  0.49]\n",
            " [-0.51 -0.52  0.02  0.11  0.47  0.49]]\n"
          ]
        }
      ]
    },
    {
      "cell_type": "code",
      "metadata": {
        "colab": {
          "base_uri": "https://localhost:8080/"
        },
        "id": "OMNMR2TvVTVF",
        "outputId": "409f9a2a-2a06-4a66-c4fb-09ec909d6095"
      },
      "source": [
        "pca.explained_variance_ratio_"
      ],
      "execution_count": 29,
      "outputs": [
        {
          "output_type": "execute_result",
          "data": {
            "text/plain": [
              "array([0.3676784 , 0.30499998])"
            ]
          },
          "metadata": {},
          "execution_count": 29
        }
      ]
    },
    {
      "cell_type": "code",
      "metadata": {
        "id": "2OJrSSnqaxIH"
      },
      "source": [
        "A = pca.explained_variance_ratio_[0] \n",
        "B = pca.explained_variance_ratio_[1]\n",
        "\n",
        "total = A + B"
      ],
      "execution_count": 32,
      "outputs": []
    },
    {
      "cell_type": "code",
      "metadata": {
        "colab": {
          "base_uri": "https://localhost:8080/"
        },
        "id": "MZZDkBYHbD9C",
        "outputId": "d1341081-5082-439b-ecdd-9cb24a7bc1dd"
      },
      "source": [
        "total *100"
      ],
      "execution_count": 34,
      "outputs": [
        {
          "output_type": "execute_result",
          "data": {
            "text/plain": [
              "67.26783719057205"
            ]
          },
          "metadata": {},
          "execution_count": 34
        }
      ]
    },
    {
      "cell_type": "code",
      "metadata": {
        "id": "y4HZJnlcVjLy"
      },
      "source": [
        "nuevosvalores = pca.transform(X_9)"
      ],
      "execution_count": 38,
      "outputs": []
    },
    {
      "cell_type": "code",
      "metadata": {
        "colab": {
          "base_uri": "https://localhost:8080/",
          "height": 282
        },
        "id": "eEl815OGVvO-",
        "outputId": "291ce132-524f-45cb-fbe2-63ca87ceecfe"
      },
      "source": [
        "plt.scatter(nuevosvalores[:,0], nuevosvalores[:,1])"
      ],
      "execution_count": 40,
      "outputs": [
        {
          "output_type": "execute_result",
          "data": {
            "text/plain": [
              "<matplotlib.collections.PathCollection at 0x7faadd7988d0>"
            ]
          },
          "metadata": {},
          "execution_count": 40
        },
        {
          "output_type": "display_data",
          "data": {
            "image/png": "[encoded data removed]",
            "text/plain": [
              "<Figure size 432x288 with 1 Axes>"
            ]
          },
          "metadata": {
            "needs_background": "light"
          }
        }
      ]
    },
    {
      "cell_type": "markdown",
      "metadata": {
        "id": "k7TsDOy-dKtJ"
      },
      "source": [
        "##Imputación de valores en Machine Learning"
      ]
    },
    {
      "cell_type": "code",
      "metadata": {
        "id": "T_6zGzumdJ__"
      },
      "source": [
        "from sklearn.impute import SimpleImputer\n",
        "from sklearn import linear_model\n",
        "import numpy as np\n",
        "import pandas as pd"
      ],
      "execution_count": 48,
      "outputs": []
    },
    {
      "cell_type": "code",
      "metadata": {
        "id": "-Swo1xsSdehL"
      },
      "source": [
        "df_10 = data.dropna(subset= ['AirTime','Distance','TaxiIn','TaxiOut','DepDelay','ArrDelay'])\n",
        "df_10 = df_10.sample(frac = 1).head(10000)\n",
        "X_10= df_10[['AirTime','Distance','TaxiIn','TaxiOut','DepDelay','ArrDelay','CarrierDelay']]\n"
      ],
      "execution_count": 53,
      "outputs": []
    },
    {
      "cell_type": "code",
      "metadata": {
        "colab": {
          "base_uri": "https://localhost:8080/",
          "height": 424
        },
        "id": "gXchcTtvdsXP",
        "outputId": "e6233394-411a-480f-e777-b464ae847ecd"
      },
      "source": [
        "X_10"
      ],
      "execution_count": 54,
      "outputs": [
        {
          "output_type": "execute_result",
          "data": {
            "text/html": [
              "<div>\n",
              "<style scoped>\n",
              "    .dataframe tbody tr th:only-of-type {\n",
              "        vertical-align: middle;\n",
              "    }\n",
              "\n",
              "    .dataframe tbody tr th {\n",
              "        vertical-align: top;\n",
              "    }\n",
              "\n",
              "    .dataframe thead th {\n",
              "        text-align: right;\n",
              "    }\n",
              "</style>\n",
              "<table border=\"1\" class=\"dataframe\">\n",
              "  <thead>\n",
              "    <tr style=\"text-align: right;\">\n",
              "      <th></th>\n",
              "      <th>AirTime</th>\n",
              "      <th>Distance</th>\n",
              "      <th>TaxiIn</th>\n",
              "      <th>TaxiOut</th>\n",
              "      <th>DepDelay</th>\n",
              "      <th>ArrDelay</th>\n",
              "      <th>CarrierDelay</th>\n",
              "    </tr>\n",
              "  </thead>\n",
              "  <tbody>\n",
              "    <tr>\n",
              "      <th>34147</th>\n",
              "      <td>113.0</td>\n",
              "      <td>910.0</td>\n",
              "      <td>5.0</td>\n",
              "      <td>9.0</td>\n",
              "      <td>-8.0</td>\n",
              "      <td>-13.0</td>\n",
              "      <td>0.0</td>\n",
              "    </tr>\n",
              "    <tr>\n",
              "      <th>39800</th>\n",
              "      <td>59.0</td>\n",
              "      <td>399.0</td>\n",
              "      <td>4.0</td>\n",
              "      <td>7.0</td>\n",
              "      <td>13.0</td>\n",
              "      <td>-2.0</td>\n",
              "      <td>0.0</td>\n",
              "    </tr>\n",
              "    <tr>\n",
              "      <th>26096</th>\n",
              "      <td>128.0</td>\n",
              "      <td>872.0</td>\n",
              "      <td>10.0</td>\n",
              "      <td>16.0</td>\n",
              "      <td>32.0</td>\n",
              "      <td>39.0</td>\n",
              "      <td>NaN</td>\n",
              "    </tr>\n",
              "    <tr>\n",
              "      <th>21573</th>\n",
              "      <td>95.0</td>\n",
              "      <td>602.0</td>\n",
              "      <td>2.0</td>\n",
              "      <td>11.0</td>\n",
              "      <td>-4.0</td>\n",
              "      <td>-7.0</td>\n",
              "      <td>NaN</td>\n",
              "    </tr>\n",
              "    <tr>\n",
              "      <th>21649</th>\n",
              "      <td>90.0</td>\n",
              "      <td>602.0</td>\n",
              "      <td>4.0</td>\n",
              "      <td>9.0</td>\n",
              "      <td>-4.0</td>\n",
              "      <td>-8.0</td>\n",
              "      <td>NaN</td>\n",
              "    </tr>\n",
              "    <tr>\n",
              "      <th>...</th>\n",
              "      <td>...</td>\n",
              "      <td>...</td>\n",
              "      <td>...</td>\n",
              "      <td>...</td>\n",
              "      <td>...</td>\n",
              "      <td>...</td>\n",
              "      <td>...</td>\n",
              "    </tr>\n",
              "    <tr>\n",
              "      <th>22588</th>\n",
              "      <td>276.0</td>\n",
              "      <td>1999.0</td>\n",
              "      <td>5.0</td>\n",
              "      <td>19.0</td>\n",
              "      <td>0.0</td>\n",
              "      <td>-5.0</td>\n",
              "      <td>NaN</td>\n",
              "    </tr>\n",
              "    <tr>\n",
              "      <th>42835</th>\n",
              "      <td>136.0</td>\n",
              "      <td>1036.0</td>\n",
              "      <td>3.0</td>\n",
              "      <td>7.0</td>\n",
              "      <td>32.0</td>\n",
              "      <td>3.0</td>\n",
              "      <td>NaN</td>\n",
              "    </tr>\n",
              "    <tr>\n",
              "      <th>42074</th>\n",
              "      <td>183.0</td>\n",
              "      <td>1588.0</td>\n",
              "      <td>6.0</td>\n",
              "      <td>15.0</td>\n",
              "      <td>26.0</td>\n",
              "      <td>20.0</td>\n",
              "      <td>18.0</td>\n",
              "    </tr>\n",
              "    <tr>\n",
              "      <th>43816</th>\n",
              "      <td>48.0</td>\n",
              "      <td>254.0</td>\n",
              "      <td>3.0</td>\n",
              "      <td>11.0</td>\n",
              "      <td>2.0</td>\n",
              "      <td>-1.0</td>\n",
              "      <td>NaN</td>\n",
              "    </tr>\n",
              "    <tr>\n",
              "      <th>36881</th>\n",
              "      <td>97.0</td>\n",
              "      <td>594.0</td>\n",
              "      <td>8.0</td>\n",
              "      <td>5.0</td>\n",
              "      <td>0.0</td>\n",
              "      <td>-16.0</td>\n",
              "      <td>0.0</td>\n",
              "    </tr>\n",
              "  </tbody>\n",
              "</table>\n",
              "<p>10000 rows × 7 columns</p>\n",
              "</div>"
            ],
            "text/plain": [
              "       AirTime  Distance  TaxiIn  TaxiOut  DepDelay  ArrDelay  CarrierDelay\n",
              "34147    113.0     910.0     5.0      9.0      -8.0     -13.0           0.0\n",
              "39800     59.0     399.0     4.0      7.0      13.0      -2.0           0.0\n",
              "26096    128.0     872.0    10.0     16.0      32.0      39.0           NaN\n",
              "21573     95.0     602.0     2.0     11.0      -4.0      -7.0           NaN\n",
              "21649     90.0     602.0     4.0      9.0      -4.0      -8.0           NaN\n",
              "...        ...       ...     ...      ...       ...       ...           ...\n",
              "22588    276.0    1999.0     5.0     19.0       0.0      -5.0           NaN\n",
              "42835    136.0    1036.0     3.0      7.0      32.0       3.0           NaN\n",
              "42074    183.0    1588.0     6.0     15.0      26.0      20.0          18.0\n",
              "43816     48.0     254.0     3.0     11.0       2.0      -1.0           NaN\n",
              "36881     97.0     594.0     8.0      5.0       0.0     -16.0           0.0\n",
              "\n",
              "[10000 rows x 7 columns]"
            ]
          },
          "metadata": {},
          "execution_count": 54
        }
      ]
    },
    {
      "cell_type": "code",
      "metadata": {
        "colab": {
          "base_uri": "https://localhost:8080/"
        },
        "id": "639vo51geP7Z",
        "outputId": "d6e0a83e-d28b-4b6e-c566-0804caa79dd5"
      },
      "source": [
        "#Imputar los valores faltantes por un estadistico de centralidad (Media, Moda, Mediana) es ERRONEA \n",
        "# no incrementan la varianza si no que la disminuyes no generan variabilidad\n",
        "#la media se comporta más estable que la mediana\n",
        "\n",
        "imp = SimpleImputer(missing_values = np.nan, strategy = 'mean')\n",
        "imp.fit(X_10)"
      ],
      "execution_count": 49,
      "outputs": [
        {
          "output_type": "execute_result",
          "data": {
            "text/plain": [
              "SimpleImputer(add_indicator=False, copy=True, fill_value=None,\n",
              "              missing_values=nan, strategy='mean', verbose=0)"
            ]
          },
          "metadata": {},
          "execution_count": 49
        }
      ]
    },
    {
      "cell_type": "code",
      "metadata": {
        "id": "pMzAIZ9KfYJI"
      },
      "source": [
        "X_10 = imp.fit_transform(X_10)"
      ],
      "execution_count": 50,
      "outputs": []
    },
    {
      "cell_type": "code",
      "metadata": {
        "colab": {
          "base_uri": "https://localhost:8080/",
          "height": 424
        },
        "id": "B9Ehpws2fsnE",
        "outputId": "d6f0a339-29d2-4894-f428-e54c9e46cbcc"
      },
      "source": [
        "pd.DataFrame(X_10)"
      ],
      "execution_count": 51,
      "outputs": [
        {
          "output_type": "execute_result",
          "data": {
            "text/html": [
              "<div>\n",
              "<style scoped>\n",
              "    .dataframe tbody tr th:only-of-type {\n",
              "        vertical-align: middle;\n",
              "    }\n",
              "\n",
              "    .dataframe tbody tr th {\n",
              "        vertical-align: top;\n",
              "    }\n",
              "\n",
              "    .dataframe thead th {\n",
              "        text-align: right;\n",
              "    }\n",
              "</style>\n",
              "<table border=\"1\" class=\"dataframe\">\n",
              "  <thead>\n",
              "    <tr style=\"text-align: right;\">\n",
              "      <th></th>\n",
              "      <th>0</th>\n",
              "      <th>1</th>\n",
              "      <th>2</th>\n",
              "      <th>3</th>\n",
              "      <th>4</th>\n",
              "      <th>5</th>\n",
              "      <th>6</th>\n",
              "    </tr>\n",
              "  </thead>\n",
              "  <tbody>\n",
              "    <tr>\n",
              "      <th>0</th>\n",
              "      <td>103.0</td>\n",
              "      <td>920.0</td>\n",
              "      <td>6.0</td>\n",
              "      <td>13.0</td>\n",
              "      <td>47.0</td>\n",
              "      <td>28.0</td>\n",
              "      <td>4.439221</td>\n",
              "    </tr>\n",
              "    <tr>\n",
              "      <th>1</th>\n",
              "      <td>124.0</td>\n",
              "      <td>951.0</td>\n",
              "      <td>6.0</td>\n",
              "      <td>9.0</td>\n",
              "      <td>10.0</td>\n",
              "      <td>-1.0</td>\n",
              "      <td>4.439221</td>\n",
              "    </tr>\n",
              "    <tr>\n",
              "      <th>2</th>\n",
              "      <td>64.0</td>\n",
              "      <td>330.0</td>\n",
              "      <td>6.0</td>\n",
              "      <td>9.0</td>\n",
              "      <td>0.0</td>\n",
              "      <td>-7.0</td>\n",
              "      <td>4.439221</td>\n",
              "    </tr>\n",
              "    <tr>\n",
              "      <th>3</th>\n",
              "      <td>227.0</td>\n",
              "      <td>1587.0</td>\n",
              "      <td>4.0</td>\n",
              "      <td>32.0</td>\n",
              "      <td>19.0</td>\n",
              "      <td>21.0</td>\n",
              "      <td>4.439221</td>\n",
              "    </tr>\n",
              "    <tr>\n",
              "      <th>4</th>\n",
              "      <td>223.0</td>\n",
              "      <td>1587.0</td>\n",
              "      <td>3.0</td>\n",
              "      <td>26.0</td>\n",
              "      <td>5.0</td>\n",
              "      <td>20.0</td>\n",
              "      <td>4.439221</td>\n",
              "    </tr>\n",
              "    <tr>\n",
              "      <th>...</th>\n",
              "      <td>...</td>\n",
              "      <td>...</td>\n",
              "      <td>...</td>\n",
              "      <td>...</td>\n",
              "      <td>...</td>\n",
              "      <td>...</td>\n",
              "      <td>...</td>\n",
              "    </tr>\n",
              "    <tr>\n",
              "      <th>9995</th>\n",
              "      <td>82.0</td>\n",
              "      <td>551.0</td>\n",
              "      <td>4.0</td>\n",
              "      <td>14.0</td>\n",
              "      <td>-4.0</td>\n",
              "      <td>-2.0</td>\n",
              "      <td>4.439221</td>\n",
              "    </tr>\n",
              "    <tr>\n",
              "      <th>9996</th>\n",
              "      <td>80.0</td>\n",
              "      <td>602.0</td>\n",
              "      <td>3.0</td>\n",
              "      <td>10.0</td>\n",
              "      <td>20.0</td>\n",
              "      <td>6.0</td>\n",
              "      <td>4.439221</td>\n",
              "    </tr>\n",
              "    <tr>\n",
              "      <th>9997</th>\n",
              "      <td>203.0</td>\n",
              "      <td>1506.0</td>\n",
              "      <td>11.0</td>\n",
              "      <td>10.0</td>\n",
              "      <td>0.0</td>\n",
              "      <td>-8.0</td>\n",
              "      <td>4.439221</td>\n",
              "    </tr>\n",
              "    <tr>\n",
              "      <th>9998</th>\n",
              "      <td>89.0</td>\n",
              "      <td>602.0</td>\n",
              "      <td>2.0</td>\n",
              "      <td>8.0</td>\n",
              "      <td>-1.0</td>\n",
              "      <td>-12.0</td>\n",
              "      <td>4.439221</td>\n",
              "    </tr>\n",
              "    <tr>\n",
              "      <th>9999</th>\n",
              "      <td>58.0</td>\n",
              "      <td>296.0</td>\n",
              "      <td>11.0</td>\n",
              "      <td>17.0</td>\n",
              "      <td>-7.0</td>\n",
              "      <td>-6.0</td>\n",
              "      <td>0.000000</td>\n",
              "    </tr>\n",
              "  </tbody>\n",
              "</table>\n",
              "<p>10000 rows × 7 columns</p>\n",
              "</div>"
            ],
            "text/plain": [
              "          0       1     2     3     4     5         6\n",
              "0     103.0   920.0   6.0  13.0  47.0  28.0  4.439221\n",
              "1     124.0   951.0   6.0   9.0  10.0  -1.0  4.439221\n",
              "2      64.0   330.0   6.0   9.0   0.0  -7.0  4.439221\n",
              "3     227.0  1587.0   4.0  32.0  19.0  21.0  4.439221\n",
              "4     223.0  1587.0   3.0  26.0   5.0  20.0  4.439221\n",
              "...     ...     ...   ...   ...   ...   ...       ...\n",
              "9995   82.0   551.0   4.0  14.0  -4.0  -2.0  4.439221\n",
              "9996   80.0   602.0   3.0  10.0  20.0   6.0  4.439221\n",
              "9997  203.0  1506.0  11.0  10.0   0.0  -8.0  4.439221\n",
              "9998   89.0   602.0   2.0   8.0  -1.0 -12.0  4.439221\n",
              "9999   58.0   296.0  11.0  17.0  -7.0  -6.0  0.000000\n",
              "\n",
              "[10000 rows x 7 columns]"
            ]
          },
          "metadata": {},
          "execution_count": 51
        }
      ]
    },
    {
      "cell_type": "code",
      "metadata": {
        "colab": {
          "base_uri": "https://localhost:8080/",
          "height": 269
        },
        "id": "fCemdHBzfsh_",
        "outputId": "410430f9-1183-4b91-bfd8-83bed1fc08c6"
      },
      "source": [
        "#Forma más interesante\n",
        "#Estructura de correlación\n",
        "X_10.corr()"
      ],
      "execution_count": 55,
      "outputs": [
        {
          "output_type": "execute_result",
          "data": {
            "text/html": [
              "<div>\n",
              "<style scoped>\n",
              "    .dataframe tbody tr th:only-of-type {\n",
              "        vertical-align: middle;\n",
              "    }\n",
              "\n",
              "    .dataframe tbody tr th {\n",
              "        vertical-align: top;\n",
              "    }\n",
              "\n",
              "    .dataframe thead th {\n",
              "        text-align: right;\n",
              "    }\n",
              "</style>\n",
              "<table border=\"1\" class=\"dataframe\">\n",
              "  <thead>\n",
              "    <tr style=\"text-align: right;\">\n",
              "      <th></th>\n",
              "      <th>AirTime</th>\n",
              "      <th>Distance</th>\n",
              "      <th>TaxiIn</th>\n",
              "      <th>TaxiOut</th>\n",
              "      <th>DepDelay</th>\n",
              "      <th>ArrDelay</th>\n",
              "      <th>CarrierDelay</th>\n",
              "    </tr>\n",
              "  </thead>\n",
              "  <tbody>\n",
              "    <tr>\n",
              "      <th>AirTime</th>\n",
              "      <td>1.000000</td>\n",
              "      <td>0.979642</td>\n",
              "      <td>0.082388</td>\n",
              "      <td>0.142898</td>\n",
              "      <td>0.064469</td>\n",
              "      <td>0.080351</td>\n",
              "      <td>0.035661</td>\n",
              "    </tr>\n",
              "    <tr>\n",
              "      <th>Distance</th>\n",
              "      <td>0.979642</td>\n",
              "      <td>1.000000</td>\n",
              "      <td>0.091060</td>\n",
              "      <td>0.131692</td>\n",
              "      <td>0.069633</td>\n",
              "      <td>0.048891</td>\n",
              "      <td>0.036976</td>\n",
              "    </tr>\n",
              "    <tr>\n",
              "      <th>TaxiIn</th>\n",
              "      <td>0.082388</td>\n",
              "      <td>0.091060</td>\n",
              "      <td>1.000000</td>\n",
              "      <td>0.043949</td>\n",
              "      <td>-0.005265</td>\n",
              "      <td>0.101453</td>\n",
              "      <td>-0.044404</td>\n",
              "    </tr>\n",
              "    <tr>\n",
              "      <th>TaxiOut</th>\n",
              "      <td>0.142898</td>\n",
              "      <td>0.131692</td>\n",
              "      <td>0.043949</td>\n",
              "      <td>1.000000</td>\n",
              "      <td>0.083466</td>\n",
              "      <td>0.338197</td>\n",
              "      <td>0.014879</td>\n",
              "    </tr>\n",
              "    <tr>\n",
              "      <th>DepDelay</th>\n",
              "      <td>0.064469</td>\n",
              "      <td>0.069633</td>\n",
              "      <td>-0.005265</td>\n",
              "      <td>0.083466</td>\n",
              "      <td>1.000000</td>\n",
              "      <td>0.903654</td>\n",
              "      <td>0.532244</td>\n",
              "    </tr>\n",
              "    <tr>\n",
              "      <th>ArrDelay</th>\n",
              "      <td>0.080351</td>\n",
              "      <td>0.048891</td>\n",
              "      <td>0.101453</td>\n",
              "      <td>0.338197</td>\n",
              "      <td>0.903654</td>\n",
              "      <td>1.000000</td>\n",
              "      <td>0.495916</td>\n",
              "    </tr>\n",
              "    <tr>\n",
              "      <th>CarrierDelay</th>\n",
              "      <td>0.035661</td>\n",
              "      <td>0.036976</td>\n",
              "      <td>-0.044404</td>\n",
              "      <td>0.014879</td>\n",
              "      <td>0.532244</td>\n",
              "      <td>0.495916</td>\n",
              "      <td>1.000000</td>\n",
              "    </tr>\n",
              "  </tbody>\n",
              "</table>\n",
              "</div>"
            ],
            "text/plain": [
              "               AirTime  Distance    TaxiIn  ...  DepDelay  ArrDelay  CarrierDelay\n",
              "AirTime       1.000000  0.979642  0.082388  ...  0.064469  0.080351      0.035661\n",
              "Distance      0.979642  1.000000  0.091060  ...  0.069633  0.048891      0.036976\n",
              "TaxiIn        0.082388  0.091060  1.000000  ... -0.005265  0.101453     -0.044404\n",
              "TaxiOut       0.142898  0.131692  0.043949  ...  0.083466  0.338197      0.014879\n",
              "DepDelay      0.064469  0.069633 -0.005265  ...  1.000000  0.903654      0.532244\n",
              "ArrDelay      0.080351  0.048891  0.101453  ...  0.903654  1.000000      0.495916\n",
              "CarrierDelay  0.035661  0.036976 -0.044404  ...  0.532244  0.495916      1.000000\n",
              "\n",
              "[7 rows x 7 columns]"
            ]
          },
          "metadata": {},
          "execution_count": 55
        }
      ]
    },
    {
      "cell_type": "code",
      "metadata": {
        "colab": {
          "base_uri": "https://localhost:8080/"
        },
        "id": "SHxs2bzbhMr6",
        "outputId": "bfa31434-d037-466c-ded1-bdbd38ebaf23"
      },
      "source": [
        "X_10 = X_10.dropna(subset = ['DepDelay','ArrDelay'])\n",
        "newX = X_10[['DepDelay','ArrDelay','CarrierDelay']]\n",
        "newX_train =  newX[np.isnan(X_10.CarrierDelay) == False]\n",
        "\n",
        "regr = linear_model.LinearRegression()\n",
        "regr.fit(newX_train[['DepDelay','ArrDelay']], newX_train['CarrierDelay'])"
      ],
      "execution_count": 56,
      "outputs": [
        {
          "output_type": "execute_result",
          "data": {
            "text/plain": [
              "LinearRegression(copy_X=True, fit_intercept=True, n_jobs=None, normalize=False)"
            ]
          },
          "metadata": {},
          "execution_count": 56
        }
      ]
    },
    {
      "cell_type": "code",
      "metadata": {
        "colab": {
          "base_uri": "https://localhost:8080/"
        },
        "id": "Nb0sUFzOiBim",
        "outputId": "43a1e409-cd5c-4903-ae9d-d4567ea9d741"
      },
      "source": [
        "regr.coef_"
      ],
      "execution_count": 57,
      "outputs": [
        {
          "output_type": "execute_result",
          "data": {
            "text/plain": [
              "array([0.22276046, 0.01154005])"
            ]
          },
          "metadata": {},
          "execution_count": 57
        }
      ]
    },
    {
      "cell_type": "code",
      "metadata": {
        "id": "DdUC69SPiEr4"
      },
      "source": [
        "valores_imputacion = newX[np.isnan(X_10.CarrierDelay)]\n",
        "valores_imputacion = valores_imputacion[['DepDelay','ArrDelay']]"
      ],
      "execution_count": 59,
      "outputs": []
    },
    {
      "cell_type": "code",
      "metadata": {
        "id": "r7KttafEjK7o"
      },
      "source": [
        "nuevos_valores = regr.predict(valores_imputacion)"
      ],
      "execution_count": 60,
      "outputs": []
    },
    {
      "cell_type": "code",
      "metadata": {
        "id": "DyJQgx-njUV6"
      },
      "source": [
        "X_10.loc[np.isnan(X_10.CarrierDelay),'CarrierDelay'] = nuevos_valores"
      ],
      "execution_count": 62,
      "outputs": []
    },
    {
      "cell_type": "code",
      "metadata": {
        "colab": {
          "base_uri": "https://localhost:8080/",
          "height": 833
        },
        "id": "a3K6b8CJjprj",
        "outputId": "2d26269c-c0a1-40d0-92f0-8de5472eac9b"
      },
      "source": [
        "X_10.head(25)    #Mejor Imputación"
      ],
      "execution_count": 64,
      "outputs": [
        {
          "output_type": "execute_result",
          "data": {
            "text/html": [
              "<div>\n",
              "<style scoped>\n",
              "    .dataframe tbody tr th:only-of-type {\n",
              "        vertical-align: middle;\n",
              "    }\n",
              "\n",
              "    .dataframe tbody tr th {\n",
              "        vertical-align: top;\n",
              "    }\n",
              "\n",
              "    .dataframe thead th {\n",
              "        text-align: right;\n",
              "    }\n",
              "</style>\n",
              "<table border=\"1\" class=\"dataframe\">\n",
              "  <thead>\n",
              "    <tr style=\"text-align: right;\">\n",
              "      <th></th>\n",
              "      <th>AirTime</th>\n",
              "      <th>Distance</th>\n",
              "      <th>TaxiIn</th>\n",
              "      <th>TaxiOut</th>\n",
              "      <th>DepDelay</th>\n",
              "      <th>ArrDelay</th>\n",
              "      <th>CarrierDelay</th>\n",
              "    </tr>\n",
              "  </thead>\n",
              "  <tbody>\n",
              "    <tr>\n",
              "      <th>34147</th>\n",
              "      <td>113.0</td>\n",
              "      <td>910.0</td>\n",
              "      <td>5.0</td>\n",
              "      <td>9.0</td>\n",
              "      <td>-8.0</td>\n",
              "      <td>-13.0</td>\n",
              "      <td>0.000000</td>\n",
              "    </tr>\n",
              "    <tr>\n",
              "      <th>39800</th>\n",
              "      <td>59.0</td>\n",
              "      <td>399.0</td>\n",
              "      <td>4.0</td>\n",
              "      <td>7.0</td>\n",
              "      <td>13.0</td>\n",
              "      <td>-2.0</td>\n",
              "      <td>0.000000</td>\n",
              "    </tr>\n",
              "    <tr>\n",
              "      <th>26096</th>\n",
              "      <td>128.0</td>\n",
              "      <td>872.0</td>\n",
              "      <td>10.0</td>\n",
              "      <td>16.0</td>\n",
              "      <td>32.0</td>\n",
              "      <td>39.0</td>\n",
              "      <td>8.027957</td>\n",
              "    </tr>\n",
              "    <tr>\n",
              "      <th>21573</th>\n",
              "      <td>95.0</td>\n",
              "      <td>602.0</td>\n",
              "      <td>2.0</td>\n",
              "      <td>11.0</td>\n",
              "      <td>-4.0</td>\n",
              "      <td>-7.0</td>\n",
              "      <td>-0.522262</td>\n",
              "    </tr>\n",
              "    <tr>\n",
              "      <th>21649</th>\n",
              "      <td>90.0</td>\n",
              "      <td>602.0</td>\n",
              "      <td>4.0</td>\n",
              "      <td>9.0</td>\n",
              "      <td>-4.0</td>\n",
              "      <td>-8.0</td>\n",
              "      <td>-0.533802</td>\n",
              "    </tr>\n",
              "    <tr>\n",
              "      <th>33462</th>\n",
              "      <td>63.0</td>\n",
              "      <td>403.0</td>\n",
              "      <td>4.0</td>\n",
              "      <td>7.0</td>\n",
              "      <td>-8.0</td>\n",
              "      <td>-24.0</td>\n",
              "      <td>-1.609485</td>\n",
              "    </tr>\n",
              "    <tr>\n",
              "      <th>25039</th>\n",
              "      <td>50.0</td>\n",
              "      <td>228.0</td>\n",
              "      <td>5.0</td>\n",
              "      <td>18.0</td>\n",
              "      <td>22.0</td>\n",
              "      <td>33.0</td>\n",
              "      <td>5.731112</td>\n",
              "    </tr>\n",
              "    <tr>\n",
              "      <th>17227</th>\n",
              "      <td>38.0</td>\n",
              "      <td>198.0</td>\n",
              "      <td>3.0</td>\n",
              "      <td>8.0</td>\n",
              "      <td>2.0</td>\n",
              "      <td>-6.0</td>\n",
              "      <td>0.825841</td>\n",
              "    </tr>\n",
              "    <tr>\n",
              "      <th>27633</th>\n",
              "      <td>95.0</td>\n",
              "      <td>602.0</td>\n",
              "      <td>8.0</td>\n",
              "      <td>31.0</td>\n",
              "      <td>-1.0</td>\n",
              "      <td>15.0</td>\n",
              "      <td>0.399900</td>\n",
              "    </tr>\n",
              "    <tr>\n",
              "      <th>24430</th>\n",
              "      <td>282.0</td>\n",
              "      <td>2521.0</td>\n",
              "      <td>6.0</td>\n",
              "      <td>27.0</td>\n",
              "      <td>-3.0</td>\n",
              "      <td>3.0</td>\n",
              "      <td>-0.184101</td>\n",
              "    </tr>\n",
              "    <tr>\n",
              "      <th>28814</th>\n",
              "      <td>130.0</td>\n",
              "      <td>918.0</td>\n",
              "      <td>7.0</td>\n",
              "      <td>27.0</td>\n",
              "      <td>-5.0</td>\n",
              "      <td>-2.0</td>\n",
              "      <td>-0.687322</td>\n",
              "    </tr>\n",
              "    <tr>\n",
              "      <th>32748</th>\n",
              "      <td>125.0</td>\n",
              "      <td>861.0</td>\n",
              "      <td>6.0</td>\n",
              "      <td>8.0</td>\n",
              "      <td>-6.0</td>\n",
              "      <td>-15.0</td>\n",
              "      <td>-1.060104</td>\n",
              "    </tr>\n",
              "    <tr>\n",
              "      <th>38969</th>\n",
              "      <td>138.0</td>\n",
              "      <td>951.0</td>\n",
              "      <td>4.0</td>\n",
              "      <td>24.0</td>\n",
              "      <td>1.0</td>\n",
              "      <td>-7.0</td>\n",
              "      <td>0.000000</td>\n",
              "    </tr>\n",
              "    <tr>\n",
              "      <th>27182</th>\n",
              "      <td>286.0</td>\n",
              "      <td>1774.0</td>\n",
              "      <td>5.0</td>\n",
              "      <td>16.0</td>\n",
              "      <td>71.0</td>\n",
              "      <td>101.0</td>\n",
              "      <td>17.431098</td>\n",
              "    </tr>\n",
              "    <tr>\n",
              "      <th>32628</th>\n",
              "      <td>70.0</td>\n",
              "      <td>447.0</td>\n",
              "      <td>2.0</td>\n",
              "      <td>11.0</td>\n",
              "      <td>-6.0</td>\n",
              "      <td>-6.0</td>\n",
              "      <td>-0.956243</td>\n",
              "    </tr>\n",
              "    <tr>\n",
              "      <th>27531</th>\n",
              "      <td>220.0</td>\n",
              "      <td>1569.0</td>\n",
              "      <td>5.0</td>\n",
              "      <td>23.0</td>\n",
              "      <td>3.0</td>\n",
              "      <td>-4.0</td>\n",
              "      <td>1.071681</td>\n",
              "    </tr>\n",
              "    <tr>\n",
              "      <th>38649</th>\n",
              "      <td>39.0</td>\n",
              "      <td>226.0</td>\n",
              "      <td>18.0</td>\n",
              "      <td>13.0</td>\n",
              "      <td>-3.0</td>\n",
              "      <td>2.0</td>\n",
              "      <td>0.000000</td>\n",
              "    </tr>\n",
              "    <tr>\n",
              "      <th>41691</th>\n",
              "      <td>39.0</td>\n",
              "      <td>246.0</td>\n",
              "      <td>3.0</td>\n",
              "      <td>7.0</td>\n",
              "      <td>-4.0</td>\n",
              "      <td>-10.0</td>\n",
              "      <td>0.000000</td>\n",
              "    </tr>\n",
              "    <tr>\n",
              "      <th>32483</th>\n",
              "      <td>214.0</td>\n",
              "      <td>1464.0</td>\n",
              "      <td>4.0</td>\n",
              "      <td>14.0</td>\n",
              "      <td>-8.0</td>\n",
              "      <td>-1.0</td>\n",
              "      <td>-1.344064</td>\n",
              "    </tr>\n",
              "    <tr>\n",
              "      <th>28333</th>\n",
              "      <td>52.0</td>\n",
              "      <td>292.0</td>\n",
              "      <td>7.0</td>\n",
              "      <td>7.0</td>\n",
              "      <td>17.0</td>\n",
              "      <td>1.0</td>\n",
              "      <td>4.248028</td>\n",
              "    </tr>\n",
              "    <tr>\n",
              "      <th>17829</th>\n",
              "      <td>103.0</td>\n",
              "      <td>813.0</td>\n",
              "      <td>2.0</td>\n",
              "      <td>19.0</td>\n",
              "      <td>16.0</td>\n",
              "      <td>14.0</td>\n",
              "      <td>4.175288</td>\n",
              "    </tr>\n",
              "    <tr>\n",
              "      <th>40910</th>\n",
              "      <td>78.0</td>\n",
              "      <td>546.0</td>\n",
              "      <td>4.0</td>\n",
              "      <td>6.0</td>\n",
              "      <td>1.0</td>\n",
              "      <td>-6.0</td>\n",
              "      <td>0.000000</td>\n",
              "    </tr>\n",
              "    <tr>\n",
              "      <th>24031</th>\n",
              "      <td>50.0</td>\n",
              "      <td>257.0</td>\n",
              "      <td>30.0</td>\n",
              "      <td>91.0</td>\n",
              "      <td>33.0</td>\n",
              "      <td>134.0</td>\n",
              "      <td>9.347021</td>\n",
              "    </tr>\n",
              "    <tr>\n",
              "      <th>42734</th>\n",
              "      <td>87.0</td>\n",
              "      <td>666.0</td>\n",
              "      <td>3.0</td>\n",
              "      <td>10.0</td>\n",
              "      <td>60.0</td>\n",
              "      <td>45.0</td>\n",
              "      <td>45.000000</td>\n",
              "    </tr>\n",
              "    <tr>\n",
              "      <th>21764</th>\n",
              "      <td>87.0</td>\n",
              "      <td>602.0</td>\n",
              "      <td>4.0</td>\n",
              "      <td>13.0</td>\n",
              "      <td>9.0</td>\n",
              "      <td>12.0</td>\n",
              "      <td>2.592885</td>\n",
              "    </tr>\n",
              "  </tbody>\n",
              "</table>\n",
              "</div>"
            ],
            "text/plain": [
              "       AirTime  Distance  TaxiIn  TaxiOut  DepDelay  ArrDelay  CarrierDelay\n",
              "34147    113.0     910.0     5.0      9.0      -8.0     -13.0      0.000000\n",
              "39800     59.0     399.0     4.0      7.0      13.0      -2.0      0.000000\n",
              "26096    128.0     872.0    10.0     16.0      32.0      39.0      8.027957\n",
              "21573     95.0     602.0     2.0     11.0      -4.0      -7.0     -0.522262\n",
              "21649     90.0     602.0     4.0      9.0      -4.0      -8.0     -0.533802\n",
              "33462     63.0     403.0     4.0      7.0      -8.0     -24.0     -1.609485\n",
              "25039     50.0     228.0     5.0     18.0      22.0      33.0      5.731112\n",
              "17227     38.0     198.0     3.0      8.0       2.0      -6.0      0.825841\n",
              "27633     95.0     602.0     8.0     31.0      -1.0      15.0      0.399900\n",
              "24430    282.0    2521.0     6.0     27.0      -3.0       3.0     -0.184101\n",
              "28814    130.0     918.0     7.0     27.0      -5.0      -2.0     -0.687322\n",
              "32748    125.0     861.0     6.0      8.0      -6.0     -15.0     -1.060104\n",
              "38969    138.0     951.0     4.0     24.0       1.0      -7.0      0.000000\n",
              "27182    286.0    1774.0     5.0     16.0      71.0     101.0     17.431098\n",
              "32628     70.0     447.0     2.0     11.0      -6.0      -6.0     -0.956243\n",
              "27531    220.0    1569.0     5.0     23.0       3.0      -4.0      1.071681\n",
              "38649     39.0     226.0    18.0     13.0      -3.0       2.0      0.000000\n",
              "41691     39.0     246.0     3.0      7.0      -4.0     -10.0      0.000000\n",
              "32483    214.0    1464.0     4.0     14.0      -8.0      -1.0     -1.344064\n",
              "28333     52.0     292.0     7.0      7.0      17.0       1.0      4.248028\n",
              "17829    103.0     813.0     2.0     19.0      16.0      14.0      4.175288\n",
              "40910     78.0     546.0     4.0      6.0       1.0      -6.0      0.000000\n",
              "24031     50.0     257.0    30.0     91.0      33.0     134.0      9.347021\n",
              "42734     87.0     666.0     3.0     10.0      60.0      45.0     45.000000\n",
              "21764     87.0     602.0     4.0     13.0       9.0      12.0      2.592885"
            ]
          },
          "metadata": {},
          "execution_count": 64
        }
      ]
    }
  ]
}