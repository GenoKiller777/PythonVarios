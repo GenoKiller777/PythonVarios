{
  "nbformat": 4,
  "nbformat_minor": 0,
  "metadata": {
    "colab": {
      "name": "TrucosIntermedios.ipynb",
      "provenance": [],
      "authorship_tag": "ABX9TyO368dU7j5HX8N/pe4UPZD1",
      "include_colab_link": true
    },
    "kernelspec": {
      "name": "python3",
      "display_name": "Python 3"
    },
    "language_info": {
      "name": "python"
    }
  },
  "cells": [
    {
      "cell_type": "markdown",
      "metadata": {
        "id": "view-in-github",
        "colab_type": "text"
      },
      "source": [
        "<a href=\"https://colab.research.google.com/github/GenoKiller777/PythonVarios/blob/main/TrucosIntermedios.ipynb\" target=\"_parent\"><img src=\"https://colab.research.google.com/assets/colab-badge.svg\" alt=\"Open In Colab\"/></a>"
      ]
    },
    {
      "cell_type": "markdown",
      "source": [
        "# **map(func, iter)**\n",
        "Ejecutar la función on all elementos of the iterable. \n",
        "\n"
      ],
      "metadata": {
        "id": "8YS3yMwpglcd"
      }
    },
    {
      "cell_type": "code",
      "execution_count": 3,
      "metadata": {
        "colab": {
          "base_uri": "https://localhost:8080/"
        },
        "id": "lTmXIeMcUZ6l",
        "outputId": "d4db592c-43c9-48fe-a28d-fe9b21bd87b4"
      },
      "outputs": [
        {
          "output_type": "execute_result",
          "data": {
            "text/plain": [
              "['e', 'r', 'l']"
            ]
          },
          "metadata": {},
          "execution_count": 3
        }
      ],
      "source": [
        "list(map(lambda x:x[1],['red','green','blue']))"
      ]
    },
    {
      "cell_type": "markdown",
      "source": [
        "# **map(func, i1, ..., ik)**\n",
        "Ejecutar la funcion en todos k elementos de k iterables"
      ],
      "metadata": {
        "id": "wod1Var_hRdG"
      }
    },
    {
      "cell_type": "code",
      "source": [
        "list(map(lambda x,y: str(x) + ' ' + y + 's', [0, 2, 2],['apple','orange','banana'\n",
        "                                                  \n",
        "]))"
      ],
      "metadata": {
        "colab": {
          "base_uri": "https://localhost:8080/"
        },
        "id": "xW0n7O72hi6r",
        "outputId": "a87aff99-5f89-439c-8534-dc094b9a9eac"
      },
      "execution_count": 5,
      "outputs": [
        {
          "output_type": "execute_result",
          "data": {
            "text/plain": [
              "['0 apples', '2 oranges', '2 bananas']"
            ]
          },
          "metadata": {},
          "execution_count": 5
        }
      ]
    },
    {
      "cell_type": "markdown",
      "source": [
        "# **string.join(iter)**\n",
        "Conquedenación de iterables elementos separados por una string"
      ],
      "metadata": {
        "id": "WjGRuRweiLSg"
      }
    },
    {
      "cell_type": "code",
      "source": [
        "'marries '.join(list(['Alice ','Bob']))"
      ],
      "metadata": {
        "colab": {
          "base_uri": "https://localhost:8080/",
          "height": 35
        },
        "id": "qOyUKeK6iUI6",
        "outputId": "02013ab3-a597-4e88-83bb-1c1609982b2e"
      },
      "execution_count": 8,
      "outputs": [
        {
          "output_type": "execute_result",
          "data": {
            "text/plain": [
              "'Alice marries Bob'"
            ],
            "application/vnd.google.colaboratory.intrinsic+json": {
              "type": "string"
            }
          },
          "metadata": {},
          "execution_count": 8
        }
      ]
    },
    {
      "cell_type": "markdown",
      "source": [
        "# **filter(func,iterable)**\n",
        "Filtos para sacar elementos iterables por cual nos entrega una funcion de returno false"
      ],
      "metadata": {
        "id": "8ysVkk53iry7"
      }
    },
    {
      "cell_type": "code",
      "source": [
        "list(filter(lambda x: True if x > 17 \n",
        "            else\n",
        "            False,\n",
        "            [1,15,17,18,1500]\n",
        "            )\n",
        ")"
      ],
      "metadata": {
        "colab": {
          "base_uri": "https://localhost:8080/"
        },
        "id": "wGU3h1yajEjv",
        "outputId": "1e0b451a-fd1b-44f3-ec63-72988aa32a22"
      },
      "execution_count": 10,
      "outputs": [
        {
          "output_type": "execute_result",
          "data": {
            "text/plain": [
              "[18, 1500]"
            ]
          },
          "metadata": {},
          "execution_count": 10
        }
      ]
    },
    {
      "cell_type": "markdown",
      "source": [
        "# **string.strip**\n",
        "Remueva las cabezeras y las colas de la cadena"
      ],
      "metadata": {
        "id": "91aJY7e_kWPB"
      }
    },
    {
      "cell_type": "code",
      "source": [
        "print(\"\\n  \\t  45   \\t\".strip())"
      ],
      "metadata": {
        "colab": {
          "base_uri": "https://localhost:8080/"
        },
        "id": "5sYX0fDilfrM",
        "outputId": "5709df69-504b-4c57-9680-72d2f09877f3"
      },
      "execution_count": 12,
      "outputs": [
        {
          "output_type": "stream",
          "name": "stdout",
          "text": [
            "45\n"
          ]
        }
      ]
    },
    {
      "cell_type": "markdown",
      "source": [
        "# **sorted(iter)**\n",
        "Ordenamiento iterables en orden ascedente"
      ],
      "metadata": {
        "id": "QBbnZI5lmP_E"
      }
    },
    {
      "cell_type": "code",
      "source": [
        "sorted([8,3,2,42,5])"
      ],
      "metadata": {
        "colab": {
          "base_uri": "https://localhost:8080/"
        },
        "id": "ehLjTmI0mHdC",
        "outputId": "92abadde-726e-46a2-fb47-9a5c6e073d4e"
      },
      "execution_count": 13,
      "outputs": [
        {
          "output_type": "execute_result",
          "data": {
            "text/plain": [
              "[2, 3, 5, 8, 42]"
            ]
          },
          "metadata": {},
          "execution_count": 13
        }
      ]
    },
    {
      "cell_type": "markdown",
      "source": [
        "# **sorted(iter, key = key)**\n",
        "Ordenamiento acuerde a la llave de acuerdo al orden ascendente"
      ],
      "metadata": {
        "id": "4Hmi6PxClcnR"
      }
    },
    {
      "cell_type": "code",
      "source": [
        "sorted([8,3,2,42,5], key = lambda x: 0 if x == 5 \n",
        "       else x)"
      ],
      "metadata": {
        "colab": {
          "base_uri": "https://localhost:8080/"
        },
        "id": "-Bz7vEqVmeMA",
        "outputId": "29e1c57e-af6e-426d-c363-597c5d32585d"
      },
      "execution_count": 20,
      "outputs": [
        {
          "output_type": "execute_result",
          "data": {
            "text/plain": [
              "[5, 2, 3, 8, 42]"
            ]
          },
          "metadata": {},
          "execution_count": 20
        }
      ]
    },
    {
      "cell_type": "markdown",
      "source": [
        "# **help(func)**\n",
        "Regresa la docuementacion de la funcion"
      ],
      "metadata": {
        "id": "-L8qP0MIlc4E"
      }
    },
    {
      "cell_type": "code",
      "source": [
        "help()"
      ],
      "metadata": {
        "id": "j4l7T9asnRVG"
      },
      "execution_count": null,
      "outputs": []
    },
    {
      "cell_type": "markdown",
      "source": [
        "# **zip(i1, i2,...)**\n",
        "Grupos de i-elementos en el iterador **i1, i2, ...** siempre"
      ],
      "metadata": {
        "id": "rauWwM8ilc74"
      }
    },
    {
      "cell_type": "code",
      "source": [
        "list(zip(['Alice', 'Anna'], ['Bob', 'Jon', 'Frank']))"
      ],
      "metadata": {
        "colab": {
          "base_uri": "https://localhost:8080/"
        },
        "id": "hiUcgjsTo5Cn",
        "outputId": "957a2bd4-fed5-4a1e-ee06-a6fbd1604290"
      },
      "execution_count": 21,
      "outputs": [
        {
          "output_type": "execute_result",
          "data": {
            "text/plain": [
              "[('Alice', 'Bob'), ('Anna', 'Jon')]"
            ]
          },
          "metadata": {},
          "execution_count": 21
        }
      ]
    },
    {
      "cell_type": "markdown",
      "source": [
        "# **Unzip**\n",
        "Igual a:\n",
        "\n",
        "*   1) devuelveme las lista zip\n",
        "*   2) zip es el resultado\n",
        "\n"
      ],
      "metadata": {
        "id": "LvhrErFHlc_L"
      }
    },
    {
      "cell_type": "code",
      "source": [
        "list(zip(*[('Alice', 'Bob'), ('Anna', 'Jon')]))"
      ],
      "metadata": {
        "colab": {
          "base_uri": "https://localhost:8080/"
        },
        "id": "_FgOYfA-o4kg",
        "outputId": "1a6c299a-9606-4a40-efc5-54f89ea466ce"
      },
      "execution_count": 23,
      "outputs": [
        {
          "output_type": "execute_result",
          "data": {
            "text/plain": [
              "[('Alice', 'Anna'), ('Bob', 'Jon')]"
            ]
          },
          "metadata": {},
          "execution_count": 23
        }
      ]
    },
    {
      "cell_type": "markdown",
      "source": [
        "# **enumerate(iter)**\n",
        "Asignación de valor de conteo o key cada elemento del iterable"
      ],
      "metadata": {
        "id": "xoR-TEP2ldCZ"
      }
    },
    {
      "cell_type": "code",
      "source": [
        "list(enumerate(['Alice', 'Bob', 'Jon']))"
      ],
      "metadata": {
        "colab": {
          "base_uri": "https://localhost:8080/"
        },
        "id": "25SXgr5UsJQW",
        "outputId": "f90b12ef-a850-4df3-afc1-2c4051341a25"
      },
      "execution_count": 31,
      "outputs": [
        {
          "output_type": "execute_result",
          "data": {
            "text/plain": [
              "[(0, 'Alice'), (1, 'Bob'), (2, 'Jon')]"
            ]
          },
          "metadata": {},
          "execution_count": 31
        }
      ]
    },
    {
      "cell_type": "markdown",
      "source": [
        "# **Leer Comic**\n"
      ],
      "metadata": {
        "id": "OP_v2eVTldF8"
      }
    },
    {
      "cell_type": "code",
      "source": [
        "import antigravity"
      ],
      "metadata": {
        "id": "r60FsShYtO5V"
      },
      "execution_count": 34,
      "outputs": []
    },
    {
      "cell_type": "code",
      "source": [
        "import this"
      ],
      "metadata": {
        "colab": {
          "base_uri": "https://localhost:8080/"
        },
        "id": "7T4irjxJtf1a",
        "outputId": "3562794e-f0fc-456e-a18f-02fbfe63c548"
      },
      "execution_count": 33,
      "outputs": [
        {
          "output_type": "stream",
          "name": "stdout",
          "text": [
            "The Zen of Python, by Tim Peters\n",
            "\n",
            "Beautiful is better than ugly.\n",
            "Explicit is better than implicit.\n",
            "Simple is better than complex.\n",
            "Complex is better than complicated.\n",
            "Flat is better than nested.\n",
            "Sparse is better than dense.\n",
            "Readability counts.\n",
            "Special cases aren't special enough to break the rules.\n",
            "Although practicality beats purity.\n",
            "Errors should never pass silently.\n",
            "Unless explicitly silenced.\n",
            "In the face of ambiguity, refuse the temptation to guess.\n",
            "There should be one-- and preferably only one --obvious way to do it.\n",
            "Although that way may not be obvious at first unless you're Dutch.\n",
            "Now is better than never.\n",
            "Although never is often better than *right* now.\n",
            "If the implementation is hard to explain, it's a bad idea.\n",
            "If the implementation is easy to explain, it may be a good idea.\n",
            "Namespaces are one honking great idea -- let's do more of those!\n"
          ]
        }
      ]
    },
    {
      "cell_type": "markdown",
      "source": [
        "# **Swapping**"
      ],
      "metadata": {
        "id": "EeRVC919ldJU"
      }
    },
    {
      "cell_type": "code",
      "source": [
        "a, b = 'Jane', 'Alice'\n",
        "print(a,b)\n",
        "a, b = b, a\n",
        "print(a,b)"
      ],
      "metadata": {
        "colab": {
          "base_uri": "https://localhost:8080/"
        },
        "id": "GxoeMIScvRll",
        "outputId": "24ee2ebe-f048-4015-df0b-29f8b71d9224"
      },
      "execution_count": 37,
      "outputs": [
        {
          "output_type": "stream",
          "name": "stdout",
          "text": [
            "Jane Alice\n",
            "Alice Jane\n"
          ]
        }
      ]
    },
    {
      "cell_type": "markdown",
      "source": [
        "# **Unpacking arguments**"
      ],
      "metadata": {
        "id": "iNYZ0WDjldXU"
      }
    },
    {
      "cell_type": "code",
      "source": [
        "def f(x,y,z): return x + y * z\n",
        "a = f(*[1,3,4])\n",
        "print(a)\n",
        "b = f(**{'z': 4, 'x': 1, 'y': 3})\n",
        "print(b)\n",
        "c = f(**{'z': 4, 'x': 1, 'y': 3})\n",
        "print(c)"
      ],
      "metadata": {
        "colab": {
          "base_uri": "https://localhost:8080/"
        },
        "id": "X_RgWpEhwPZG",
        "outputId": "250feb61-5aab-4e04-8b1f-e676aa8f54a0"
      },
      "execution_count": 43,
      "outputs": [
        {
          "output_type": "stream",
          "name": "stdout",
          "text": [
            "13\n",
            "13\n",
            "13\n"
          ]
        }
      ]
    },
    {
      "cell_type": "markdown",
      "source": [
        "# **Extended Unpacking**\n"
      ],
      "metadata": {
        "id": "3vs1zGp9ldc5"
      }
    },
    {
      "cell_type": "code",
      "source": [
        "a , *b = [1,2,3,4,5]\n",
        "print()\n",
        "print(a)\n",
        "print(b)"
      ],
      "metadata": {
        "colab": {
          "base_uri": "https://localhost:8080/"
        },
        "id": "Y46oCgZixpxC",
        "outputId": "f5f901f1-c07d-4dcb-aa5d-e29c0258e39a"
      },
      "execution_count": 47,
      "outputs": [
        {
          "output_type": "stream",
          "name": "stdout",
          "text": [
            "\n",
            "1\n",
            "[2, 3, 4, 5]\n"
          ]
        }
      ]
    },
    {
      "cell_type": "markdown",
      "source": [
        "# **Merge two diccionarios**\n"
      ],
      "metadata": {
        "id": "-anPC-nllcta"
      }
    },
    {
      "cell_type": "code",
      "source": [
        "x = {'Alice' : 18}\n",
        "y = {'Bob': 27, 'Ann':22}\n",
        "z = {**x, **y}\n",
        "print(z)"
      ],
      "metadata": {
        "colab": {
          "base_uri": "https://localhost:8080/"
        },
        "id": "DIGbxBsmxpZP",
        "outputId": "b62893ec-81d8-4fb5-b7a5-ff73364e218d"
      },
      "execution_count": 55,
      "outputs": [
        {
          "output_type": "stream",
          "name": "stdout",
          "text": [
            "{'Alice': 18, 'Bob': 27, 'Ann': 22}\n"
          ]
        }
      ]
    }
  ]
}