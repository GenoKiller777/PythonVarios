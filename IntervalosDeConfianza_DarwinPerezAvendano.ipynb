{
  "cells": [
    {
      "cell_type": "markdown",
      "metadata": {
        "id": "view-in-github",
        "colab_type": "text"
      },
      "source": [
        "<a href=\"https://colab.research.google.com/github/GenoKiller777/PythonVarios/blob/main/IntervalosDeConfianza_DarwinPerezAvendano.ipynb\" target=\"_parent\"><img src=\"https://colab.research.google.com/assets/colab-badge.svg\" alt=\"Open In Colab\"/></a>"
      ]
    },
    {
      "cell_type": "markdown",
      "source": [
        "## Problema 1"
      ],
      "metadata": {
        "id": "01o8sBKPhVMF"
      }
    },
    {
      "cell_type": "markdown",
      "source": [
        "**Considere el siguiente enunciado**:\n",
        "\n",
        "_Se hizo una encuesta a 325 personas mayores de 16 años y se encontró que 120 iban al teatro regularmente._\n",
        "\n",
        "_Hallar, con un nivel de confianza del 94%, un intervalo para estudiar la proporción de los ciudadanos que van al teatro regularmente._"
      ],
      "metadata": {
        "id": "A0k8ELW_fLF5"
      }
    },
    {
      "cell_type": "markdown",
      "metadata": {
        "id": "EfjHMP1uUHku"
      },
      "source": [
        "Debemos tener en cuenta que estamos analizando una variable binomial, esta es la presencia o ausencia de las personas de ir a un evento (en este caso, al teatro de manera regular).\n",
        "\n",
        "Para una variable binomial,\n",
        "$$\n",
        "Intervalo \\, de \\, confianza = p \\pm e\n",
        "$$\n",
        "Donde $p$ es la proporción que hay entre la gente que posee la caracteristica que se estudia y el total de la poblacion, y $e$ se define como el margen de error. El margen de error puede deducirse de:\n",
        "$$\n",
        "n=\\frac{Z^2 p(1-p)}{e^2}\n",
        "$$\n",
        "\n",
        "Donde **n** es el tamaño de la muestra, y **Z** se dice el valor crítico de la distribucion normal estandar.\n",
        "\n",
        "Finalmente, se puede deducir el valor del Intervalo de confianza, teniendo en cuenta que la proporcion $p$ es igual a la razón entre las 120 personas que asisten al teatro y las 325 personas encuestadas, y Z tiene un valor aproximado de 1.88 para cuando se desea que el intervalo posea al menos un 94% de confianza. Entonces:"
      ]
    },
    {
      "cell_type": "code",
      "execution_count": 28,
      "metadata": {
        "colab": {
          "base_uri": "https://localhost:8080/"
        },
        "id": "Tw3t1tbMUHku",
        "outputId": "01cd7157-f4d5-4daf-f4bf-b7c8badb2c99"
      },
      "outputs": [
        {
          "output_type": "stream",
          "name": "stdout",
          "text": [
            "0.027\n"
          ]
        }
      ],
      "source": [
        "import numpy as np\n",
        "import math\n",
        "\n",
        "personas_que_asisten = 120\n",
        "total_de_encuestados = 325\n",
        "p = personas_que_asisten / total_de_encuestados\n",
        "\n",
        "prop = math.sqrt((p*(1-p))/total_de_encuestados)\n",
        "print(round(prop,3))"
      ]
    },
    {
      "cell_type": "markdown",
      "source": [
        "El valor crítico:\n",
        " $$z_{\\frac{\\alpha}{2}}$$\n",
        " es tal que:\n",
        " $$ P (-z_{\\frac{\\alpha}{2}} < Z < z_{\\frac{\\alpha}{2}}) = 2P(Z \\leq z_{\\frac{\\alpha}{2}}) - 1 = 0.94$$\n",
        "\n",
        " $$ 2P(Z \\leq z_{\\frac{\\alpha}{2}}) = 1.94 \\Longrightarrow P(Z \\leq z_{\\frac{\\alpha}{2}}) = \\frac{1.94}{2} \\Longrightarrow P(Z \\leq z_{\\frac{\\alpha}{2}}) = 0.97$$\n",
        "\n",
        "Buscando en la tabla _N(0,1)_ se observa que el valor para\n",
        "\n",
        "$$ P(Z \\leq z_{\\frac{\\alpha}{2}}) = 0.97 , se \\space obtiene \\space si \\space z_{\\frac{\\alpha}{2}} = 1.88$$\n"
      ],
      "metadata": {
        "id": "d56y-RH8UUW_"
      }
    },
    {
      "cell_type": "code",
      "source": [
        "Z = 1.88\n",
        "\n",
        "e = Z * np.sqrt( p * (1 - p) / total_de_encuestados)\n",
        "\n",
        "limite_positivo = p + e\n",
        "limite_negativo = p - e\n",
        "\n",
        "print(f'El limite inferior de tu intervalo de confianza es: {round(limite_negativo*100,2)} %.')\n",
        "print(f'El limite superior de tu intervalo de confianza es: {round(limite_positivo*100,2)} %.')"
      ],
      "metadata": {
        "colab": {
          "base_uri": "https://localhost:8080/"
        },
        "id": "0QvcaC56XqXI",
        "outputId": "3d85811a-3ff5-480a-a01f-15136b555555"
      },
      "execution_count": 29,
      "outputs": [
        {
          "output_type": "stream",
          "name": "stdout",
          "text": [
            "El limite inferior de tu intervalo de confianza es: 31.89 %.\n",
            "El limite superior de tu intervalo de confianza es: 41.96 %.\n"
          ]
        }
      ]
    },
    {
      "cell_type": "markdown",
      "metadata": {
        "id": "1bqQ_segUHkw"
      },
      "source": [
        "Lo que podemos concluir, es que para una muestra de 325 encuestados, podemos afirmar con un 94% de confianza, de que el intervalo de personas que asisten al teatro oscila entre aproximadamente el 32% de la muestra y el 42%."
      ]
    },
    {
      "cell_type": "markdown",
      "metadata": {
        "id": "k8MzRb4MUHkw"
      },
      "source": [
        "## Problema 2"
      ]
    },
    {
      "cell_type": "markdown",
      "metadata": {
        "id": "P4oMN5B9UHkw"
      },
      "source": [
        "**Considere el siguiente enunciado**:\n",
        "\n",
        "_En una encuesta realizada a 800 personas elegidas al azar del censo electoral, 240 declaran su intención de votar por el partido A._\n",
        "\n",
        "*   a) Estimar, con un nivel de confianza del 95,45 % , entre qué valores se encuentra la intención de voto a dicho partido en todo el censo.\n",
        "\n",
        "*   b) Discutir, razonadamente, el efecto que tendría sobre el intervalo de confianza el aumento, o la disminución, del nivel de confianza.\n",
        "\n",
        "\n",
        "\n",
        "\n"
      ]
    },
    {
      "cell_type": "markdown",
      "source": [
        "$$ La\\space proporción\\space muestral\\space es\\space pr = {\\frac{240}{300}} = 0.3 \\longrightarrow 1 - pr = 0.7$$\n",
        "\n",
        " $$ 2P(Z \\leq z_{\\frac{\\alpha}{2}}) = 1.94 \\Longrightarrow P(Z \\leq z_{\\frac{\\alpha}{2}}) = \\frac{1.94}{2} \\Longrightarrow P(Z \\leq z_{\\frac{\\alpha}{2}}) = 0.97$$\n",
        "\n",
        " $$ Para \\space un \\space nivel \\space de \\space confianza \\space del \\space 95.45 \\%, hallamos \\space z_{\\frac{\\alpha}{2}}: $$\n",
        "\n",
        "![intervalos.PNG, align=\"center\"](data:image/png;base64,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)\n",
        "\n",
        " $$ 1 - 0.9545 = 0.0455 \\space; {\\frac{0.0455}{2}} = 0.0227 $$\n",
        " $$ 0.0227 + 0.9545 = 0.9772 $$\n",
        " $$ P(Z \\leq z_{\\frac{\\alpha}{2}}) = 0.9772 \\Longrightarrow z_{\\frac{\\alpha}{2}} = 2$$\n"
      ],
      "metadata": {
        "id": "D9-JM7IBtOn3"
      }
    },
    {
      "cell_type": "markdown",
      "source": [
        "En este caso la muestra es de 800 personas, el numero de personas que calzan con la caracteristica de estudio es de 240, por lo tanto la proporcion p es igual a 240/800, por otro lado el valor de Z para cuando el nivel de confianza demandado es de 95.45%, es de 2."
      ],
      "metadata": {
        "id": "Afp4XOWTitom"
      }
    },
    {
      "cell_type": "code",
      "execution_count": 40,
      "metadata": {
        "colab": {
          "base_uri": "https://localhost:8080/"
        },
        "id": "yVfMOh85UHkw",
        "outputId": "32543535-6eb9-4321-c812-3d37f54ddd9f"
      },
      "outputs": [
        {
          "output_type": "stream",
          "name": "stdout",
          "text": [
            "El limite inferior de tu intervalo de confianza es: 26.76 %.\n",
            "El limite superior de tu intervalo de confianza es: 33.24 %.\n",
            "La longitud del intervalo de confianza es: 6.48 %.\n"
          ]
        }
      ],
      "source": [
        "voto_con_intencion = 240\n",
        "total_de_votantes = 800\n",
        "\n",
        "p = voto_con_intencion / total_de_votantes\n",
        "Z = 2\n",
        "\n",
        "e = Z * np.sqrt( p * (1 - p) / total_de_votantes)\n",
        "\n",
        "limite_positivo = p + e\n",
        "limite_negativo = p - e\n",
        "longitud_intervalo = limite_positivo - limite_negativo\n",
        "\n",
        "print(f'El limite inferior de tu intervalo de confianza es: {round(limite_negativo*100,2)} %.')\n",
        "print(f'El limite superior de tu intervalo de confianza es: {round(limite_positivo*100,2)} %.')\n",
        "print(f'La longitud del intervalo de confianza es: {round(longitud_intervalo*100,2)} %.')"
      ]
    },
    {
      "cell_type": "markdown",
      "metadata": {
        "id": "RYkk7yGlUHkw"
      },
      "source": [
        "Para 800 encuestados, se afirma con un 95.45% de confianza que el intervalo de personas que asisten al teatro, oscila entre aproximadamente el 26.76% de la muestra y el 33.24%. El largo de este intervalo representa apenas a un 6.48% de la muestra.\n",
        "\n",
        "#### Aumento del Intervalo:\n",
        "\n",
        "_Si aumenta el nivel de confianza, mayor es la amplitud del intervalo; es decir, cuanto más seguros queramos estar de nuestra estimación, mayor será el error máximo admisible._"
      ]
    },
    {
      "cell_type": "code",
      "execution_count": 43,
      "metadata": {
        "colab": {
          "base_uri": "https://localhost:8080/"
        },
        "id": "K6FahVtwUHkx",
        "outputId": "f0d08dc4-4d84-4a44-c5d0-6ef403d32e01"
      },
      "outputs": [
        {
          "output_type": "stream",
          "name": "stdout",
          "text": [
            "El limite inferior de tu intervalo de confianza es: 26.23 %.\n",
            "El limite superior de tu intervalo de confianza es: 33.77 %.\n",
            "La longitud del intervalo de confianza es: 7.54 %.\n"
          ]
        }
      ],
      "source": [
        "voto_con_intencion = 240\n",
        "total_de_votantes = 800\n",
        "\n",
        "p = voto_con_intencion / total_de_votantes\n",
        "Z = 2.32635\n",
        "\n",
        "e = Z * np.sqrt( p * (1 - p) / total_de_votantes)\n",
        "\n",
        "limite_positivo = p + e\n",
        "limite_negativo = p - e\n",
        "longitud_intervalo = limite_positivo - limite_negativo\n",
        "\n",
        "print(f'El limite inferior de tu intervalo de confianza es: {round(limite_negativo*100,2)} %.')\n",
        "print(f'El limite superior de tu intervalo de confianza es: {round(limite_positivo*100,2)} %.')\n",
        "print(f'La longitud del intervalo de confianza es: {round(longitud_intervalo*100,2)} %.')"
      ]
    },
    {
      "cell_type": "markdown",
      "metadata": {
        "id": "OVE95rF4UHkx"
      },
      "source": [
        "Para la misma muestra, ahora con un 99% de confianza, se afirma que el numero de personas que votaran con intencion hacia el partido A, oscila entre el 26.33% de la muestra y el 33.77 %. Ambos limites aumentan de valor, teniendo como consecuencia en este caso que el largo del intervalo de confianza represente aproximadamente a un 7.54 % de la muestra, es decir, al aumentar el nivel de confianza, podemos ver que el numero de personas que votaran por dicho partido pueden ser aún mas que antes."
      ]
    },
    {
      "cell_type": "markdown",
      "source": [
        "#### Disminución del Intervalo:\n",
        "_Si disminuye el nivel de confianza, menor es la amplitud del intervalo; es decir, cuanto más seguros queramos estar de nuestra estimación, menor será el error máximo admisible, por lo tanto disminuye la amplitud del intervalo._"
      ],
      "metadata": {
        "id": "sGCRPoSNznUW"
      }
    },
    {
      "cell_type": "code",
      "source": [
        "voto_con_intencion = 240\n",
        "total_de_votantes = 800\n",
        "\n",
        "p = voto_con_intencion / total_de_votantes\n",
        "Z = 0.67449\n",
        "\n",
        "e = Z * np.sqrt( p * (1 - p) / total_de_votantes)\n",
        "\n",
        "limite_positivo = p + e\n",
        "limite_negativo = p - e\n",
        "longitud_intervalo = limite_positivo - limite_negativo\n",
        "\n",
        "print(f'El limite inferior de tu intervalo de confianza es: {round(limite_negativo*100,2)} %.')\n",
        "print(f'El limite superior de tu intervalo de confianza es: {round(limite_positivo*100,2)} %.')\n",
        "print(f'La longitud del intervalo de confianza es: {round(longitud_intervalo*100,2)} %.')"
      ],
      "metadata": {
        "colab": {
          "base_uri": "https://localhost:8080/"
        },
        "id": "qvRKd0a60GOu",
        "outputId": "e35e68b9-03c5-47bc-bb7f-f23f36656386"
      },
      "execution_count": 45,
      "outputs": [
        {
          "output_type": "stream",
          "name": "stdout",
          "text": [
            "El limite inferior de tu intervalo de confianza es: 28.91 %.\n",
            "El limite superior de tu intervalo de confianza es: 31.09 %.\n",
            "La longitud del intervalo de confianza es: 2.19 %.\n"
          ]
        }
      ]
    },
    {
      "cell_type": "markdown",
      "source": [
        "Para la misma muestra, ahora con un 75% de confianza, se afirma que el numero de personas que votaran con intencion hacia el partido A, oscila entre el 28.91% de la muestra y el 31.09 %. Ambos limites aumentan de valor, teniendo como consecuencia en este caso que el largo del intervalo de confianza represente aproximadamente a un 2.19 % de la muestra, es decir, al disminuir el nivel de confianza, podemos ver que el numero de personas que votaran por dicho partido pueden ser aún menos que antes."
      ],
      "metadata": {
        "id": "pAB7wg4J0Wwg"
      }
    },
    {
      "cell_type": "markdown",
      "metadata": {
        "id": "FbBoT8voUHkx"
      },
      "source": [
        "## Problema 3"
      ]
    },
    {
      "cell_type": "markdown",
      "metadata": {
        "id": "ZXTrxevRUHkx"
      },
      "source": [
        "**Considere el siguiente enunciado**:\n",
        "\n",
        "_En un control de calidad se analizó una muestra aleatoria de 750 tornillos resultando defectuosos 80 de ellos_.\n",
        "\n",
        "a) Hallar un intervalo de confianza para la proporción de tornillos defectuosos en el conjunto de producción con 99 % de confianza.\n",
        "\n"
      ]
    },
    {
      "cell_type": "markdown",
      "source": [
        "$$ 1- α = 0.99 \\Longrightarrow α = 1 - 0.99 = 0.01 = \\frac{0.01}{2} \\Longrightarrow  z_{\\frac{\\alpha}{2}} = z_{0.005} = 2.575$$"
      ],
      "metadata": {
        "id": "NbMIWd6R8Sna"
      }
    },
    {
      "cell_type": "code",
      "execution_count": 61,
      "metadata": {
        "colab": {
          "base_uri": "https://localhost:8080/"
        },
        "id": "t2EmkxY-UHkx",
        "outputId": "4fb8ac96-2368-4b39-e9ed-0d642185fd2b"
      },
      "outputs": [
        {
          "output_type": "stream",
          "name": "stdout",
          "text": [
            "El limite superior de tu intervalo de confianza es: 13.9 %.\n",
            "El limite inferior de tu intervalo de confianza es: 8.1 %.\n",
            "La longitud del intervalo de confianza es: 5.8 %.\n"
          ]
        }
      ],
      "source": [
        "tornillo_defectuoso = 80\n",
        "total_de_tornillos = 750\n",
        "\n",
        "p = round(tornillo_defectuoso / total_de_tornillos,2)\n",
        "Z = 2.575\n",
        "\n",
        "e = round(Z * np.sqrt( p * (1 - p) / total_de_tornillos),3)\n",
        "\n",
        "limite_positivo = p + e\n",
        "limite_negativo = p - e\n",
        "longitud_intervalo = limite_positivo - limite_negativo\n",
        "\n",
        "print(f'El limite superior de tu intervalo de confianza es: {round(limite_positivo*100,3)} %.')\n",
        "print(f'El limite inferior de tu intervalo de confianza es: {round(limite_negativo*100,3)} %.')\n",
        "print(f'La longitud del intervalo de confianza es: {round(longitud_intervalo*100,3)} %.')"
      ]
    },
    {
      "cell_type": "markdown",
      "metadata": {
        "id": "6jWzuwi4UHky"
      },
      "source": [
        "El intervalo de confianza, con un 99% de confianza, de tornillos que pueden ser sí o sí defectuosos, oscila entre aproximadamente un 8% de la muestra y un 13.942%.\n"
      ]
    },
    {
      "cell_type": "markdown",
      "source": [
        "b) ¿Cuál es el error máximo cometido en la estimación anterior?"
      ],
      "metadata": {
        "id": "Ytm7FnNz5F1q"
      }
    },
    {
      "cell_type": "code",
      "source": [
        "print(f\"El error máximo cometido es de {e}.\")"
      ],
      "metadata": {
        "colab": {
          "base_uri": "https://localhost:8080/"
        },
        "id": "UoSg-N7I5G2L",
        "outputId": "aba4030c-d95e-429d-87ab-045e348fe2fa"
      },
      "execution_count": 59,
      "outputs": [
        {
          "output_type": "stream",
          "name": "stdout",
          "text": [
            "El error máximo cometido es de 0.02941968020447084.\n"
          ]
        }
      ]
    },
    {
      "cell_type": "markdown",
      "source": [
        "c) Si deseamos que el error cometido, con el mismo nivel de confianza, sea la décima parte del apartado anterior, ¿cuál ha de ser el tamaño de la muestra?"
      ],
      "metadata": {
        "id": "KwPPM02f5jIH"
      }
    },
    {
      "cell_type": "code",
      "execution_count": 62,
      "metadata": {
        "colab": {
          "base_uri": "https://localhost:8080/"
        },
        "id": "BCc4ntgJUHky",
        "outputId": "9b3e4a28-c7c7-4f64-fab4-243972f8ce30"
      },
      "outputs": [
        {
          "output_type": "stream",
          "name": "stdout",
          "text": [
            "El tamaño de la muestra ahora es: 77186.5\n"
          ]
        }
      ],
      "source": [
        "e_anterior = e\n",
        "e_deseado = e_anterior * 0.10\n",
        "n = ((Z ** 2) * p * (1 - p)) / (e_deseado) ** 2\n",
        "print(f'El tamaño de la muestra ahora es: {round(n,1)}')"
      ]
    },
    {
      "cell_type": "markdown",
      "source": [
        "Para que se cumpla las condiciones, y como **n** tiene que ser entero, debe ser mayor o igual que 77,187. Si la muestra es de menor tamaño, el error será mayor de 0.2%."
      ],
      "metadata": {
        "id": "6jW-n-C-7EAi"
      }
    },
    {
      "cell_type": "code",
      "execution_count": 64,
      "metadata": {
        "colab": {
          "base_uri": "https://localhost:8080/"
        },
        "id": "7bVxRipDUHky",
        "outputId": "c7e4d70b-8203-4d63-d5b1-361eb978e8d9"
      },
      "outputs": [
        {
          "output_type": "stream",
          "name": "stdout",
          "text": [
            "El porcentaje de crecimiento de la muestra nueva respecto a la anterior es de: 10191.6%.\n"
          ]
        }
      ],
      "source": [
        "muestra_antes = 750\n",
        "muestra_ahora = 77187\n",
        "porcentaje = 100 * (muestra_ahora - muestra_antes) / muestra_antes\n",
        "print(f'El porcentaje de crecimiento de la muestra nueva respecto a la anterior es de: {porcentaje}%.')"
      ]
    },
    {
      "cell_type": "markdown",
      "metadata": {
        "id": "agy_UoYIUHky"
      },
      "source": [
        "El error deseado para medir el tamaño de la muestra, queremos que sea 10 veces menor al error maximo alcanzado anteriormente. Para eso, asumiendo que las proporciones entre tornillos defectuosos y el total se mantiene, entonces, si reemplazamos en la formula de n usada arriba, vemos que el nuevo tamaño debe ser de 77187 tornillos para la muestra, si queremos que ese error deseado se respete. Esto significa en aumentar un 10,191.6% la muestra que teniamos."
      ]
    }
  ],
  "metadata": {
    "kernelspec": {
      "display_name": "kibernum",
      "language": "python",
      "name": "python3"
    },
    "language_info": {
      "codemirror_mode": {
        "name": "ipython",
        "version": 3
      },
      "file_extension": ".py",
      "mimetype": "text/x-python",
      "name": "python",
      "nbconvert_exporter": "python",
      "pygments_lexer": "ipython3",
      "version": "3.9.16"
    },
    "orig_nbformat": 4,
    "colab": {
      "provenance": [],
      "toc_visible": true,
      "include_colab_link": true
    }
  },
  "nbformat": 4,
  "nbformat_minor": 0
}