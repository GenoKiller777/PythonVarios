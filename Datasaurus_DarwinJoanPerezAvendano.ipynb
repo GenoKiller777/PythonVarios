{
  "cells": [
    {
      "cell_type": "markdown",
      "metadata": {
        "id": "view-in-github",
        "colab_type": "text"
      },
      "source": [
        "<a href=\"https://colab.research.google.com/github/GenoKiller777/PythonVarios/blob/main/Datasaurus_DarwinJoanPerezAvendano.ipynb\" target=\"_parent\"><img src=\"https://colab.research.google.com/assets/colab-badge.svg\" alt=\"Open In Colab\"/></a>"
      ]
    },
    {
      "cell_type": "code",
      "source": [
        "from google.colab import files\n",
        "\n",
        "uploaded = files.upload()\n",
        "\n",
        "for fn in uploaded.keys():\n",
        "  print('User uploaded file \"{name}\" with length {length} bytes'.format(\n",
        "      name=fn, length=len(uploaded[fn])))"
      ],
      "metadata": {
        "colab": {
          "base_uri": "https://localhost:8080/",
          "height": 90
        },
        "id": "Mtinob0DIfLg",
        "outputId": "aadb8d3f-b8b1-44f0-f739-3d6e797537d0"
      },
      "id": "Mtinob0DIfLg",
      "execution_count": 2,
      "outputs": [
        {
          "output_type": "display_data",
          "data": {
            "text/plain": [
              "<IPython.core.display.HTML object>"
            ],
            "text/html": [
              "\n",
              "     <input type=\"file\" id=\"files-0ab2a880-9591-4abb-8c92-eb08347c906b\" name=\"files[]\" multiple disabled\n",
              "        style=\"border:none\" />\n",
              "     <output id=\"result-0ab2a880-9591-4abb-8c92-eb08347c906b\">\n",
              "      Upload widget is only available when the cell has been executed in the\n",
              "      current browser session. Please rerun this cell to enable.\n",
              "      </output>\n",
              "      <script>// Copyright 2017 Google LLC\n",
              "//\n",
              "// Licensed under the Apache License, Version 2.0 (the \"License\");\n",
              "// you may not use this file except in compliance with the License.\n",
              "// You may obtain a copy of the License at\n",
              "//\n",
              "//      http://www.apache.org/licenses/LICENSE-2.0\n",
              "//\n",
              "// Unless required by applicable law or agreed to in writing, software\n",
              "// distributed under the License is distributed on an \"AS IS\" BASIS,\n",
              "// WITHOUT WARRANTIES OR CONDITIONS OF ANY KIND, either express or implied.\n",
              "// See the License for the specific language governing permissions and\n",
              "// limitations under the License.\n",
              "\n",
              "/**\n",
              " * @fileoverview Helpers for google.colab Python module.\n",
              " */\n",
              "(function(scope) {\n",
              "function span(text, styleAttributes = {}) {\n",
              "  const element = document.createElement('span');\n",
              "  element.textContent = text;\n",
              "  for (const key of Object.keys(styleAttributes)) {\n",
              "    element.style[key] = styleAttributes[key];\n",
              "  }\n",
              "  return element;\n",
              "}\n",
              "\n",
              "// Max number of bytes which will be uploaded at a time.\n",
              "const MAX_PAYLOAD_SIZE = 100 * 1024;\n",
              "\n",
              "function _uploadFiles(inputId, outputId) {\n",
              "  const steps = uploadFilesStep(inputId, outputId);\n",
              "  const outputElement = document.getElementById(outputId);\n",
              "  // Cache steps on the outputElement to make it available for the next call\n",
              "  // to uploadFilesContinue from Python.\n",
              "  outputElement.steps = steps;\n",
              "\n",
              "  return _uploadFilesContinue(outputId);\n",
              "}\n",
              "\n",
              "// This is roughly an async generator (not supported in the browser yet),\n",
              "// where there are multiple asynchronous steps and the Python side is going\n",
              "// to poll for completion of each step.\n",
              "// This uses a Promise to block the python side on completion of each step,\n",
              "// then passes the result of the previous step as the input to the next step.\n",
              "function _uploadFilesContinue(outputId) {\n",
              "  const outputElement = document.getElementById(outputId);\n",
              "  const steps = outputElement.steps;\n",
              "\n",
              "  const next = steps.next(outputElement.lastPromiseValue);\n",
              "  return Promise.resolve(next.value.promise).then((value) => {\n",
              "    // Cache the last promise value to make it available to the next\n",
              "    // step of the generator.\n",
              "    outputElement.lastPromiseValue = value;\n",
              "    return next.value.response;\n",
              "  });\n",
              "}\n",
              "\n",
              "/**\n",
              " * Generator function which is called between each async step of the upload\n",
              " * process.\n",
              " * @param {string} inputId Element ID of the input file picker element.\n",
              " * @param {string} outputId Element ID of the output display.\n",
              " * @return {!Iterable<!Object>} Iterable of next steps.\n",
              " */\n",
              "function* uploadFilesStep(inputId, outputId) {\n",
              "  const inputElement = document.getElementById(inputId);\n",
              "  inputElement.disabled = false;\n",
              "\n",
              "  const outputElement = document.getElementById(outputId);\n",
              "  outputElement.innerHTML = '';\n",
              "\n",
              "  const pickedPromise = new Promise((resolve) => {\n",
              "    inputElement.addEventListener('change', (e) => {\n",
              "      resolve(e.target.files);\n",
              "    });\n",
              "  });\n",
              "\n",
              "  const cancel = document.createElement('button');\n",
              "  inputElement.parentElement.appendChild(cancel);\n",
              "  cancel.textContent = 'Cancel upload';\n",
              "  const cancelPromise = new Promise((resolve) => {\n",
              "    cancel.onclick = () => {\n",
              "      resolve(null);\n",
              "    };\n",
              "  });\n",
              "\n",
              "  // Wait for the user to pick the files.\n",
              "  const files = yield {\n",
              "    promise: Promise.race([pickedPromise, cancelPromise]),\n",
              "    response: {\n",
              "      action: 'starting',\n",
              "    }\n",
              "  };\n",
              "\n",
              "  cancel.remove();\n",
              "\n",
              "  // Disable the input element since further picks are not allowed.\n",
              "  inputElement.disabled = true;\n",
              "\n",
              "  if (!files) {\n",
              "    return {\n",
              "      response: {\n",
              "        action: 'complete',\n",
              "      }\n",
              "    };\n",
              "  }\n",
              "\n",
              "  for (const file of files) {\n",
              "    const li = document.createElement('li');\n",
              "    li.append(span(file.name, {fontWeight: 'bold'}));\n",
              "    li.append(span(\n",
              "        `(${file.type || 'n/a'}) - ${file.size} bytes, ` +\n",
              "        `last modified: ${\n",
              "            file.lastModifiedDate ? file.lastModifiedDate.toLocaleDateString() :\n",
              "                                    'n/a'} - `));\n",
              "    const percent = span('0% done');\n",
              "    li.appendChild(percent);\n",
              "\n",
              "    outputElement.appendChild(li);\n",
              "\n",
              "    const fileDataPromise = new Promise((resolve) => {\n",
              "      const reader = new FileReader();\n",
              "      reader.onload = (e) => {\n",
              "        resolve(e.target.result);\n",
              "      };\n",
              "      reader.readAsArrayBuffer(file);\n",
              "    });\n",
              "    // Wait for the data to be ready.\n",
              "    let fileData = yield {\n",
              "      promise: fileDataPromise,\n",
              "      response: {\n",
              "        action: 'continue',\n",
              "      }\n",
              "    };\n",
              "\n",
              "    // Use a chunked sending to avoid message size limits. See b/62115660.\n",
              "    let position = 0;\n",
              "    do {\n",
              "      const length = Math.min(fileData.byteLength - position, MAX_PAYLOAD_SIZE);\n",
              "      const chunk = new Uint8Array(fileData, position, length);\n",
              "      position += length;\n",
              "\n",
              "      const base64 = btoa(String.fromCharCode.apply(null, chunk));\n",
              "      yield {\n",
              "        response: {\n",
              "          action: 'append',\n",
              "          file: file.name,\n",
              "          data: base64,\n",
              "        },\n",
              "      };\n",
              "\n",
              "      let percentDone = fileData.byteLength === 0 ?\n",
              "          100 :\n",
              "          Math.round((position / fileData.byteLength) * 100);\n",
              "      percent.textContent = `${percentDone}% done`;\n",
              "\n",
              "    } while (position < fileData.byteLength);\n",
              "  }\n",
              "\n",
              "  // All done.\n",
              "  yield {\n",
              "    response: {\n",
              "      action: 'complete',\n",
              "    }\n",
              "  };\n",
              "}\n",
              "\n",
              "scope.google = scope.google || {};\n",
              "scope.google.colab = scope.google.colab || {};\n",
              "scope.google.colab._files = {\n",
              "  _uploadFiles,\n",
              "  _uploadFilesContinue,\n",
              "};\n",
              "})(self);\n",
              "</script> "
            ]
          },
          "metadata": {}
        },
        {
          "output_type": "stream",
          "name": "stdout",
          "text": [
            "Saving DatasaurusDozen.tsv to DatasaurusDozen (1).tsv\n",
            "User uploaded file \"DatasaurusDozen.tsv\" with length 65893 bytes\n"
          ]
        }
      ]
    },
    {
      "cell_type": "markdown",
      "id": "6666bb74",
      "metadata": {
        "id": "6666bb74"
      },
      "source": [
        "---\n",
        "# Datasaurus\n",
        "\n",
        "En el siguiente dataset, haremos un análisis forense de este misterioso set de datos para descubrir insights, utilizando técnicas de análisis exploratorio."
      ]
    },
    {
      "cell_type": "code",
      "execution_count": 90,
      "id": "c574c121",
      "metadata": {
        "id": "c574c121"
      },
      "outputs": [],
      "source": [
        "import pandas as pd\n",
        "import numpy as np\n",
        "\n",
        "import seaborn as sns\n",
        "import matplotlib.pyplot as plt\n",
        "import plotly.express as px"
      ]
    },
    {
      "cell_type": "code",
      "execution_count": 4,
      "id": "26fb7f92",
      "metadata": {
        "id": "26fb7f92"
      },
      "outputs": [],
      "source": [
        "soporte = pd.read_csv('DatasaurusDozen.tsv', sep='\\t')"
      ]
    },
    {
      "cell_type": "code",
      "execution_count": 5,
      "id": "8be4b1ec",
      "metadata": {
        "colab": {
          "base_uri": "https://localhost:8080/",
          "height": 206
        },
        "id": "8be4b1ec",
        "outputId": "bde194c4-6027-4278-ce85-6437484014d6"
      },
      "outputs": [
        {
          "output_type": "execute_result",
          "data": {
            "text/plain": [
              "  dataset        x        y\n",
              "0    dino  55.3846  97.1795\n",
              "1    dino  51.5385  96.0256\n",
              "2    dino  46.1538  94.4872\n",
              "3    dino  42.8205  91.4103\n",
              "4    dino  40.7692  88.3333"
            ],
            "text/html": [
              "\n",
              "  <div id=\"df-d507ceb7-7d4f-47b0-b8ab-4e120c31f20e\">\n",
              "    <div class=\"colab-df-container\">\n",
              "      <div>\n",
              "<style scoped>\n",
              "    .dataframe tbody tr th:only-of-type {\n",
              "        vertical-align: middle;\n",
              "    }\n",
              "\n",
              "    .dataframe tbody tr th {\n",
              "        vertical-align: top;\n",
              "    }\n",
              "\n",
              "    .dataframe thead th {\n",
              "        text-align: right;\n",
              "    }\n",
              "</style>\n",
              "<table border=\"1\" class=\"dataframe\">\n",
              "  <thead>\n",
              "    <tr style=\"text-align: right;\">\n",
              "      <th></th>\n",
              "      <th>dataset</th>\n",
              "      <th>x</th>\n",
              "      <th>y</th>\n",
              "    </tr>\n",
              "  </thead>\n",
              "  <tbody>\n",
              "    <tr>\n",
              "      <th>0</th>\n",
              "      <td>dino</td>\n",
              "      <td>55.3846</td>\n",
              "      <td>97.1795</td>\n",
              "    </tr>\n",
              "    <tr>\n",
              "      <th>1</th>\n",
              "      <td>dino</td>\n",
              "      <td>51.5385</td>\n",
              "      <td>96.0256</td>\n",
              "    </tr>\n",
              "    <tr>\n",
              "      <th>2</th>\n",
              "      <td>dino</td>\n",
              "      <td>46.1538</td>\n",
              "      <td>94.4872</td>\n",
              "    </tr>\n",
              "    <tr>\n",
              "      <th>3</th>\n",
              "      <td>dino</td>\n",
              "      <td>42.8205</td>\n",
              "      <td>91.4103</td>\n",
              "    </tr>\n",
              "    <tr>\n",
              "      <th>4</th>\n",
              "      <td>dino</td>\n",
              "      <td>40.7692</td>\n",
              "      <td>88.3333</td>\n",
              "    </tr>\n",
              "  </tbody>\n",
              "</table>\n",
              "</div>\n",
              "      <button class=\"colab-df-convert\" onclick=\"convertToInteractive('df-d507ceb7-7d4f-47b0-b8ab-4e120c31f20e')\"\n",
              "              title=\"Convert this dataframe to an interactive table.\"\n",
              "              style=\"display:none;\">\n",
              "        \n",
              "  <svg xmlns=\"http://www.w3.org/2000/svg\" height=\"24px\"viewBox=\"0 0 24 24\"\n",
              "       width=\"24px\">\n",
              "    <path d=\"M0 0h24v24H0V0z\" fill=\"none\"/>\n",
              "    <path d=\"M18.56 5.44l.94 2.06.94-2.06 2.06-.94-2.06-.94-.94-2.06-.94 2.06-2.06.94zm-11 1L8.5 8.5l.94-2.06 2.06-.94-2.06-.94L8.5 2.5l-.94 2.06-2.06.94zm10 10l.94 2.06.94-2.06 2.06-.94-2.06-.94-.94-2.06-.94 2.06-2.06.94z\"/><path d=\"M17.41 7.96l-1.37-1.37c-.4-.4-.92-.59-1.43-.59-.52 0-1.04.2-1.43.59L10.3 9.45l-7.72 7.72c-.78.78-.78 2.05 0 2.83L4 21.41c.39.39.9.59 1.41.59.51 0 1.02-.2 1.41-.59l7.78-7.78 2.81-2.81c.8-.78.8-2.07 0-2.86zM5.41 20L4 18.59l7.72-7.72 1.47 1.35L5.41 20z\"/>\n",
              "  </svg>\n",
              "      </button>\n",
              "      \n",
              "  <style>\n",
              "    .colab-df-container {\n",
              "      display:flex;\n",
              "      flex-wrap:wrap;\n",
              "      gap: 12px;\n",
              "    }\n",
              "\n",
              "    .colab-df-convert {\n",
              "      background-color: #E8F0FE;\n",
              "      border: none;\n",
              "      border-radius: 50%;\n",
              "      cursor: pointer;\n",
              "      display: none;\n",
              "      fill: #1967D2;\n",
              "      height: 32px;\n",
              "      padding: 0 0 0 0;\n",
              "      width: 32px;\n",
              "    }\n",
              "\n",
              "    .colab-df-convert:hover {\n",
              "      background-color: #E2EBFA;\n",
              "      box-shadow: 0px 1px 2px rgba(60, 64, 67, 0.3), 0px 1px 3px 1px rgba(60, 64, 67, 0.15);\n",
              "      fill: #174EA6;\n",
              "    }\n",
              "\n",
              "    [theme=dark] .colab-df-convert {\n",
              "      background-color: #3B4455;\n",
              "      fill: #D2E3FC;\n",
              "    }\n",
              "\n",
              "    [theme=dark] .colab-df-convert:hover {\n",
              "      background-color: #434B5C;\n",
              "      box-shadow: 0px 1px 3px 1px rgba(0, 0, 0, 0.15);\n",
              "      filter: drop-shadow(0px 1px 2px rgba(0, 0, 0, 0.3));\n",
              "      fill: #FFFFFF;\n",
              "    }\n",
              "  </style>\n",
              "\n",
              "      <script>\n",
              "        const buttonEl =\n",
              "          document.querySelector('#df-d507ceb7-7d4f-47b0-b8ab-4e120c31f20e button.colab-df-convert');\n",
              "        buttonEl.style.display =\n",
              "          google.colab.kernel.accessAllowed ? 'block' : 'none';\n",
              "\n",
              "        async function convertToInteractive(key) {\n",
              "          const element = document.querySelector('#df-d507ceb7-7d4f-47b0-b8ab-4e120c31f20e');\n",
              "          const dataTable =\n",
              "            await google.colab.kernel.invokeFunction('convertToInteractive',\n",
              "                                                     [key], {});\n",
              "          if (!dataTable) return;\n",
              "\n",
              "          const docLinkHtml = 'Like what you see? Visit the ' +\n",
              "            '<a target=\"_blank\" href=https://colab.research.google.com/notebooks/data_table.ipynb>data table notebook</a>'\n",
              "            + ' to learn more about interactive tables.';\n",
              "          element.innerHTML = '';\n",
              "          dataTable['output_type'] = 'display_data';\n",
              "          await google.colab.output.renderOutput(dataTable, element);\n",
              "          const docLink = document.createElement('div');\n",
              "          docLink.innerHTML = docLinkHtml;\n",
              "          element.appendChild(docLink);\n",
              "        }\n",
              "      </script>\n",
              "    </div>\n",
              "  </div>\n",
              "  "
            ]
          },
          "metadata": {},
          "execution_count": 5
        }
      ],
      "source": [
        "soporte.head(5)"
      ]
    },
    {
      "cell_type": "markdown",
      "id": "591c0cdf",
      "metadata": {
        "id": "591c0cdf"
      },
      "source": [
        "### Análisis Exploratorio Inicial\n",
        "\n",
        "Realice un análisis exploratorio inicial en donde pueda determinar:\n",
        "\n",
        "- Estructura del dataframe\n",
        "- Cantidad de datos\n",
        "- Valores nulos\n",
        "- Valores duplicados\n",
        "- Outlaiers"
      ]
    },
    {
      "cell_type": "markdown",
      "source": [
        "### Estructura del dataframe"
      ],
      "metadata": {
        "id": "gSSLe-_aJGtV"
      },
      "id": "gSSLe-_aJGtV"
    },
    {
      "cell_type": "code",
      "execution_count": 6,
      "id": "2fc791ce",
      "metadata": {
        "colab": {
          "base_uri": "https://localhost:8080/"
        },
        "id": "2fc791ce",
        "outputId": "c3e01d19-5ad9-432e-cca7-cb2e082f17c2"
      },
      "outputs": [
        {
          "output_type": "execute_result",
          "data": {
            "text/plain": [
              "(1846, 3)"
            ]
          },
          "metadata": {},
          "execution_count": 6
        }
      ],
      "source": [
        "soporte.shape"
      ]
    },
    {
      "cell_type": "markdown",
      "source": [
        "### Cantidad de datos"
      ],
      "metadata": {
        "id": "h0sIJa_gJIjI"
      },
      "id": "h0sIJa_gJIjI"
    },
    {
      "cell_type": "code",
      "source": [
        "soporte.count()"
      ],
      "metadata": {
        "colab": {
          "base_uri": "https://localhost:8080/"
        },
        "id": "Cv6tl-s_OS-w",
        "outputId": "0fff5d4f-25a7-47de-f1a1-453e2289811d"
      },
      "id": "Cv6tl-s_OS-w",
      "execution_count": 50,
      "outputs": [
        {
          "output_type": "execute_result",
          "data": {
            "text/plain": [
              "dataset    1846\n",
              "x          1846\n",
              "y          1846\n",
              "dtype: int64"
            ]
          },
          "metadata": {},
          "execution_count": 50
        }
      ]
    },
    {
      "cell_type": "code",
      "execution_count": 7,
      "id": "ddcd3b14",
      "metadata": {
        "colab": {
          "base_uri": "https://localhost:8080/"
        },
        "id": "ddcd3b14",
        "outputId": "e63be1d7-f424-4d4f-d26f-554dd99883d2"
      },
      "outputs": [
        {
          "output_type": "execute_result",
          "data": {
            "text/plain": [
              "dino          142\n",
              "away          142\n",
              "h_lines       142\n",
              "v_lines       142\n",
              "x_shape       142\n",
              "star          142\n",
              "high_lines    142\n",
              "dots          142\n",
              "circle        142\n",
              "bullseye      142\n",
              "slant_up      142\n",
              "slant_down    142\n",
              "wide_lines    142\n",
              "Name: dataset, dtype: int64"
            ]
          },
          "metadata": {},
          "execution_count": 7
        }
      ],
      "source": [
        "soporte['dataset'].value_counts()"
      ]
    },
    {
      "cell_type": "code",
      "source": [
        "soporte['x'].value_counts()"
      ],
      "metadata": {
        "colab": {
          "base_uri": "https://localhost:8080/"
        },
        "id": "ZQLfag4kKOUq",
        "outputId": "f76a2f9a-411f-4dcd-fd2f-daa83e7c1c58"
      },
      "id": "ZQLfag4kKOUq",
      "execution_count": 8,
      "outputs": [
        {
          "output_type": "execute_result",
          "data": {
            "text/plain": [
              "29.743600    4\n",
              "56.666700    4\n",
              "50.000000    4\n",
              "67.948700    3\n",
              "59.230800    3\n",
              "            ..\n",
              "71.867013    1\n",
              "73.242002    1\n",
              "68.942075    1\n",
              "74.114231    1\n",
              "34.583829    1\n",
              "Name: x, Length: 1804, dtype: int64"
            ]
          },
          "metadata": {},
          "execution_count": 8
        }
      ]
    },
    {
      "cell_type": "code",
      "source": [
        "soporte['y'].value_counts()"
      ],
      "metadata": {
        "colab": {
          "base_uri": "https://localhost:8080/"
        },
        "id": "aQaGoshDKRXU",
        "outputId": "5be19de3-58eb-4f56-ac1f-101180569600"
      },
      "id": "aQaGoshDKRXU",
      "execution_count": 9,
      "outputs": [
        {
          "output_type": "execute_result",
          "data": {
            "text/plain": [
              "10.641000    6\n",
              "18.333300    3\n",
              "55.256400    3\n",
              "46.025600    3\n",
              "51.410300    3\n",
              "            ..\n",
              "68.479564    1\n",
              "73.523719    1\n",
              "81.711480    1\n",
              "79.896066    1\n",
              "89.588902    1\n",
              "Name: y, Length: 1807, dtype: int64"
            ]
          },
          "metadata": {},
          "execution_count": 9
        }
      ]
    },
    {
      "cell_type": "markdown",
      "source": [
        "### Valores nulos"
      ],
      "metadata": {
        "id": "fer2IxYIJJbJ"
      },
      "id": "fer2IxYIJJbJ"
    },
    {
      "cell_type": "code",
      "source": [
        "soporte.isna().sum()\n",
        "\n",
        "#No hay valores faltantes."
      ],
      "metadata": {
        "colab": {
          "base_uri": "https://localhost:8080/"
        },
        "id": "Znu3VboEJJJA",
        "outputId": "d6eb908b-fd72-49c9-bb12-69b2029296bd"
      },
      "id": "Znu3VboEJJJA",
      "execution_count": 48,
      "outputs": [
        {
          "output_type": "execute_result",
          "data": {
            "text/plain": [
              "dataset    0\n",
              "x          0\n",
              "y          0\n",
              "dtype: int64"
            ]
          },
          "metadata": {},
          "execution_count": 48
        }
      ]
    },
    {
      "cell_type": "markdown",
      "source": [
        "## Valores duplicados"
      ],
      "metadata": {
        "id": "teaZV2yxLxj8"
      },
      "id": "teaZV2yxLxj8"
    },
    {
      "cell_type": "code",
      "source": [
        "soporte.duplicated(subset = ['dataset','x','y']).sum()\n",
        "\n",
        "#No hay valores duplicados."
      ],
      "metadata": {
        "colab": {
          "base_uri": "https://localhost:8080/"
        },
        "id": "gyd-L7jmLwpF",
        "outputId": "4d5a0e1f-b86b-46bb-9665-0088170e72ca"
      },
      "id": "gyd-L7jmLwpF",
      "execution_count": 49,
      "outputs": [
        {
          "output_type": "execute_result",
          "data": {
            "text/plain": [
              "0"
            ]
          },
          "metadata": {},
          "execution_count": 49
        }
      ]
    },
    {
      "cell_type": "markdown",
      "source": [
        "## Variable X"
      ],
      "metadata": {
        "id": "hCvFNIBoMkLJ"
      },
      "id": "hCvFNIBoMkLJ"
    },
    {
      "cell_type": "markdown",
      "source": [
        "### Descriptivas X"
      ],
      "metadata": {
        "id": "QDR-kudaMfD9"
      },
      "id": "QDR-kudaMfD9"
    },
    {
      "cell_type": "code",
      "source": [
        "plt.hist(soporte['x'], bins = 90, edgecolor='black')\n",
        "plt.show()"
      ],
      "metadata": {
        "colab": {
          "base_uri": "https://localhost:8080/",
          "height": 433
        },
        "id": "VexNvpJXLzOA",
        "outputId": "843d800c-3a6e-457c-e0a9-8477b05598a8"
      },
      "id": "VexNvpJXLzOA",
      "execution_count": 52,
      "outputs": [
        {
          "output_type": "display_data",
          "data": {
            "text/plain": [
              "<Figure size 640x480 with 1 Axes>"
            ],
            "image/png": "[encoded data removed]"
          },
          "metadata": {}
        }
      ]
    },
    {
      "cell_type": "code",
      "source": [
        "soporte['x'].describe()"
      ],
      "metadata": {
        "colab": {
          "base_uri": "https://localhost:8080/"
        },
        "id": "lKdfoNayLmAM",
        "outputId": "1820efa9-d08f-42b5-cc4c-ffbeff535ded"
      },
      "id": "lKdfoNayLmAM",
      "execution_count": 12,
      "outputs": [
        {
          "output_type": "execute_result",
          "data": {
            "text/plain": [
              "count    1846.000000\n",
              "mean       54.265695\n",
              "std        16.713001\n",
              "min        15.560750\n",
              "25%        41.073403\n",
              "50%        52.591269\n",
              "75%        67.277845\n",
              "max        98.288123\n",
              "Name: x, dtype: float64"
            ]
          },
          "metadata": {},
          "execution_count": 12
        }
      ]
    },
    {
      "cell_type": "markdown",
      "source": [
        "### Outlaier X"
      ],
      "metadata": {
        "id": "iZqvW0jUJJ5Q"
      },
      "id": "iZqvW0jUJJ5Q"
    },
    {
      "cell_type": "code",
      "execution_count": 13,
      "id": "e441cadf",
      "metadata": {
        "colab": {
          "base_uri": "https://localhost:8080/",
          "height": 542
        },
        "id": "e441cadf",
        "outputId": "caf646aa-defe-445e-b6db-1074c3b5ed86"
      },
      "outputs": [
        {
          "output_type": "display_data",
          "data": {
            "text/html": [
              "<html>\n",
              "<head><meta charset=\"utf-8\" /></head>\n",
              "<body>\n",
              "    <div>            <script src=\"https://cdnjs.cloudflare.com/ajax/libs/mathjax/2.7.5/MathJax.js?config=TeX-AMS-MML_SVG\"></script><script type=\"text/javascript\">if (window.MathJax && window.MathJax.Hub && window.MathJax.Hub.Config) {window.MathJax.Hub.Config({SVG: {font: \"STIX-Web\"}});}</script>                <script type=\"text/javascript\">window.PlotlyConfig = {MathJaxConfig: 'local'};</script>\n",
              "        <script src=\"https://cdn.plot.ly/plotly-2.18.2.min.js\"></script>                <div id=\"d96f6a56-9eee-4bb8-ac9c-9713aface383\" class=\"plotly-graph-div\" style=\"height:525px; width:100%;\"></div>            <script type=\"text/javascript\">                                    window.PLOTLYENV=window.PLOTLYENV || {};                                    if (document.getElementById(\"d96f6a56-9eee-4bb8-ac9c-9713aface383\")) {                    Plotly.newPlot(                        \"d96f6a56-9eee-4bb8-ac9c-9713aface383\",                        [{\"alignmentgroup\":\"True\",\"hovertemplate\":\"x=%{y}<extra></extra>\",\"legendgroup\":\"\",\"marker\":{\"color\":\"#636efa\"},\"name\":\"\",\"notched\":false,\"offsetgroup\":\"\",\"orientation\":\"v\",\"showlegend\":false,\"x0\":\" \",\"xaxis\":\"x\",\"y\":[55.3846,51.5385,46.1538,42.8205,40.7692,38.7179,35.641,33.0769,28.9744,26.1538,23.0769,22.3077,22.3077,23.3333,25.8974,29.4872,32.8205,35.3846,40.2564,44.1026,46.6667,50.0,53.0769,56.6667,59.2308,61.2821,61.5385,61.7949,57.4359,54.8718,52.5641,48.2051,49.4872,51.0256,45.3846,42.8205,38.7179,35.1282,32.5641,30.0,33.5897,36.6667,38.2051,29.7436,29.7436,30.0,32.0513,35.8974,41.0256,44.1026,47.1795,49.4872,51.5385,53.5897,55.1282,56.6667,59.2308,62.3077,64.8718,67.9487,70.5128,71.5385,71.5385,69.4872,46.9231,48.2051,50.0,53.0769,55.3846,56.6667,56.1538,53.8462,51.2821,50.0,47.9487,29.7436,29.7436,31.2821,57.9487,61.7949,64.8718,68.4615,70.7692,72.0513,73.8462,75.1282,76.6667,77.6923,79.7436,81.7949,83.3333,85.1282,86.4103,87.9487,89.4872,93.3333,95.3846,98.2051,56.6667,59.2308,60.7692,63.0769,64.1026,64.359,74.359,71.2821,67.9487,65.8974,63.0769,61.2821,58.7179,55.1282,52.3077,49.7436,47.4359,44.8718,48.7179,51.2821,54.1026,56.1538,52.0513,48.7179,47.1795,46.1538,50.5128,53.8462,57.4359,60.0,64.1026,66.9231,71.2821,74.359,78.2051,67.9487,68.4615,68.2051,37.6923,39.4872,91.2821,50.0,47.9487,44.1026,32.3311102266,53.4214628807,63.92020226,70.2895057187,34.1188302357,67.6707164012,53.2591294055,63.5149808671,67.9805388133,67.3724659005,15.5607495229,71.7907676942,70.2425464362,64.9374355444,62.2135245453,67.2694004772,40.5701970446,74.7411813341,71.7683189223,76.1669198143,65.6236574431,50.8506336394,33.0240700249,39.7063261674,45.5964849542,42.9680469104,52.4944067819,46.0822757831,74.2477082092,64.5682641863,74.0216939058,62.3911805626,74.189036683,28.2367819396,75.7719387944,75.8552294691,65.9708570175,21.7780404779,67.7597962473,78.6171953363,68.5077081898,74.8850211598,66.4549036599,77.3178020985,58.9124603193,57.617447817,76.0882257967,57.4660505497,79.4283834934,76.3565221496,64.4050752632,40.6350418091,43.9498645857,30.9962205791,68.2307689907,72.0463894612,46.5927679682,49.2572183396,42.7817612539,65.475952195,71.9650826544,32.1464623358,31.8384976954,31.0052582572,80.4708943189,71.9641671122,78.0794214417,41.6775957748,65.953595185,62.9344593731,64.3737979844,72.5093283599,30.0522898741,28.0033242354,75.4012268619,38.9800154218,65.2199135479,73.0539899616,34.3983616372,43.4904501336,55.138737967,43.6843934333,35.9036097344,45.3780188805,39.7774828713,38.6644611569,39.0440366877,91.6399614428,47.4881326771,44.5902125769,39.0896145478,42.2293783752,37.0003871448,39.0520864793,37.4884147432,69.3595594592,43.542775926,39.8112302539,70.0689259404,70.0405435824,39.505789079,62.5168908529,72.1399254065,45.2515760666,42.0633045627,36.3556951539,30.3918276596,36.4490038543,40.467576002,81.7246168002,48.8231974964,35.6205617651,50.5839631148,61.8564651063,39.3237560262,42.1856791429,30.8469189898,29.3462004281,82.1105579783,38.3020058088,56.5841530218,33.3393742865,78.7742390407,27.9226442446,71.6978651182,74.1383313856,32.579020066,59.83218542,35.0306285457,74.3001198284,63.2501970628,34.1730737648,40.9138319319,62.8332930874,42.4767923803,52.0334562787,48.9070429644,59.8518383854,48.9604602016,46.8448551673,39.9630215796,66.704943997,53.366566866,52.8019793617,47.0541298828,42.4484337816,42.7040363241,32.3789386326,32.5307027362,33.3652644305,32.6560991775,22.9550932697,27.1498436318,26.1669092779,26.3314570795,22.0037091415,23.2847479782,27.6340383923,32.0371080007,29.3365106528,40.816953133,42.7390751173,51.8678937691,43.3710018924,53.0427983006,56.6189102967,70.568289819,67.870887292,58.8215465891,60.1869278445,59.4355174849,49.5858434795,41.7797417848,46.1276863394,38.0337837705,44.5468412844,46.2381175975,49.7397453317,39.1102518936,39.1428377913,34.6254702671,34.7542074707,36.7537002386,37.0193512929,41.4171152753,22.8171074784,34.800701463,27.8918897953,32.8706391587,37.7940494081,35.6673163042,48.4422995026,58.6693732631,47.9169554375,51.8941663939,51.7490891643,58.2465530013,57.3106968674,67.9680481127,65.9493192681,55.7470928102,68.4030100436,76.696465628,67.2148371159,72.3020057291,66.7632573944,51.6803004439,53.0965573571,42.2422929389,56.2338756577,54.6809865825,57.9026866088,51.8202625467,56.8283953362,58.2722785867,51.8281274487,44.8499842618,24.2703823928,34.7424714403,37.7993149267,49.7869410649,59.751497414,64.7747992444,70.8444476004,70.6059455116,78.6424883907,70.810692254,66.7699466213,73.3363681612,73.1051481627,74.6782541432,80.240250951,70.9468490729,88.6626638086,84.405952832,75.9871047068,91.1120854191,98.2881232748,95.0652748396,95.2492339568,49.6561262881,63.0186009279,70.5382006004,70.0868697658,62.6856904424,69.239417959,80.4002336791,74.6478782284,65.9952727194,67.0885590036,59.8525770283,53.7489900744,58.2390955164,54.810300495,52.9767123211,52.2038939272,50.7451622429,42.7131936166,45.3172255098,53.116915041,57.049801823,54.8546309465,54.9248425638,63.3095540306,49.7494984129,41.1693104232,46.6883404976,52.4189219215,50.8784883796,57.0533061394,70.7864511597,56.7721495656,75.4772220231,76.7659121498,77.621049129,65.4144870523,69.9647805002,64.9697382623,38.0502407785,42.2241202189,87.6984642949,52.3603310701,51.4067867898,43.588468468,50.4815081703,50.2824056687,50.1867033389,50.3269108629,50.4562073315,30.4648469308,30.5015964737,30.489569227,30.45024833,30.5183947985,30.5116612138,30.4980777147,30.6202277519,30.4921854231,30.474634333,30.500998079,30.4944213623,30.4995445502,50.144392979,49.9128985877,50.3374274859,50.4189791992,50.2052589714,50.4353151633,69.5057889042,69.5340709833,69.5101069302,69.5263228876,49.9472399619,50.0631041291,50.489902373,49.6888638379,50.3334811097,50.4467514196,50.4209091963,50.3740520508,30.4768299051,30.5034743497,30.5048349283,30.4622184647,30.491302622,30.449653838,30.4859942157,30.5020767935,30.4780588886,30.5011608787,30.5047730174,30.509115326,50.1156321728,50.4483013392,50.17317743,49.9227419194,50.3112993746,50.3994096114,50.3373626448,50.2023180965,50.2749326091,69.4943803061,69.5193397556,69.5291826079,69.495755496,69.199057706,69.5510914402,69.5066843151,50.4441175504,50.4672293846,50.210881979,50.205406955,50.4382906648,50.3735188462,50.253683689,50.2504708592,50.0870583609,50.2310718829,50.2077411201,30.4995061735,30.5203612407,30.4549558873,50.4164772292,69.5250693831,69.5202566002,69.4989700668,69.5286156637,69.4997669273,69.5038013697,69.4875893963,69.5191157281,69.5043762947,69.5125730109,89.4942005622,89.5001240511,89.490246254,89.49778562,89.5048511306,89.5010526463,89.4888412549,89.5016235276,89.497529662,50.4390920216,50.179850128,69.5050706711,69.5798670452,69.5064719492,69.4994788728,69.500264751,69.5041565157,69.5322795847,69.5001114942,69.5048154243,69.5034745234,50.3774019862,50.3394254813,50.0936501016,49.9341271714,50.2888186122,50.2879944267,50.2347207,50.2797016367,50.2530067222,50.4741411162,50.1084399725,49.919058249,50.0836645085,50.3522608355,50.4975722411,50.0163058346,50.4682212165,69.5506789842,69.5186727475,69.5034574098,69.4994868291,69.5275296829,69.5190952617,69.5618994268,69.5010445197,69.524635976,30.4995937106,30.487391709,89.5001804719,50.4102716314,50.3259243927,50.1040315041,38.3377571839,35.7518707905,32.7672179591,33.7296067755,37.238249327,36.0271982243,39.2392807768,39.7845249391,35.1660293896,40.622115916,39.181907086,42.4308889944,43.0812558617,44.3607194344,44.3247788435,47.552160202,48.6649246215,46.280631958,50.5632444849,52.6309642318,54.6362064446,51.346027139,57.134855354,54.1712415737,50.9423823071,66.512924456,64.3979095023,68.686593294,65.0277937057,53.3045031712,52.9451780881,45.225738199,50.8433046202,49.6592939398,47.1427889348,41.2700565259,47.1301271555,40.9159715783,38.6601639737,42.6125508262,41.2090395008,50.6492211499,52.1319019406,39.7972712705,43.5498814807,36.7146633371,37.2246101278,40.5124478537,40.2220627884,44.1249612057,42.3462616039,44.1890843708,45.8142453101,46.6431192691,52.1898883047,51.1003173587,65.4008341477,64.8520398267,63.4038060118,65.3715488709,61.9080397046,71.8266529973,72.6546231621,76.8885781632,43.7446196844,39.0542484428,39.9316746322,39.762826107,41.323383287,41.7873232275,39.7556490651,40.7498793985,43.8568984983,42.3678224956,39.4629598364,44.5173339492,41.6360929963,45.4229321817,42.0028562742,76.1056290282,79.2025626772,84.8482440854,81.5644753207,85.4461864009,80.3124913784,80.7662322969,82.6701124763,77.1636254828,74.0707000309,74.1142308687,68.942075458,73.2420023309,71.8670131631,71.5691888532,71.4829096934,78.1285220512,78.789825254,77.7815467962,48.5306293681,65.5307814724,70.1180341426,70.4722626065,76.7911300701,72.4093545935,76.271299815,76.9532591384,75.1077300904,75.9692852004,75.2838870131,77.0522406385,42.8267563374,42.0806606852,39.8783046498,36.4754991726,37.1030736419,34.1489682077,37.5794219113,41.0643057894,42.195266147,36.6055782383,39.4311612098,37.5620763361,34.2381100444,34.1409410386,36.6592676972,40.6437192795,36.7924815919,75.9483006427,76.8406924717,81.9504776395,81.6437056853,84.6102197758,84.1028794336,80.18002545,80.5732729943,79.0043268649,40.0481864651,34.7945935378,79.221764441,36.0308797708,34.4995583102,31.1068665551,58.2136082599,58.1960536923,58.7182307185,57.27837287,58.082020494,57.4894477748,28.088741319,28.0854682136,28.087273053,27.5780252176,27.7799191139,28.5889998149,28.7391414969,27.0246032407,28.8013366963,27.186463838,29.2851466002,39.4029453026,28.8113284396,34.3039579069,29.6027609801,49.1161568603,39.6175458263,43.23308466,64.8927879422,62.4901493154,68.9880844294,62.1056186306,32.4618467439,41.3272006535,44.0071499323,44.0740606888,44.0013152386,45.0063004454,44.4438406096,42.1787133986,44.0445656189,41.6404540171,41.9383300069,44.0539275103,39.2067193308,28.7044492315,31.7086628996,42.8117114739,43.300614891,40.3986329069,40.4356915763,40.9365466658,39.6615736653,40.899259175,41.9686168283,40.3834058238,56.5381264538,52.9706912828,54.6209525885,65.0990443941,63.0559909076,70.9601362323,69.8958192404,70.5958928563,69.6470214273,77.392982494,64.4007871926,63.8689598271,56.5944213157,56.5313372853,59.6521583697,56.6365087005,58.6722880025,58.2216127264,57.9146644768,55.3155090581,54.5757285877,54.4130936504,55.0745059041,29.4329605156,29.4226860665,29.0056141576,58.4618385916,57.997804739,57.5494740761,59.5299284566,58.2493910631,58.0245140126,58.3821244904,62.5667590405,72.1758243064,79.4727615693,80.3577008812,78.7572361375,82.5402395934,86.4358971909,79.4886844186,81.5304203188,79.1867885665,77.8990579454,75.1307142075,76.0580137544,57.6146743876,56.1713975295,66.2878905956,67.8817196169,64.0280813016,77.4966517463,77.6346517616,77.8637264289,77.3381581659,76.1804165329,77.2526510945,77.4133752817,76.7318493982,49.4711054118,42.4765399431,43.5951158622,50.3399696652,40.7489802561,38.3865255803,38.4040152085,38.7642788913,41.4701423265,47.1554048146,39.5825667453,41.7402438167,39.3118718889,41.6798476925,39.0874644519,41.4815028637,77.6060865492,75.9826615205,76.9457572424,77.5437200743,77.5847398447,76.8223042562,77.3485716647,77.5731526867,77.9726106776,41.5289197586,43.7225508034,79.3260781751,56.6639740815,57.8217892319,58.2431718991,57.6132335477,51.2743918205,50.7538984114,37.0211840116,42.8817550897,37.1557104777,38.7318581261,31.0005254108,25.9854996226,23.7145662909,23.077319507,24.9391368744,17.8934987136,23.6730818572,23.7490719056,32.2151786343,29.4368412489,40.0500951983,37.5747950188,49.3104686263,47.3480185524,50.157414434,58.2100082697,56.6089076561,52.8338205303,61.8185854576,61.7276334143,62.1922520815,58.1187658587,58.2704123843,59.7665303129,52.5355347207,50.8925215809,49.9675511775,51.3478832298,37.5551162883,39.1995941778,36.3827221955,41.1006943822,28.2178118248,33.7970720433,43.9193873055,44.4164011084,28.0376027706,31.6895761296,27.2796128523,31.2218783581,33.5458051034,39.7363306065,42.8418426525,47.0937298879,51.4536583539,49.3677068167,48.2534809736,61.0029597643,60.8065608049,59.0674270249,61.4146337175,68.9343694692,63.0652438592,72.2725228706,75.3598819664,72.8336258709,70.8104148392,45.8019347617,45.835020171,40.0788064496,51.9829247003,57.337906053,62.3362327624,58.5059100905,56.2479351377,55.4065208295,53.2839688423,44.6767615455,30.0112642472,29.7452539206,37.3099483549,61.1359469093,61.7206191907,63.6093798555,70.7237162322,75.0063926418,75.0925497814,70.3279291834,70.8633308324,75.7799048195,78.0936590733,76.7457612243,78.4646034437,76.7456848486,85.161682187,91.8083525691,91.8874485924,92.2484016622,91.782532741,96.0805193672,92.2478988278,57.662276619,59.8469248931,64.0670962137,60.9815013975,59.9670579092,62.7074541119,69.1952352018,65.5923626471,64.6170985343,59.191159132,55.8396313724,59.0007586238,56.4593711284,52.3581053558,51.8116637782,54.222845621,49.0187553996,35.6535812004,46.965785757,49.5842392555,51.8562999655,55.9528886329,51.6637862607,45.8596693166,39.7403795202,52.8112216438,56.7891043639,54.1145317806,55.571119732,65.3064624975,66.9907491546,72.1567189391,70.9805804021,72.2220822073,79.7001583481,64.2491606461,66.9432914334,66.9416766634,39.6482666468,37.9497836858,86.5043905611,50.8154853559,51.1834666638,40.8638552293,51.1479167122,50.5171258092,50.2074801993,50.0694819181,50.5628463386,50.288527801,25.5834750822,25.4835833896,25.4435257049,25.5651134237,25.9288442731,27.5514782612,27.5304663693,27.0955703605,27.4392496133,27.8782642594,27.3388689181,27.6784029741,52.6356576791,52.0252141055,52.8811647904,52.9526073133,52.5205524936,52.3428220582,51.9275902141,52.7137744894,50.4438027888,50.2166950326,52.1841801076,52.7920973459,52.5897198565,52.0288486671,52.729246581,52.8843132864,52.5093008862,50.8626843321,50.8914922458,25.8551275976,26.0256445518,27.8931727187,27.6399679354,27.892658895,52.7977329399,27.5806388053,26.4913985349,25.9853178159,26.2014192753,25.8575694746,50.7046843629,50.8119753465,50.5648455577,50.9393039127,50.4588548392,52.9013640729,52.6849534438,52.500088943,51.8356372562,76.9954121013,77.310600475,77.9260443352,77.2543883433,76.2431578028,77.0844843669,75.2280531954,50.6583547714,50.2033658114,50.9295476993,50.1786718465,50.422698058,50.4642248341,50.4492703306,49.9283802752,50.4880136436,49.9649053793,50.7521082559,27.4224292143,27.6740833991,27.5373953151,52.2633473764,51.7372816586,75.8709636929,75.2443262052,75.1982952889,75.7010415321,75.4793396586,75.1945668739,74.8202539551,75.1643404933,75.2633555474,77.7564189331,77.9544350549,77.0833377719,76.0635502513,77.6820163247,76.8780819814,76.9485027211,77.8640547124,75.7714500936,52.3315691301,52.5928183721,50.4770477213,75.2964750909,75.573954129,75.4005271583,75.8709908356,75.6058847579,75.8955770466,75.7465632023,75.1423414811,50.6617795563,50.6998506392,50.9189408654,50.7252585405,51.2638712274,51.2509196468,50.7851572052,50.5013965822,50.7336745372,50.7113785398,50.8127448984,51.014232955,50.3535214052,50.4355295722,50.6309819633,51.0668072036,50.7923547263,50.5512780561,50.5597580562,75.3259785471,75.04472578,75.2870877232,75.2399699777,75.1524592023,75.9618400861,75.4480625064,75.7593838168,50.378262298,50.5336350094,77.5009073165,50.6911241884,49.9903949511,50.1271820272,55.9930301513,50.0322537946,51.2884586593,51.1705368873,44.3779145287,45.0102700721,48.559816719,42.1422682922,41.0269715735,34.5753090115,31.1686007236,32.6442540714,26.6666456539,26.4592623274,25.5380076465,26.3207111933,26.1633874648,25.2137904611,26.8595295604,31.7606691716,39.7932905744,45.6174391854,53.7714606827,56.4514336733,66.0937201989,56.9258394194,58.9882538467,57.9022660533,64.8128669568,60.3497935166,48.890555756,47.549506348,30.8894308257,28.972835724,35.1613607523,45.8703691685,32.8314206076,39.4855747899,33.4461829314,21.8635812756,25.1658708449,22.9594789762,25.5860552415,26.3143100672,33.037301251,36.4688894772,26.5135531009,36.0270912125,42.6810404129,45.0410771273,47.3524164557,53.8461940322,55.1296393835,52.1881199617,58.6726630845,82.1443116037,75.6865711383,85.344964503,83.8446535127,85.66476066,77.931004934,73.0318330209,70.1028044999,57.1446946889,46.9624619942,50.5649338128,53.7196765696,54.2002323226,47.875198343,51.4734585149,52.7512222162,48.5622230047,53.0812416908,56.475383374,49.570911405,37.6277032991,32.2637000863,32.542380336,52.8250171923,58.5282895407,56.265834263,57.0758924193,54.2564023808,62.6856712475,68.0856058616,65.1181219632,68.7456312971,63.0902251412,77.2045893204,82.0339084758,81.5779459183,85.1801432805,84.2868249936,85.6224867126,85.6044990156,84.4247858276,85.570985078,84.6267242006,73.3961549252,73.5074477338,63.3564881135,72.9590468722,64.0208416469,61.124463241,75.6742073297,69.5135831574,58.5721354669,70.9819409865,65.2230303973,65.3150439093,64.0102406778,57.1409359294,56.3651532552,43.046183241,52.0817555582,42.8790365154,51.5669948027,58.8391251216,60.7557891374,54.7611561181,53.5699050003,48.9146182416,52.6461373069,49.8384929905,52.6840664009,65.8072190346,60.6739209233,63.394712866,64.8020094467,65.0259398087,65.7555515404,69.9677341245,68.8927840241,61.8265465579,60.7879700808,61.9156096372,45.0289975331,39.9213628084,84.7942778751,55.6629587449,50.4922475132,51.4671011416,51.2038911373,58.9744699018,51.8720726696,48.1799307865,41.6832004024,37.8904155015,39.5489736947,39.6495738769,34.7505970472,27.560835291,24.6355399754,20.9594648125,20.6891490538,19.2882047369,20.0245005746,35.4695229971,36.8943276507,39.0555497751,46.9570801494,37.3104527352,40.0096720019,48.0143866846,53.7037759268,63.0674998921,62.0480325076,59.8399667124,55.1609418175,61.2797865792,60.8349175348,61.5205906458,36.916543863,38.5021996714,48.6643707344,50.2852524042,42.276332666,54.0317756204,37.3293552552,41.389522551,40.0746666572,35.3496806211,34.7637004189,37.0266294472,36.4555695327,35.5376642131,20.4089478892,23.4957104659,29.5575433634,33.0082339121,53.9803991821,52.2343086004,59.5030766063,41.1637810689,48.9930401201,59.2692803248,45.4691770035,62.6912665406,73.4286708654,70.846426107,71.5390198495,67.6208658884,72.4709525633,64.8122375621,60.8536798727,67.7894961571,41.6095572691,53.0030253202,54.7141710591,44.2916687157,49.1917219555,53.1013817819,51.599848153,54.3797219484,46.4807681047,53.174656268,45.272002941,36.03340215,28.2711941653,25.0548060847,64.7588870014,63.1445274767,50.4246786898,70.6449962629,63.1490490834,62.8240245172,70.236869515,70.0427352449,72.5706234458,75.1307160373,83.2939057345,79.6642622775,88.4321025254,89.1155590082,89.0921976305,91.7260057727,91.7355387598,91.5078881747,88.239001904,88.5305192041,55.3651603364,62.5602588694,58.0066691227,55.0671179917,61.6147759612,68.5431435378,77.7061096487,68.4530459999,68.2572064402,70.2554746739,65.0443252778,60.0922466078,52.9920289667,50.1446289773,46.5086141932,43.8070319612,57.8178546865,50.9404926595,63.4973230835,50.0164829541,58.6367650809,54.7302890863,65.8755478023,57.0609827131,46.819907946,38.3593948725,47.3154157773,55.0519165396,50.5159602579,49.6774146514,67.2806595188,66.1730182606,61.0885441374,66.0530857731,72.6699892655,61.503472503,68.995028632,78.2499161658,36.4819805699,50.9677483784,91.1910536059,55.8637684939,49.2805947987,43.3685015447,47.6952008891,44.6099759113,43.8563814822,41.5789293984,49.1774185559,42.6522509813,30.1233318217,31.915519986,27.8877193574,27.5482344526,20.2097781637,24.4434528292,24.6308301331,21.0379688969,27.106242932,28.0896176553,31.1357349152,37.700837521,43.3926884016,51.2623974761,43.2867129203,55.9059162338,50.198958949,55.761587372,58.3231396505,70.171457528,60.600276471,63.7602750188,54.3894952619,55.2412969947,49.0701267502,46.0181190216,44.7595874356,51.6006241332,36.4658820182,33.3947987327,37.5800715749,36.619722059,36.1634664356,33.1677570349,42.6449829318,47.2250252695,48.3923630032,27.2451932001,30.4043143388,30.0807992865,33.9806339675,34.2506117649,51.1411835714,49.899592066,55.5898773424,55.4820563581,63.5729393821,59.0250770848,62.4237785929,47.849907703,52.2685616825,68.8510215758,65.6763960251,77.7468851148,80.352934115,60.3375864858,61.6587233282,71.5450389858,49.0409566406,51.8868880222,57.968981435,54.855664646,54.1331954613,51.3088252568,61.1203943844,55.5638650304,55.044123361,50.4441853247,43.8277089981,37.7914323802,29.292783111,32.1920969515,51.4339355233,67.4641398118,65.1507052757,65.5834276962,69.2889731377,81.2694405511,78.5757448361,74.1867734997,72.622209414,75.1415195918,75.168667839,85.3242028911,84.090507598,86.2562238205,92.5487933153,90.3426345089,85.8191629042,90.4418181137,92.0175590822,95.2605278366,41.2902998033,66.4313243161,63.9863468858,61.2696820905,60.7493891909,64.6552305634,68.6382807138,65.7766651568,71.1341263421,63.7231835039,73.0014940701,72.436657497,68.4127671225,52.8583150204,53.5299526734,50.7597410528,42.53480844,41.5303978512,46.7145179915,48.4506176492,59.6326101247,61.6185682473,48.8339891275,45.3426531889,42.4150122932,58.9347650647,60.6836260407,54.8117983683,61.5868424253,59.7160077628,58.4163840114,59.243809528,56.5943646385,68.4925132247,65.0059431717,63.9210367078,53.5129705438,57.8328062743,31.0329174395,31.3332440932,86.4015498466,47.4421116354,46.2647413368,40.1638157437,52.8720214902,59.0141444945,56.3751090389,37.8391996844,39.8853734176,44.0774051326,31.4970254888,25.9525965456,36.4347239148,24.997482691,32.2462751352,18.1094722949,21.7960992263,24.150491069,28.6031956015,20.9319996761,35.4355325251,44.3773828236,46.313692406,46.3860739231,42.4954400876,44.3005150328,46.9882833458,52.4215231623,64.090998189,63.0168717563,67.3025779226,67.2259568904,50.309988715,45.4126389249,54.0206071815,49.8420222483,50.7132995657,55.0455549106,37.5437012597,39.7958978066,28.5233910215,31.3996460012,39.2415652162,27.7140565712,32.9607035213,35.4047362397,51.6422264225,34.207620843,36.5234892198,28.4192021281,26.1604969417,40.435327397,44.544955314,40.1237272008,42.1848064503,40.0026592892,57.1252310509,60.375744968,55.1058961252,61.7372710245,55.7412443246,58.2964084158,57.0425482213,76.7756112073,71.8870772602,73.7883730663,75.1396847343,64.5963189058,46.9095386323,46.9051031994,49.8069877356,48.8632418189,66.7481899024,62.3597662841,47.3748964954,47.4464667165,53.385280634,49.4527077733,54.8026825363,37.0882451339,32.3759619238,37.4770138847,52.4066488967,50.2970432655,61.5633243835,61.0865603919,59.2364904011,66.1540050863,67.2313347767,73.7099068702,76.5804513576,78.8765811639,77.4490021363,86.8537073476,79.806531301,76.9882734745,79.4793575017,82.3041595613,90.700691247,95.4434878077,94.9974880471,91.517847246,62.2926421901,59.2034756073,65.2563927704,62.4447424979,72.4624062907,69.9194262552,77.7628590782,72.7784101997,65.198316667,69.4598588916,59.3150555205,51.487713355,57.1124475509,50.2244178157,50.4338611907,56.3803054046,54.8635045999,45.4998576493,49.9367453057,53.8098729164,59.8526782804,48.1756567942,50.7417190667,58.4597612975,50.1145975193,45.4203820755,51.3532681954,53.091704424,58.9431665444,59.3109904219,68.2221986595,62.5117719862,69.3800563617,82.8002478704,85.1603321777,67.095847697,62.307750573,59.9704150458,39.9116351739,39.5965009783,95.5934163965,52.772288113,53.1786144535,37.6270534612,65.8155400946,65.6722651618,39.002716451,37.7953028026,35.5139005857,39.2194529062,31.5882013862,32.6577782482,31.6415992679,30.9871426099,27.4396322054,30.5783699449,28.809401637,27.9395185786,33.8499497887,32.628463049,32.4386500903,35.8382920833,37.1420429198,34.6445467746,35.675404696,64.99458547,66.1291498342,65.790651882,67.5017806138,67.6295142176,63.9100640599,66.5493579687,64.0515417112,68.1932895833,65.2783891952,34.9976613883,33.9237661692,66.0044543688,37.0232562464,34.6982700852,34.8634441715,31.0900650789,34.9213061465,30.343361183,35.4833288685,33.2349104271,35.4399436182,33.8735095227,28.5641377966,31.3195486706,30.796174379,34.2333554347,36.6307877065,34.5486191018,37.5196356,62.4256973267,64.320383794,65.4455325117,64.3256315887,65.264338195,66.388704175,68.1914228192,68.5406624515,67.6614312657,68.6755160534,69.0817099788,69.048716493,67.3082233775,38.714899408,35.5480948795,36.7106729424,64.9126624396,66.0641357377,64.9359294757,67.0265507063,65.3140322257,64.2952177764,38.7980121423,34.6757573144,30.7192619427,34.1051509268,33.4233718511,66.3138096741,65.3096314498,65.7140760682,67.5934531877,66.3880173202,67.8061881135,70.9626103129,71.9936371714,72.4798343312,74.0784292286,72.0362880189,72.9981862717,74.8121312339,73.0273050243,77.067111934,75.0171368727,76.6653077326,77.9158742329,73.7420460836,75.3298157891,63.4104355141,68.856486669,66.3377850519,64.2037185014,64.4986348346,68.8909906096,72.371523338,69.7654249704,68.6213124429,64.2977371716,66.6992650902,67.5445276811,63.9469519836,64.3881920705,65.570045691,38.4028368753,37.8323600164,36.9041611715,36.286143052,62.7866325947,66.8176792234,66.755021412,65.4155283864,36.9463314417,37.8254347391,36.722837943,67.0733217806,64.601818107,65.4372821806,67.0040223792,66.7241920702,68.3076187632,68.7680482759,74.1672717461,64.9003579699,68.7634335463,66.8169139163,67.3093466467,34.7318293093,33.6744421497,75.6272550236,40.6101254225,39.1143664549,34.5838289299],\"y0\":\" \",\"yaxis\":\"y\",\"type\":\"box\"}],                        {\"template\":{\"data\":{\"histogram2dcontour\":[{\"type\":\"histogram2dcontour\",\"colorbar\":{\"outlinewidth\":0,\"ticks\":\"\"},\"colorscale\":[[0.0,\"#0d0887\"],[0.1111111111111111,\"#46039f\"],[0.2222222222222222,\"#7201a8\"],[0.3333333333333333,\"#9c179e\"],[0.4444444444444444,\"#bd3786\"],[0.5555555555555556,\"#d8576b\"],[0.6666666666666666,\"#ed7953\"],[0.7777777777777778,\"#fb9f3a\"],[0.8888888888888888,\"#fdca26\"],[1.0,\"#f0f921\"]]}],\"choropleth\":[{\"type\":\"choropleth\",\"colorbar\":{\"outlinewidth\":0,\"ticks\":\"\"}}],\"histogram2d\":[{\"type\":\"histogram2d\",\"colorbar\":{\"outlinewidth\":0,\"ticks\":\"\"},\"colorscale\":[[0.0,\"#0d0887\"],[0.1111111111111111,\"#46039f\"],[0.2222222222222222,\"#7201a8\"],[0.3333333333333333,\"#9c179e\"],[0.4444444444444444,\"#bd3786\"],[0.5555555555555556,\"#d8576b\"],[0.6666666666666666,\"#ed7953\"],[0.7777777777777778,\"#fb9f3a\"],[0.8888888888888888,\"#fdca26\"],[1.0,\"#f0f921\"]]}],\"heatmap\":[{\"type\":\"heatmap\",\"colorbar\":{\"outlinewidth\":0,\"ticks\":\"\"},\"colorscale\":[[0.0,\"#0d0887\"],[0.1111111111111111,\"#46039f\"],[0.2222222222222222,\"#7201a8\"],[0.3333333333333333,\"#9c179e\"],[0.4444444444444444,\"#bd3786\"],[0.5555555555555556,\"#d8576b\"],[0.6666666666666666,\"#ed7953\"],[0.7777777777777778,\"#fb9f3a\"],[0.8888888888888888,\"#fdca26\"],[1.0,\"#f0f921\"]]}],\"heatmapgl\":[{\"type\":\"heatmapgl\",\"colorbar\":{\"outlinewidth\":0,\"ticks\":\"\"},\"colorscale\":[[0.0,\"#0d0887\"],[0.1111111111111111,\"#46039f\"],[0.2222222222222222,\"#7201a8\"],[0.3333333333333333,\"#9c179e\"],[0.4444444444444444,\"#bd3786\"],[0.5555555555555556,\"#d8576b\"],[0.6666666666666666,\"#ed7953\"],[0.7777777777777778,\"#fb9f3a\"],[0.8888888888888888,\"#fdca26\"],[1.0,\"#f0f921\"]]}],\"contourcarpet\":[{\"type\":\"contourcarpet\",\"colorbar\":{\"outlinewidth\":0,\"ticks\":\"\"}}],\"contour\":[{\"type\":\"contour\",\"colorbar\":{\"outlinewidth\":0,\"ticks\":\"\"},\"colorscale\":[[0.0,\"#0d0887\"],[0.1111111111111111,\"#46039f\"],[0.2222222222222222,\"#7201a8\"],[0.3333333333333333,\"#9c179e\"],[0.4444444444444444,\"#bd3786\"],[0.5555555555555556,\"#d8576b\"],[0.6666666666666666,\"#ed7953\"],[0.7777777777777778,\"#fb9f3a\"],[0.8888888888888888,\"#fdca26\"],[1.0,\"#f0f921\"]]}],\"surface\":[{\"type\":\"surface\",\"colorbar\":{\"outlinewidth\":0,\"ticks\":\"\"},\"colorscale\":[[0.0,\"#0d0887\"],[0.1111111111111111,\"#46039f\"],[0.2222222222222222,\"#7201a8\"],[0.3333333333333333,\"#9c179e\"],[0.4444444444444444,\"#bd3786\"],[0.5555555555555556,\"#d8576b\"],[0.6666666666666666,\"#ed7953\"],[0.7777777777777778,\"#fb9f3a\"],[0.8888888888888888,\"#fdca26\"],[1.0,\"#f0f921\"]]}],\"mesh3d\":[{\"type\":\"mesh3d\",\"colorbar\":{\"outlinewidth\":0,\"ticks\":\"\"}}],\"scatter\":[{\"fillpattern\":{\"fillmode\":\"overlay\",\"size\":10,\"solidity\":0.2},\"type\":\"scatter\"}],\"parcoords\":[{\"type\":\"parcoords\",\"line\":{\"colorbar\":{\"outlinewidth\":0,\"ticks\":\"\"}}}],\"scatterpolargl\":[{\"type\":\"scatterpolargl\",\"marker\":{\"colorbar\":{\"outlinewidth\":0,\"ticks\":\"\"}}}],\"bar\":[{\"error_x\":{\"color\":\"#2a3f5f\"},\"error_y\":{\"color\":\"#2a3f5f\"},\"marker\":{\"line\":{\"color\":\"#E5ECF6\",\"width\":0.5},\"pattern\":{\"fillmode\":\"overlay\",\"size\":10,\"solidity\":0.2}},\"type\":\"bar\"}],\"scattergeo\":[{\"type\":\"scattergeo\",\"marker\":{\"colorbar\":{\"outlinewidth\":0,\"ticks\":\"\"}}}],\"scatterpolar\":[{\"type\":\"scatterpolar\",\"marker\":{\"colorbar\":{\"outlinewidth\":0,\"ticks\":\"\"}}}],\"histogram\":[{\"marker\":{\"pattern\":{\"fillmode\":\"overlay\",\"size\":10,\"solidity\":0.2}},\"type\":\"histogram\"}],\"scattergl\":[{\"type\":\"scattergl\",\"marker\":{\"colorbar\":{\"outlinewidth\":0,\"ticks\":\"\"}}}],\"scatter3d\":[{\"type\":\"scatter3d\",\"line\":{\"colorbar\":{\"outlinewidth\":0,\"ticks\":\"\"}},\"marker\":{\"colorbar\":{\"outlinewidth\":0,\"ticks\":\"\"}}}],\"scattermapbox\":[{\"type\":\"scattermapbox\",\"marker\":{\"colorbar\":{\"outlinewidth\":0,\"ticks\":\"\"}}}],\"scatterternary\":[{\"type\":\"scatterternary\",\"marker\":{\"colorbar\":{\"outlinewidth\":0,\"ticks\":\"\"}}}],\"scattercarpet\":[{\"type\":\"scattercarpet\",\"marker\":{\"colorbar\":{\"outlinewidth\":0,\"ticks\":\"\"}}}],\"carpet\":[{\"aaxis\":{\"endlinecolor\":\"#2a3f5f\",\"gridcolor\":\"white\",\"linecolor\":\"white\",\"minorgridcolor\":\"white\",\"startlinecolor\":\"#2a3f5f\"},\"baxis\":{\"endlinecolor\":\"#2a3f5f\",\"gridcolor\":\"white\",\"linecolor\":\"white\",\"minorgridcolor\":\"white\",\"startlinecolor\":\"#2a3f5f\"},\"type\":\"carpet\"}],\"table\":[{\"cells\":{\"fill\":{\"color\":\"#EBF0F8\"},\"line\":{\"color\":\"white\"}},\"header\":{\"fill\":{\"color\":\"#C8D4E3\"},\"line\":{\"color\":\"white\"}},\"type\":\"table\"}],\"barpolar\":[{\"marker\":{\"line\":{\"color\":\"#E5ECF6\",\"width\":0.5},\"pattern\":{\"fillmode\":\"overlay\",\"size\":10,\"solidity\":0.2}},\"type\":\"barpolar\"}],\"pie\":[{\"automargin\":true,\"type\":\"pie\"}]},\"layout\":{\"autotypenumbers\":\"strict\",\"colorway\":[\"#636efa\",\"#EF553B\",\"#00cc96\",\"#ab63fa\",\"#FFA15A\",\"#19d3f3\",\"#FF6692\",\"#B6E880\",\"#FF97FF\",\"#FECB52\"],\"font\":{\"color\":\"#2a3f5f\"},\"hovermode\":\"closest\",\"hoverlabel\":{\"align\":\"left\"},\"paper_bgcolor\":\"white\",\"plot_bgcolor\":\"#E5ECF6\",\"polar\":{\"bgcolor\":\"#E5ECF6\",\"angularaxis\":{\"gridcolor\":\"white\",\"linecolor\":\"white\",\"ticks\":\"\"},\"radialaxis\":{\"gridcolor\":\"white\",\"linecolor\":\"white\",\"ticks\":\"\"}},\"ternary\":{\"bgcolor\":\"#E5ECF6\",\"aaxis\":{\"gridcolor\":\"white\",\"linecolor\":\"white\",\"ticks\":\"\"},\"baxis\":{\"gridcolor\":\"white\",\"linecolor\":\"white\",\"ticks\":\"\"},\"caxis\":{\"gridcolor\":\"white\",\"linecolor\":\"white\",\"ticks\":\"\"}},\"coloraxis\":{\"colorbar\":{\"outlinewidth\":0,\"ticks\":\"\"}},\"colorscale\":{\"sequential\":[[0.0,\"#0d0887\"],[0.1111111111111111,\"#46039f\"],[0.2222222222222222,\"#7201a8\"],[0.3333333333333333,\"#9c179e\"],[0.4444444444444444,\"#bd3786\"],[0.5555555555555556,\"#d8576b\"],[0.6666666666666666,\"#ed7953\"],[0.7777777777777778,\"#fb9f3a\"],[0.8888888888888888,\"#fdca26\"],[1.0,\"#f0f921\"]],\"sequentialminus\":[[0.0,\"#0d0887\"],[0.1111111111111111,\"#46039f\"],[0.2222222222222222,\"#7201a8\"],[0.3333333333333333,\"#9c179e\"],[0.4444444444444444,\"#bd3786\"],[0.5555555555555556,\"#d8576b\"],[0.6666666666666666,\"#ed7953\"],[0.7777777777777778,\"#fb9f3a\"],[0.8888888888888888,\"#fdca26\"],[1.0,\"#f0f921\"]],\"diverging\":[[0,\"#8e0152\"],[0.1,\"#c51b7d\"],[0.2,\"#de77ae\"],[0.3,\"#f1b6da\"],[0.4,\"#fde0ef\"],[0.5,\"#f7f7f7\"],[0.6,\"#e6f5d0\"],[0.7,\"#b8e186\"],[0.8,\"#7fbc41\"],[0.9,\"#4d9221\"],[1,\"#276419\"]]},\"xaxis\":{\"gridcolor\":\"white\",\"linecolor\":\"white\",\"ticks\":\"\",\"title\":{\"standoff\":15},\"zerolinecolor\":\"white\",\"automargin\":true,\"zerolinewidth\":2},\"yaxis\":{\"gridcolor\":\"white\",\"linecolor\":\"white\",\"ticks\":\"\",\"title\":{\"standoff\":15},\"zerolinecolor\":\"white\",\"automargin\":true,\"zerolinewidth\":2},\"scene\":{\"xaxis\":{\"backgroundcolor\":\"#E5ECF6\",\"gridcolor\":\"white\",\"linecolor\":\"white\",\"showbackground\":true,\"ticks\":\"\",\"zerolinecolor\":\"white\",\"gridwidth\":2},\"yaxis\":{\"backgroundcolor\":\"#E5ECF6\",\"gridcolor\":\"white\",\"linecolor\":\"white\",\"showbackground\":true,\"ticks\":\"\",\"zerolinecolor\":\"white\",\"gridwidth\":2},\"zaxis\":{\"backgroundcolor\":\"#E5ECF6\",\"gridcolor\":\"white\",\"linecolor\":\"white\",\"showbackground\":true,\"ticks\":\"\",\"zerolinecolor\":\"white\",\"gridwidth\":2}},\"shapedefaults\":{\"line\":{\"color\":\"#2a3f5f\"}},\"annotationdefaults\":{\"arrowcolor\":\"#2a3f5f\",\"arrowhead\":0,\"arrowwidth\":1},\"geo\":{\"bgcolor\":\"white\",\"landcolor\":\"#E5ECF6\",\"subunitcolor\":\"white\",\"showland\":true,\"showlakes\":true,\"lakecolor\":\"white\"},\"title\":{\"x\":0.05},\"mapbox\":{\"style\":\"light\"}}},\"xaxis\":{\"anchor\":\"y\",\"domain\":[0.0,1.0]},\"yaxis\":{\"anchor\":\"x\",\"domain\":[0.0,1.0],\"title\":{\"text\":\"x\"}},\"legend\":{\"tracegroupgap\":0},\"margin\":{\"t\":60},\"boxmode\":\"group\"},                        {\"responsive\": true}                    ).then(function(){\n",
              "                            \n",
              "var gd = document.getElementById('d96f6a56-9eee-4bb8-ac9c-9713aface383');\n",
              "var x = new MutationObserver(function (mutations, observer) {{\n",
              "        var display = window.getComputedStyle(gd).display;\n",
              "        if (!display || display === 'none') {{\n",
              "            console.log([gd, 'removed!']);\n",
              "            Plotly.purge(gd);\n",
              "            observer.disconnect();\n",
              "        }}\n",
              "}});\n",
              "\n",
              "// Listen for the removal of the full notebook cells\n",
              "var notebookContainer = gd.closest('#notebook-container');\n",
              "if (notebookContainer) {{\n",
              "    x.observe(notebookContainer, {childList: true});\n",
              "}}\n",
              "\n",
              "// Listen for the clearing of the current output cell\n",
              "var outputEl = gd.closest('.output');\n",
              "if (outputEl) {{\n",
              "    x.observe(outputEl, {childList: true});\n",
              "}}\n",
              "\n",
              "                        })                };                            </script>        </div>\n",
              "</body>\n",
              "</html>"
            ]
          },
          "metadata": {}
        }
      ],
      "source": [
        "fig = px.box(soporte, y= \"x\")\n",
        "\n",
        "fig.show()\n",
        "#No hay valores atípicos"
      ]
    },
    {
      "cell_type": "markdown",
      "source": [
        "## Variable Y"
      ],
      "metadata": {
        "id": "u7op3weFMU4l"
      },
      "id": "u7op3weFMU4l"
    },
    {
      "cell_type": "markdown",
      "source": [
        "### Descriptivas Y"
      ],
      "metadata": {
        "id": "BzrKNFOdMoHj"
      },
      "id": "BzrKNFOdMoHj"
    },
    {
      "cell_type": "code",
      "source": [
        "plt.hist(soporte['y'], bins = 90, edgecolor='black')\n",
        "plt.show()"
      ],
      "metadata": {
        "colab": {
          "base_uri": "https://localhost:8080/",
          "height": 430
        },
        "outputId": "3ccedfb6-c55b-4dc9-ce4f-cadad337c04c",
        "id": "gtRWLm5ZMrBR"
      },
      "execution_count": 51,
      "outputs": [
        {
          "output_type": "display_data",
          "data": {
            "text/plain": [
              "<Figure size 640x480 with 1 Axes>"
            ],
            "image/png": "[encoded data removed]"
          },
          "metadata": {}
        }
      ],
      "id": "gtRWLm5ZMrBR"
    },
    {
      "cell_type": "code",
      "source": [
        "soporte['y'].describe()"
      ],
      "metadata": {
        "colab": {
          "base_uri": "https://localhost:8080/"
        },
        "outputId": "72217ba1-cc87-4921-9237-29a3ff15fe7e",
        "id": "iUInvSOGMrBS"
      },
      "execution_count": 15,
      "outputs": [
        {
          "output_type": "execute_result",
          "data": {
            "text/plain": [
              "count    1846.000000\n",
              "mean       47.835099\n",
              "std        26.847766\n",
              "min         0.015119\n",
              "25%        22.561073\n",
              "50%        47.594450\n",
              "75%        71.810778\n",
              "max        99.694680\n",
              "Name: y, dtype: float64"
            ]
          },
          "metadata": {},
          "execution_count": 15
        }
      ],
      "id": "iUInvSOGMrBS"
    },
    {
      "cell_type": "markdown",
      "source": [
        "### Outlaier Y"
      ],
      "metadata": {
        "id": "GtOQI6C-Mahj"
      },
      "id": "GtOQI6C-Mahj"
    },
    {
      "cell_type": "code",
      "execution_count": 53,
      "metadata": {
        "colab": {
          "base_uri": "https://localhost:8080/",
          "height": 542
        },
        "outputId": "18d0c24b-7a7b-4a14-845a-f61eaf1dd02a",
        "id": "ksr05VbVMrBT"
      },
      "outputs": [
        {
          "output_type": "display_data",
          "data": {
            "text/html": [
              "<html>\n",
              "<head><meta charset=\"utf-8\" /></head>\n",
              "<body>\n",
              "    <div>            <script src=\"https://cdnjs.cloudflare.com/ajax/libs/mathjax/2.7.5/MathJax.js?config=TeX-AMS-MML_SVG\"></script><script type=\"text/javascript\">if (window.MathJax && window.MathJax.Hub && window.MathJax.Hub.Config) {window.MathJax.Hub.Config({SVG: {font: \"STIX-Web\"}});}</script>                <script type=\"text/javascript\">window.PlotlyConfig = {MathJaxConfig: 'local'};</script>\n",
              "        <script src=\"https://cdn.plot.ly/plotly-2.18.2.min.js\"></script>                <div id=\"a212329b-c083-4ab4-ac58-7d4e5d341392\" class=\"plotly-graph-div\" style=\"height:525px; width:100%;\"></div>            <script type=\"text/javascript\">                                    window.PLOTLYENV=window.PLOTLYENV || {};                                    if (document.getElementById(\"a212329b-c083-4ab4-ac58-7d4e5d341392\")) {                    Plotly.newPlot(                        \"a212329b-c083-4ab4-ac58-7d4e5d341392\",                        [{\"alignmentgroup\":\"True\",\"hovertemplate\":\"y=%{y}<extra></extra>\",\"legendgroup\":\"\",\"marker\":{\"color\":\"#636efa\"},\"name\":\"\",\"notched\":false,\"offsetgroup\":\"\",\"orientation\":\"v\",\"showlegend\":false,\"x0\":\" \",\"xaxis\":\"x\",\"y\":[97.1795,96.0256,94.4872,91.4103,88.3333,84.8718,79.8718,77.5641,74.4872,71.4103,66.4103,61.7949,57.1795,52.9487,51.0256,51.0256,51.0256,51.4103,51.4103,52.9487,54.1026,55.2564,55.641,56.0256,57.9487,62.1795,66.4103,69.1026,55.2564,49.8718,46.0256,38.3333,42.1795,44.1026,36.4103,32.5641,31.4103,30.2564,32.1795,36.7949,41.4103,45.641,49.1026,36.0256,32.1795,29.1026,26.7949,25.2564,25.2564,25.641,28.718,31.4103,34.8718,37.5641,40.641,42.1795,44.4872,46.0256,46.7949,47.9487,53.718,60.641,64.4872,69.4872,79.8718,84.1026,85.2564,85.2564,86.0256,86.0256,82.9487,80.641,78.718,78.718,77.5641,59.8718,62.1795,62.5641,99.4872,99.1026,97.5641,94.1026,91.0256,86.4103,83.3333,79.1026,75.2564,71.4103,66.7949,60.2564,55.2564,51.4103,47.5641,46.0256,42.5641,39.8718,36.7949,33.718,40.641,38.3333,33.718,29.1026,25.2564,24.1026,22.9487,22.9487,22.1795,20.2564,19.1026,19.1026,18.3333,18.3333,18.3333,17.5641,16.0256,13.718,14.8718,14.8718,14.8718,14.1026,12.5641,11.0256,9.8718,6.0256,9.4872,10.2564,10.2564,10.641,10.641,10.641,10.641,10.641,10.641,8.718,5.2564,2.9487,25.7692,25.3846,41.5385,95.7692,95.0,92.6923,61.411101248,26.1868803879,30.8321939163,82.5336485877,45.7345513203,37.110947969,97.4757710964,25.1000785788,80.9571652197,29.720400203,80.0656402858,71.0654666627,24.1095975542,81.5542049945,21.4758389969,18.7089683725,79.3729634752,21.1016372041,20.0110618423,75.9361704048,15.5828033531,13.9876016304,24.4678303872,84.2752871038,9.76334884943,17.9454583961,16.0511142003,23.1104578154,20.314187812,83.6396338956,76.1282745076,5.62307076073,68.1335832223,56.1395964513,69.8292300322,62.5170442862,72.7448559954,6.61662530728,72.4212015285,52.5752573142,15.4569189652,25.4166063231,19.8366286542,48.3983464352,75.6677562173,8.19480060319,59.6799300235,1.50441817488,45.2107942872,10.4182411281,78.5841760758,73.3947503698,75.9587156671,71.694404938,80.8725016628,12.9180067349,84.9723827774,81.8814032306,12.9911884302,14.2745856444,17.7102359443,43.4817094425,71.8121653901,40.682503007,49.5021483467,41.8742826668,93.1333167652,30.2012640846,31.1474060835,31.9163906992,28.8625834061,39.5401302526,96.6175423534,46.6721919544,88.6390766207,87.322160691,84.6829549336,29.3808085571,59.5444469033,40.782542065,30.7257603575,32.8230098696,91.1118630801,29.1692166544,43.75581895,33.3172384774,84.6760108316,79.4066030605,85.3899333808,22.0340116412,70.4661940802,19.9140684075,60.264279248,70.6525028457,60.8144048511,65.5213545959,62.4603112824,65.3348328092,7.59346560899,77.1438066024,74.8516272173,66.4847322418,0.0151193251552,70.0034213192,2.33519661206,6.0058486497,42.75961287,50.5462690659,60.0275120878,6.03754484635,76.6353305783,57.2860155789,71.8066161014,71.7927431642,59.3008196656,66.0348978235,37.3416401041,42.1487418312,1.21055166293,60.0177857932,70.512514809,0.5091067352,35.4841012146,25.9868781844,10.8681445111,49.1739189791,1.80811559665,69.1525081443,12.5366493416,42.4770945921,65.9524861966,25.6936743092,38.5590195509,62.5108942269,56.7312899691,64.5666620298,74.2877488252,72.9583909677,72.6295257275,36.7917136918,42.9449148487,32.0150954299,90.2080300059,90.0880645063,90.458936026,89.5077001153,90.4426288607,90.144142631,70.1573965085,70.4593354392,70.0510704992,70.4268951523,70.2108058428,70.5003151212,50.494556525,50.4994401238,50.4743528321,50.5036668574,50.5000661229,50.461893969,50.4877601957,50.483155992,50.4932732621,50.5008373234,50.4875038691,50.5033740178,50.4962361243,70.0680261345,70.4557817483,70.4835512458,50.4206326073,50.4349813825,50.4706422808,30.4494107792,50.4908995189,50.4159133758,30.4956129408,30.4727248868,30.4786951789,30.7928559394,30.4997410297,30.4958650002,50.5293043035,50.4926666972,50.4697734181,30.4360403387,30.4979313851,30.4849702595,30.5023417488,30.4926383364,30.522035054,30.5017227753,30.5068378948,30.4867257545,30.494755684,30.4729933399,50.4428744949,50.4825132895,50.4521589097,50.494240794,50.4789748003,50.4986272318,50.4938305609,70.2600284356,70.2204373812,70.4738617113,89.9970275485,89.540243712,89.7085785936,89.635308157,89.9645994589,89.6184017294,89.8341303987,89.5836647251,69.9002729578,70.3526492053,70.3952029719,50.4855676918,70.3399348879,70.4695358763,89.6580469945,89.7319325216,90.132316736,89.9242090159,90.042061963,89.5512032307,89.5926540118,70.4233752108,70.3169271705,70.300511881,70.4453141903,70.3543089613,50.4727017878,50.4553260208,50.4948658866,50.4919669557,50.489389393,30.6039193719,30.5004028652,30.4594542144,50.4313198677,30.4925819262,30.4835582526,30.5100448173,30.5464245575,30.5060052447,30.4850063746,30.6738628584,30.4750241915,30.4945239508,10.5431877763,10.5225745323,10.4948990284,10.7249292845,10.859490276,10.4956369212,10.5249055723,10.4875472428,10.4958733944,10.5068605973,10.5081369414,10.4639151924,10.498331942,10.4888142392,10.4858029097,10.4973002433,10.5075321353,10.4959063596,10.5030898746,10.5140692392,10.5136950409,10.5032723508,10.5185680355,10.496999064,10.4958742318,10.6818401251,10.5072329326,10.4821595117,30.4079460343,30.4980371582,50.4899365296,89.7043170068,89.7121385499,89.7455365536,93.2227013657,97.6099835723,99.6946801425,90.0220534916,89.9874101286,82.0892320845,82.3071263462,77.7298801366,79.8348944011,68.2525829388,66.0937181831,62.3849850338,60.8600821544,55.8789168923,52.3221596388,48.0696996767,45.7734755346,49.3820997506,47.0142836417,55.5878389121,57.9553142818,60.5249117346,57.9242171676,56.4393224734,59.2849248279,64.8929773346,61.3296244282,56.9952791254,48.2295767261,58.085037556,39.2054119682,42.018514414,43.588671479,57.2305889423,43.3479568967,32.9182406167,39.4246055913,38.3485561381,28.7714879939,32.7504720275,43.5613740753,44.9951230008,47.3479464653,36.4412129198,28.020580489,38.3141385582,26.4166256707,22.8255471196,16.6940065479,21.6402564599,29.177864393,38.4404729124,26.8604882737,38.9638389234,40.913386144,47.2129480045,49.6234993439,52.6124107059,47.384533707,57.8412666804,58.785073162,60.4189573202,58.4010982686,68.0844667893,75.0132995059,90.281464505,80.9417717084,90.6405359009,92.3547602661,82.2192057218,81.7438287242,71.9513852104,73.9518736268,80.6473870602,73.1145035177,53.6125276703,65.1004090686,63.5017787814,97.2696919618,93.5980502089,97.1938760167,92.1204899292,91.6220882409,84.47968329,81.8154056166,81.8359875567,71.1159672213,70.4934438205,61.497563947,62.2343269676,53.2163306165,48.890796551,46.6299066746,48.4234081578,43.3473436951,40.6250912209,45.8151791904,33.901372671,37.670771798,36.8075593352,33.7401525035,21.9352367455,22.7286628748,16.3374699821,27.1360239942,23.6689181006,21.8509008151,11.7916260054,15.6143582625,17.1690897689,16.5060150613,18.7234506861,11.6077134241,22.2561397401,13.436410466,12.8722822086,20.4044729196,15.608737571,11.3020842468,12.4619966676,18.2590443442,3.7168538855,10.2358819024,12.4686005273,7.40962523419,16.2536847911,13.3567024555,9.03298756904,15.1804864298,16.8783132661,10.2078266798,9.99229666551,11.4226857018,15.9998037858,5.95583353945,2.73476016988,26.0855615691,19.7794703733,31.9789174357,98.6283694405,94.9946308528,95.0885380179,92.472719051,94.1167680276,88.5182945794,88.622265789,83.7249284144,82.0407806505,79.2637238398,82.2605658962,84.1564919839,78.5421042089,79.8190371976,75.1336346406,75.3467016413,70.4742070546,71.0459044019,66.4604037217,64.9610049438,68.0284231525,62.6238279659,59.9639357915,57.4938424367,61.6005530364,53.8779658045,58.0598078952,62.0973939351,59.0712818478,56.1748754008,62.2373439902,57.0962573525,40.883844549,40.3846256942,30.5552259226,37.7446280981,36.273442735,32.0250641734,21.7218171465,31.3099029222,23.5415923929,21.6895496369,24.195053774,24.1287091891,37.4837907435,39.3646020815,16.083549649,24.3072109395,17.3818098572,17.9800644828,22.9622145725,20.6146217044,23.3662452858,24.5583269437,28.772625473,31.056979672,31.4072190618,39.3677964938,38.095699984,42.6140320392,43.1337348404,44.847493688,42.6959713164,53.1903520694,65.6862303604,66.8782776113,72.1654720777,71.2679610751,83.1190207043,79.9391880033,76.4059674459,80.2118685969,83.9880779935,79.6570966361,77.204657286,77.6098436482,73.6382718294,78.459973898,70.3693498252,76.2492229205,69.0955016709,97.8376147235,95.3049805754,92.4072156264,95.4248045304,83.7929072262,83.0782938448,76.5162389518,79.8960656796,81.711479845,73.5237189623,68.4795642895,71.9263635185,62.635150577,67.3532711288,34.3291575887,34.699218607,34.6805169926,23.139231835,25.5971933466,23.4472144745,34.1524500077,42.2810847015,36.4481847905,36.0880530553,28.0720081685,33.0392569664,25.5695441452,27.7706107405,30.0169834157,29.0388653753,24.8747531721,27.9056390894,25.5569594065,24.9465264454,18.3249292157,17.7189477884,15.4456116477,13.5238698677,15.0158901333,12.2144689321,20.9193721857,15.748875885,19.3238407541,11.9284457044,13.7131582305,4.57766135024,17.6819644553,20.2408613716,13.3921347304,22.7447959146,20.9185472197,19.8745582085,16.5917599845,14.2477619017,8.98065579006,19.0888441297,8.36563890168,10.6281977654,24.2614879334,13.9696834611,22.0945914837,93.1217332374,86.6099850511,89.4616352367,91.881891513,92.2149886482,90.310532087,89.9076067166,92.0081450101,88.0852855629,63.5107944263,63.5901969481,63.1232828116,62.8210386566,63.518147517,63.0240805653,62.7208638859,62.9018588649,63.389040388,63.5587296478,63.3836058254,51.1508571967,61.3578540576,56.5421259093,60.157346722,63.6600006211,62.9251879574,63.1652187223,65.8141767574,74.5842896072,63.232147305,75.9908707599,62.8819029189,49.0702512739,46.4496737846,34.5532038906,33.9042073544,38.2990195507,36.0190833012,26.492119482,35.6622382764,27.0930954213,24.9915229793,33.5563924949,51.5337156971,61.7775254006,58.837754374,30.0204484197,31.5264261979,16.3470083822,20.2326706762,16.9130048364,15.609355577,20.7985289466,26.4970725985,21.3912255247,32.4442454697,29.0401966941,30.3445244537,27.2415575588,29.7090956748,41.2595012867,43.4537592655,41.9647438672,44.044445022,63.3714590552,67.4487184472,70.2137388333,86.9270062202,87.4998110713,87.8094615921,85.637495556,90.077160307,90.4110187715,89.9538027677,80.2518606944,77.5362884724,78.2290865878,79.8175464166,60.8017765444,63.0684648229,63.3907513334,90.2653263904,92.1599086113,90.7489065581,88.3272741451,92.1296814778,91.6944211685,90.5534760692,77.7439347591,63.1289294176,63.4086861199,63.2954375404,53.3326200111,56.5410522935,59.7927618087,53.6516742641,56.0253645659,53.2347918468,51.8224583343,23.3724419733,16.3837496882,33.8224476502,32.1179887719,26.1171097453,24.2360184109,27.6726855125,14.9485235577,14.461853927,14.6106776491,15.890054658,15.9125737458,15.1515170246,15.2219279762,16.2168461441,25.0630193062,18.3384735636,19.9942009773,26.4713966117,16.1821416622,14.5802151464,14.4519484496,14.3655904744,17.2780334445,22.3779325323,17.6484528361,17.8293243101,15.6407169743,17.7459190133,15.1223039378,18.0474374446,15.1628725383,16.3069223786,15.858478334,15.253949149,15.8300393854,15.5951653195,15.7745292395,14.7806458332,14.9556987461,24.9164251896,19.0773278036,52.9003912897,87.9401250067,90.6931665489,92.1043278652,83.9051707998,82.8179829379,76.7541289533,81.954469997,80.1847700514,84.9541114129,83.7893564281,82.5794805962,74.3493875478,75.0980490792,71.7205396747,72.5802858084,71.1096873431,64.8708391385,63.557171895,65.6009580191,67.5545281141,71.8890335708,69.9887444412,67.1687603206,72.5916115408,71.1617258246,68.0445380719,70.4089460888,72.5518862725,76.1128240228,77.0692384058,76.1568192103,73.1189614684,35.5968950425,32.6212516009,27.1741229419,29.1452839382,28.4602033343,27.3642602259,24.5376638386,23.6804956588,25.2380052325,26.5526132161,28.2802924847,28.6997507433,27.7978445882,28.9476923345,26.8038243613,26.6664002089,19.2572809685,26.4408557812,20.0807081014,23.4948069772,20.3339004396,26.9934706312,26.0229417521,22.005580703,29.2708555331,30.0153144324,27.8683134861,26.7882840217,31.0393750583,31.6198930866,34.2357465852,67.6444437851,75.4216145799,72.1146938095,79.3504618327,81.6582677456,82.7425919919,80.2471852579,82.2043834675,84.9995188696,83.2465678988,81.7455863409,83.513949493,80.2666719669,84.2635992213,80.2382855483,68.1467563743,74.4045268347,72.5861552003,82.5375693646,85.7056934492,83.3600288362,87.1522075165,82.4258351563,83.4373907092,82.0293546968,79.4081747457,79.8861994199,77.759558184,71.9733600919,69.7493008209,70.0440572588,65.5124047088,34.9655944844,34.7692538555,32.3771544295,34.3842946521,28.0536005018,28.0707514904,24.0606079328,26.1777124879,27.7765005568,23.9342981582,26.8025832185,21.9955085787,22.709792166,20.6941731019,22.4431455531,17.767901807,21.6185696663,21.1710074885,25.1445642082,19.4170541222,17.0334945954,19.503665544,23.4892740197,17.5145080595,16.7892016247,16.7579160147,21.969084007,16.7897576048,19.9251251977,17.1289036754,18.7410514146,17.8549881176,17.3061155207,17.6735343896,17.369574581,18.1973548277,17.2228706509,16.8142747914,17.15575228,19.3692816955,20.740218365,14.9139624607,20.1891325034,18.2435093914,22.7313663718,26.5217492344,34.8940252874,78.950838805,85.1288546497,82.9261452983,90.8674123313,89.1023945866,85.4600473951,83.0576695262,82.9378217764,82.9752535659,82.9148911324,82.929084979,82.8742004973,82.9240977704,82.8211841087,51.4873865306,51.4148465629,52.0767994399,51.7120790527,50.70890793,51.6530467544,51.1819891691,51.4185522584,52.1230110467,50.6215547554,50.0747390118,51.5024421035,51.8619520908,52.2577906065,51.1979443188,82.9418288173,83.7523429676,51.9752506714,51.0733956509,51.338090196,52.1768375002,51.2017650475,50.4414354501,51.4162051508,17.1456310914,17.1413237277,17.0819086886,16.9250135319,50.6619634101,51.3990974838,50.7952815163,50.6860370901,51.5247612607,17.4053909738,17.203722132,17.0938239128,17.113842659,17.0237445436,17.1149252621,17.0777773216,16.981021883,17.0385789686,50.6905627231,51.2944692191,51.594356165,52.3357655339,52.0455286534,51.7467300374,50.3186604237,51.4618248152,52.1236898503,51.9671367003,82.9856620201,83.1144793358,82.9826568621,82.8460411252,83.1846223323,82.9099014671,82.9353284131,83.9699203811,82.9936654888,83.0995191232,83.7083177013,82.9019500961,51.4388762325,51.3041121452,51.5936540762,94.2493278274,92.9791175339,88.3864417377,83.9034973788,83.4623033365,82.9194588559,82.8840513891,82.9321157846,82.9623887856,83.0349971693,82.9452793018,51.1517703255,50.4755789715,52.1577992662,52.1046520613,51.1656378096,51.8675622958,51.9075165439,49.6625455341,17.1112512057,51.8788603463,51.3915915185,17.0482894119,17.0156531888,17.0621921415,17.0411068868,17.1348939075,17.0677230553,17.1699497051,17.1057165115,16.7549238932,17.0781405153,17.0851843836,17.1476047571,16.9074698083,17.1623497098,17.2404558616,17.1801964842,17.1057707188,16.9929634144,17.0883158538,16.5727180506,17.2210955293,17.0647430794,17.0651685025,17.0765223454,17.2088597095,17.2042143387,17.0846551833,17.0938837744,15.7718919896,17.0042622562,16.1749349097,17.0318474866,17.0049424015,16.6948422289,17.0451494125,16.9429296545,16.9462798113,17.0195813691,50.1669859475,87.5139604241,83.997356924,82.990749996,79.2772636977,79.013071199,82.4359398425,79.1652941091,78.1646280036,77.8808631153,78.7883706035,76.8806345544,76.4095884613,72.7248411845,69.2454213193,70.7325550334,62.9809712052,62.6346733709,60.6302361093,62.3962811186,62.0268148985,60.2733986018,63.1418346727,69.7976553936,75.8079642168,78.1199702277,79.3029316435,79.2471070208,77.0178182606,79.2063186226,78.9172589554,79.0808678187,77.4869389235,78.7294458673,16.8065435154,17.0714045245,26.3290372348,29.0504689185,22.7868496473,17.4893933655,24.7975381459,20.0330500489,24.1906434075,46.0525933457,35.7666139539,51.2877067934,60.8465833585,33.2971681038,24.5644624921,21.8761144725,32.9187498178,22.1954385395,18.5425361977,17.7345177303,17.1347454264,16.3873180961,16.3532468711,16.4182174652,16.6633724322,33.1952218669,24.7415103908,52.886419866,58.6160602305,45.5427527692,68.6900618808,73.12057473,75.6832068542,79.1941025922,78.6665589963,79.0772985529,79.306936167,79.3250023354,78.6758534295,79.1598669963,79.2936599344,78.7823835275,79.2972507654,79.1678400979,79.0381238831,74.5575043418,70.3166389012,70.7024172063,85.5781338795,78.9787042541,79.2529394854,79.1939225382,79.3138648504,78.1747432719,76.1123175001,77.3991884543,75.7900554548,78.041409495,69.3121497658,62.6818697859,63.8949255005,53.7816766607,57.2561680896,45.0241658646,50.7623379055,38.761410164,44.5600964397,39.4870775084,22.8162479426,22.8569887644,17.7240688424,22.5114998325,17.8835812521,17.1163533592,24.7825009657,20.2793578927,16.642703808,21.1458881039,18.3971951223,18.3337482986,17.9244781912,16.5986105437,16.3265463742,18.4025593948,16.4538745312,18.4894110252,16.4857136372,16.6376352154,17.0332315064,16.3661890954,16.3397125506,16.7986370826,16.3848363836,16.6763302777,16.4079627826,18.1407649473,17.0518023644,17.7005351354,18.2168786335,18.2878245002,18.5162158303,20.5389887758,20.0324488429,17.2696554452,17.0462048583,17.2821912228,17.7244473049,19.7018495281,55.5686503735,83.3564796243,78.997532065,79.2018445773,83.3397766053,85.499817612,85.8297376348,85.0451167372,84.0179406019,82.5674929978,80.812601774,82.6645338713,80.0110909897,72.8478255927,71.6107148256,66.0414983826,62.7213052064,62.0630593582,61.3426238695,43.1158849517,47.7065559687,55.5469737131,65.2404073935,45.2587508999,60.9865825077,65.7128195934,66.3894820363,64.0350004581,63.8458632494,64.4767644437,65.2373081694,65.766402504,64.6037697063,64.7918550418,41.0952474383,41.5671556174,30.6806668519,30.3379221051,34.5276361236,29.6723483149,39.6020423074,37.2960562328,34.6236852027,47.1410731332,47.6247999245,44.4622930512,40.791843032,48.7293868661,32.2030304205,25.3224681542,21.3647774591,15.9850714584,29.3509867092,29.7116729865,30.6696739448,34.3157582514,32.0303588363,29.6407017654,33.8311927323,30.2903738312,48.5778551303,52.282253331,45.5218061588,38.0065584658,51.1221348241,62.8109155873,65.4991470327,61.3637015467,83.8486865559,84.6747986012,84.0431280734,82.9094412144,85.8762291224,84.5476586881,84.8198214898,84.2403555494,83.518211666,84.2605679876,85.2370794195,53.371687755,72.840231257,71.5485979221,82.3152236405,85.2366963264,85.1747475891,82.4309187567,83.9468553485,84.9661859507,82.1711510621,80.3850213547,80.9712184346,79.9840931403,70.7784317876,73.9323097157,64.6242470023,64.0015066388,57.768193047,52.6233532573,48.9702108877,53.3126520851,31.4774348786,30.4760310098,30.4458502777,30.4471356661,30.2537212987,29.0115351997,29.9943911942,35.6578321706,20.3042601852,13.0355285908,12.3846391542,13.2503849689,11.0008414785,11.8721117093,9.90666848335,12.2115430946,11.2071344881,11.3189448865,10.9451424306,9.69154713447,11.9140691707,11.9338520864,11.9747210652,11.4128826732,11.7324363627,9.92056085444,10.4946526804,13.431322624,12.853451784,11.9499886181,9.76559162187,10.3831325083,14.1286515323,12.0379170217,10.0845344144,13.3802260073,15.2342259409,10.8284144754,13.9943105293,17.8832409068,15.1627600944,29.6797742875,46.6743428399,85.3364867573,84.0488228306,84.3321772039,95.2411869282,93.075835032,94.0858717713,90.3035665387,96.6105324538,90.5606397307,81.1442953304,79.7904134869,75.4455759934,75.1647590544,67.5166420988,54.4736551228,53.3957388998,49.829299645,54.7195531488,60.512212549,61.4319127116,68.4184052804,43.5975940692,49.6665051258,43.0568603208,54.2526725342,52.2250295948,54.0305172396,60.0310591646,70.2822212385,59.7533088802,61.1856411696,53.811901225,52.5935746267,48.8969446811,46.2577233718,41.9746066134,50.0324668853,35.5241876075,35.0168013145,38.8315722007,36.8114141094,33.819314199,31.2477411672,40.1543216386,44.5756466185,50.3315285645,29.8195074488,29.0795399241,27.5880255173,35.0330581489,34.4415865654,20.6183237784,19.5640835356,26.2992451143,22.8274662445,32.9386176053,28.3220858801,33.4865952868,48.556624645,52.8052401961,39.573434273,35.1093154301,47.3718241139,47.8002988852,63.0349593272,64.1000234779,72.657716331,77.3625832678,80.1136076892,85.3560457326,83.7833976656,83.7939960824,80.1363911553,88.7040529069,85.8103751441,83.5414106324,78.1958883115,71.0470522123,66.8546410275,59.79199693,60.2006509147,99.2568672885,95.999963905,92.5026337368,93.5170609365,99.5795911254,80.635944933,76.8157030942,74.3442041467,74.5269656511,73.8196684648,73.9004448762,55.3885788252,56.301968006,55.8309303793,42.9019079116,37.7803861004,37.5713861819,40.1331134204,39.9179311324,46.008830272,42.3115524113,36.5361097353,32.7134316129,29.3857240482,28.0517363383,16.6122765086,18.5080128963,16.7876560655,19.3859575313,14.5214211957,24.0738125371,20.5783451136,19.9131265443,20.2350610035,24.2419155845,18.0893946004,10.1698684594,13.3962907452,15.6132744651,16.2122782224,7.05803719901,13.4108227184,17.7259558674,13.9088123935,11.6937810961,9.36920121911,10.6326415569,6.56964870325,11.0275858356,11.5190968617,5.64577748328,10.5401420943,8.91734404523,17.9873634289,15.9126686464,15.6209610332,5.87510952836,9.22238462333,28.9281418896,32.5385694785,38.7469331743,98.1843018589,94.1161921613,87.4486723469,97.3432226575,93.5748748733,96.30514763,94.359443503,90.6346620817,84.1258533023,67.9125621568,73.0331803541,62.2940454639,75.4415616626,70.1105868383,53.7081103324,49.4995295248,47.1885335266,44.2237227,51.6462354868,34.9610381566,57.6847369215,55.6855917703,51.0021645381,56.9036815315,58.1329592781,55.4206367313,47.867005488,68.6509850107,68.2252589114,64.4134627173,62.4764105301,47.2678818553,53.8707976895,47.2698972057,50.5765522936,48.7722867825,45.9862727459,32.8840244657,28.4432191156,39.7966662481,39.2652632229,33.3614166846,42.2500516253,35.8231112903,31.9391621952,50.8383406788,33.5938054385,35.6710483891,21.3157482481,23.0422314726,27.6400711421,27.3622426221,30.0731619402,28.5736747331,27.4875100027,42.7390191388,41.3564579961,46.1490510561,38.5848440052,46.6535769763,41.5831977346,42.418757739,55.2545987009,59.2669926152,58.6208121164,54.2445521781,65.952512925,85.6022611586,81.5656424136,82.085025592,83.1583574877,84.0048341677,90.2436599196,83.4715555182,82.622124014,78.8711362558,79.9306028004,75.3639849893,60.857227495,68.5108204552,63.7886855744,96.4254150057,99.6441791736,89.8641388605,89.2243556475,91.4811005766,84.1119370252,85.055640808,78.2706108976,72.8915336827,71.5625276804,72.4473094857,65.5433240194,52.7231797883,54.2027848022,49.1410154455,46.9909036215,41.4667030063,36.1897016148,35.0953011066,36.8902631263,40.0295333141,41.2706776667,32.8541041237,35.4149992261,27.6242638254,29.3110927191,23.4913735562,26.9005353695,33.0271717859,30.1970315053,12.3543136666,20.8436106875,15.3217851726,19.1709698793,18.5348708515,14.7884597101,14.009611915,3.98542629287,21.5900969196,17.7664144512,9.03994992133,19.5212153543,17.8384056087,14.1486628546,1.74146171252,5.37240899542,0.30387242055,19.2900304453,11.6128777918,10.5721363739,1.13388036584,7.49123248279,1.48813233299,18.5293762368,15.0183695439,0.601490941965,5.74997471945,7.9133104735,32.1440226145,32.1361317349,33.2341293953,99.6134716833,98.6038611855,93.060672952,95.5883740582,91.9334018119,92.26183816,93.5324553607,89.5991901138,83.5434818364,77.0280524208,80.1138612983,77.6108331874,63.9440280336,65.7444629564,65.5219454667,59.6210044666,50.9850621313,46.2844744465,54.0637204929,49.9030194916,53.3514883396,49.7419879519,54.4441077764,49.6256433471,49.4621728312,61.6437178853,55.9453737171,60.8502274659,61.4291060701,62.9723349305,67.7255886599,48.8200939835,46.5435408096,44.8203529292,28.6329939351,53.5586885227,52.6846691452,32.1184816794,36.4753541349,30.9392745218,32.3837547196,35.4184380529,32.5245631742,44.4916349303,38.502483721,47.7975176939,37.056028453,34.6263997171,31.6639905316,23.5190343602,22.4959116015,31.4768312621,26.1110878654,29.2676058936,34.0442062707,31.7856294846,43.2734991936,41.6159763773,35.7175447772,38.8447443366,45.1694864796,48.4385263389,51.0685845873,50.465234811,55.4740530987,66.3660457477,71.5902965807,76.3969778172,89.3049758407,86.0749670003,87.6457960566,89.2086685815,87.0721381174,76.2225153324,77.9387440331,84.1258572133,74.6106304299,79.6375987743,58.812060082,64.1291972267,67.0957433613,98.9310270371,98.1651568396,99.2837639519,90.9519098246,89.2812304744,91.6881773501,86.5181213517,78.8209480695,80.8006830564,72.9515308522,69.7160484161,59.6656447092,57.5898837631,46.2741878725,51.4869181896,46.6224426489,38.440250966,45.9268433826,39.1209853231,32.8303519164,38.377735614,43.084147214,33.3065100022,26.6441143003,22.863501327,27.2962056672,21.9616397473,19.999850454,18.9156764428,20.4287496884,18.5910853404,16.4479381344,18.6928454476,15.7728122808,23.7657582226,19.0468586722,14.4694894463,13.5838157511,17.1057707266,13.9189931024,11.4124971575,18.0853051378,10.4635122068,13.5143774996,9.60103429534,9.33330210686,6.04921458162,12.0019169643,15.5453860785,15.3458266393,5.24980548075,13.2809165227,13.5214565521,5.34988087254,16.2452583689,8.70057294385,12.2732943361,0.217006270014,19.6017950724,26.09049021,37.128751949,89.1362398699,96.4817513202,89.5889019877],\"y0\":\" \",\"yaxis\":\"y\",\"type\":\"box\"}],                        {\"template\":{\"data\":{\"histogram2dcontour\":[{\"type\":\"histogram2dcontour\",\"colorbar\":{\"outlinewidth\":0,\"ticks\":\"\"},\"colorscale\":[[0.0,\"#0d0887\"],[0.1111111111111111,\"#46039f\"],[0.2222222222222222,\"#7201a8\"],[0.3333333333333333,\"#9c179e\"],[0.4444444444444444,\"#bd3786\"],[0.5555555555555556,\"#d8576b\"],[0.6666666666666666,\"#ed7953\"],[0.7777777777777778,\"#fb9f3a\"],[0.8888888888888888,\"#fdca26\"],[1.0,\"#f0f921\"]]}],\"choropleth\":[{\"type\":\"choropleth\",\"colorbar\":{\"outlinewidth\":0,\"ticks\":\"\"}}],\"histogram2d\":[{\"type\":\"histogram2d\",\"colorbar\":{\"outlinewidth\":0,\"ticks\":\"\"},\"colorscale\":[[0.0,\"#0d0887\"],[0.1111111111111111,\"#46039f\"],[0.2222222222222222,\"#7201a8\"],[0.3333333333333333,\"#9c179e\"],[0.4444444444444444,\"#bd3786\"],[0.5555555555555556,\"#d8576b\"],[0.6666666666666666,\"#ed7953\"],[0.7777777777777778,\"#fb9f3a\"],[0.8888888888888888,\"#fdca26\"],[1.0,\"#f0f921\"]]}],\"heatmap\":[{\"type\":\"heatmap\",\"colorbar\":{\"outlinewidth\":0,\"ticks\":\"\"},\"colorscale\":[[0.0,\"#0d0887\"],[0.1111111111111111,\"#46039f\"],[0.2222222222222222,\"#7201a8\"],[0.3333333333333333,\"#9c179e\"],[0.4444444444444444,\"#bd3786\"],[0.5555555555555556,\"#d8576b\"],[0.6666666666666666,\"#ed7953\"],[0.7777777777777778,\"#fb9f3a\"],[0.8888888888888888,\"#fdca26\"],[1.0,\"#f0f921\"]]}],\"heatmapgl\":[{\"type\":\"heatmapgl\",\"colorbar\":{\"outlinewidth\":0,\"ticks\":\"\"},\"colorscale\":[[0.0,\"#0d0887\"],[0.1111111111111111,\"#46039f\"],[0.2222222222222222,\"#7201a8\"],[0.3333333333333333,\"#9c179e\"],[0.4444444444444444,\"#bd3786\"],[0.5555555555555556,\"#d8576b\"],[0.6666666666666666,\"#ed7953\"],[0.7777777777777778,\"#fb9f3a\"],[0.8888888888888888,\"#fdca26\"],[1.0,\"#f0f921\"]]}],\"contourcarpet\":[{\"type\":\"contourcarpet\",\"colorbar\":{\"outlinewidth\":0,\"ticks\":\"\"}}],\"contour\":[{\"type\":\"contour\",\"colorbar\":{\"outlinewidth\":0,\"ticks\":\"\"},\"colorscale\":[[0.0,\"#0d0887\"],[0.1111111111111111,\"#46039f\"],[0.2222222222222222,\"#7201a8\"],[0.3333333333333333,\"#9c179e\"],[0.4444444444444444,\"#bd3786\"],[0.5555555555555556,\"#d8576b\"],[0.6666666666666666,\"#ed7953\"],[0.7777777777777778,\"#fb9f3a\"],[0.8888888888888888,\"#fdca26\"],[1.0,\"#f0f921\"]]}],\"surface\":[{\"type\":\"surface\",\"colorbar\":{\"outlinewidth\":0,\"ticks\":\"\"},\"colorscale\":[[0.0,\"#0d0887\"],[0.1111111111111111,\"#46039f\"],[0.2222222222222222,\"#7201a8\"],[0.3333333333333333,\"#9c179e\"],[0.4444444444444444,\"#bd3786\"],[0.5555555555555556,\"#d8576b\"],[0.6666666666666666,\"#ed7953\"],[0.7777777777777778,\"#fb9f3a\"],[0.8888888888888888,\"#fdca26\"],[1.0,\"#f0f921\"]]}],\"mesh3d\":[{\"type\":\"mesh3d\",\"colorbar\":{\"outlinewidth\":0,\"ticks\":\"\"}}],\"scatter\":[{\"fillpattern\":{\"fillmode\":\"overlay\",\"size\":10,\"solidity\":0.2},\"type\":\"scatter\"}],\"parcoords\":[{\"type\":\"parcoords\",\"line\":{\"colorbar\":{\"outlinewidth\":0,\"ticks\":\"\"}}}],\"scatterpolargl\":[{\"type\":\"scatterpolargl\",\"marker\":{\"colorbar\":{\"outlinewidth\":0,\"ticks\":\"\"}}}],\"bar\":[{\"error_x\":{\"color\":\"#2a3f5f\"},\"error_y\":{\"color\":\"#2a3f5f\"},\"marker\":{\"line\":{\"color\":\"#E5ECF6\",\"width\":0.5},\"pattern\":{\"fillmode\":\"overlay\",\"size\":10,\"solidity\":0.2}},\"type\":\"bar\"}],\"scattergeo\":[{\"type\":\"scattergeo\",\"marker\":{\"colorbar\":{\"outlinewidth\":0,\"ticks\":\"\"}}}],\"scatterpolar\":[{\"type\":\"scatterpolar\",\"marker\":{\"colorbar\":{\"outlinewidth\":0,\"ticks\":\"\"}}}],\"histogram\":[{\"marker\":{\"pattern\":{\"fillmode\":\"overlay\",\"size\":10,\"solidity\":0.2}},\"type\":\"histogram\"}],\"scattergl\":[{\"type\":\"scattergl\",\"marker\":{\"colorbar\":{\"outlinewidth\":0,\"ticks\":\"\"}}}],\"scatter3d\":[{\"type\":\"scatter3d\",\"line\":{\"colorbar\":{\"outlinewidth\":0,\"ticks\":\"\"}},\"marker\":{\"colorbar\":{\"outlinewidth\":0,\"ticks\":\"\"}}}],\"scattermapbox\":[{\"type\":\"scattermapbox\",\"marker\":{\"colorbar\":{\"outlinewidth\":0,\"ticks\":\"\"}}}],\"scatterternary\":[{\"type\":\"scatterternary\",\"marker\":{\"colorbar\":{\"outlinewidth\":0,\"ticks\":\"\"}}}],\"scattercarpet\":[{\"type\":\"scattercarpet\",\"marker\":{\"colorbar\":{\"outlinewidth\":0,\"ticks\":\"\"}}}],\"carpet\":[{\"aaxis\":{\"endlinecolor\":\"#2a3f5f\",\"gridcolor\":\"white\",\"linecolor\":\"white\",\"minorgridcolor\":\"white\",\"startlinecolor\":\"#2a3f5f\"},\"baxis\":{\"endlinecolor\":\"#2a3f5f\",\"gridcolor\":\"white\",\"linecolor\":\"white\",\"minorgridcolor\":\"white\",\"startlinecolor\":\"#2a3f5f\"},\"type\":\"carpet\"}],\"table\":[{\"cells\":{\"fill\":{\"color\":\"#EBF0F8\"},\"line\":{\"color\":\"white\"}},\"header\":{\"fill\":{\"color\":\"#C8D4E3\"},\"line\":{\"color\":\"white\"}},\"type\":\"table\"}],\"barpolar\":[{\"marker\":{\"line\":{\"color\":\"#E5ECF6\",\"width\":0.5},\"pattern\":{\"fillmode\":\"overlay\",\"size\":10,\"solidity\":0.2}},\"type\":\"barpolar\"}],\"pie\":[{\"automargin\":true,\"type\":\"pie\"}]},\"layout\":{\"autotypenumbers\":\"strict\",\"colorway\":[\"#636efa\",\"#EF553B\",\"#00cc96\",\"#ab63fa\",\"#FFA15A\",\"#19d3f3\",\"#FF6692\",\"#B6E880\",\"#FF97FF\",\"#FECB52\"],\"font\":{\"color\":\"#2a3f5f\"},\"hovermode\":\"closest\",\"hoverlabel\":{\"align\":\"left\"},\"paper_bgcolor\":\"white\",\"plot_bgcolor\":\"#E5ECF6\",\"polar\":{\"bgcolor\":\"#E5ECF6\",\"angularaxis\":{\"gridcolor\":\"white\",\"linecolor\":\"white\",\"ticks\":\"\"},\"radialaxis\":{\"gridcolor\":\"white\",\"linecolor\":\"white\",\"ticks\":\"\"}},\"ternary\":{\"bgcolor\":\"#E5ECF6\",\"aaxis\":{\"gridcolor\":\"white\",\"linecolor\":\"white\",\"ticks\":\"\"},\"baxis\":{\"gridcolor\":\"white\",\"linecolor\":\"white\",\"ticks\":\"\"},\"caxis\":{\"gridcolor\":\"white\",\"linecolor\":\"white\",\"ticks\":\"\"}},\"coloraxis\":{\"colorbar\":{\"outlinewidth\":0,\"ticks\":\"\"}},\"colorscale\":{\"sequential\":[[0.0,\"#0d0887\"],[0.1111111111111111,\"#46039f\"],[0.2222222222222222,\"#7201a8\"],[0.3333333333333333,\"#9c179e\"],[0.4444444444444444,\"#bd3786\"],[0.5555555555555556,\"#d8576b\"],[0.6666666666666666,\"#ed7953\"],[0.7777777777777778,\"#fb9f3a\"],[0.8888888888888888,\"#fdca26\"],[1.0,\"#f0f921\"]],\"sequentialminus\":[[0.0,\"#0d0887\"],[0.1111111111111111,\"#46039f\"],[0.2222222222222222,\"#7201a8\"],[0.3333333333333333,\"#9c179e\"],[0.4444444444444444,\"#bd3786\"],[0.5555555555555556,\"#d8576b\"],[0.6666666666666666,\"#ed7953\"],[0.7777777777777778,\"#fb9f3a\"],[0.8888888888888888,\"#fdca26\"],[1.0,\"#f0f921\"]],\"diverging\":[[0,\"#8e0152\"],[0.1,\"#c51b7d\"],[0.2,\"#de77ae\"],[0.3,\"#f1b6da\"],[0.4,\"#fde0ef\"],[0.5,\"#f7f7f7\"],[0.6,\"#e6f5d0\"],[0.7,\"#b8e186\"],[0.8,\"#7fbc41\"],[0.9,\"#4d9221\"],[1,\"#276419\"]]},\"xaxis\":{\"gridcolor\":\"white\",\"linecolor\":\"white\",\"ticks\":\"\",\"title\":{\"standoff\":15},\"zerolinecolor\":\"white\",\"automargin\":true,\"zerolinewidth\":2},\"yaxis\":{\"gridcolor\":\"white\",\"linecolor\":\"white\",\"ticks\":\"\",\"title\":{\"standoff\":15},\"zerolinecolor\":\"white\",\"automargin\":true,\"zerolinewidth\":2},\"scene\":{\"xaxis\":{\"backgroundcolor\":\"#E5ECF6\",\"gridcolor\":\"white\",\"linecolor\":\"white\",\"showbackground\":true,\"ticks\":\"\",\"zerolinecolor\":\"white\",\"gridwidth\":2},\"yaxis\":{\"backgroundcolor\":\"#E5ECF6\",\"gridcolor\":\"white\",\"linecolor\":\"white\",\"showbackground\":true,\"ticks\":\"\",\"zerolinecolor\":\"white\",\"gridwidth\":2},\"zaxis\":{\"backgroundcolor\":\"#E5ECF6\",\"gridcolor\":\"white\",\"linecolor\":\"white\",\"showbackground\":true,\"ticks\":\"\",\"zerolinecolor\":\"white\",\"gridwidth\":2}},\"shapedefaults\":{\"line\":{\"color\":\"#2a3f5f\"}},\"annotationdefaults\":{\"arrowcolor\":\"#2a3f5f\",\"arrowhead\":0,\"arrowwidth\":1},\"geo\":{\"bgcolor\":\"white\",\"landcolor\":\"#E5ECF6\",\"subunitcolor\":\"white\",\"showland\":true,\"showlakes\":true,\"lakecolor\":\"white\"},\"title\":{\"x\":0.05},\"mapbox\":{\"style\":\"light\"}}},\"xaxis\":{\"anchor\":\"y\",\"domain\":[0.0,1.0]},\"yaxis\":{\"anchor\":\"x\",\"domain\":[0.0,1.0],\"title\":{\"text\":\"y\"}},\"legend\":{\"tracegroupgap\":0},\"margin\":{\"t\":60},\"boxmode\":\"group\"},                        {\"responsive\": true}                    ).then(function(){\n",
              "                            \n",
              "var gd = document.getElementById('a212329b-c083-4ab4-ac58-7d4e5d341392');\n",
              "var x = new MutationObserver(function (mutations, observer) {{\n",
              "        var display = window.getComputedStyle(gd).display;\n",
              "        if (!display || display === 'none') {{\n",
              "            console.log([gd, 'removed!']);\n",
              "            Plotly.purge(gd);\n",
              "            observer.disconnect();\n",
              "        }}\n",
              "}});\n",
              "\n",
              "// Listen for the removal of the full notebook cells\n",
              "var notebookContainer = gd.closest('#notebook-container');\n",
              "if (notebookContainer) {{\n",
              "    x.observe(notebookContainer, {childList: true});\n",
              "}}\n",
              "\n",
              "// Listen for the clearing of the current output cell\n",
              "var outputEl = gd.closest('.output');\n",
              "if (outputEl) {{\n",
              "    x.observe(outputEl, {childList: true});\n",
              "}}\n",
              "\n",
              "                        })                };                            </script>        </div>\n",
              "</body>\n",
              "</html>"
            ]
          },
          "metadata": {}
        }
      ],
      "source": [
        "fig = px.box(soporte, y= \"y\")\n",
        "\n",
        "fig.show()\n",
        "\n",
        "#No hay valores atípicos"
      ],
      "id": "ksr05VbVMrBT"
    },
    {
      "cell_type": "markdown",
      "id": "2c843c46",
      "metadata": {
        "id": "2c843c46"
      },
      "source": [
        "# Análisis Exploratorio de Datos"
      ]
    },
    {
      "cell_type": "code",
      "execution_count": 17,
      "id": "dbf1f932",
      "metadata": {
        "colab": {
          "base_uri": "https://localhost:8080/"
        },
        "id": "dbf1f932",
        "outputId": "768a1883-7850-4758-b9ad-808e8936614a"
      },
      "outputs": [
        {
          "output_type": "execute_result",
          "data": {
            "text/plain": [
              "array(['dino', 'away', 'h_lines', 'v_lines', 'x_shape', 'star',\n",
              "       'high_lines', 'dots', 'circle', 'bullseye', 'slant_up',\n",
              "       'slant_down', 'wide_lines'], dtype=object)"
            ]
          },
          "metadata": {},
          "execution_count": 17
        }
      ],
      "source": [
        "# En el set de datos vienen distintas clases de datasets,\n",
        "# estas se encuentran en la columna \"dataset\"\n",
        "# una forma sencilla de conocer los distintos valores que vienen,\n",
        "# es la siguiente\n",
        "\n",
        "soporte['dataset'].unique()\n"
      ]
    },
    {
      "cell_type": "code",
      "execution_count": 18,
      "id": "6f5030ae",
      "metadata": {
        "id": "6f5030ae"
      },
      "outputs": [],
      "source": [
        "# En este primer análisis, trabajaremos con el dataset slant_down\n",
        "df_slant = soporte[soporte['dataset']=='slant_down']"
      ]
    },
    {
      "cell_type": "code",
      "execution_count": 19,
      "id": "87230764",
      "metadata": {
        "colab": {
          "base_uri": "https://localhost:8080/"
        },
        "id": "87230764",
        "outputId": "4939e986-85d9-4317-ef3d-48414e772475"
      },
      "outputs": [
        {
          "output_type": "execute_result",
          "data": {
            "text/plain": [
              "(142, 3)"
            ]
          },
          "metadata": {},
          "execution_count": 19
        }
      ],
      "source": [
        "df_slant.shape"
      ]
    },
    {
      "cell_type": "markdown",
      "id": "04288d1e",
      "metadata": {
        "id": "04288d1e"
      },
      "source": [
        "## Análisis Dataset slant_down\n",
        "\n",
        "Realice los siguientes cálculos:\n",
        "* media de x\n",
        "* media de y\n",
        "* desviación estándar de x\n",
        "* desviación estándar de y\n",
        "* correlación de xy"
      ]
    },
    {
      "cell_type": "code",
      "execution_count": 20,
      "id": "5a71970a",
      "metadata": {
        "colab": {
          "base_uri": "https://localhost:8080/"
        },
        "id": "5a71970a",
        "outputId": "8d2a11ed-728d-4373-8bad-95be2f8c374a"
      },
      "outputs": [
        {
          "output_type": "execute_result",
          "data": {
            "text/plain": [
              "54.2678488233662"
            ]
          },
          "metadata": {},
          "execution_count": 20
        }
      ],
      "source": [
        "df_slant['x'].mean()"
      ]
    },
    {
      "cell_type": "code",
      "execution_count": 21,
      "id": "78ccb51c",
      "metadata": {
        "colab": {
          "base_uri": "https://localhost:8080/"
        },
        "id": "78ccb51c",
        "outputId": "30afe747-492d-400e-e14a-849de13c3bc5"
      },
      "outputs": [
        {
          "output_type": "execute_result",
          "data": {
            "text/plain": [
              "47.835896330588206"
            ]
          },
          "metadata": {},
          "execution_count": 21
        }
      ],
      "source": [
        "df_slant['y'].mean()"
      ]
    },
    {
      "cell_type": "code",
      "execution_count": 22,
      "id": "ce2d49ec",
      "metadata": {
        "colab": {
          "base_uri": "https://localhost:8080/"
        },
        "id": "ce2d49ec",
        "outputId": "a4993e4a-9323-48fa-a9ad-6befafa0cf9a"
      },
      "outputs": [
        {
          "output_type": "stream",
          "name": "stdout",
          "text": [
            "16.707616756246523\n"
          ]
        }
      ],
      "source": [
        "x_slant = np.std(df_slant['x'])\n",
        "print(x_slant)"
      ]
    },
    {
      "cell_type": "code",
      "source": [
        "y_slant = np.std(df_slant['y'])\n",
        "print(y_slant)"
      ],
      "metadata": {
        "colab": {
          "base_uri": "https://localhost:8080/"
        },
        "id": "GFS6t7W4NWzY",
        "outputId": "1d450a32-e668-49ee-be28-c511869d7ce0"
      },
      "id": "GFS6t7W4NWzY",
      "execution_count": 23,
      "outputs": [
        {
          "output_type": "stream",
          "name": "stdout",
          "text": [
            "26.841091919765944\n"
          ]
        }
      ]
    },
    {
      "cell_type": "code",
      "source": [
        "np.corrcoef(df_slant['x'], df_slant['y'])[0,1]"
      ],
      "metadata": {
        "colab": {
          "base_uri": "https://localhost:8080/"
        },
        "id": "ABrxDMZeNl84",
        "outputId": "958a3873-997e-4983-8a92-2167745c7e7d"
      },
      "id": "ABrxDMZeNl84",
      "execution_count": 24,
      "outputs": [
        {
          "output_type": "execute_result",
          "data": {
            "text/plain": [
              "-0.06897973536063176"
            ]
          },
          "metadata": {},
          "execution_count": 24
        }
      ]
    },
    {
      "cell_type": "code",
      "source": [
        "df_slant['x'].corr(df_slant['y'], method='pearson')"
      ],
      "metadata": {
        "colab": {
          "base_uri": "https://localhost:8080/"
        },
        "id": "fPzgoxV5PD9Q",
        "outputId": "600fca3f-94f2-48c8-c713-2c3b2cf22cea"
      },
      "id": "fPzgoxV5PD9Q",
      "execution_count": 54,
      "outputs": [
        {
          "output_type": "execute_result",
          "data": {
            "text/plain": [
              "-0.06897973536063176"
            ]
          },
          "metadata": {},
          "execution_count": 54
        }
      ]
    },
    {
      "cell_type": "code",
      "source": [
        "print('Correlación Pearson: ', df_slant['x'].corr(df_slant['y'], method='pearson'))\n",
        "print('Correlación spearman: ',df_slant['x'].corr(df_slant['y'], method='spearman'))\n",
        "print('Correlación kendall: ',df_slant['x'].corr(df_slant['y'], method='kendall'))"
      ],
      "metadata": {
        "colab": {
          "base_uri": "https://localhost:8080/"
        },
        "id": "wVitGXNLPLI8",
        "outputId": "5cd60b15-6fcc-4828-c197-a4f7215e88a0"
      },
      "id": "wVitGXNLPLI8",
      "execution_count": 59,
      "outputs": [
        {
          "output_type": "stream",
          "name": "stdout",
          "text": [
            "Correlación Pearson:  -0.06897973536063176\n",
            "Correlación spearman:  -0.06693546190099982\n",
            "Correlación kendall:  -0.07541704125461991\n"
          ]
        }
      ]
    },
    {
      "cell_type": "markdown",
      "id": "e3af6483",
      "metadata": {
        "id": "e3af6483"
      },
      "source": [
        "## Análisis Dataset dino\n",
        "\n",
        "Repita el mismo análisis con el dataset dino"
      ]
    },
    {
      "cell_type": "code",
      "execution_count": 26,
      "id": "adf8e57b",
      "metadata": {
        "id": "adf8e57b"
      },
      "outputs": [],
      "source": [
        "df_dino = soporte[soporte['dataset']=='dino']"
      ]
    },
    {
      "cell_type": "code",
      "execution_count": 27,
      "metadata": {
        "colab": {
          "base_uri": "https://localhost:8080/"
        },
        "outputId": "e226a03f-4fe9-4ef9-dc63-1f7e64911463",
        "id": "_G8DCO7aOgsk"
      },
      "outputs": [
        {
          "output_type": "execute_result",
          "data": {
            "text/plain": [
              "(142, 3)"
            ]
          },
          "metadata": {},
          "execution_count": 27
        }
      ],
      "source": [
        "df_dino.shape"
      ],
      "id": "_G8DCO7aOgsk"
    },
    {
      "cell_type": "code",
      "execution_count": 28,
      "metadata": {
        "colab": {
          "base_uri": "https://localhost:8080/"
        },
        "outputId": "8db91d00-dd5e-430e-9888-db2c6462116e",
        "id": "iz5k1FACOgsm"
      },
      "outputs": [
        {
          "output_type": "execute_result",
          "data": {
            "text/plain": [
              "54.26327323943662"
            ]
          },
          "metadata": {},
          "execution_count": 28
        }
      ],
      "source": [
        "df_dino['x'].mean()"
      ],
      "id": "iz5k1FACOgsm"
    },
    {
      "cell_type": "code",
      "execution_count": 29,
      "metadata": {
        "colab": {
          "base_uri": "https://localhost:8080/"
        },
        "outputId": "6b5fcbec-67b1-4d6e-fe2a-51fe8f320aa3",
        "id": "Wa_QbNwFOgsn"
      },
      "outputs": [
        {
          "output_type": "execute_result",
          "data": {
            "text/plain": [
              "47.832252816901416"
            ]
          },
          "metadata": {},
          "execution_count": 29
        }
      ],
      "source": [
        "df_dino['y'].mean()"
      ],
      "id": "Wa_QbNwFOgsn"
    },
    {
      "cell_type": "code",
      "execution_count": 30,
      "metadata": {
        "colab": {
          "base_uri": "https://localhost:8080/"
        },
        "outputId": "09baeffe-56ff-4276-d794-4c464ea1b0b8",
        "id": "gsgVbVgEOgsn"
      },
      "outputs": [
        {
          "output_type": "stream",
          "name": "stdout",
          "text": [
            "16.70600555135667\n"
          ]
        }
      ],
      "source": [
        "x_dino = np.std(df_dino['x'])\n",
        "print(x_dino)"
      ],
      "id": "gsgVbVgEOgsn"
    },
    {
      "cell_type": "code",
      "source": [
        "y_dino = np.std(df_dino['y'])\n",
        "print(y_dino)"
      ],
      "metadata": {
        "colab": {
          "base_uri": "https://localhost:8080/"
        },
        "outputId": "1877500a-4b32-46a1-fd44-ea23aa414da9",
        "id": "X5MyvnIROgso"
      },
      "execution_count": 31,
      "outputs": [
        {
          "output_type": "stream",
          "name": "stdout",
          "text": [
            "26.840392949306764\n"
          ]
        }
      ],
      "id": "X5MyvnIROgso"
    },
    {
      "cell_type": "code",
      "source": [
        "print('Correlación Pearson: ', df_dino['x'].corr(df_dino['y'], method='pearson'))\n",
        "print('Correlación spearman: ',df_dino['x'].corr(df_dino['y'], method='spearman'))\n",
        "print('Correlación kendall: ',df_dino['x'].corr(df_dino['y'], method='kendall'))"
      ],
      "metadata": {
        "colab": {
          "base_uri": "https://localhost:8080/"
        },
        "id": "3Da8vQNsPodq",
        "outputId": "c788615e-0058-4dcb-ded5-582f1c2fdd59"
      },
      "id": "3Da8vQNsPodq",
      "execution_count": 60,
      "outputs": [
        {
          "output_type": "stream",
          "name": "stdout",
          "text": [
            "Correlación Pearson:  -0.06447185270095167\n",
            "Correlación spearman:  -0.06510904080429955\n",
            "Correlación kendall:  -0.04831257557516116\n"
          ]
        }
      ]
    },
    {
      "cell_type": "markdown",
      "id": "f0daad83",
      "metadata": {
        "id": "f0daad83"
      },
      "source": [
        "## Análisis Dataset star\n",
        "\n",
        "Repita el mismo análisis con el dataset star"
      ]
    },
    {
      "cell_type": "code",
      "execution_count": 33,
      "id": "242f7e08",
      "metadata": {
        "id": "242f7e08"
      },
      "outputs": [],
      "source": [
        "df_star = soporte[soporte['dataset']=='star']"
      ]
    },
    {
      "cell_type": "code",
      "execution_count": 34,
      "metadata": {
        "colab": {
          "base_uri": "https://localhost:8080/"
        },
        "outputId": "e83f2433-6ac8-4cf5-bd65-6bbe38f4aef1",
        "id": "lt9boKXHOh8w"
      },
      "outputs": [
        {
          "output_type": "execute_result",
          "data": {
            "text/plain": [
              "(142, 3)"
            ]
          },
          "metadata": {},
          "execution_count": 34
        }
      ],
      "source": [
        "df_star.shape"
      ],
      "id": "lt9boKXHOh8w"
    },
    {
      "cell_type": "code",
      "execution_count": 35,
      "metadata": {
        "colab": {
          "base_uri": "https://localhost:8080/"
        },
        "outputId": "2717e451-635d-4d6a-bb40-7ffdcc28849d",
        "id": "CBptfm0EOh9F"
      },
      "outputs": [
        {
          "output_type": "execute_result",
          "data": {
            "text/plain": [
              "54.26734110449506"
            ]
          },
          "metadata": {},
          "execution_count": 35
        }
      ],
      "source": [
        "df_star['x'].mean()"
      ],
      "id": "CBptfm0EOh9F"
    },
    {
      "cell_type": "code",
      "execution_count": 36,
      "metadata": {
        "colab": {
          "base_uri": "https://localhost:8080/"
        },
        "outputId": "c6e14394-df4d-47bd-8486-d8ca7b3b6db7",
        "id": "fkas50NLOh9F"
      },
      "outputs": [
        {
          "output_type": "execute_result",
          "data": {
            "text/plain": [
              "47.839545225097886"
            ]
          },
          "metadata": {},
          "execution_count": 36
        }
      ],
      "source": [
        "df_star['y'].mean()"
      ],
      "id": "fkas50NLOh9F"
    },
    {
      "cell_type": "code",
      "execution_count": 37,
      "metadata": {
        "colab": {
          "base_uri": "https://localhost:8080/"
        },
        "outputId": "0c00ba8c-9bae-4b5e-aebb-63597e200bcc",
        "id": "Qvo3K6WYOh9G"
      },
      "outputs": [
        {
          "output_type": "stream",
          "name": "stdout",
          "text": [
            "16.709809264004765\n"
          ]
        }
      ],
      "source": [
        "x_star = np.std(df_star['x'])\n",
        "print(x_star)"
      ],
      "id": "Qvo3K6WYOh9G"
    },
    {
      "cell_type": "code",
      "source": [
        "y_star = np.std(df_slant['y'])\n",
        "print(y_star)"
      ],
      "metadata": {
        "colab": {
          "base_uri": "https://localhost:8080/"
        },
        "outputId": "378051b0-1a7c-4e5c-f479-11036772d2ee",
        "id": "nJNMzSZlOh9H"
      },
      "execution_count": 38,
      "outputs": [
        {
          "output_type": "stream",
          "name": "stdout",
          "text": [
            "26.841091919765944\n"
          ]
        }
      ],
      "id": "nJNMzSZlOh9H"
    },
    {
      "cell_type": "code",
      "source": [
        "print('Correlación Pearson: ', df_star['x'].corr(df_star['y'], method='pearson'))\n",
        "print('Correlación spearman: ',df_star['x'].corr(df_star['y'], method='spearman'))\n",
        "print('Correlación kendall: ',df_star['x'].corr(df_star['y'], method='kendall'))"
      ],
      "metadata": {
        "colab": {
          "base_uri": "https://localhost:8080/"
        },
        "id": "uhAN5j7tPxVX",
        "outputId": "714f6692-56eb-48ea-bb75-6fc86509a163"
      },
      "id": "uhAN5j7tPxVX",
      "execution_count": 61,
      "outputs": [
        {
          "output_type": "stream",
          "name": "stdout",
          "text": [
            "Correlación Pearson:  -0.06296110022682305\n",
            "Correlación spearman:  -0.05144480931115633\n",
            "Correlación kendall:  -0.03246428928179003\n"
          ]
        }
      ]
    },
    {
      "cell_type": "markdown",
      "id": "54aa8e8b",
      "metadata": {
        "id": "54aa8e8b"
      },
      "source": [
        "# Análisis y Conclusiones"
      ]
    },
    {
      "cell_type": "markdown",
      "id": "59c1e131",
      "metadata": {
        "id": "59c1e131"
      },
      "source": [
        "Aparentemente, este misterioso set de datos esconde algunos misterios... ¿Se podrá concluir que cada dataset contiene los mismos datos, o al menos son datos muy similares?"
      ]
    },
    {
      "cell_type": "code",
      "execution_count": 64,
      "id": "794da383",
      "metadata": {
        "id": "794da383",
        "colab": {
          "base_uri": "https://localhost:8080/",
          "height": 318
        },
        "outputId": "030c41b0-a38d-48eb-a54b-f6a8697180df"
      },
      "outputs": [
        {
          "output_type": "stream",
          "name": "stdout",
          "text": [
            "Dataset 'slant_down\n"
          ]
        },
        {
          "output_type": "execute_result",
          "data": {
            "text/plain": [
              "                x           y\n",
              "count  142.000000  142.000000\n",
              "mean    54.267849   47.835896\n",
              "std     16.766759   26.936105\n",
              "min     18.109472    0.303872\n",
              "25%     42.890931   27.840858\n",
              "50%     53.135159   46.401314\n",
              "75%     64.469989   68.439430\n",
              "max     95.593416   99.644179"
            ],
            "text/html": [
              "\n",
              "  <div id=\"df-1941f901-b23a-41c6-9707-41460fc81a8f\">\n",
              "    <div class=\"colab-df-container\">\n",
              "      <div>\n",
              "<style scoped>\n",
              "    .dataframe tbody tr th:only-of-type {\n",
              "        vertical-align: middle;\n",
              "    }\n",
              "\n",
              "    .dataframe tbody tr th {\n",
              "        vertical-align: top;\n",
              "    }\n",
              "\n",
              "    .dataframe thead th {\n",
              "        text-align: right;\n",
              "    }\n",
              "</style>\n",
              "<table border=\"1\" class=\"dataframe\">\n",
              "  <thead>\n",
              "    <tr style=\"text-align: right;\">\n",
              "      <th></th>\n",
              "      <th>x</th>\n",
              "      <th>y</th>\n",
              "    </tr>\n",
              "  </thead>\n",
              "  <tbody>\n",
              "    <tr>\n",
              "      <th>count</th>\n",
              "      <td>142.000000</td>\n",
              "      <td>142.000000</td>\n",
              "    </tr>\n",
              "    <tr>\n",
              "      <th>mean</th>\n",
              "      <td>54.267849</td>\n",
              "      <td>47.835896</td>\n",
              "    </tr>\n",
              "    <tr>\n",
              "      <th>std</th>\n",
              "      <td>16.766759</td>\n",
              "      <td>26.936105</td>\n",
              "    </tr>\n",
              "    <tr>\n",
              "      <th>min</th>\n",
              "      <td>18.109472</td>\n",
              "      <td>0.303872</td>\n",
              "    </tr>\n",
              "    <tr>\n",
              "      <th>25%</th>\n",
              "      <td>42.890931</td>\n",
              "      <td>27.840858</td>\n",
              "    </tr>\n",
              "    <tr>\n",
              "      <th>50%</th>\n",
              "      <td>53.135159</td>\n",
              "      <td>46.401314</td>\n",
              "    </tr>\n",
              "    <tr>\n",
              "      <th>75%</th>\n",
              "      <td>64.469989</td>\n",
              "      <td>68.439430</td>\n",
              "    </tr>\n",
              "    <tr>\n",
              "      <th>max</th>\n",
              "      <td>95.593416</td>\n",
              "      <td>99.644179</td>\n",
              "    </tr>\n",
              "  </tbody>\n",
              "</table>\n",
              "</div>\n",
              "      <button class=\"colab-df-convert\" onclick=\"convertToInteractive('df-1941f901-b23a-41c6-9707-41460fc81a8f')\"\n",
              "              title=\"Convert this dataframe to an interactive table.\"\n",
              "              style=\"display:none;\">\n",
              "        \n",
              "  <svg xmlns=\"http://www.w3.org/2000/svg\" height=\"24px\"viewBox=\"0 0 24 24\"\n",
              "       width=\"24px\">\n",
              "    <path d=\"M0 0h24v24H0V0z\" fill=\"none\"/>\n",
              "    <path d=\"M18.56 5.44l.94 2.06.94-2.06 2.06-.94-2.06-.94-.94-2.06-.94 2.06-2.06.94zm-11 1L8.5 8.5l.94-2.06 2.06-.94-2.06-.94L8.5 2.5l-.94 2.06-2.06.94zm10 10l.94 2.06.94-2.06 2.06-.94-2.06-.94-.94-2.06-.94 2.06-2.06.94z\"/><path d=\"M17.41 7.96l-1.37-1.37c-.4-.4-.92-.59-1.43-.59-.52 0-1.04.2-1.43.59L10.3 9.45l-7.72 7.72c-.78.78-.78 2.05 0 2.83L4 21.41c.39.39.9.59 1.41.59.51 0 1.02-.2 1.41-.59l7.78-7.78 2.81-2.81c.8-.78.8-2.07 0-2.86zM5.41 20L4 18.59l7.72-7.72 1.47 1.35L5.41 20z\"/>\n",
              "  </svg>\n",
              "      </button>\n",
              "      \n",
              "  <style>\n",
              "    .colab-df-container {\n",
              "      display:flex;\n",
              "      flex-wrap:wrap;\n",
              "      gap: 12px;\n",
              "    }\n",
              "\n",
              "    .colab-df-convert {\n",
              "      background-color: #E8F0FE;\n",
              "      border: none;\n",
              "      border-radius: 50%;\n",
              "      cursor: pointer;\n",
              "      display: none;\n",
              "      fill: #1967D2;\n",
              "      height: 32px;\n",
              "      padding: 0 0 0 0;\n",
              "      width: 32px;\n",
              "    }\n",
              "\n",
              "    .colab-df-convert:hover {\n",
              "      background-color: #E2EBFA;\n",
              "      box-shadow: 0px 1px 2px rgba(60, 64, 67, 0.3), 0px 1px 3px 1px rgba(60, 64, 67, 0.15);\n",
              "      fill: #174EA6;\n",
              "    }\n",
              "\n",
              "    [theme=dark] .colab-df-convert {\n",
              "      background-color: #3B4455;\n",
              "      fill: #D2E3FC;\n",
              "    }\n",
              "\n",
              "    [theme=dark] .colab-df-convert:hover {\n",
              "      background-color: #434B5C;\n",
              "      box-shadow: 0px 1px 3px 1px rgba(0, 0, 0, 0.15);\n",
              "      filter: drop-shadow(0px 1px 2px rgba(0, 0, 0, 0.3));\n",
              "      fill: #FFFFFF;\n",
              "    }\n",
              "  </style>\n",
              "\n",
              "      <script>\n",
              "        const buttonEl =\n",
              "          document.querySelector('#df-1941f901-b23a-41c6-9707-41460fc81a8f button.colab-df-convert');\n",
              "        buttonEl.style.display =\n",
              "          google.colab.kernel.accessAllowed ? 'block' : 'none';\n",
              "\n",
              "        async function convertToInteractive(key) {\n",
              "          const element = document.querySelector('#df-1941f901-b23a-41c6-9707-41460fc81a8f');\n",
              "          const dataTable =\n",
              "            await google.colab.kernel.invokeFunction('convertToInteractive',\n",
              "                                                     [key], {});\n",
              "          if (!dataTable) return;\n",
              "\n",
              "          const docLinkHtml = 'Like what you see? Visit the ' +\n",
              "            '<a target=\"_blank\" href=https://colab.research.google.com/notebooks/data_table.ipynb>data table notebook</a>'\n",
              "            + ' to learn more about interactive tables.';\n",
              "          element.innerHTML = '';\n",
              "          dataTable['output_type'] = 'display_data';\n",
              "          await google.colab.output.renderOutput(dataTable, element);\n",
              "          const docLink = document.createElement('div');\n",
              "          docLink.innerHTML = docLinkHtml;\n",
              "          element.appendChild(docLink);\n",
              "        }\n",
              "      </script>\n",
              "    </div>\n",
              "  </div>\n",
              "  "
            ]
          },
          "metadata": {},
          "execution_count": 64
        }
      ],
      "source": [
        "# Responda acá\n",
        "print(\"Dataset 'slant_down\")\n",
        "df_slant.describe()"
      ]
    },
    {
      "cell_type": "code",
      "source": [
        "print(\"Dataset 'star\")\n",
        "df_star.describe()"
      ],
      "metadata": {
        "colab": {
          "base_uri": "https://localhost:8080/",
          "height": 318
        },
        "id": "v37VYnXVTUb4",
        "outputId": "c75e7e57-c26f-4354-8f4c-521bf5a0f155"
      },
      "id": "v37VYnXVTUb4",
      "execution_count": 65,
      "outputs": [
        {
          "output_type": "stream",
          "name": "stdout",
          "text": [
            "Dataset 'star\n"
          ]
        },
        {
          "output_type": "execute_result",
          "data": {
            "text/plain": [
              "                x           y\n",
              "count  142.000000  142.000000\n",
              "mean    54.267341   47.839545\n",
              "std     16.768959   26.930275\n",
              "min     27.024603   14.365590\n",
              "25%     41.034210   20.374135\n",
              "50%     56.534732   50.110554\n",
              "75%     68.711493   63.548584\n",
              "max     86.435897   92.214989"
            ],
            "text/html": [
              "\n",
              "  <div id=\"df-94008ed2-fd6d-4cd0-ac6f-eb58a5ca8d9c\">\n",
              "    <div class=\"colab-df-container\">\n",
              "      <div>\n",
              "<style scoped>\n",
              "    .dataframe tbody tr th:only-of-type {\n",
              "        vertical-align: middle;\n",
              "    }\n",
              "\n",
              "    .dataframe tbody tr th {\n",
              "        vertical-align: top;\n",
              "    }\n",
              "\n",
              "    .dataframe thead th {\n",
              "        text-align: right;\n",
              "    }\n",
              "</style>\n",
              "<table border=\"1\" class=\"dataframe\">\n",
              "  <thead>\n",
              "    <tr style=\"text-align: right;\">\n",
              "      <th></th>\n",
              "      <th>x</th>\n",
              "      <th>y</th>\n",
              "    </tr>\n",
              "  </thead>\n",
              "  <tbody>\n",
              "    <tr>\n",
              "      <th>count</th>\n",
              "      <td>142.000000</td>\n",
              "      <td>142.000000</td>\n",
              "    </tr>\n",
              "    <tr>\n",
              "      <th>mean</th>\n",
              "      <td>54.267341</td>\n",
              "      <td>47.839545</td>\n",
              "    </tr>\n",
              "    <tr>\n",
              "      <th>std</th>\n",
              "      <td>16.768959</td>\n",
              "      <td>26.930275</td>\n",
              "    </tr>\n",
              "    <tr>\n",
              "      <th>min</th>\n",
              "      <td>27.024603</td>\n",
              "      <td>14.365590</td>\n",
              "    </tr>\n",
              "    <tr>\n",
              "      <th>25%</th>\n",
              "      <td>41.034210</td>\n",
              "      <td>20.374135</td>\n",
              "    </tr>\n",
              "    <tr>\n",
              "      <th>50%</th>\n",
              "      <td>56.534732</td>\n",
              "      <td>50.110554</td>\n",
              "    </tr>\n",
              "    <tr>\n",
              "      <th>75%</th>\n",
              "      <td>68.711493</td>\n",
              "      <td>63.548584</td>\n",
              "    </tr>\n",
              "    <tr>\n",
              "      <th>max</th>\n",
              "      <td>86.435897</td>\n",
              "      <td>92.214989</td>\n",
              "    </tr>\n",
              "  </tbody>\n",
              "</table>\n",
              "</div>\n",
              "      <button class=\"colab-df-convert\" onclick=\"convertToInteractive('df-94008ed2-fd6d-4cd0-ac6f-eb58a5ca8d9c')\"\n",
              "              title=\"Convert this dataframe to an interactive table.\"\n",
              "              style=\"display:none;\">\n",
              "        \n",
              "  <svg xmlns=\"http://www.w3.org/2000/svg\" height=\"24px\"viewBox=\"0 0 24 24\"\n",
              "       width=\"24px\">\n",
              "    <path d=\"M0 0h24v24H0V0z\" fill=\"none\"/>\n",
              "    <path d=\"M18.56 5.44l.94 2.06.94-2.06 2.06-.94-2.06-.94-.94-2.06-.94 2.06-2.06.94zm-11 1L8.5 8.5l.94-2.06 2.06-.94-2.06-.94L8.5 2.5l-.94 2.06-2.06.94zm10 10l.94 2.06.94-2.06 2.06-.94-2.06-.94-.94-2.06-.94 2.06-2.06.94z\"/><path d=\"M17.41 7.96l-1.37-1.37c-.4-.4-.92-.59-1.43-.59-.52 0-1.04.2-1.43.59L10.3 9.45l-7.72 7.72c-.78.78-.78 2.05 0 2.83L4 21.41c.39.39.9.59 1.41.59.51 0 1.02-.2 1.41-.59l7.78-7.78 2.81-2.81c.8-.78.8-2.07 0-2.86zM5.41 20L4 18.59l7.72-7.72 1.47 1.35L5.41 20z\"/>\n",
              "  </svg>\n",
              "      </button>\n",
              "      \n",
              "  <style>\n",
              "    .colab-df-container {\n",
              "      display:flex;\n",
              "      flex-wrap:wrap;\n",
              "      gap: 12px;\n",
              "    }\n",
              "\n",
              "    .colab-df-convert {\n",
              "      background-color: #E8F0FE;\n",
              "      border: none;\n",
              "      border-radius: 50%;\n",
              "      cursor: pointer;\n",
              "      display: none;\n",
              "      fill: #1967D2;\n",
              "      height: 32px;\n",
              "      padding: 0 0 0 0;\n",
              "      width: 32px;\n",
              "    }\n",
              "\n",
              "    .colab-df-convert:hover {\n",
              "      background-color: #E2EBFA;\n",
              "      box-shadow: 0px 1px 2px rgba(60, 64, 67, 0.3), 0px 1px 3px 1px rgba(60, 64, 67, 0.15);\n",
              "      fill: #174EA6;\n",
              "    }\n",
              "\n",
              "    [theme=dark] .colab-df-convert {\n",
              "      background-color: #3B4455;\n",
              "      fill: #D2E3FC;\n",
              "    }\n",
              "\n",
              "    [theme=dark] .colab-df-convert:hover {\n",
              "      background-color: #434B5C;\n",
              "      box-shadow: 0px 1px 3px 1px rgba(0, 0, 0, 0.15);\n",
              "      filter: drop-shadow(0px 1px 2px rgba(0, 0, 0, 0.3));\n",
              "      fill: #FFFFFF;\n",
              "    }\n",
              "  </style>\n",
              "\n",
              "      <script>\n",
              "        const buttonEl =\n",
              "          document.querySelector('#df-94008ed2-fd6d-4cd0-ac6f-eb58a5ca8d9c button.colab-df-convert');\n",
              "        buttonEl.style.display =\n",
              "          google.colab.kernel.accessAllowed ? 'block' : 'none';\n",
              "\n",
              "        async function convertToInteractive(key) {\n",
              "          const element = document.querySelector('#df-94008ed2-fd6d-4cd0-ac6f-eb58a5ca8d9c');\n",
              "          const dataTable =\n",
              "            await google.colab.kernel.invokeFunction('convertToInteractive',\n",
              "                                                     [key], {});\n",
              "          if (!dataTable) return;\n",
              "\n",
              "          const docLinkHtml = 'Like what you see? Visit the ' +\n",
              "            '<a target=\"_blank\" href=https://colab.research.google.com/notebooks/data_table.ipynb>data table notebook</a>'\n",
              "            + ' to learn more about interactive tables.';\n",
              "          element.innerHTML = '';\n",
              "          dataTable['output_type'] = 'display_data';\n",
              "          await google.colab.output.renderOutput(dataTable, element);\n",
              "          const docLink = document.createElement('div');\n",
              "          docLink.innerHTML = docLinkHtml;\n",
              "          element.appendChild(docLink);\n",
              "        }\n",
              "      </script>\n",
              "    </div>\n",
              "  </div>\n",
              "  "
            ]
          },
          "metadata": {},
          "execution_count": 65
        }
      ]
    },
    {
      "cell_type": "code",
      "source": [
        "print(\"Dataset 'dino\")\n",
        "df_dino.describe()"
      ],
      "metadata": {
        "colab": {
          "base_uri": "https://localhost:8080/",
          "height": 318
        },
        "id": "BKUlJatgTX7j",
        "outputId": "ead262ed-9170-4dfa-c9e6-58f96ceeb6dd"
      },
      "id": "BKUlJatgTX7j",
      "execution_count": 66,
      "outputs": [
        {
          "output_type": "stream",
          "name": "stdout",
          "text": [
            "Dataset 'dino\n"
          ]
        },
        {
          "output_type": "execute_result",
          "data": {
            "text/plain": [
              "                x           y\n",
              "count  142.000000  142.000000\n",
              "mean    54.263273   47.832253\n",
              "std     16.765142   26.935403\n",
              "min     22.307700    2.948700\n",
              "25%     44.102600   25.288450\n",
              "50%     53.333300   46.025600\n",
              "75%     64.743600   68.525675\n",
              "max     98.205100   99.487200"
            ],
            "text/html": [
              "\n",
              "  <div id=\"df-a43f6d1a-8d39-4d29-b1e8-6aed94b72e8d\">\n",
              "    <div class=\"colab-df-container\">\n",
              "      <div>\n",
              "<style scoped>\n",
              "    .dataframe tbody tr th:only-of-type {\n",
              "        vertical-align: middle;\n",
              "    }\n",
              "\n",
              "    .dataframe tbody tr th {\n",
              "        vertical-align: top;\n",
              "    }\n",
              "\n",
              "    .dataframe thead th {\n",
              "        text-align: right;\n",
              "    }\n",
              "</style>\n",
              "<table border=\"1\" class=\"dataframe\">\n",
              "  <thead>\n",
              "    <tr style=\"text-align: right;\">\n",
              "      <th></th>\n",
              "      <th>x</th>\n",
              "      <th>y</th>\n",
              "    </tr>\n",
              "  </thead>\n",
              "  <tbody>\n",
              "    <tr>\n",
              "      <th>count</th>\n",
              "      <td>142.000000</td>\n",
              "      <td>142.000000</td>\n",
              "    </tr>\n",
              "    <tr>\n",
              "      <th>mean</th>\n",
              "      <td>54.263273</td>\n",
              "      <td>47.832253</td>\n",
              "    </tr>\n",
              "    <tr>\n",
              "      <th>std</th>\n",
              "      <td>16.765142</td>\n",
              "      <td>26.935403</td>\n",
              "    </tr>\n",
              "    <tr>\n",
              "      <th>min</th>\n",
              "      <td>22.307700</td>\n",
              "      <td>2.948700</td>\n",
              "    </tr>\n",
              "    <tr>\n",
              "      <th>25%</th>\n",
              "      <td>44.102600</td>\n",
              "      <td>25.288450</td>\n",
              "    </tr>\n",
              "    <tr>\n",
              "      <th>50%</th>\n",
              "      <td>53.333300</td>\n",
              "      <td>46.025600</td>\n",
              "    </tr>\n",
              "    <tr>\n",
              "      <th>75%</th>\n",
              "      <td>64.743600</td>\n",
              "      <td>68.525675</td>\n",
              "    </tr>\n",
              "    <tr>\n",
              "      <th>max</th>\n",
              "      <td>98.205100</td>\n",
              "      <td>99.487200</td>\n",
              "    </tr>\n",
              "  </tbody>\n",
              "</table>\n",
              "</div>\n",
              "      <button class=\"colab-df-convert\" onclick=\"convertToInteractive('df-a43f6d1a-8d39-4d29-b1e8-6aed94b72e8d')\"\n",
              "              title=\"Convert this dataframe to an interactive table.\"\n",
              "              style=\"display:none;\">\n",
              "        \n",
              "  <svg xmlns=\"http://www.w3.org/2000/svg\" height=\"24px\"viewBox=\"0 0 24 24\"\n",
              "       width=\"24px\">\n",
              "    <path d=\"M0 0h24v24H0V0z\" fill=\"none\"/>\n",
              "    <path d=\"M18.56 5.44l.94 2.06.94-2.06 2.06-.94-2.06-.94-.94-2.06-.94 2.06-2.06.94zm-11 1L8.5 8.5l.94-2.06 2.06-.94-2.06-.94L8.5 2.5l-.94 2.06-2.06.94zm10 10l.94 2.06.94-2.06 2.06-.94-2.06-.94-.94-2.06-.94 2.06-2.06.94z\"/><path d=\"M17.41 7.96l-1.37-1.37c-.4-.4-.92-.59-1.43-.59-.52 0-1.04.2-1.43.59L10.3 9.45l-7.72 7.72c-.78.78-.78 2.05 0 2.83L4 21.41c.39.39.9.59 1.41.59.51 0 1.02-.2 1.41-.59l7.78-7.78 2.81-2.81c.8-.78.8-2.07 0-2.86zM5.41 20L4 18.59l7.72-7.72 1.47 1.35L5.41 20z\"/>\n",
              "  </svg>\n",
              "      </button>\n",
              "      \n",
              "  <style>\n",
              "    .colab-df-container {\n",
              "      display:flex;\n",
              "      flex-wrap:wrap;\n",
              "      gap: 12px;\n",
              "    }\n",
              "\n",
              "    .colab-df-convert {\n",
              "      background-color: #E8F0FE;\n",
              "      border: none;\n",
              "      border-radius: 50%;\n",
              "      cursor: pointer;\n",
              "      display: none;\n",
              "      fill: #1967D2;\n",
              "      height: 32px;\n",
              "      padding: 0 0 0 0;\n",
              "      width: 32px;\n",
              "    }\n",
              "\n",
              "    .colab-df-convert:hover {\n",
              "      background-color: #E2EBFA;\n",
              "      box-shadow: 0px 1px 2px rgba(60, 64, 67, 0.3), 0px 1px 3px 1px rgba(60, 64, 67, 0.15);\n",
              "      fill: #174EA6;\n",
              "    }\n",
              "\n",
              "    [theme=dark] .colab-df-convert {\n",
              "      background-color: #3B4455;\n",
              "      fill: #D2E3FC;\n",
              "    }\n",
              "\n",
              "    [theme=dark] .colab-df-convert:hover {\n",
              "      background-color: #434B5C;\n",
              "      box-shadow: 0px 1px 3px 1px rgba(0, 0, 0, 0.15);\n",
              "      filter: drop-shadow(0px 1px 2px rgba(0, 0, 0, 0.3));\n",
              "      fill: #FFFFFF;\n",
              "    }\n",
              "  </style>\n",
              "\n",
              "      <script>\n",
              "        const buttonEl =\n",
              "          document.querySelector('#df-a43f6d1a-8d39-4d29-b1e8-6aed94b72e8d button.colab-df-convert');\n",
              "        buttonEl.style.display =\n",
              "          google.colab.kernel.accessAllowed ? 'block' : 'none';\n",
              "\n",
              "        async function convertToInteractive(key) {\n",
              "          const element = document.querySelector('#df-a43f6d1a-8d39-4d29-b1e8-6aed94b72e8d');\n",
              "          const dataTable =\n",
              "            await google.colab.kernel.invokeFunction('convertToInteractive',\n",
              "                                                     [key], {});\n",
              "          if (!dataTable) return;\n",
              "\n",
              "          const docLinkHtml = 'Like what you see? Visit the ' +\n",
              "            '<a target=\"_blank\" href=https://colab.research.google.com/notebooks/data_table.ipynb>data table notebook</a>'\n",
              "            + ' to learn more about interactive tables.';\n",
              "          element.innerHTML = '';\n",
              "          dataTable['output_type'] = 'display_data';\n",
              "          await google.colab.output.renderOutput(dataTable, element);\n",
              "          const docLink = document.createElement('div');\n",
              "          docLink.innerHTML = docLinkHtml;\n",
              "          element.appendChild(docLink);\n",
              "        }\n",
              "      </script>\n",
              "    </div>\n",
              "  </div>\n",
              "  "
            ]
          },
          "metadata": {},
          "execution_count": 66
        }
      ]
    },
    {
      "cell_type": "markdown",
      "source": [
        "**R.-** _Los datos son muy similares, pero no iguales ya que cambian sus decimales y eso altera la intepretación de sus estadísticos_."
      ],
      "metadata": {
        "id": "3V2V0qsMTeQZ"
      },
      "id": "3V2V0qsMTeQZ"
    },
    {
      "cell_type": "markdown",
      "id": "ea48aba9",
      "metadata": {
        "id": "ea48aba9"
      },
      "source": [
        "Considere extender el análisis exploratorio para corroborar o refutar la aseveración anterior"
      ]
    },
    {
      "cell_type": "code",
      "source": [
        "subset = df_slant.append(df_dino, ignore_index = True)\n",
        "subset = subset.append(df_star, ignore_index = True)"
      ],
      "metadata": {
        "id": "s8I5a10fXCsD"
      },
      "id": "s8I5a10fXCsD",
      "execution_count": null,
      "outputs": []
    },
    {
      "cell_type": "code",
      "source": [
        "subset['dataset'].value_counts()"
      ],
      "metadata": {
        "colab": {
          "base_uri": "https://localhost:8080/"
        },
        "id": "a8jB6Sy2X0TF",
        "outputId": "405a5132-1d12-4f0e-cd1d-94a1d3f2f452"
      },
      "id": "a8jB6Sy2X0TF",
      "execution_count": 84,
      "outputs": [
        {
          "output_type": "execute_result",
          "data": {
            "text/plain": [
              "slant_down    142\n",
              "dino          142\n",
              "star          142\n",
              "Name: dataset, dtype: int64"
            ]
          },
          "metadata": {},
          "execution_count": 84
        }
      ]
    },
    {
      "cell_type": "code",
      "execution_count": 104,
      "id": "cee6dd7a",
      "metadata": {
        "id": "cee6dd7a",
        "colab": {
          "base_uri": "https://localhost:8080/",
          "height": 466
        },
        "outputId": "d64b5cba-4b6c-483f-96a5-d93f1341fb26"
      },
      "outputs": [
        {
          "output_type": "execute_result",
          "data": {
            "text/plain": [
              "<Axes: xlabel='x', ylabel='Density'>"
            ]
          },
          "metadata": {},
          "execution_count": 104
        },
        {
          "output_type": "display_data",
          "data": {
            "text/plain": [
              "<Figure size 640x480 with 1 Axes>"
            ],
            "image/png": "[encoded data removed]"
          },
          "metadata": {}
        }
      ],
      "source": [
        "#Distribución de probabilidad\n",
        "sns.kdeplot(data = subset, x = \"x\", hue = \"dataset\" , fill=True, alpha = 0.25)"
      ]
    },
    {
      "cell_type": "code",
      "execution_count": 105,
      "id": "46aff973",
      "metadata": {
        "id": "46aff973",
        "colab": {
          "base_uri": "https://localhost:8080/",
          "height": 466
        },
        "outputId": "462a2227-c62e-44ef-c800-415bbf6eb7ef"
      },
      "outputs": [
        {
          "output_type": "execute_result",
          "data": {
            "text/plain": [
              "<Axes: xlabel='y', ylabel='Density'>"
            ]
          },
          "metadata": {},
          "execution_count": 105
        },
        {
          "output_type": "display_data",
          "data": {
            "text/plain": [
              "<Figure size 640x480 with 1 Axes>"
            ],
            "image/png": "[encoded data removed]"
          },
          "metadata": {}
        }
      ],
      "source": [
        "sns.kdeplot(data = subset, x = \"y\", hue = \"dataset\" , fill=True, alpha = 0.25)"
      ]
    },
    {
      "cell_type": "code",
      "execution_count": 117,
      "id": "ce3ba830",
      "metadata": {
        "id": "ce3ba830",
        "colab": {
          "base_uri": "https://localhost:8080/",
          "height": 467
        },
        "outputId": "530c00bc-30f6-4927-d85d-8aac0af72362"
      },
      "outputs": [
        {
          "output_type": "execute_result",
          "data": {
            "text/plain": [
              "<Axes: xlabel='dataset', ylabel='x'>"
            ]
          },
          "metadata": {},
          "execution_count": 117
        },
        {
          "output_type": "display_data",
          "data": {
            "text/plain": [
              "<Figure size 640x480 with 1 Axes>"
            ],
            "image/png": "[encoded data removed]"
          },
          "metadata": {}
        }
      ],
      "source": [
        "sns.boxenplot(data = subset , y = \"x\", x = \"dataset\", orient = \"v\")"
      ]
    },
    {
      "cell_type": "code",
      "execution_count": 114,
      "id": "d2c1bf35",
      "metadata": {
        "id": "d2c1bf35",
        "colab": {
          "base_uri": "https://localhost:8080/",
          "height": 467
        },
        "outputId": "97d1ffd9-4ab8-4dc5-e54b-077b550d442b"
      },
      "outputs": [
        {
          "output_type": "execute_result",
          "data": {
            "text/plain": [
              "<Axes: xlabel='dataset', ylabel='y'>"
            ]
          },
          "metadata": {},
          "execution_count": 114
        },
        {
          "output_type": "display_data",
          "data": {
            "text/plain": [
              "<Figure size 640x480 with 1 Axes>"
            ],
            "image/png": "[encoded data removed]"
          },
          "metadata": {}
        }
      ],
      "source": [
        "sns.boxenplot(data = subset , y = \"y\", x = \"dataset\", orient = \"v\")"
      ]
    },
    {
      "cell_type": "markdown",
      "id": "5ed80f4c",
      "metadata": {
        "id": "5ed80f4c"
      },
      "source": [
        "Realice un análisis visual de los datasets anteriores"
      ]
    },
    {
      "cell_type": "code",
      "source": [
        "sns.jointplot(data = df_slant, x = 'x', y ='y')"
      ],
      "metadata": {
        "colab": {
          "base_uri": "https://localhost:8080/",
          "height": 624
        },
        "id": "dluOJ8rYemiC",
        "outputId": "22ce8b0f-2647-4e11-9000-092c2070d522"
      },
      "id": "dluOJ8rYemiC",
      "execution_count": 121,
      "outputs": [
        {
          "output_type": "execute_result",
          "data": {
            "text/plain": [
              "<seaborn.axisgrid.JointGrid at 0x7fdd478f5780>"
            ]
          },
          "metadata": {},
          "execution_count": 121
        },
        {
          "output_type": "display_data",
          "data": {
            "text/plain": [
              "<Figure size 600x600 with 3 Axes>"
            ],
            "image/png": "[encoded data removed]"
          },
          "metadata": {}
        }
      ]
    },
    {
      "cell_type": "code",
      "source": [
        "sns.jointplot(data = df_dino, x = 'x', y ='y', color = 'orange')"
      ],
      "metadata": {
        "colab": {
          "base_uri": "https://localhost:8080/",
          "height": 624
        },
        "id": "xxKw8_wVe0bh",
        "outputId": "207b8be8-2bdc-4a23-a736-39a1c30fff7b"
      },
      "id": "xxKw8_wVe0bh",
      "execution_count": 123,
      "outputs": [
        {
          "output_type": "execute_result",
          "data": {
            "text/plain": [
              "<seaborn.axisgrid.JointGrid at 0x7fdd478170a0>"
            ]
          },
          "metadata": {},
          "execution_count": 123
        },
        {
          "output_type": "display_data",
          "data": {
            "text/plain": [
              "<Figure size 600x600 with 3 Axes>"
            ],
            "image/png": "[encoded data removed]"
          },
          "metadata": {}
        }
      ]
    },
    {
      "cell_type": "code",
      "source": [
        "sns.jointplot(data = df_star, x = 'x', y ='y', color ='forestgreen')"
      ],
      "metadata": {
        "colab": {
          "base_uri": "https://localhost:8080/",
          "height": 624
        },
        "id": "MVUKcH13e97g",
        "outputId": "abb4bdc2-2cc1-4d43-fbad-b060e9737d15"
      },
      "id": "MVUKcH13e97g",
      "execution_count": 124,
      "outputs": [
        {
          "output_type": "execute_result",
          "data": {
            "text/plain": [
              "<seaborn.axisgrid.JointGrid at 0x7fdd4773add0>"
            ]
          },
          "metadata": {},
          "execution_count": 124
        },
        {
          "output_type": "display_data",
          "data": {
            "text/plain": [
              "<Figure size 600x600 with 3 Axes>"
            ],
            "image/png": "[encoded data removed]"
          },
          "metadata": {}
        }
      ]
    },
    {
      "cell_type": "markdown",
      "id": "41ba4b7c",
      "metadata": {
        "id": "41ba4b7c"
      },
      "source": [
        "¿Qué hallazgos ha encontrado que sean relevantes?"
      ]
    },
    {
      "cell_type": "markdown",
      "source": [
        "**R.-** _Se puede concluir que confiar solo en resúmenes de datos como **medias, varianzas y correlaciones** puede ser **peligroso**, porque conjuntos de datos muy diferentes pueden dar resultados similares lo cual es una demostración de la importancia de **mirar gráficamente** los conjuntos de datos antes de analizarlos_."
      ],
      "metadata": {
        "id": "AfyDUYjBHvEB"
      },
      "id": "AfyDUYjBHvEB"
    }
  ],
  "metadata": {
    "kernelspec": {
      "display_name": "Python 3 (ipykernel)",
      "language": "python",
      "name": "python3"
    },
    "language_info": {
      "codemirror_mode": {
        "name": "ipython",
        "version": 3
      },
      "file_extension": ".py",
      "mimetype": "text/x-python",
      "name": "python",
      "nbconvert_exporter": "python",
      "pygments_lexer": "ipython3",
      "version": "3.9.13"
    },
    "colab": {
      "provenance": [],
      "toc_visible": true,
      "include_colab_link": true
    }
  },
  "nbformat": 4,
  "nbformat_minor": 5
}