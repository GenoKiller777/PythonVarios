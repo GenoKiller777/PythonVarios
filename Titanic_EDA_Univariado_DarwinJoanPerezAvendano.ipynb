{
  "nbformat": 4,
  "nbformat_minor": 0,
  "metadata": {
    "colab": {
      "provenance": [],
      "authorship_tag": "ABX9TyOKdgw2BxWR1+woFJrPEruR",
      "include_colab_link": true
    },
    "kernelspec": {
      "name": "python3",
      "display_name": "Python 3"
    },
    "language_info": {
      "name": "python"
    }
  },
  "cells": [
    {
      "cell_type": "markdown",
      "metadata": {
        "id": "view-in-github",
        "colab_type": "text"
      },
      "source": [
        "<a href=\"https://colab.research.google.com/github/GenoKiller777/PythonVarios/blob/main/Titanic_EDA_Univariado_DarwinJoanPerezAvendano.ipynb\" target=\"_parent\"><img src=\"https://colab.research.google.com/assets/colab-badge.svg\" alt=\"Open In Colab\"/></a>"
      ]
    },
    {
      "cell_type": "code",
      "source": [
        "from google.colab import files\n",
        "\n",
        "uploaded = files.upload()\n",
        "\n",
        "for fn in uploaded.keys():\n",
        "  print('User uploaded file \"{name}\" with length {length} bytes'.format(\n",
        "      name=fn, length=len(uploaded[fn])))"
      ],
      "metadata": {
        "colab": {
          "base_uri": "https://localhost:8080/",
          "height": 90
        },
        "id": "SGVUR6HY-wlC",
        "outputId": "ddcbccd8-a647-4970-c966-4315609bdbab"
      },
      "execution_count": 1,
      "outputs": [
        {
          "output_type": "display_data",
          "data": {
            "text/plain": [
              "<IPython.core.display.HTML object>"
            ],
            "text/html": [
              "\n",
              "     <input type=\"file\" id=\"files-59367fe9-6c9c-4f6d-ba06-7805798680a0\" name=\"files[]\" multiple disabled\n",
              "        style=\"border:none\" />\n",
              "     <output id=\"result-59367fe9-6c9c-4f6d-ba06-7805798680a0\">\n",
              "      Upload widget is only available when the cell has been executed in the\n",
              "      current browser session. Please rerun this cell to enable.\n",
              "      </output>\n",
              "      <script>// Copyright 2017 Google LLC\n",
              "//\n",
              "// Licensed under the Apache License, Version 2.0 (the \"License\");\n",
              "// you may not use this file except in compliance with the License.\n",
              "// You may obtain a copy of the License at\n",
              "//\n",
              "//      http://www.apache.org/licenses/LICENSE-2.0\n",
              "//\n",
              "// Unless required by applicable law or agreed to in writing, software\n",
              "// distributed under the License is distributed on an \"AS IS\" BASIS,\n",
              "// WITHOUT WARRANTIES OR CONDITIONS OF ANY KIND, either express or implied.\n",
              "// See the License for the specific language governing permissions and\n",
              "// limitations under the License.\n",
              "\n",
              "/**\n",
              " * @fileoverview Helpers for google.colab Python module.\n",
              " */\n",
              "(function(scope) {\n",
              "function span(text, styleAttributes = {}) {\n",
              "  const element = document.createElement('span');\n",
              "  element.textContent = text;\n",
              "  for (const key of Object.keys(styleAttributes)) {\n",
              "    element.style[key] = styleAttributes[key];\n",
              "  }\n",
              "  return element;\n",
              "}\n",
              "\n",
              "// Max number of bytes which will be uploaded at a time.\n",
              "const MAX_PAYLOAD_SIZE = 100 * 1024;\n",
              "\n",
              "function _uploadFiles(inputId, outputId) {\n",
              "  const steps = uploadFilesStep(inputId, outputId);\n",
              "  const outputElement = document.getElementById(outputId);\n",
              "  // Cache steps on the outputElement to make it available for the next call\n",
              "  // to uploadFilesContinue from Python.\n",
              "  outputElement.steps = steps;\n",
              "\n",
              "  return _uploadFilesContinue(outputId);\n",
              "}\n",
              "\n",
              "// This is roughly an async generator (not supported in the browser yet),\n",
              "// where there are multiple asynchronous steps and the Python side is going\n",
              "// to poll for completion of each step.\n",
              "// This uses a Promise to block the python side on completion of each step,\n",
              "// then passes the result of the previous step as the input to the next step.\n",
              "function _uploadFilesContinue(outputId) {\n",
              "  const outputElement = document.getElementById(outputId);\n",
              "  const steps = outputElement.steps;\n",
              "\n",
              "  const next = steps.next(outputElement.lastPromiseValue);\n",
              "  return Promise.resolve(next.value.promise).then((value) => {\n",
              "    // Cache the last promise value to make it available to the next\n",
              "    // step of the generator.\n",
              "    outputElement.lastPromiseValue = value;\n",
              "    return next.value.response;\n",
              "  });\n",
              "}\n",
              "\n",
              "/**\n",
              " * Generator function which is called between each async step of the upload\n",
              " * process.\n",
              " * @param {string} inputId Element ID of the input file picker element.\n",
              " * @param {string} outputId Element ID of the output display.\n",
              " * @return {!Iterable<!Object>} Iterable of next steps.\n",
              " */\n",
              "function* uploadFilesStep(inputId, outputId) {\n",
              "  const inputElement = document.getElementById(inputId);\n",
              "  inputElement.disabled = false;\n",
              "\n",
              "  const outputElement = document.getElementById(outputId);\n",
              "  outputElement.innerHTML = '';\n",
              "\n",
              "  const pickedPromise = new Promise((resolve) => {\n",
              "    inputElement.addEventListener('change', (e) => {\n",
              "      resolve(e.target.files);\n",
              "    });\n",
              "  });\n",
              "\n",
              "  const cancel = document.createElement('button');\n",
              "  inputElement.parentElement.appendChild(cancel);\n",
              "  cancel.textContent = 'Cancel upload';\n",
              "  const cancelPromise = new Promise((resolve) => {\n",
              "    cancel.onclick = () => {\n",
              "      resolve(null);\n",
              "    };\n",
              "  });\n",
              "\n",
              "  // Wait for the user to pick the files.\n",
              "  const files = yield {\n",
              "    promise: Promise.race([pickedPromise, cancelPromise]),\n",
              "    response: {\n",
              "      action: 'starting',\n",
              "    }\n",
              "  };\n",
              "\n",
              "  cancel.remove();\n",
              "\n",
              "  // Disable the input element since further picks are not allowed.\n",
              "  inputElement.disabled = true;\n",
              "\n",
              "  if (!files) {\n",
              "    return {\n",
              "      response: {\n",
              "        action: 'complete',\n",
              "      }\n",
              "    };\n",
              "  }\n",
              "\n",
              "  for (const file of files) {\n",
              "    const li = document.createElement('li');\n",
              "    li.append(span(file.name, {fontWeight: 'bold'}));\n",
              "    li.append(span(\n",
              "        `(${file.type || 'n/a'}) - ${file.size} bytes, ` +\n",
              "        `last modified: ${\n",
              "            file.lastModifiedDate ? file.lastModifiedDate.toLocaleDateString() :\n",
              "                                    'n/a'} - `));\n",
              "    const percent = span('0% done');\n",
              "    li.appendChild(percent);\n",
              "\n",
              "    outputElement.appendChild(li);\n",
              "\n",
              "    const fileDataPromise = new Promise((resolve) => {\n",
              "      const reader = new FileReader();\n",
              "      reader.onload = (e) => {\n",
              "        resolve(e.target.result);\n",
              "      };\n",
              "      reader.readAsArrayBuffer(file);\n",
              "    });\n",
              "    // Wait for the data to be ready.\n",
              "    let fileData = yield {\n",
              "      promise: fileDataPromise,\n",
              "      response: {\n",
              "        action: 'continue',\n",
              "      }\n",
              "    };\n",
              "\n",
              "    // Use a chunked sending to avoid message size limits. See b/62115660.\n",
              "    let position = 0;\n",
              "    do {\n",
              "      const length = Math.min(fileData.byteLength - position, MAX_PAYLOAD_SIZE);\n",
              "      const chunk = new Uint8Array(fileData, position, length);\n",
              "      position += length;\n",
              "\n",
              "      const base64 = btoa(String.fromCharCode.apply(null, chunk));\n",
              "      yield {\n",
              "        response: {\n",
              "          action: 'append',\n",
              "          file: file.name,\n",
              "          data: base64,\n",
              "        },\n",
              "      };\n",
              "\n",
              "      let percentDone = fileData.byteLength === 0 ?\n",
              "          100 :\n",
              "          Math.round((position / fileData.byteLength) * 100);\n",
              "      percent.textContent = `${percentDone}% done`;\n",
              "\n",
              "    } while (position < fileData.byteLength);\n",
              "  }\n",
              "\n",
              "  // All done.\n",
              "  yield {\n",
              "    response: {\n",
              "      action: 'complete',\n",
              "    }\n",
              "  };\n",
              "}\n",
              "\n",
              "scope.google = scope.google || {};\n",
              "scope.google.colab = scope.google.colab || {};\n",
              "scope.google.colab._files = {\n",
              "  _uploadFiles,\n",
              "  _uploadFilesContinue,\n",
              "};\n",
              "})(self);\n",
              "</script> "
            ]
          },
          "metadata": {}
        },
        {
          "output_type": "stream",
          "name": "stdout",
          "text": [
            "Saving titanic.csv to titanic (2).csv\n",
            "User uploaded file \"titanic.csv\" with length 61194 bytes\n"
          ]
        }
      ]
    },
    {
      "cell_type": "markdown",
      "source": [
        "## Importación de paquetes"
      ],
      "metadata": {
        "id": "XhqF2Ox8076U"
      }
    },
    {
      "cell_type": "code",
      "execution_count": 2,
      "metadata": {
        "id": "hHMNFW6j-ieb"
      },
      "outputs": [],
      "source": [
        "import numpy as np\n",
        "import pandas as pd\n",
        "\n",
        "import matplotlib.pyplot as plt\n",
        "import seaborn as sns\n",
        "import plotly.express as px"
      ]
    },
    {
      "cell_type": "markdown",
      "source": [
        "## Lectura de dataset"
      ],
      "metadata": {
        "id": "l26QvCFE1CSA"
      }
    },
    {
      "cell_type": "code",
      "source": [
        "titanic = pd.read_csv('titanic.csv')"
      ],
      "metadata": {
        "id": "3P2CGxb3-6Ao"
      },
      "execution_count": 3,
      "outputs": []
    },
    {
      "cell_type": "markdown",
      "source": [
        "### Revisión del encabezado"
      ],
      "metadata": {
        "id": "ssA837Qn1L8t"
      }
    },
    {
      "cell_type": "code",
      "source": [
        "titanic.head(3)"
      ],
      "metadata": {
        "colab": {
          "base_uri": "https://localhost:8080/",
          "height": 143
        },
        "id": "8M2DtqSE--QO",
        "outputId": "cbe6e068-70ef-4238-e095-4e3308d073c0"
      },
      "execution_count": 4,
      "outputs": [
        {
          "output_type": "execute_result",
          "data": {
            "text/plain": [
              "   PassengerId  Survived  Pclass  \\\n",
              "0            1         0       3   \n",
              "1            2         1       1   \n",
              "2            3         1       3   \n",
              "\n",
              "                                                Name     Sex   Age  SibSp  \\\n",
              "0                            Braund, Mr. Owen Harris    male  22.0      1   \n",
              "1  Cumings, Mrs. John Bradley (Florence Briggs Th...  female  38.0      1   \n",
              "2                             Heikkinen, Miss. Laina  female  26.0      0   \n",
              "\n",
              "   Parch            Ticket     Fare Cabin Embarked  \n",
              "0      0         A/5 21171   7.2500   NaN        S  \n",
              "1      0          PC 17599  71.2833   C85        C  \n",
              "2      0  STON/O2. 3101282   7.9250   NaN        S  "
            ],
            "text/html": [
              "\n",
              "  <div id=\"df-0402ffa3-be44-47cb-aa9e-d02f5396dc6b\">\n",
              "    <div class=\"colab-df-container\">\n",
              "      <div>\n",
              "<style scoped>\n",
              "    .dataframe tbody tr th:only-of-type {\n",
              "        vertical-align: middle;\n",
              "    }\n",
              "\n",
              "    .dataframe tbody tr th {\n",
              "        vertical-align: top;\n",
              "    }\n",
              "\n",
              "    .dataframe thead th {\n",
              "        text-align: right;\n",
              "    }\n",
              "</style>\n",
              "<table border=\"1\" class=\"dataframe\">\n",
              "  <thead>\n",
              "    <tr style=\"text-align: right;\">\n",
              "      <th></th>\n",
              "      <th>PassengerId</th>\n",
              "      <th>Survived</th>\n",
              "      <th>Pclass</th>\n",
              "      <th>Name</th>\n",
              "      <th>Sex</th>\n",
              "      <th>Age</th>\n",
              "      <th>SibSp</th>\n",
              "      <th>Parch</th>\n",
              "      <th>Ticket</th>\n",
              "      <th>Fare</th>\n",
              "      <th>Cabin</th>\n",
              "      <th>Embarked</th>\n",
              "    </tr>\n",
              "  </thead>\n",
              "  <tbody>\n",
              "    <tr>\n",
              "      <th>0</th>\n",
              "      <td>1</td>\n",
              "      <td>0</td>\n",
              "      <td>3</td>\n",
              "      <td>Braund, Mr. Owen Harris</td>\n",
              "      <td>male</td>\n",
              "      <td>22.0</td>\n",
              "      <td>1</td>\n",
              "      <td>0</td>\n",
              "      <td>A/5 21171</td>\n",
              "      <td>7.2500</td>\n",
              "      <td>NaN</td>\n",
              "      <td>S</td>\n",
              "    </tr>\n",
              "    <tr>\n",
              "      <th>1</th>\n",
              "      <td>2</td>\n",
              "      <td>1</td>\n",
              "      <td>1</td>\n",
              "      <td>Cumings, Mrs. John Bradley (Florence Briggs Th...</td>\n",
              "      <td>female</td>\n",
              "      <td>38.0</td>\n",
              "      <td>1</td>\n",
              "      <td>0</td>\n",
              "      <td>PC 17599</td>\n",
              "      <td>71.2833</td>\n",
              "      <td>C85</td>\n",
              "      <td>C</td>\n",
              "    </tr>\n",
              "    <tr>\n",
              "      <th>2</th>\n",
              "      <td>3</td>\n",
              "      <td>1</td>\n",
              "      <td>3</td>\n",
              "      <td>Heikkinen, Miss. Laina</td>\n",
              "      <td>female</td>\n",
              "      <td>26.0</td>\n",
              "      <td>0</td>\n",
              "      <td>0</td>\n",
              "      <td>STON/O2. 3101282</td>\n",
              "      <td>7.9250</td>\n",
              "      <td>NaN</td>\n",
              "      <td>S</td>\n",
              "    </tr>\n",
              "  </tbody>\n",
              "</table>\n",
              "</div>\n",
              "      <button class=\"colab-df-convert\" onclick=\"convertToInteractive('df-0402ffa3-be44-47cb-aa9e-d02f5396dc6b')\"\n",
              "              title=\"Convert this dataframe to an interactive table.\"\n",
              "              style=\"display:none;\">\n",
              "        \n",
              "  <svg xmlns=\"http://www.w3.org/2000/svg\" height=\"24px\"viewBox=\"0 0 24 24\"\n",
              "       width=\"24px\">\n",
              "    <path d=\"M0 0h24v24H0V0z\" fill=\"none\"/>\n",
              "    <path d=\"M18.56 5.44l.94 2.06.94-2.06 2.06-.94-2.06-.94-.94-2.06-.94 2.06-2.06.94zm-11 1L8.5 8.5l.94-2.06 2.06-.94-2.06-.94L8.5 2.5l-.94 2.06-2.06.94zm10 10l.94 2.06.94-2.06 2.06-.94-2.06-.94-.94-2.06-.94 2.06-2.06.94z\"/><path d=\"M17.41 7.96l-1.37-1.37c-.4-.4-.92-.59-1.43-.59-.52 0-1.04.2-1.43.59L10.3 9.45l-7.72 7.72c-.78.78-.78 2.05 0 2.83L4 21.41c.39.39.9.59 1.41.59.51 0 1.02-.2 1.41-.59l7.78-7.78 2.81-2.81c.8-.78.8-2.07 0-2.86zM5.41 20L4 18.59l7.72-7.72 1.47 1.35L5.41 20z\"/>\n",
              "  </svg>\n",
              "      </button>\n",
              "      \n",
              "  <style>\n",
              "    .colab-df-container {\n",
              "      display:flex;\n",
              "      flex-wrap:wrap;\n",
              "      gap: 12px;\n",
              "    }\n",
              "\n",
              "    .colab-df-convert {\n",
              "      background-color: #E8F0FE;\n",
              "      border: none;\n",
              "      border-radius: 50%;\n",
              "      cursor: pointer;\n",
              "      display: none;\n",
              "      fill: #1967D2;\n",
              "      height: 32px;\n",
              "      padding: 0 0 0 0;\n",
              "      width: 32px;\n",
              "    }\n",
              "\n",
              "    .colab-df-convert:hover {\n",
              "      background-color: #E2EBFA;\n",
              "      box-shadow: 0px 1px 2px rgba(60, 64, 67, 0.3), 0px 1px 3px 1px rgba(60, 64, 67, 0.15);\n",
              "      fill: #174EA6;\n",
              "    }\n",
              "\n",
              "    [theme=dark] .colab-df-convert {\n",
              "      background-color: #3B4455;\n",
              "      fill: #D2E3FC;\n",
              "    }\n",
              "\n",
              "    [theme=dark] .colab-df-convert:hover {\n",
              "      background-color: #434B5C;\n",
              "      box-shadow: 0px 1px 3px 1px rgba(0, 0, 0, 0.15);\n",
              "      filter: drop-shadow(0px 1px 2px rgba(0, 0, 0, 0.3));\n",
              "      fill: #FFFFFF;\n",
              "    }\n",
              "  </style>\n",
              "\n",
              "      <script>\n",
              "        const buttonEl =\n",
              "          document.querySelector('#df-0402ffa3-be44-47cb-aa9e-d02f5396dc6b button.colab-df-convert');\n",
              "        buttonEl.style.display =\n",
              "          google.colab.kernel.accessAllowed ? 'block' : 'none';\n",
              "\n",
              "        async function convertToInteractive(key) {\n",
              "          const element = document.querySelector('#df-0402ffa3-be44-47cb-aa9e-d02f5396dc6b');\n",
              "          const dataTable =\n",
              "            await google.colab.kernel.invokeFunction('convertToInteractive',\n",
              "                                                     [key], {});\n",
              "          if (!dataTable) return;\n",
              "\n",
              "          const docLinkHtml = 'Like what you see? Visit the ' +\n",
              "            '<a target=\"_blank\" href=https://colab.research.google.com/notebooks/data_table.ipynb>data table notebook</a>'\n",
              "            + ' to learn more about interactive tables.';\n",
              "          element.innerHTML = '';\n",
              "          dataTable['output_type'] = 'display_data';\n",
              "          await google.colab.output.renderOutput(dataTable, element);\n",
              "          const docLink = document.createElement('div');\n",
              "          docLink.innerHTML = docLinkHtml;\n",
              "          element.appendChild(docLink);\n",
              "        }\n",
              "      </script>\n",
              "    </div>\n",
              "  </div>\n",
              "  "
            ]
          },
          "metadata": {},
          "execution_count": 4
        }
      ]
    },
    {
      "cell_type": "markdown",
      "source": [
        "### Forma del dataset"
      ],
      "metadata": {
        "id": "kxVrrEWx1ZEk"
      }
    },
    {
      "cell_type": "code",
      "source": [
        "# 12 Columnas.\n",
        "# 891 Filas.\n",
        "titanic.shape"
      ],
      "metadata": {
        "colab": {
          "base_uri": "https://localhost:8080/"
        },
        "id": "UHT9AyEk1dZk",
        "outputId": "8e7ff541-551d-4814-d7f2-29f1a1d5f23d"
      },
      "execution_count": 5,
      "outputs": [
        {
          "output_type": "execute_result",
          "data": {
            "text/plain": [
              "(891, 12)"
            ]
          },
          "metadata": {},
          "execution_count": 5
        }
      ]
    },
    {
      "cell_type": "markdown",
      "source": [
        "### Tipos de variables en el dataset"
      ],
      "metadata": {
        "id": "zPAyFxQh1ZBx"
      }
    },
    {
      "cell_type": "code",
      "source": [
        "titanic.info()"
      ],
      "metadata": {
        "colab": {
          "base_uri": "https://localhost:8080/"
        },
        "id": "2ecQq_Hq16ww",
        "outputId": "5df5b35f-5cd8-41a8-a8b8-8b2a64e8a0ab"
      },
      "execution_count": 6,
      "outputs": [
        {
          "output_type": "stream",
          "name": "stdout",
          "text": [
            "<class 'pandas.core.frame.DataFrame'>\n",
            "RangeIndex: 891 entries, 0 to 890\n",
            "Data columns (total 12 columns):\n",
            " #   Column       Non-Null Count  Dtype  \n",
            "---  ------       --------------  -----  \n",
            " 0   PassengerId  891 non-null    int64  \n",
            " 1   Survived     891 non-null    int64  \n",
            " 2   Pclass       891 non-null    int64  \n",
            " 3   Name         891 non-null    object \n",
            " 4   Sex          891 non-null    object \n",
            " 5   Age          714 non-null    float64\n",
            " 6   SibSp        891 non-null    int64  \n",
            " 7   Parch        891 non-null    int64  \n",
            " 8   Ticket       891 non-null    object \n",
            " 9   Fare         891 non-null    float64\n",
            " 10  Cabin        204 non-null    object \n",
            " 11  Embarked     889 non-null    object \n",
            "dtypes: float64(2), int64(5), object(5)\n",
            "memory usage: 83.7+ KB\n"
          ]
        }
      ]
    },
    {
      "cell_type": "markdown",
      "source": [
        "## **IDA** :  Análisis inicial de datos"
      ],
      "metadata": {
        "id": "JX8B6PTN1Vjd"
      }
    },
    {
      "cell_type": "markdown",
      "source": [
        "### Análisis univariado de datos"
      ],
      "metadata": {
        "id": "m-IgNzRr2dak"
      }
    },
    {
      "cell_type": "markdown",
      "source": [
        "##### Análisis univariado de la edad de los pasajeros"
      ],
      "metadata": {
        "id": "9uTVXXtx6lkM"
      }
    },
    {
      "cell_type": "markdown",
      "source": [
        "###### Visualización de la variable **``` titanic['Age'] ```**\n",
        "\n"
      ],
      "metadata": {
        "id": "0a6ovOM8B-j9"
      }
    },
    {
      "cell_type": "code",
      "source": [
        "figure, axes = plt.subplots(1, 2, sharex=True, figsize=(10,5))\n",
        "figure.suptitle('Edad de pasajeros del Titanic')\n",
        "\n",
        "axes[0].set_title('Histograma')\n",
        "axes[1].set_title('Distribución de probabilidad')\n",
        "\n",
        "axes[0].set_xlabel('Edad', fontsize = 8)\n",
        "axes[0].set_ylabel('Frecuencia de pasajeros', fontsize = 8)\n",
        "\n",
        "axes[1].set_xlabel('Edad', fontsize = 8)\n",
        "axes[1].set_ylabel('Densidad', fontsize = 8)\n",
        "\n",
        "# Histograma\n",
        "axes[0].hist(titanic['Age'], bins = 60 , density=True)\n",
        "# Gráfica de distribución\n",
        "sns.kdeplot(ax=axes[1], data = titanic, x = 'Age', bw_adjust=.3, color='coral', fill =True)\n",
        "\n",
        "plt.show()"
      ],
      "metadata": {
        "colab": {
          "base_uri": "https://localhost:8080/",
          "height": 511
        },
        "id": "NNt9dStC5cYK",
        "outputId": "a691c804-9f58-49d3-9683-3c849c980b53"
      },
      "execution_count": 7,
      "outputs": [
        {
          "output_type": "display_data",
          "data": {
            "text/plain": [
              "<Figure size 1000x500 with 2 Axes>"
            ],
            "image/png": "[encoded data removed]"
          },
          "metadata": {}
        }
      ]
    },
    {
      "cell_type": "markdown",
      "source": [
        "###### Estadísticas descriptivas"
      ],
      "metadata": {
        "id": "3EHgsZX6Cxud"
      }
    },
    {
      "cell_type": "code",
      "source": [
        "titanic['Age'].describe()"
      ],
      "metadata": {
        "colab": {
          "base_uri": "https://localhost:8080/"
        },
        "id": "cmJy9P7Z_D5G",
        "outputId": "779895a4-df31-4d55-baf0-4eedfa868843"
      },
      "execution_count": 8,
      "outputs": [
        {
          "output_type": "execute_result",
          "data": {
            "text/plain": [
              "count    714.000000\n",
              "mean      29.699118\n",
              "std       14.526497\n",
              "min        0.420000\n",
              "25%       20.125000\n",
              "50%       28.000000\n",
              "75%       38.000000\n",
              "max       80.000000\n",
              "Name: Age, dtype: float64"
            ]
          },
          "metadata": {},
          "execution_count": 8
        }
      ]
    },
    {
      "cell_type": "code",
      "source": [
        "#Moda de las edades\n",
        "titanic['Age'].mode()[0]"
      ],
      "metadata": {
        "colab": {
          "base_uri": "https://localhost:8080/"
        },
        "id": "YwtLI84alvT7",
        "outputId": "0007ab92-d96b-4159-d576-f3f42cbb34ee"
      },
      "execution_count": 9,
      "outputs": [
        {
          "output_type": "execute_result",
          "data": {
            "text/plain": [
              "24.0"
            ]
          },
          "metadata": {},
          "execution_count": 9
        }
      ]
    },
    {
      "cell_type": "code",
      "source": [
        "#Top 10 de las edades de los pasajeros\n",
        "titanic['Age'].value_counts().head(10)"
      ],
      "metadata": {
        "colab": {
          "base_uri": "https://localhost:8080/"
        },
        "id": "tUZ_RLCLmJ1t",
        "outputId": "c8f84c70-b619-4ddf-ab91-11c3294f5944"
      },
      "execution_count": 10,
      "outputs": [
        {
          "output_type": "execute_result",
          "data": {
            "text/plain": [
              "24.0    30\n",
              "22.0    27\n",
              "18.0    26\n",
              "19.0    25\n",
              "28.0    25\n",
              "30.0    25\n",
              "21.0    24\n",
              "25.0    23\n",
              "36.0    22\n",
              "29.0    20\n",
              "Name: Age, dtype: int64"
            ]
          },
          "metadata": {},
          "execution_count": 10
        }
      ]
    },
    {
      "cell_type": "code",
      "source": [
        "#Varianza de las edades\n",
        "\n",
        "titanic['Age'].var()"
      ],
      "metadata": {
        "colab": {
          "base_uri": "https://localhost:8080/"
        },
        "id": "1VMr03OTaI6k",
        "outputId": "961b04e1-284a-489e-c480-1e1762091dca"
      },
      "execution_count": 11,
      "outputs": [
        {
          "output_type": "execute_result",
          "data": {
            "text/plain": [
              "211.01912474630802"
            ]
          },
          "metadata": {},
          "execution_count": 11
        }
      ]
    },
    {
      "cell_type": "code",
      "source": [
        "#Coficiente de variación\n",
        "st_dev_age = np.std(titanic['Age'])\n",
        "\n",
        "cv_age = round((st_dev_age / titanic['Age'].mean() ),5) * 100\n",
        "cv_age\n",
        "#baja varianza"
      ],
      "metadata": {
        "colab": {
          "base_uri": "https://localhost:8080/"
        },
        "id": "zyZzZ4UNaDer",
        "outputId": "706bd1bc-b477-474c-9a9a-3940f05bcb51"
      },
      "execution_count": 12,
      "outputs": [
        {
          "output_type": "execute_result",
          "data": {
            "text/plain": [
              "48.878"
            ]
          },
          "metadata": {},
          "execution_count": 12
        }
      ]
    },
    {
      "cell_type": "markdown",
      "source": [
        "###### BoxPlot **``` titanic['Age'] ```**"
      ],
      "metadata": {
        "id": "4lyFpTMBDKXt"
      }
    },
    {
      "cell_type": "code",
      "source": [
        "fig = px.box(titanic, y = 'Age')\n",
        "fig.show()"
      ],
      "metadata": {
        "colab": {
          "base_uri": "https://localhost:8080/",
          "height": 542
        },
        "id": "nHjP5LEA7NJd",
        "outputId": "6a31a758-98d5-456d-bc5a-20fff335b11b"
      },
      "execution_count": 13,
      "outputs": [
        {
          "output_type": "display_data",
          "data": {
            "text/html": [
              "<html>\n",
              "<head><meta charset=\"utf-8\" /></head>\n",
              "<body>\n",
              "    <div>            <script src=\"https://cdnjs.cloudflare.com/ajax/libs/mathjax/2.7.5/MathJax.js?config=TeX-AMS-MML_SVG\"></script><script type=\"text/javascript\">if (window.MathJax && window.MathJax.Hub && window.MathJax.Hub.Config) {window.MathJax.Hub.Config({SVG: {font: \"STIX-Web\"}});}</script>                <script type=\"text/javascript\">window.PlotlyConfig = {MathJaxConfig: 'local'};</script>\n",
              "        <script src=\"https://cdn.plot.ly/plotly-2.18.2.min.js\"></script>                <div id=\"a7bdd2a3-c1e9-428d-930b-69b654b5f621\" class=\"plotly-graph-div\" style=\"height:525px; width:100%;\"></div>            <script type=\"text/javascript\">                                    window.PLOTLYENV=window.PLOTLYENV || {};                                    if (document.getElementById(\"a7bdd2a3-c1e9-428d-930b-69b654b5f621\")) {                    Plotly.newPlot(                        \"a7bdd2a3-c1e9-428d-930b-69b654b5f621\",                        [{\"alignmentgroup\":\"True\",\"hovertemplate\":\"Age=%{y}<extra></extra>\",\"legendgroup\":\"\",\"marker\":{\"color\":\"#636efa\"},\"name\":\"\",\"notched\":false,\"offsetgroup\":\"\",\"orientation\":\"v\",\"showlegend\":false,\"x0\":\" \",\"xaxis\":\"x\",\"y\":[22.0,38.0,26.0,35.0,35.0,null,54.0,2.0,27.0,14.0,4.0,58.0,20.0,39.0,14.0,55.0,2.0,null,31.0,null,35.0,34.0,15.0,28.0,8.0,38.0,null,19.0,null,null,40.0,null,null,66.0,28.0,42.0,null,21.0,18.0,14.0,40.0,27.0,null,3.0,19.0,null,null,null,null,18.0,7.0,21.0,49.0,29.0,65.0,null,21.0,28.5,5.0,11.0,22.0,38.0,45.0,4.0,null,null,29.0,19.0,17.0,26.0,32.0,16.0,21.0,26.0,32.0,25.0,null,null,0.83,30.0,22.0,29.0,null,28.0,17.0,33.0,16.0,null,23.0,24.0,29.0,20.0,46.0,26.0,59.0,null,71.0,23.0,34.0,34.0,28.0,null,21.0,33.0,37.0,28.0,21.0,null,38.0,null,47.0,14.5,22.0,20.0,17.0,21.0,70.5,29.0,24.0,2.0,21.0,null,32.5,32.5,54.0,12.0,null,24.0,null,45.0,33.0,20.0,47.0,29.0,25.0,23.0,19.0,37.0,16.0,24.0,null,22.0,24.0,19.0,18.0,19.0,27.0,9.0,36.5,42.0,51.0,22.0,55.5,40.5,null,51.0,16.0,30.0,null,null,44.0,40.0,26.0,17.0,1.0,9.0,null,45.0,null,28.0,61.0,4.0,1.0,21.0,56.0,18.0,null,50.0,30.0,36.0,null,null,9.0,1.0,4.0,null,null,45.0,40.0,36.0,32.0,19.0,19.0,3.0,44.0,58.0,null,42.0,null,24.0,28.0,null,34.0,45.5,18.0,2.0,32.0,26.0,16.0,40.0,24.0,35.0,22.0,30.0,null,31.0,27.0,42.0,32.0,30.0,16.0,27.0,51.0,null,38.0,22.0,19.0,20.5,18.0,null,35.0,29.0,59.0,5.0,24.0,null,44.0,8.0,19.0,33.0,null,null,29.0,22.0,30.0,44.0,25.0,24.0,37.0,54.0,null,29.0,62.0,30.0,41.0,29.0,null,30.0,35.0,50.0,null,3.0,52.0,40.0,null,36.0,16.0,25.0,58.0,35.0,null,25.0,41.0,37.0,null,63.0,45.0,null,7.0,35.0,65.0,28.0,16.0,19.0,null,33.0,30.0,22.0,42.0,22.0,26.0,19.0,36.0,24.0,24.0,null,23.5,2.0,null,50.0,null,null,19.0,null,null,0.92,null,17.0,30.0,30.0,24.0,18.0,26.0,28.0,43.0,26.0,24.0,54.0,31.0,40.0,22.0,27.0,30.0,22.0,null,36.0,61.0,36.0,31.0,16.0,null,45.5,38.0,16.0,null,null,29.0,41.0,45.0,45.0,2.0,24.0,28.0,25.0,36.0,24.0,40.0,null,3.0,42.0,23.0,null,15.0,25.0,null,28.0,22.0,38.0,null,null,40.0,29.0,45.0,35.0,null,30.0,60.0,null,null,24.0,25.0,18.0,19.0,22.0,3.0,null,22.0,27.0,20.0,19.0,42.0,1.0,32.0,35.0,null,18.0,1.0,36.0,null,17.0,36.0,21.0,28.0,23.0,24.0,22.0,31.0,46.0,23.0,28.0,39.0,26.0,21.0,28.0,20.0,34.0,51.0,3.0,21.0,null,null,null,33.0,null,44.0,null,34.0,18.0,30.0,10.0,null,21.0,29.0,28.0,18.0,null,28.0,19.0,null,32.0,28.0,null,42.0,17.0,50.0,14.0,21.0,24.0,64.0,31.0,45.0,20.0,25.0,28.0,null,4.0,13.0,34.0,5.0,52.0,36.0,null,30.0,49.0,null,29.0,65.0,null,50.0,null,48.0,34.0,47.0,48.0,null,38.0,null,56.0,null,0.75,null,38.0,33.0,23.0,22.0,null,34.0,29.0,22.0,2.0,9.0,null,50.0,63.0,25.0,null,35.0,58.0,30.0,9.0,null,21.0,55.0,71.0,21.0,null,54.0,null,25.0,24.0,17.0,21.0,null,37.0,16.0,18.0,33.0,null,28.0,26.0,29.0,null,36.0,54.0,24.0,47.0,34.0,null,36.0,32.0,30.0,22.0,null,44.0,null,40.5,50.0,null,39.0,23.0,2.0,null,17.0,null,30.0,7.0,45.0,30.0,null,22.0,36.0,9.0,11.0,32.0,50.0,64.0,19.0,null,33.0,8.0,17.0,27.0,null,22.0,22.0,62.0,48.0,null,39.0,36.0,null,40.0,28.0,null,null,24.0,19.0,29.0,null,32.0,62.0,53.0,36.0,null,16.0,19.0,34.0,39.0,null,32.0,25.0,39.0,54.0,36.0,null,18.0,47.0,60.0,22.0,null,35.0,52.0,47.0,null,37.0,36.0,null,49.0,null,49.0,24.0,null,null,44.0,35.0,36.0,30.0,27.0,22.0,40.0,39.0,null,null,null,35.0,24.0,34.0,26.0,4.0,26.0,27.0,42.0,20.0,21.0,21.0,61.0,57.0,21.0,26.0,null,80.0,51.0,32.0,null,9.0,28.0,32.0,31.0,41.0,null,20.0,24.0,2.0,null,0.75,48.0,19.0,56.0,null,23.0,null,18.0,21.0,null,18.0,24.0,null,32.0,23.0,58.0,50.0,40.0,47.0,36.0,20.0,32.0,25.0,null,43.0,null,40.0,31.0,70.0,31.0,null,18.0,24.5,18.0,43.0,36.0,null,27.0,20.0,14.0,60.0,25.0,14.0,19.0,18.0,15.0,31.0,4.0,null,25.0,60.0,52.0,44.0,null,49.0,42.0,18.0,35.0,18.0,25.0,26.0,39.0,45.0,42.0,22.0,null,24.0,null,48.0,29.0,52.0,19.0,38.0,27.0,null,33.0,6.0,17.0,34.0,50.0,27.0,20.0,30.0,null,25.0,25.0,29.0,11.0,null,23.0,23.0,28.5,48.0,35.0,null,null,null,36.0,21.0,24.0,31.0,70.0,16.0,30.0,19.0,31.0,4.0,6.0,33.0,23.0,48.0,0.67,28.0,18.0,34.0,33.0,null,41.0,20.0,36.0,16.0,51.0,null,30.5,null,32.0,24.0,48.0,57.0,null,54.0,18.0,null,5.0,null,43.0,13.0,17.0,29.0,null,25.0,25.0,18.0,8.0,1.0,46.0,null,16.0,null,null,25.0,39.0,49.0,31.0,30.0,30.0,34.0,31.0,11.0,0.42,27.0,31.0,39.0,18.0,39.0,33.0,26.0,39.0,35.0,6.0,30.5,null,23.0,31.0,43.0,10.0,52.0,27.0,38.0,27.0,2.0,null,null,1.0,null,62.0,15.0,0.83,null,23.0,18.0,39.0,21.0,null,32.0,null,20.0,16.0,30.0,34.5,17.0,42.0,null,35.0,28.0,null,4.0,74.0,9.0,16.0,44.0,18.0,45.0,51.0,24.0,null,41.0,21.0,48.0,null,24.0,42.0,27.0,31.0,null,4.0,26.0,47.0,33.0,47.0,28.0,15.0,20.0,19.0,null,56.0,25.0,33.0,22.0,28.0,25.0,39.0,27.0,19.0,null,26.0,32.0],\"y0\":\" \",\"yaxis\":\"y\",\"type\":\"box\"}],                        {\"template\":{\"data\":{\"histogram2dcontour\":[{\"type\":\"histogram2dcontour\",\"colorbar\":{\"outlinewidth\":0,\"ticks\":\"\"},\"colorscale\":[[0.0,\"#0d0887\"],[0.1111111111111111,\"#46039f\"],[0.2222222222222222,\"#7201a8\"],[0.3333333333333333,\"#9c179e\"],[0.4444444444444444,\"#bd3786\"],[0.5555555555555556,\"#d8576b\"],[0.6666666666666666,\"#ed7953\"],[0.7777777777777778,\"#fb9f3a\"],[0.8888888888888888,\"#fdca26\"],[1.0,\"#f0f921\"]]}],\"choropleth\":[{\"type\":\"choropleth\",\"colorbar\":{\"outlinewidth\":0,\"ticks\":\"\"}}],\"histogram2d\":[{\"type\":\"histogram2d\",\"colorbar\":{\"outlinewidth\":0,\"ticks\":\"\"},\"colorscale\":[[0.0,\"#0d0887\"],[0.1111111111111111,\"#46039f\"],[0.2222222222222222,\"#7201a8\"],[0.3333333333333333,\"#9c179e\"],[0.4444444444444444,\"#bd3786\"],[0.5555555555555556,\"#d8576b\"],[0.6666666666666666,\"#ed7953\"],[0.7777777777777778,\"#fb9f3a\"],[0.8888888888888888,\"#fdca26\"],[1.0,\"#f0f921\"]]}],\"heatmap\":[{\"type\":\"heatmap\",\"colorbar\":{\"outlinewidth\":0,\"ticks\":\"\"},\"colorscale\":[[0.0,\"#0d0887\"],[0.1111111111111111,\"#46039f\"],[0.2222222222222222,\"#7201a8\"],[0.3333333333333333,\"#9c179e\"],[0.4444444444444444,\"#bd3786\"],[0.5555555555555556,\"#d8576b\"],[0.6666666666666666,\"#ed7953\"],[0.7777777777777778,\"#fb9f3a\"],[0.8888888888888888,\"#fdca26\"],[1.0,\"#f0f921\"]]}],\"heatmapgl\":[{\"type\":\"heatmapgl\",\"colorbar\":{\"outlinewidth\":0,\"ticks\":\"\"},\"colorscale\":[[0.0,\"#0d0887\"],[0.1111111111111111,\"#46039f\"],[0.2222222222222222,\"#7201a8\"],[0.3333333333333333,\"#9c179e\"],[0.4444444444444444,\"#bd3786\"],[0.5555555555555556,\"#d8576b\"],[0.6666666666666666,\"#ed7953\"],[0.7777777777777778,\"#fb9f3a\"],[0.8888888888888888,\"#fdca26\"],[1.0,\"#f0f921\"]]}],\"contourcarpet\":[{\"type\":\"contourcarpet\",\"colorbar\":{\"outlinewidth\":0,\"ticks\":\"\"}}],\"contour\":[{\"type\":\"contour\",\"colorbar\":{\"outlinewidth\":0,\"ticks\":\"\"},\"colorscale\":[[0.0,\"#0d0887\"],[0.1111111111111111,\"#46039f\"],[0.2222222222222222,\"#7201a8\"],[0.3333333333333333,\"#9c179e\"],[0.4444444444444444,\"#bd3786\"],[0.5555555555555556,\"#d8576b\"],[0.6666666666666666,\"#ed7953\"],[0.7777777777777778,\"#fb9f3a\"],[0.8888888888888888,\"#fdca26\"],[1.0,\"#f0f921\"]]}],\"surface\":[{\"type\":\"surface\",\"colorbar\":{\"outlinewidth\":0,\"ticks\":\"\"},\"colorscale\":[[0.0,\"#0d0887\"],[0.1111111111111111,\"#46039f\"],[0.2222222222222222,\"#7201a8\"],[0.3333333333333333,\"#9c179e\"],[0.4444444444444444,\"#bd3786\"],[0.5555555555555556,\"#d8576b\"],[0.6666666666666666,\"#ed7953\"],[0.7777777777777778,\"#fb9f3a\"],[0.8888888888888888,\"#fdca26\"],[1.0,\"#f0f921\"]]}],\"mesh3d\":[{\"type\":\"mesh3d\",\"colorbar\":{\"outlinewidth\":0,\"ticks\":\"\"}}],\"scatter\":[{\"fillpattern\":{\"fillmode\":\"overlay\",\"size\":10,\"solidity\":0.2},\"type\":\"scatter\"}],\"parcoords\":[{\"type\":\"parcoords\",\"line\":{\"colorbar\":{\"outlinewidth\":0,\"ticks\":\"\"}}}],\"scatterpolargl\":[{\"type\":\"scatterpolargl\",\"marker\":{\"colorbar\":{\"outlinewidth\":0,\"ticks\":\"\"}}}],\"bar\":[{\"error_x\":{\"color\":\"#2a3f5f\"},\"error_y\":{\"color\":\"#2a3f5f\"},\"marker\":{\"line\":{\"color\":\"#E5ECF6\",\"width\":0.5},\"pattern\":{\"fillmode\":\"overlay\",\"size\":10,\"solidity\":0.2}},\"type\":\"bar\"}],\"scattergeo\":[{\"type\":\"scattergeo\",\"marker\":{\"colorbar\":{\"outlinewidth\":0,\"ticks\":\"\"}}}],\"scatterpolar\":[{\"type\":\"scatterpolar\",\"marker\":{\"colorbar\":{\"outlinewidth\":0,\"ticks\":\"\"}}}],\"histogram\":[{\"marker\":{\"pattern\":{\"fillmode\":\"overlay\",\"size\":10,\"solidity\":0.2}},\"type\":\"histogram\"}],\"scattergl\":[{\"type\":\"scattergl\",\"marker\":{\"colorbar\":{\"outlinewidth\":0,\"ticks\":\"\"}}}],\"scatter3d\":[{\"type\":\"scatter3d\",\"line\":{\"colorbar\":{\"outlinewidth\":0,\"ticks\":\"\"}},\"marker\":{\"colorbar\":{\"outlinewidth\":0,\"ticks\":\"\"}}}],\"scattermapbox\":[{\"type\":\"scattermapbox\",\"marker\":{\"colorbar\":{\"outlinewidth\":0,\"ticks\":\"\"}}}],\"scatterternary\":[{\"type\":\"scatterternary\",\"marker\":{\"colorbar\":{\"outlinewidth\":0,\"ticks\":\"\"}}}],\"scattercarpet\":[{\"type\":\"scattercarpet\",\"marker\":{\"colorbar\":{\"outlinewidth\":0,\"ticks\":\"\"}}}],\"carpet\":[{\"aaxis\":{\"endlinecolor\":\"#2a3f5f\",\"gridcolor\":\"white\",\"linecolor\":\"white\",\"minorgridcolor\":\"white\",\"startlinecolor\":\"#2a3f5f\"},\"baxis\":{\"endlinecolor\":\"#2a3f5f\",\"gridcolor\":\"white\",\"linecolor\":\"white\",\"minorgridcolor\":\"white\",\"startlinecolor\":\"#2a3f5f\"},\"type\":\"carpet\"}],\"table\":[{\"cells\":{\"fill\":{\"color\":\"#EBF0F8\"},\"line\":{\"color\":\"white\"}},\"header\":{\"fill\":{\"color\":\"#C8D4E3\"},\"line\":{\"color\":\"white\"}},\"type\":\"table\"}],\"barpolar\":[{\"marker\":{\"line\":{\"color\":\"#E5ECF6\",\"width\":0.5},\"pattern\":{\"fillmode\":\"overlay\",\"size\":10,\"solidity\":0.2}},\"type\":\"barpolar\"}],\"pie\":[{\"automargin\":true,\"type\":\"pie\"}]},\"layout\":{\"autotypenumbers\":\"strict\",\"colorway\":[\"#636efa\",\"#EF553B\",\"#00cc96\",\"#ab63fa\",\"#FFA15A\",\"#19d3f3\",\"#FF6692\",\"#B6E880\",\"#FF97FF\",\"#FECB52\"],\"font\":{\"color\":\"#2a3f5f\"},\"hovermode\":\"closest\",\"hoverlabel\":{\"align\":\"left\"},\"paper_bgcolor\":\"white\",\"plot_bgcolor\":\"#E5ECF6\",\"polar\":{\"bgcolor\":\"#E5ECF6\",\"angularaxis\":{\"gridcolor\":\"white\",\"linecolor\":\"white\",\"ticks\":\"\"},\"radialaxis\":{\"gridcolor\":\"white\",\"linecolor\":\"white\",\"ticks\":\"\"}},\"ternary\":{\"bgcolor\":\"#E5ECF6\",\"aaxis\":{\"gridcolor\":\"white\",\"linecolor\":\"white\",\"ticks\":\"\"},\"baxis\":{\"gridcolor\":\"white\",\"linecolor\":\"white\",\"ticks\":\"\"},\"caxis\":{\"gridcolor\":\"white\",\"linecolor\":\"white\",\"ticks\":\"\"}},\"coloraxis\":{\"colorbar\":{\"outlinewidth\":0,\"ticks\":\"\"}},\"colorscale\":{\"sequential\":[[0.0,\"#0d0887\"],[0.1111111111111111,\"#46039f\"],[0.2222222222222222,\"#7201a8\"],[0.3333333333333333,\"#9c179e\"],[0.4444444444444444,\"#bd3786\"],[0.5555555555555556,\"#d8576b\"],[0.6666666666666666,\"#ed7953\"],[0.7777777777777778,\"#fb9f3a\"],[0.8888888888888888,\"#fdca26\"],[1.0,\"#f0f921\"]],\"sequentialminus\":[[0.0,\"#0d0887\"],[0.1111111111111111,\"#46039f\"],[0.2222222222222222,\"#7201a8\"],[0.3333333333333333,\"#9c179e\"],[0.4444444444444444,\"#bd3786\"],[0.5555555555555556,\"#d8576b\"],[0.6666666666666666,\"#ed7953\"],[0.7777777777777778,\"#fb9f3a\"],[0.8888888888888888,\"#fdca26\"],[1.0,\"#f0f921\"]],\"diverging\":[[0,\"#8e0152\"],[0.1,\"#c51b7d\"],[0.2,\"#de77ae\"],[0.3,\"#f1b6da\"],[0.4,\"#fde0ef\"],[0.5,\"#f7f7f7\"],[0.6,\"#e6f5d0\"],[0.7,\"#b8e186\"],[0.8,\"#7fbc41\"],[0.9,\"#4d9221\"],[1,\"#276419\"]]},\"xaxis\":{\"gridcolor\":\"white\",\"linecolor\":\"white\",\"ticks\":\"\",\"title\":{\"standoff\":15},\"zerolinecolor\":\"white\",\"automargin\":true,\"zerolinewidth\":2},\"yaxis\":{\"gridcolor\":\"white\",\"linecolor\":\"white\",\"ticks\":\"\",\"title\":{\"standoff\":15},\"zerolinecolor\":\"white\",\"automargin\":true,\"zerolinewidth\":2},\"scene\":{\"xaxis\":{\"backgroundcolor\":\"#E5ECF6\",\"gridcolor\":\"white\",\"linecolor\":\"white\",\"showbackground\":true,\"ticks\":\"\",\"zerolinecolor\":\"white\",\"gridwidth\":2},\"yaxis\":{\"backgroundcolor\":\"#E5ECF6\",\"gridcolor\":\"white\",\"linecolor\":\"white\",\"showbackground\":true,\"ticks\":\"\",\"zerolinecolor\":\"white\",\"gridwidth\":2},\"zaxis\":{\"backgroundcolor\":\"#E5ECF6\",\"gridcolor\":\"white\",\"linecolor\":\"white\",\"showbackground\":true,\"ticks\":\"\",\"zerolinecolor\":\"white\",\"gridwidth\":2}},\"shapedefaults\":{\"line\":{\"color\":\"#2a3f5f\"}},\"annotationdefaults\":{\"arrowcolor\":\"#2a3f5f\",\"arrowhead\":0,\"arrowwidth\":1},\"geo\":{\"bgcolor\":\"white\",\"landcolor\":\"#E5ECF6\",\"subunitcolor\":\"white\",\"showland\":true,\"showlakes\":true,\"lakecolor\":\"white\"},\"title\":{\"x\":0.05},\"mapbox\":{\"style\":\"light\"}}},\"xaxis\":{\"anchor\":\"y\",\"domain\":[0.0,1.0]},\"yaxis\":{\"anchor\":\"x\",\"domain\":[0.0,1.0],\"title\":{\"text\":\"Age\"}},\"legend\":{\"tracegroupgap\":0},\"margin\":{\"t\":60},\"boxmode\":\"group\"},                        {\"responsive\": true}                    ).then(function(){\n",
              "                            \n",
              "var gd = document.getElementById('a7bdd2a3-c1e9-428d-930b-69b654b5f621');\n",
              "var x = new MutationObserver(function (mutations, observer) {{\n",
              "        var display = window.getComputedStyle(gd).display;\n",
              "        if (!display || display === 'none') {{\n",
              "            console.log([gd, 'removed!']);\n",
              "            Plotly.purge(gd);\n",
              "            observer.disconnect();\n",
              "        }}\n",
              "}});\n",
              "\n",
              "// Listen for the removal of the full notebook cells\n",
              "var notebookContainer = gd.closest('#notebook-container');\n",
              "if (notebookContainer) {{\n",
              "    x.observe(notebookContainer, {childList: true});\n",
              "}}\n",
              "\n",
              "// Listen for the clearing of the current output cell\n",
              "var outputEl = gd.closest('.output');\n",
              "if (outputEl) {{\n",
              "    x.observe(outputEl, {childList: true});\n",
              "}}\n",
              "\n",
              "                        })                };                            </script>        </div>\n",
              "</body>\n",
              "</html>"
            ]
          },
          "metadata": {}
        }
      ]
    },
    {
      "cell_type": "markdown",
      "source": [
        "###### Visualización de valores atipicos"
      ],
      "metadata": {
        "id": "QkZgPCBgFts4"
      }
    },
    {
      "cell_type": "markdown",
      "source": [
        "![image.png](data:image/png;base64,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)"
      ],
      "metadata": {
        "id": "HdjzItPCTFnQ"
      }
    },
    {
      "cell_type": "code",
      "source": [
        "# Rango intercuartil\n",
        "Q1_age = titanic['Age'].quantile(q=0.25)\n",
        "Q3_age = titanic['Age'].quantile(q=0.75)\n",
        "\n",
        "iqr_age = Q3_age - Q1_age\n",
        "iqr_age"
      ],
      "metadata": {
        "colab": {
          "base_uri": "https://localhost:8080/"
        },
        "id": "10MTBiOV8StO",
        "outputId": "5a28f3a2-c5c9-415f-a677-5e1ab9bed0a0"
      },
      "execution_count": 14,
      "outputs": [
        {
          "output_type": "execute_result",
          "data": {
            "text/plain": [
              "17.875"
            ]
          },
          "metadata": {},
          "execution_count": 14
        }
      ]
    },
    {
      "cell_type": "code",
      "source": [
        "f1_age = Q1_age - 1.5 * iqr_age # nos da un valor negativo pq estamos tratando de hallar el limite minimo en una distribucion no simetrica\n",
        "f2_age = Q3_age + 1.5 * iqr_age\n",
        "\n",
        "print(f1_age,\"--\", f2_age)"
      ],
      "metadata": {
        "colab": {
          "base_uri": "https://localhost:8080/"
        },
        "id": "DRtWN_3JIhPg",
        "outputId": "12672f57-b232-4fa9-84d7-63ba5f468121"
      },
      "execution_count": 15,
      "outputs": [
        {
          "output_type": "stream",
          "name": "stdout",
          "text": [
            "-6.6875 -- 64.8125\n"
          ]
        }
      ]
    },
    {
      "cell_type": "code",
      "source": [
        "F1_age = Q1_age - 3 * iqr_age # nos da un valor negativo pq estamos tratando de hallar el limite minimo en una distribucion no simetrica\n",
        "F2_age = Q3_age + 3 * iqr_age\n",
        "\n",
        "print(F1_age,\"--\" ,F2_age)"
      ],
      "metadata": {
        "colab": {
          "base_uri": "https://localhost:8080/"
        },
        "id": "y9SiArcHS2Pk",
        "outputId": "4fcf52bd-ba1f-4622-d452-1f0c219f503e"
      },
      "execution_count": 16,
      "outputs": [
        {
          "output_type": "stream",
          "name": "stdout",
          "text": [
            "-33.5 -- 91.625\n"
          ]
        }
      ]
    },
    {
      "cell_type": "code",
      "source": [
        "#Valores para observar valores atípicos para la edad de los pasajeros.\n",
        "\n",
        "print(\"Lejos-Afuera - [\",F1_age,\"]\")\n",
        "print(\"Afuera - [\",f1_age,\"]\")\n",
        "print(\"Interior - [\",Q1_age,\"]\")\n",
        "print(\"Interior - [\",Q3_age,\"]\")\n",
        "print(\"Afuera - [\",f2_age,\"]\")\n",
        "print(\"Lejos-Afuera - [\",F2_age,\"]\")"
      ],
      "metadata": {
        "colab": {
          "base_uri": "https://localhost:8080/"
        },
        "id": "bmdDSBAKykk-",
        "outputId": "1317f21c-896a-4c2e-e0d6-924903dbeef9"
      },
      "execution_count": 17,
      "outputs": [
        {
          "output_type": "stream",
          "name": "stdout",
          "text": [
            "Lejos-Afuera - [ -33.5 ]\n",
            "Afuera - [ -6.6875 ]\n",
            "Interior - [ 20.125 ]\n",
            "Interior - [ 38.0 ]\n",
            "Afuera - [ 64.8125 ]\n",
            "Lejos-Afuera - [ 91.625 ]\n"
          ]
        }
      ]
    },
    {
      "cell_type": "markdown",
      "source": [
        "## Conclución de la variable ```Titanic[\"Age\"]```\n",
        "\n",
        "*   Se puede visualizar  aproximadamente 2 poblaciones, **una de edades menores a 19 años** y **una de mayores de 19 años** (no se puede concluir que la distribución se Bimodal).\n",
        "\n",
        "* Se puede representar la ditribución como una **Distribución Asimétrica Positiva**, por lo cual la media no es la mejor medida de tendencia central disponible, se deberia recomendar la mediana como estimador de tendencia central.\n",
        "\n",
        "*   Los **adultos jovenes**, personas que entre **25 a 40 años** de edad son la mayor cantidad de pasajeros que abordaron el Titanic.\n",
        "\n",
        "*   **6** ancianos (atípicos) abordaron el Titanic con edades mayores a **65** años según **f2 = 65** (Valores afueras del IQR).\n",
        "\n",
        "* Hay **14** bebes menores e igual a **1 año** de edad que abordaron como pasajero.\n",
        "\n",
        "* El **C.V.** es de **48.878%** (baja varianza), por lo cual se podria definir que los datos de las muestras son Heterogéneos, por lo tanto la media no es representativa.\n",
        "\n"
      ],
      "metadata": {
        "id": "FcT_HWZ_rg3g"
      }
    },
    {
      "cell_type": "markdown",
      "source": [
        "##### Análisis univariado del valor del pasaje"
      ],
      "metadata": {
        "id": "Chj352zNLnNz"
      }
    },
    {
      "cell_type": "markdown",
      "source": [
        "###### Visualización de la variable **``` titanic['Fare'] ```**\n",
        "\n"
      ],
      "metadata": {
        "id": "esCV8RTQE1mo"
      }
    },
    {
      "cell_type": "code",
      "source": [
        "figure, axes = plt.subplots(1, 2, sharex=True, figsize=(10,5))\n",
        "figure.suptitle('Precio del valor del pasaje, de los pasajeros del Titanic')\n",
        "\n",
        "axes[0].set_title('Histograma')\n",
        "axes[1].set_title('Distribución de probabilidad')\n",
        "\n",
        "axes[0].set_xlabel('Valor del pasaje', fontsize = 8)\n",
        "axes[0].set_ylabel('Frecuencia de pasajeros', fontsize = 8)\n",
        "\n",
        "axes[1].set_xlabel('Valor del pasaje', fontsize = 8)\n",
        "axes[1].set_ylabel('Densidad', fontsize = 8)\n",
        "\n",
        "# Histograma\n",
        "axes[0].hist(titanic['Fare'], bins = 60 , density=True, color = 'forestgreen')\n",
        "# Gráfica de distribución\n",
        "sns.kdeplot(ax=axes[1], data = titanic, x = 'Fare', bw_adjust=.3, color='mediumpurple', fill =True)\n",
        "\n",
        "plt.show()"
      ],
      "metadata": {
        "colab": {
          "base_uri": "https://localhost:8080/",
          "height": 511
        },
        "outputId": "a5bac9eb-b737-4872-a815-12ae3c5f473f",
        "id": "_vXBwfciLvTy"
      },
      "execution_count": 18,
      "outputs": [
        {
          "output_type": "display_data",
          "data": {
            "text/plain": [
              "<Figure size 1000x500 with 2 Axes>"
            ],
            "image/png": "[encoded data removed]"
          },
          "metadata": {}
        }
      ]
    },
    {
      "cell_type": "markdown",
      "source": [
        "###### Estadísticas descriptivas"
      ],
      "metadata": {
        "id": "XszLVN57E1m-"
      }
    },
    {
      "cell_type": "code",
      "source": [
        "titanic['Fare'].describe()"
      ],
      "metadata": {
        "colab": {
          "base_uri": "https://localhost:8080/"
        },
        "outputId": "a9e06c72-f5d0-42ea-8976-f4a0842f3504",
        "id": "JMmqa03xLvTx"
      },
      "execution_count": 19,
      "outputs": [
        {
          "output_type": "execute_result",
          "data": {
            "text/plain": [
              "count    891.000000\n",
              "mean      32.204208\n",
              "std       49.693429\n",
              "min        0.000000\n",
              "25%        7.910400\n",
              "50%       14.454200\n",
              "75%       31.000000\n",
              "max      512.329200\n",
              "Name: Fare, dtype: float64"
            ]
          },
          "metadata": {},
          "execution_count": 19
        }
      ]
    },
    {
      "cell_type": "code",
      "source": [
        "#Moda de valor del pasaje\n",
        "titanic['Fare'].mode()[0]"
      ],
      "metadata": {
        "colab": {
          "base_uri": "https://localhost:8080/"
        },
        "id": "GG_lYqqBljOw",
        "outputId": "ad5eb92d-fce5-44cb-d687-09361b53ac41"
      },
      "execution_count": 20,
      "outputs": [
        {
          "output_type": "execute_result",
          "data": {
            "text/plain": [
              "8.05"
            ]
          },
          "metadata": {},
          "execution_count": 20
        }
      ]
    },
    {
      "cell_type": "code",
      "source": [
        "#Top 10 de los valores de los pasajes\n",
        "titanic['Fare'].value_counts().head(10)"
      ],
      "metadata": {
        "colab": {
          "base_uri": "https://localhost:8080/"
        },
        "id": "uw7O8Rbol2tc",
        "outputId": "c25887fe-1828-439c-a6f1-f1a3316fb9eb"
      },
      "execution_count": 21,
      "outputs": [
        {
          "output_type": "execute_result",
          "data": {
            "text/plain": [
              "8.0500     43\n",
              "13.0000    42\n",
              "7.8958     38\n",
              "7.7500     34\n",
              "26.0000    31\n",
              "10.5000    24\n",
              "7.9250     18\n",
              "7.7750     16\n",
              "7.2292     15\n",
              "0.0000     15\n",
              "Name: Fare, dtype: int64"
            ]
          },
          "metadata": {},
          "execution_count": 21
        }
      ]
    },
    {
      "cell_type": "code",
      "source": [
        "#Varianza\n",
        "\n",
        "titanic['Fare'].var()"
      ],
      "metadata": {
        "colab": {
          "base_uri": "https://localhost:8080/"
        },
        "outputId": "dcee635a-9479-474c-f3a3-82ede08bb227",
        "id": "vFqZTo4xd3PR"
      },
      "execution_count": 22,
      "outputs": [
        {
          "output_type": "execute_result",
          "data": {
            "text/plain": [
              "2469.436845743116"
            ]
          },
          "metadata": {},
          "execution_count": 22
        }
      ]
    },
    {
      "cell_type": "code",
      "source": [
        "#Coficiente de variación\n",
        "st_dev_fare = np.std(titanic['Fare'])\n",
        "\n",
        "cv_fare = round((st_dev_fare / titanic['Fare'].mean() ),5) * 100\n",
        "cv_fare\n",
        "\n",
        "#Alta varianza"
      ],
      "metadata": {
        "colab": {
          "base_uri": "https://localhost:8080/"
        },
        "outputId": "9fb87a23-c5e6-48a7-b058-b10377c82947",
        "id": "bszK34mGd3PS"
      },
      "execution_count": 23,
      "outputs": [
        {
          "output_type": "execute_result",
          "data": {
            "text/plain": [
              "154.221"
            ]
          },
          "metadata": {},
          "execution_count": 23
        }
      ]
    },
    {
      "cell_type": "markdown",
      "source": [
        "###### BoxPlot **``` titanic['Fare'] ```**"
      ],
      "metadata": {
        "id": "Knw8W8qCE1m_"
      }
    },
    {
      "cell_type": "code",
      "source": [
        "fig = px.box(titanic, y = 'Fare')\n",
        "fig.show()"
      ],
      "metadata": {
        "colab": {
          "base_uri": "https://localhost:8080/",
          "height": 542
        },
        "id": "DcCXu9KVDTYC",
        "outputId": "bf5f1c3b-0e86-44b6-b75a-f3ac05b5a61f"
      },
      "execution_count": 24,
      "outputs": [
        {
          "output_type": "display_data",
          "data": {
            "text/html": [
              "<html>\n",
              "<head><meta charset=\"utf-8\" /></head>\n",
              "<body>\n",
              "    <div>            <script src=\"https://cdnjs.cloudflare.com/ajax/libs/mathjax/2.7.5/MathJax.js?config=TeX-AMS-MML_SVG\"></script><script type=\"text/javascript\">if (window.MathJax && window.MathJax.Hub && window.MathJax.Hub.Config) {window.MathJax.Hub.Config({SVG: {font: \"STIX-Web\"}});}</script>                <script type=\"text/javascript\">window.PlotlyConfig = {MathJaxConfig: 'local'};</script>\n",
              "        <script src=\"https://cdn.plot.ly/plotly-2.18.2.min.js\"></script>                <div id=\"b34a6fb7-c4d2-4da0-acdd-95af14c7cbdb\" class=\"plotly-graph-div\" style=\"height:525px; width:100%;\"></div>            <script type=\"text/javascript\">                                    window.PLOTLYENV=window.PLOTLYENV || {};                                    if (document.getElementById(\"b34a6fb7-c4d2-4da0-acdd-95af14c7cbdb\")) {                    Plotly.newPlot(                        \"b34a6fb7-c4d2-4da0-acdd-95af14c7cbdb\",                        [{\"alignmentgroup\":\"True\",\"hovertemplate\":\"Fare=%{y}<extra></extra>\",\"legendgroup\":\"\",\"marker\":{\"color\":\"#636efa\"},\"name\":\"\",\"notched\":false,\"offsetgroup\":\"\",\"orientation\":\"v\",\"showlegend\":false,\"x0\":\" \",\"xaxis\":\"x\",\"y\":[7.25,71.2833,7.925,53.1,8.05,8.4583,51.8625,21.075,11.1333,30.0708,16.7,26.55,8.05,31.275,7.8542,16.0,29.125,13.0,18.0,7.225,26.0,13.0,8.0292,35.5,21.075,31.3875,7.225,263.0,7.8792,7.8958,27.7208,146.5208,7.75,10.5,82.1708,52.0,7.2292,8.05,18.0,11.2417,9.475,21.0,7.8958,41.5792,7.8792,8.05,15.5,7.75,21.6792,17.8,39.6875,7.8,76.7292,26.0,61.9792,35.5,10.5,7.2292,27.75,46.9,7.2292,80.0,83.475,27.9,27.7208,15.2458,10.5,8.1583,7.925,8.6625,10.5,46.9,73.5,14.4542,56.4958,7.65,7.8958,8.05,29.0,12.475,9.0,9.5,7.7875,47.1,10.5,15.85,34.375,8.05,263.0,8.05,8.05,7.8542,61.175,20.575,7.25,8.05,34.6542,63.3583,23.0,26.0,7.8958,7.8958,77.2875,8.6542,7.925,7.8958,7.65,7.775,7.8958,24.15,52.0,14.4542,8.05,9.825,14.4583,7.925,7.75,21.0,247.5208,31.275,73.5,8.05,30.0708,13.0,77.2875,11.2417,7.75,7.1417,22.3583,6.975,7.8958,7.05,14.5,26.0,13.0,15.0458,26.2833,53.1,9.2167,79.2,15.2458,7.75,15.85,6.75,11.5,36.75,7.7958,34.375,26.0,13.0,12.525,66.6,8.05,14.5,7.3125,61.3792,7.7333,8.05,8.6625,69.55,16.1,15.75,7.775,8.6625,39.6875,20.525,55.0,27.9,25.925,56.4958,33.5,29.125,11.1333,7.925,30.6958,7.8542,25.4667,28.7125,13.0,0.0,69.55,15.05,31.3875,39.0,22.025,50.0,15.5,26.55,15.5,7.8958,13.0,13.0,7.8542,26.0,27.7208,146.5208,7.75,8.4042,7.75,13.0,9.5,69.55,6.4958,7.225,8.05,10.4625,15.85,18.7875,7.75,31.0,7.05,21.0,7.25,13.0,7.75,113.275,7.925,27.0,76.2917,10.5,8.05,13.0,8.05,7.8958,90.0,9.35,10.5,7.25,13.0,25.4667,83.475,7.775,13.5,31.3875,10.5,7.55,26.0,26.25,10.5,12.275,14.4542,15.5,10.5,7.125,7.225,90.0,7.775,14.5,52.5542,26.0,7.25,10.4625,26.55,16.1,20.2125,15.2458,79.2,86.5,512.3292,26.0,7.75,31.3875,79.65,0.0,7.75,10.5,39.6875,7.775,153.4625,135.6333,31.0,0.0,19.5,29.7,7.75,77.9583,7.75,0.0,29.125,20.25,7.75,7.8542,9.5,8.05,26.0,8.6625,9.5,7.8958,13.0,7.75,78.85,91.0792,12.875,8.85,7.8958,27.7208,7.2292,151.55,30.5,247.5208,7.75,23.25,0.0,12.35,8.05,151.55,110.8833,108.9,24.0,56.9292,83.1583,262.375,26.0,7.8958,26.25,7.8542,26.0,14.0,164.8667,134.5,7.25,7.8958,12.35,29.0,69.55,135.6333,6.2375,13.0,20.525,57.9792,23.25,28.5,153.4625,18.0,133.65,7.8958,66.6,134.5,8.05,35.5,26.0,263.0,13.0,13.0,13.0,13.0,13.0,16.1,15.9,8.6625,9.225,35.0,7.2292,17.8,7.225,9.5,55.0,13.0,7.8792,7.8792,27.9,27.7208,14.4542,7.05,15.5,7.25,75.25,7.2292,7.75,69.3,55.4417,6.4958,8.05,135.6333,21.075,82.1708,7.25,211.5,4.0125,7.775,227.525,15.7417,7.925,52.0,7.8958,73.5,46.9,13.0,7.7292,12.0,120.0,7.7958,7.925,113.275,16.7,7.7958,7.8542,26.0,10.5,12.65,7.925,8.05,9.825,15.85,8.6625,21.0,7.75,18.75,7.775,25.4667,7.8958,6.8583,90.0,0.0,7.925,8.05,32.5,13.0,13.0,24.15,7.8958,7.7333,7.875,14.4,20.2125,7.25,26.0,26.0,7.75,8.05,26.55,16.1,26.0,7.125,55.9,120.0,34.375,18.75,263.0,10.5,26.25,9.5,7.775,13.0,8.1125,81.8583,19.5,26.55,19.2583,30.5,27.75,19.9667,27.75,89.1042,8.05,7.8958,26.55,51.8625,10.5,7.75,26.55,8.05,38.5,13.0,8.05,7.05,0.0,26.55,7.725,19.2583,7.25,8.6625,27.75,13.7917,9.8375,52.0,21.0,7.0458,7.5208,12.2875,46.9,0.0,8.05,9.5875,91.0792,25.4667,90.0,29.7,8.05,15.9,19.9667,7.25,30.5,49.5042,8.05,14.4583,78.2667,15.1,151.55,7.7958,8.6625,7.75,7.6292,9.5875,86.5,108.9,26.0,26.55,22.525,56.4958,7.75,8.05,26.2875,59.4,7.4958,34.0208,10.5,24.15,26.0,7.8958,93.5,7.8958,7.225,57.9792,7.2292,7.75,10.5,221.7792,7.925,11.5,26.0,7.2292,7.2292,22.3583,8.6625,26.25,26.55,106.425,14.5,49.5,71.0,31.275,31.275,26.0,106.425,26.0,26.0,13.8625,20.525,36.75,110.8833,26.0,7.8292,7.225,7.775,26.55,39.6,227.525,79.65,17.4,7.75,7.8958,13.5,8.05,8.05,24.15,7.8958,21.075,7.2292,7.8542,10.5,51.4792,26.3875,7.75,8.05,14.5,13.0,55.9,14.4583,7.925,30.0,110.8833,26.0,40.125,8.7125,79.65,15.0,79.2,8.05,8.05,7.125,78.2667,7.25,7.75,26.0,24.15,33.0,0.0,7.225,56.9292,27.0,7.8958,42.4,8.05,26.55,15.55,7.8958,30.5,41.5792,153.4625,31.275,7.05,15.5,7.75,8.05,65.0,14.4,16.1,39.0,10.5,14.4542,52.5542,15.7417,7.8542,16.1,32.3208,12.35,77.9583,7.8958,7.7333,30.0,7.0542,30.5,0.0,27.9,13.0,7.925,26.25,39.6875,16.1,7.8542,69.3,27.9,56.4958,19.2583,76.7292,7.8958,35.5,7.55,7.55,7.8958,23.0,8.4333,7.8292,6.75,73.5,7.8958,15.5,13.0,113.275,133.65,7.225,25.5875,7.4958,7.925,73.5,13.0,7.775,8.05,52.0,39.0,52.0,10.5,13.0,0.0,7.775,8.05,9.8417,46.9,512.3292,8.1375,76.7292,9.225,46.9,39.0,41.5792,39.6875,10.1708,7.7958,211.3375,57.0,13.4167,56.4958,7.225,26.55,13.5,8.05,7.7333,110.8833,7.65,227.525,26.2875,14.4542,7.7417,7.8542,26.0,13.5,26.2875,151.55,15.2458,49.5042,26.55,52.0,9.4833,13.0,7.65,227.525,10.5,15.5,7.775,33.0,7.0542,13.0,13.0,53.1,8.6625,21.0,7.7375,26.0,7.925,211.3375,18.7875,0.0,13.0,13.0,16.1,34.375,512.3292,7.8958,7.8958,30.0,78.85,262.375,16.1,7.925,71.0,20.25,13.0,53.1,7.75,23.0,12.475,9.5,7.8958,65.0,14.5,7.7958,11.5,8.05,86.5,14.5,7.125,7.2292,120.0,7.775,77.9583,39.6,7.75,24.15,8.3625,9.5,7.8542,10.5,7.225,23.0,7.75,7.75,12.475,7.7375,211.3375,7.2292,57.0,30.0,23.45,7.05,7.25,7.4958,29.125,20.575,79.2,7.75,26.0,69.55,30.6958,7.8958,13.0,25.9292,8.6833,7.2292,24.15,13.0,26.25,120.0,8.5167,6.975,7.775,0.0,7.775,13.0,53.1,7.8875,24.15,10.5,31.275,8.05,0.0,7.925,37.0042,6.45,27.9,93.5,8.6625,0.0,12.475,39.6875,6.95,56.4958,37.0042,7.75,80.0,14.4542,18.75,7.2292,7.8542,8.3,83.1583,8.6625,8.05,56.4958,29.7,7.925,10.5,31.0,6.4375,8.6625,7.55,69.55,7.8958,33.0,89.1042,31.275,7.775,15.2458,39.4,26.0,9.35,164.8667,26.55,19.2583,7.2292,14.1083,11.5,25.9292,69.55,13.0,13.0,13.8583,50.4958,9.5,11.1333,7.8958,52.5542,5.0,9.0,24.0,7.225,9.8458,7.8958,7.8958,83.1583,26.0,7.8958,10.5167,10.5,7.05,29.125,13.0,30.0,23.45,30.0,7.75],\"y0\":\" \",\"yaxis\":\"y\",\"type\":\"box\"}],                        {\"template\":{\"data\":{\"histogram2dcontour\":[{\"type\":\"histogram2dcontour\",\"colorbar\":{\"outlinewidth\":0,\"ticks\":\"\"},\"colorscale\":[[0.0,\"#0d0887\"],[0.1111111111111111,\"#46039f\"],[0.2222222222222222,\"#7201a8\"],[0.3333333333333333,\"#9c179e\"],[0.4444444444444444,\"#bd3786\"],[0.5555555555555556,\"#d8576b\"],[0.6666666666666666,\"#ed7953\"],[0.7777777777777778,\"#fb9f3a\"],[0.8888888888888888,\"#fdca26\"],[1.0,\"#f0f921\"]]}],\"choropleth\":[{\"type\":\"choropleth\",\"colorbar\":{\"outlinewidth\":0,\"ticks\":\"\"}}],\"histogram2d\":[{\"type\":\"histogram2d\",\"colorbar\":{\"outlinewidth\":0,\"ticks\":\"\"},\"colorscale\":[[0.0,\"#0d0887\"],[0.1111111111111111,\"#46039f\"],[0.2222222222222222,\"#7201a8\"],[0.3333333333333333,\"#9c179e\"],[0.4444444444444444,\"#bd3786\"],[0.5555555555555556,\"#d8576b\"],[0.6666666666666666,\"#ed7953\"],[0.7777777777777778,\"#fb9f3a\"],[0.8888888888888888,\"#fdca26\"],[1.0,\"#f0f921\"]]}],\"heatmap\":[{\"type\":\"heatmap\",\"colorbar\":{\"outlinewidth\":0,\"ticks\":\"\"},\"colorscale\":[[0.0,\"#0d0887\"],[0.1111111111111111,\"#46039f\"],[0.2222222222222222,\"#7201a8\"],[0.3333333333333333,\"#9c179e\"],[0.4444444444444444,\"#bd3786\"],[0.5555555555555556,\"#d8576b\"],[0.6666666666666666,\"#ed7953\"],[0.7777777777777778,\"#fb9f3a\"],[0.8888888888888888,\"#fdca26\"],[1.0,\"#f0f921\"]]}],\"heatmapgl\":[{\"type\":\"heatmapgl\",\"colorbar\":{\"outlinewidth\":0,\"ticks\":\"\"},\"colorscale\":[[0.0,\"#0d0887\"],[0.1111111111111111,\"#46039f\"],[0.2222222222222222,\"#7201a8\"],[0.3333333333333333,\"#9c179e\"],[0.4444444444444444,\"#bd3786\"],[0.5555555555555556,\"#d8576b\"],[0.6666666666666666,\"#ed7953\"],[0.7777777777777778,\"#fb9f3a\"],[0.8888888888888888,\"#fdca26\"],[1.0,\"#f0f921\"]]}],\"contourcarpet\":[{\"type\":\"contourcarpet\",\"colorbar\":{\"outlinewidth\":0,\"ticks\":\"\"}}],\"contour\":[{\"type\":\"contour\",\"colorbar\":{\"outlinewidth\":0,\"ticks\":\"\"},\"colorscale\":[[0.0,\"#0d0887\"],[0.1111111111111111,\"#46039f\"],[0.2222222222222222,\"#7201a8\"],[0.3333333333333333,\"#9c179e\"],[0.4444444444444444,\"#bd3786\"],[0.5555555555555556,\"#d8576b\"],[0.6666666666666666,\"#ed7953\"],[0.7777777777777778,\"#fb9f3a\"],[0.8888888888888888,\"#fdca26\"],[1.0,\"#f0f921\"]]}],\"surface\":[{\"type\":\"surface\",\"colorbar\":{\"outlinewidth\":0,\"ticks\":\"\"},\"colorscale\":[[0.0,\"#0d0887\"],[0.1111111111111111,\"#46039f\"],[0.2222222222222222,\"#7201a8\"],[0.3333333333333333,\"#9c179e\"],[0.4444444444444444,\"#bd3786\"],[0.5555555555555556,\"#d8576b\"],[0.6666666666666666,\"#ed7953\"],[0.7777777777777778,\"#fb9f3a\"],[0.8888888888888888,\"#fdca26\"],[1.0,\"#f0f921\"]]}],\"mesh3d\":[{\"type\":\"mesh3d\",\"colorbar\":{\"outlinewidth\":0,\"ticks\":\"\"}}],\"scatter\":[{\"fillpattern\":{\"fillmode\":\"overlay\",\"size\":10,\"solidity\":0.2},\"type\":\"scatter\"}],\"parcoords\":[{\"type\":\"parcoords\",\"line\":{\"colorbar\":{\"outlinewidth\":0,\"ticks\":\"\"}}}],\"scatterpolargl\":[{\"type\":\"scatterpolargl\",\"marker\":{\"colorbar\":{\"outlinewidth\":0,\"ticks\":\"\"}}}],\"bar\":[{\"error_x\":{\"color\":\"#2a3f5f\"},\"error_y\":{\"color\":\"#2a3f5f\"},\"marker\":{\"line\":{\"color\":\"#E5ECF6\",\"width\":0.5},\"pattern\":{\"fillmode\":\"overlay\",\"size\":10,\"solidity\":0.2}},\"type\":\"bar\"}],\"scattergeo\":[{\"type\":\"scattergeo\",\"marker\":{\"colorbar\":{\"outlinewidth\":0,\"ticks\":\"\"}}}],\"scatterpolar\":[{\"type\":\"scatterpolar\",\"marker\":{\"colorbar\":{\"outlinewidth\":0,\"ticks\":\"\"}}}],\"histogram\":[{\"marker\":{\"pattern\":{\"fillmode\":\"overlay\",\"size\":10,\"solidity\":0.2}},\"type\":\"histogram\"}],\"scattergl\":[{\"type\":\"scattergl\",\"marker\":{\"colorbar\":{\"outlinewidth\":0,\"ticks\":\"\"}}}],\"scatter3d\":[{\"type\":\"scatter3d\",\"line\":{\"colorbar\":{\"outlinewidth\":0,\"ticks\":\"\"}},\"marker\":{\"colorbar\":{\"outlinewidth\":0,\"ticks\":\"\"}}}],\"scattermapbox\":[{\"type\":\"scattermapbox\",\"marker\":{\"colorbar\":{\"outlinewidth\":0,\"ticks\":\"\"}}}],\"scatterternary\":[{\"type\":\"scatterternary\",\"marker\":{\"colorbar\":{\"outlinewidth\":0,\"ticks\":\"\"}}}],\"scattercarpet\":[{\"type\":\"scattercarpet\",\"marker\":{\"colorbar\":{\"outlinewidth\":0,\"ticks\":\"\"}}}],\"carpet\":[{\"aaxis\":{\"endlinecolor\":\"#2a3f5f\",\"gridcolor\":\"white\",\"linecolor\":\"white\",\"minorgridcolor\":\"white\",\"startlinecolor\":\"#2a3f5f\"},\"baxis\":{\"endlinecolor\":\"#2a3f5f\",\"gridcolor\":\"white\",\"linecolor\":\"white\",\"minorgridcolor\":\"white\",\"startlinecolor\":\"#2a3f5f\"},\"type\":\"carpet\"}],\"table\":[{\"cells\":{\"fill\":{\"color\":\"#EBF0F8\"},\"line\":{\"color\":\"white\"}},\"header\":{\"fill\":{\"color\":\"#C8D4E3\"},\"line\":{\"color\":\"white\"}},\"type\":\"table\"}],\"barpolar\":[{\"marker\":{\"line\":{\"color\":\"#E5ECF6\",\"width\":0.5},\"pattern\":{\"fillmode\":\"overlay\",\"size\":10,\"solidity\":0.2}},\"type\":\"barpolar\"}],\"pie\":[{\"automargin\":true,\"type\":\"pie\"}]},\"layout\":{\"autotypenumbers\":\"strict\",\"colorway\":[\"#636efa\",\"#EF553B\",\"#00cc96\",\"#ab63fa\",\"#FFA15A\",\"#19d3f3\",\"#FF6692\",\"#B6E880\",\"#FF97FF\",\"#FECB52\"],\"font\":{\"color\":\"#2a3f5f\"},\"hovermode\":\"closest\",\"hoverlabel\":{\"align\":\"left\"},\"paper_bgcolor\":\"white\",\"plot_bgcolor\":\"#E5ECF6\",\"polar\":{\"bgcolor\":\"#E5ECF6\",\"angularaxis\":{\"gridcolor\":\"white\",\"linecolor\":\"white\",\"ticks\":\"\"},\"radialaxis\":{\"gridcolor\":\"white\",\"linecolor\":\"white\",\"ticks\":\"\"}},\"ternary\":{\"bgcolor\":\"#E5ECF6\",\"aaxis\":{\"gridcolor\":\"white\",\"linecolor\":\"white\",\"ticks\":\"\"},\"baxis\":{\"gridcolor\":\"white\",\"linecolor\":\"white\",\"ticks\":\"\"},\"caxis\":{\"gridcolor\":\"white\",\"linecolor\":\"white\",\"ticks\":\"\"}},\"coloraxis\":{\"colorbar\":{\"outlinewidth\":0,\"ticks\":\"\"}},\"colorscale\":{\"sequential\":[[0.0,\"#0d0887\"],[0.1111111111111111,\"#46039f\"],[0.2222222222222222,\"#7201a8\"],[0.3333333333333333,\"#9c179e\"],[0.4444444444444444,\"#bd3786\"],[0.5555555555555556,\"#d8576b\"],[0.6666666666666666,\"#ed7953\"],[0.7777777777777778,\"#fb9f3a\"],[0.8888888888888888,\"#fdca26\"],[1.0,\"#f0f921\"]],\"sequentialminus\":[[0.0,\"#0d0887\"],[0.1111111111111111,\"#46039f\"],[0.2222222222222222,\"#7201a8\"],[0.3333333333333333,\"#9c179e\"],[0.4444444444444444,\"#bd3786\"],[0.5555555555555556,\"#d8576b\"],[0.6666666666666666,\"#ed7953\"],[0.7777777777777778,\"#fb9f3a\"],[0.8888888888888888,\"#fdca26\"],[1.0,\"#f0f921\"]],\"diverging\":[[0,\"#8e0152\"],[0.1,\"#c51b7d\"],[0.2,\"#de77ae\"],[0.3,\"#f1b6da\"],[0.4,\"#fde0ef\"],[0.5,\"#f7f7f7\"],[0.6,\"#e6f5d0\"],[0.7,\"#b8e186\"],[0.8,\"#7fbc41\"],[0.9,\"#4d9221\"],[1,\"#276419\"]]},\"xaxis\":{\"gridcolor\":\"white\",\"linecolor\":\"white\",\"ticks\":\"\",\"title\":{\"standoff\":15},\"zerolinecolor\":\"white\",\"automargin\":true,\"zerolinewidth\":2},\"yaxis\":{\"gridcolor\":\"white\",\"linecolor\":\"white\",\"ticks\":\"\",\"title\":{\"standoff\":15},\"zerolinecolor\":\"white\",\"automargin\":true,\"zerolinewidth\":2},\"scene\":{\"xaxis\":{\"backgroundcolor\":\"#E5ECF6\",\"gridcolor\":\"white\",\"linecolor\":\"white\",\"showbackground\":true,\"ticks\":\"\",\"zerolinecolor\":\"white\",\"gridwidth\":2},\"yaxis\":{\"backgroundcolor\":\"#E5ECF6\",\"gridcolor\":\"white\",\"linecolor\":\"white\",\"showbackground\":true,\"ticks\":\"\",\"zerolinecolor\":\"white\",\"gridwidth\":2},\"zaxis\":{\"backgroundcolor\":\"#E5ECF6\",\"gridcolor\":\"white\",\"linecolor\":\"white\",\"showbackground\":true,\"ticks\":\"\",\"zerolinecolor\":\"white\",\"gridwidth\":2}},\"shapedefaults\":{\"line\":{\"color\":\"#2a3f5f\"}},\"annotationdefaults\":{\"arrowcolor\":\"#2a3f5f\",\"arrowhead\":0,\"arrowwidth\":1},\"geo\":{\"bgcolor\":\"white\",\"landcolor\":\"#E5ECF6\",\"subunitcolor\":\"white\",\"showland\":true,\"showlakes\":true,\"lakecolor\":\"white\"},\"title\":{\"x\":0.05},\"mapbox\":{\"style\":\"light\"}}},\"xaxis\":{\"anchor\":\"y\",\"domain\":[0.0,1.0]},\"yaxis\":{\"anchor\":\"x\",\"domain\":[0.0,1.0],\"title\":{\"text\":\"Fare\"}},\"legend\":{\"tracegroupgap\":0},\"margin\":{\"t\":60},\"boxmode\":\"group\"},                        {\"responsive\": true}                    ).then(function(){\n",
              "                            \n",
              "var gd = document.getElementById('b34a6fb7-c4d2-4da0-acdd-95af14c7cbdb');\n",
              "var x = new MutationObserver(function (mutations, observer) {{\n",
              "        var display = window.getComputedStyle(gd).display;\n",
              "        if (!display || display === 'none') {{\n",
              "            console.log([gd, 'removed!']);\n",
              "            Plotly.purge(gd);\n",
              "            observer.disconnect();\n",
              "        }}\n",
              "}});\n",
              "\n",
              "// Listen for the removal of the full notebook cells\n",
              "var notebookContainer = gd.closest('#notebook-container');\n",
              "if (notebookContainer) {{\n",
              "    x.observe(notebookContainer, {childList: true});\n",
              "}}\n",
              "\n",
              "// Listen for the clearing of the current output cell\n",
              "var outputEl = gd.closest('.output');\n",
              "if (outputEl) {{\n",
              "    x.observe(outputEl, {childList: true});\n",
              "}}\n",
              "\n",
              "                        })                };                            </script>        </div>\n",
              "</body>\n",
              "</html>"
            ]
          },
          "metadata": {}
        }
      ]
    },
    {
      "cell_type": "markdown",
      "source": [
        "###### Visualización de valores atipicos"
      ],
      "metadata": {
        "id": "WLfkr2AFZEzr"
      }
    },
    {
      "cell_type": "code",
      "source": [
        "# Rango intercuartil\n",
        "Q1_fare = titanic['Fare'].quantile(q=0.25)\n",
        "Q3_fare = titanic['Fare'].quantile(q=0.75)\n",
        "\n",
        "iqr_fare = Q3_fare - Q1_fare\n",
        "iqr_fare"
      ],
      "metadata": {
        "colab": {
          "base_uri": "https://localhost:8080/"
        },
        "outputId": "03efc868-c4c9-44bc-e0a2-c917614527d3",
        "id": "kUWJ5kOZY4VR"
      },
      "execution_count": 25,
      "outputs": [
        {
          "output_type": "execute_result",
          "data": {
            "text/plain": [
              "23.0896"
            ]
          },
          "metadata": {},
          "execution_count": 25
        }
      ]
    },
    {
      "cell_type": "code",
      "source": [
        "f1_fare = Q1_fare - 1.5 * iqr_fare # nos da un valor negativo pq estamos tratando de hallar el limite minimo en una distribucion no simetrica\n",
        "f2_fare = Q3_fare + 1.5 * iqr_fare\n",
        "\n",
        "print(f1_fare, f2_fare)"
      ],
      "metadata": {
        "colab": {
          "base_uri": "https://localhost:8080/"
        },
        "outputId": "e93dde8d-ae72-43c0-b03b-401f4919f9f4",
        "id": "JYGOb43tY4Vm"
      },
      "execution_count": 26,
      "outputs": [
        {
          "output_type": "stream",
          "name": "stdout",
          "text": [
            "-26.724 65.6344\n"
          ]
        }
      ]
    },
    {
      "cell_type": "code",
      "source": [
        "F1_fare = Q1_fare - 3 * iqr_fare # nos da un valor negativo pq estamos tratando de hallar el limite minimo en una distribucion no simetrica\n",
        "F2_fare = Q3_fare + 3 * iqr_fare\n",
        "\n",
        "print(round(F1_fare,3), F2_fare)"
      ],
      "metadata": {
        "colab": {
          "base_uri": "https://localhost:8080/"
        },
        "outputId": "8380f406-847c-424d-85ae-8c09f643adec",
        "id": "AagdltuAY4Vn"
      },
      "execution_count": 27,
      "outputs": [
        {
          "output_type": "stream",
          "name": "stdout",
          "text": [
            "-61.358 100.2688\n"
          ]
        }
      ]
    },
    {
      "cell_type": "code",
      "source": [
        "#Valores para observar valores atípicos para el valor de los pasajes del Barco\n",
        "\n",
        "print(\"Lejos-Afuera - [\",round(F1_fare,3),\"]\")\n",
        "print(\"Afuera - [\",f1_fare,\"]\")\n",
        "print(\"Interior - [\",Q1_fare,\"]\")\n",
        "print(\"Interior - [\",Q3_fare,\"]\")\n",
        "print(\"Afuera - [\",f2_fare,\"]\")\n",
        "print(\"Lejos-Afuera - [\",F2_fare,\"]\")"
      ],
      "metadata": {
        "colab": {
          "base_uri": "https://localhost:8080/"
        },
        "id": "b5RsSST2zw1e",
        "outputId": "2a2c2a79-fcfb-4615-affa-61646a946fde"
      },
      "execution_count": 28,
      "outputs": [
        {
          "output_type": "stream",
          "name": "stdout",
          "text": [
            "Lejos-Afuera - [ -61.358 ]\n",
            "Afuera - [ -26.724 ]\n",
            "Interior - [ 7.9104 ]\n",
            "Interior - [ 31.0 ]\n",
            "Afuera - [ 65.6344 ]\n",
            "Lejos-Afuera - [ 100.2688 ]\n"
          ]
        }
      ]
    },
    {
      "cell_type": "markdown",
      "source": [
        "## Conclución de la variable ```Titanic[\"Fare\"]```\n",
        "\n",
        "* Se puede representar la ditribución como una **Distribución Jota Invertida**  (Asimétrica Positiva), por lo cual la media no es la mejor medida de tendencia central disponible, se deberia recomendar la mediana como estimador de tendencia central.\n",
        "\n",
        "* El pasaje más caro valio **512.3292 USD** se vendieron 3 del más caro y el más barato salio **4.0125 USD** de cual se vendio solo una unidad.\n",
        "\n",
        "* Los pasajes más baratos se encuentran entre el rango de **0 USD** hasta **7.9104 USD**, los cuales corresponden a un **25.03%** del total de pasajes.\n",
        "\n",
        "*   La mayor cantidad de pasajes estan entre los valores de **7.9104 USD**  y      **31 USD**, los cuales corresponden del **50.057%** de la cantidad de pasajes vendidos.\n",
        "\n",
        "*   Hay **116** pasajes (atípicos) que valen mayor que **f2 = 65 US$**, los cuales corresponden al **13%** del total (**891**) de los pasajes.\n",
        "\n",
        "* El **C.V.** es de **154.221%** (alta varianza), por lo cual se podria definir que los datos de las muestras son muy variables o heterogéneos, por lo tanto la media no es representativa."
      ],
      "metadata": {
        "id": "2QqUMzexr9GK"
      }
    }
  ]
}